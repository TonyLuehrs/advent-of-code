{
 "cells": [
  {
   "cell_type": "markdown",
   "id": "f23d1bad-0c64-4d9d-a287-984df668dc04",
   "metadata": {
    "tags": []
   },
   "source": [
    "# Advent of Code 2021\n",
    "\n",
    "___\n",
    "\n",
    "[**Day 1**](#day1) &nbsp; &nbsp; &nbsp; [**Day 2**](#day2) &nbsp; &nbsp; &nbsp; [**Day 3**](#day3) &nbsp; &nbsp; &nbsp; [**Day 4**](#day4) &nbsp; &nbsp; &nbsp; [**Day 5**](#day5)\n",
    "\n",
    "[**Day 6**](#day6) &nbsp; &nbsp; &nbsp; [**Day 7**](#day7) &nbsp; &nbsp; &nbsp; [**Day 8**](#day8) &nbsp; &nbsp; &nbsp; [Day 9](#day9) &nbsp; &nbsp; &nbsp; [Day 10](#day10)\n",
    "\n",
    "[Day 11](#day11) &nbsp; &nbsp; [Day 12](#day12) &nbsp; &nbsp; [Day 13](#day13) &nbsp; &nbsp; [Day 14](#day14) &nbsp; &nbsp; [Day 15](#day15)\n",
    "\n",
    "[Day 16](#day16) &nbsp; &nbsp; [Day 17](#day17) &nbsp; &nbsp; [Day 18](#day18) &nbsp; &nbsp; [Day 19](#day19) &nbsp; &nbsp; [Day 20](#day20)\n",
    "\n",
    "[Day 21](#day21) &nbsp; &nbsp; [Day 22](#day22) &nbsp; &nbsp; [Day 23](#day23) &nbsp; &nbsp; [Day 24](#day24) &nbsp; &nbsp; [Day 25](#day25)\n",
    "\n",
    "___"
   ]
  },
  {
   "cell_type": "markdown",
   "id": "fcd63f25",
   "metadata": {},
   "source": [
    "<a class=\"anchor\" id=\"day1\"></a>\n",
    "# Day 1\n",
    "\n",
    "*Part 1*  \n",
    "Given a list of depth measurements, how many times is there in increase in depth?\n",
    "\n",
    "*Part 2*  \n",
    "Now instead consider sums of groups of three (compareing x1+x2+x3 to x2+x3+x4). How many times is there in increase?"
   ]
  },
  {
   "cell_type": "code",
   "execution_count": 2,
   "id": "c44fe395-51c5-46bb-8886-d6a1fdb268ac",
   "metadata": {},
   "outputs": [
    {
     "data": {
      "text/plain": [
       "([149, 163, 165, 160, 179], [8887, 8888, 8893, 8894, 8895])"
      ]
     },
     "execution_count": 2,
     "metadata": {},
     "output_type": "execute_result"
    }
   ],
   "source": [
    "with open('data2021/day1.txt') as f1:\n",
    "    depths = [int(row.strip()) for row in f1.readlines()]\n",
    "    \n",
    "depths[:5], depths[-5:]"
   ]
  },
  {
   "cell_type": "markdown",
   "id": "5eb9a3cb-1109-4675-813d-e5ed5fd0177e",
   "metadata": {},
   "source": [
    "**Part 1**"
   ]
  },
  {
   "cell_type": "code",
   "execution_count": 3,
   "id": "aea1c3af-6b1a-4375-b12e-521a3e0d3f40",
   "metadata": {},
   "outputs": [
    {
     "data": {
      "text/plain": [
       "1616"
      ]
     },
     "execution_count": 3,
     "metadata": {},
     "output_type": "execute_result"
    }
   ],
   "source": [
    "diffs = [depths[i] - depths[i-1] for i in range(1, len(depths))]\n",
    "sum([d > 0 for d in diffs])"
   ]
  },
  {
   "cell_type": "markdown",
   "id": "aa6490ad-0b59-4139-af91-c4787d334461",
   "metadata": {},
   "source": [
    "**Part 2**"
   ]
  },
  {
   "cell_type": "code",
   "execution_count": 4,
   "id": "7de3534a-bf31-47b2-8890-64061929ef0c",
   "metadata": {},
   "outputs": [
    {
     "data": {
      "text/plain": [
       "1645"
      ]
     },
     "execution_count": 4,
     "metadata": {},
     "output_type": "execute_result"
    }
   ],
   "source": [
    "trips = [sum(depths[i:i+3]) for i in range(len(depths)-2)]\n",
    "tdiffs = [trips[i] - trips[i-1] for i in range(1, len(trips))]\n",
    "sum([t > 0 for t in tdiffs])"
   ]
  },
  {
   "cell_type": "markdown",
   "id": "1de9c361",
   "metadata": {},
   "source": [
    "<a class=\"anchor\" id=\"day2\"></a>\n",
    "\n",
    "# Day 2\n",
    "\n",
    "*Part 1*  \n",
    "Given are a list of commands for a submarine.  After following the commands, find the product of the horizontal position and the depth.\n",
    "\n",
    "*Part 2*  \n",
    "Now we interpret the commands differently and track a variable *aim*:\n",
    "\n",
    "    down X increases your aim by X units.\n",
    "    up X decreases your aim by X units.\n",
    "    forward X does two things:\n",
    "        It increases your horizontal position by X units.\n",
    "        It increases your depth by your aim multiplied by X.\n",
    "        \n",
    "Again, find the product of the final horizontal position and depth."
   ]
  },
  {
   "cell_type": "code",
   "execution_count": 6,
   "id": "d0810ad9-c709-474a-9224-370b11fdc2a0",
   "metadata": {},
   "outputs": [
    {
     "data": {
      "text/plain": [
       "['forward 3', 'forward 6', 'up 3', 'forward 4', 'forward 4']"
      ]
     },
     "execution_count": 6,
     "metadata": {},
     "output_type": "execute_result"
    }
   ],
   "source": [
    "with open('data2021/day2.txt') as f2:\n",
    "    cmds = [row.strip() for row in f2.readlines()]\n",
    "    \n",
    "cmds[-5:]"
   ]
  },
  {
   "cell_type": "markdown",
   "id": "b838d5c5-de3a-4ac9-956b-f620c8f0889e",
   "metadata": {},
   "source": [
    "**Part 1**"
   ]
  },
  {
   "cell_type": "code",
   "execution_count": 7,
   "id": "3c50aea6-2ccf-4aa5-9dbe-2d3cc046d78f",
   "metadata": {},
   "outputs": [
    {
     "data": {
      "text/plain": [
       "1855814"
      ]
     },
     "execution_count": 7,
     "metadata": {},
     "output_type": "execute_result"
    }
   ],
   "source": [
    "horiz = 0\n",
    "depth = 0\n",
    "\n",
    "for cmd in cmds:\n",
    "    words = cmd.split()\n",
    "    if words[0] == 'forward':\n",
    "        horiz += int(words[1])\n",
    "    elif words[0] == 'up':\n",
    "        depth -= int(words[1])\n",
    "    else:\n",
    "        depth += int(words[1])\n",
    "horiz*depth"
   ]
  },
  {
   "cell_type": "markdown",
   "id": "a2cd9aef-3807-4bd4-99c3-cf182bf8fb3d",
   "metadata": {},
   "source": [
    "**Part 2**"
   ]
  },
  {
   "cell_type": "code",
   "execution_count": 8,
   "id": "a70b66ce-4a38-49ad-87a7-1fba21797cbb",
   "metadata": {},
   "outputs": [
    {
     "data": {
      "text/plain": [
       "1845455714"
      ]
     },
     "execution_count": 8,
     "metadata": {},
     "output_type": "execute_result"
    }
   ],
   "source": [
    "horiz = 0\n",
    "depth = 0\n",
    "aim = 0\n",
    "\n",
    "for cmd in cmds:\n",
    "    words = cmd.split()\n",
    "    word, val = words[0], int(words[1])\n",
    "    if word == 'forward':\n",
    "        horiz += val\n",
    "        depth += aim*val\n",
    "    elif word == 'up':\n",
    "        aim -= val\n",
    "    else:\n",
    "        aim += val\n",
    "horiz*depth"
   ]
  },
  {
   "cell_type": "markdown",
   "id": "10858db0-2f1e-46de-946b-a1a76bc332ec",
   "metadata": {},
   "source": [
    "<a class=\"anchor\" id=\"day3\"></a>\n",
    "# Day 3\n",
    "\n",
    "*Part 1*  \n",
    "Given is a report with a bunch of binary strings.  Find the most common and least common digits in each position, then find the product of the decimal version of each of those two binary strings.\n",
    "\n",
    "*Part 2*  \n",
    "This time, filter by each index.  That is, find the most common digit in the ith location of all the binary strings; only keep the binary strings that have the most common, discard the others.  Do this until only one string remains.  Do this for both the most common and least common digits to produce two strings and find their decimal product."
   ]
  },
  {
   "cell_type": "code",
   "execution_count": 9,
   "id": "bb897ff2-607b-4123-b297-22ae3a158855",
   "metadata": {},
   "outputs": [
    {
     "data": {
      "text/plain": [
       "['111000111101',\n",
       " '110100000110',\n",
       " '100100101011',\n",
       " '010011101110',\n",
       " '110001100010']"
      ]
     },
     "execution_count": 9,
     "metadata": {},
     "output_type": "execute_result"
    }
   ],
   "source": [
    "with open('data2021/day3.txt') as f3:\n",
    "    report = [row.strip() for row in f3.readlines()]\n",
    "    \n",
    "report[-5:]"
   ]
  },
  {
   "cell_type": "markdown",
   "id": "ea692681-a667-4fcb-bb42-3f805cd6cedf",
   "metadata": {},
   "source": [
    "**Part 1**"
   ]
  },
  {
   "cell_type": "code",
   "execution_count": 10,
   "id": "b3dfe85e-ec10-445c-a9dd-5d0af217708f",
   "metadata": {},
   "outputs": [
    {
     "data": {
      "text/plain": [
       "'001010001110'"
      ]
     },
     "execution_count": 10,
     "metadata": {},
     "output_type": "execute_result"
    }
   ],
   "source": [
    "cols = [''.join([row[i] for row in report]) for i in range(len(report[0]))]\n",
    "gamma = ''\n",
    "for col in cols:\n",
    "    gamma += '1' if col.count('1') > col.count('0') else '0'\n",
    "gamma"
   ]
  },
  {
   "cell_type": "code",
   "execution_count": 11,
   "id": "e3ee6d0c-d0d8-447f-b9be-86bccb8e2a39",
   "metadata": {},
   "outputs": [
    {
     "data": {
      "text/plain": [
       "'110101110001'"
      ]
     },
     "execution_count": 11,
     "metadata": {},
     "output_type": "execute_result"
    }
   ],
   "source": [
    "epsilon = ''\n",
    "for char in gamma:\n",
    "    epsilon += '1' if char == '0' else '0'\n",
    "epsilon"
   ]
  },
  {
   "cell_type": "code",
   "execution_count": 12,
   "id": "cae50a63-08f8-49de-9e28-cf9b4c5f42e6",
   "metadata": {},
   "outputs": [
    {
     "data": {
      "text/plain": [
       "2250414"
      ]
     },
     "execution_count": 12,
     "metadata": {},
     "output_type": "execute_result"
    }
   ],
   "source": [
    "int(gamma, 2) * int(epsilon, 2)"
   ]
  },
  {
   "cell_type": "markdown",
   "id": "df445285-f4fc-4324-8088-f5e200ed4853",
   "metadata": {},
   "source": [
    "**Part 2**"
   ]
  },
  {
   "cell_type": "code",
   "execution_count": 13,
   "id": "bc68c15b-b969-435d-96ac-8fddb8ee8dd5",
   "metadata": {},
   "outputs": [
    {
     "data": {
      "text/plain": [
       "1935"
      ]
     },
     "execution_count": 13,
     "metadata": {},
     "output_type": "execute_result"
    }
   ],
   "source": [
    "oxygen = report[:]\n",
    "\n",
    "while len(oxygen) > 1:\n",
    "    for i in range(len(oxygen[0])):\n",
    "        vals = [ox[i] for ox in oxygen]\n",
    "        zeros, ones = vals.count('0'), vals.count('1')\n",
    "        if ones >= zeros:\n",
    "            oxygen = [ox for ox in oxygen if ox[i] == '1']\n",
    "        else:\n",
    "            oxygen = [ox for ox in oxygen if ox[i] == '0']\n",
    "            \n",
    "ox_bin = oxygen[0]\n",
    "ox_dec = int(ox_bin, 2)\n",
    "ox_dec"
   ]
  },
  {
   "cell_type": "code",
   "execution_count": 14,
   "id": "1cbd7030-5336-4a26-a0e7-972b576fb478",
   "metadata": {},
   "outputs": [
    {
     "data": {
      "text/plain": [
       "3145"
      ]
     },
     "execution_count": 14,
     "metadata": {},
     "output_type": "execute_result"
    }
   ],
   "source": [
    "co2 = report[:]\n",
    "\n",
    "while len(co2) > 1:\n",
    "    for i in range(len(co2[0])):\n",
    "        vals = [c[i] for c in co2]\n",
    "        zeros, ones = vals.count('0'), vals.count('1')\n",
    "        if ones < zeros:\n",
    "            co2 = [c for c in co2 if c[i] == '1']\n",
    "        else:\n",
    "            co2 = [c for c in co2 if c[i] == '0']\n",
    "        if len(co2) == 1:\n",
    "            break\n",
    "            \n",
    "co2_bin = co2[0]\n",
    "co2_dec = int(co2_bin, 2)\n",
    "co2_dec"
   ]
  },
  {
   "cell_type": "code",
   "execution_count": 15,
   "id": "64078277-f2c9-45a8-b82d-c6007cf3a5f4",
   "metadata": {},
   "outputs": [
    {
     "data": {
      "text/plain": [
       "6085575"
      ]
     },
     "execution_count": 15,
     "metadata": {},
     "output_type": "execute_result"
    }
   ],
   "source": [
    "ox_dec * co2_dec"
   ]
  },
  {
   "cell_type": "markdown",
   "id": "74f536c7-db83-4279-82d5-c578022b90c4",
   "metadata": {
    "tags": []
   },
   "source": [
    "<a class=\"anchor\" id=\"day4\"></a>\n",
    "\n",
    "# Day 4\n",
    "Bingo with a squid.\n",
    "\n",
    "*Part 1*  \n",
    "By calling the given input numbers, find the board that wins first (no diagonals).  On that board, find the sum of the non-covered spaces once the board wins.\n",
    "\n",
    "*Part 2*  \n",
    "Find the last board to win and find the sum of its non-covered spaces."
   ]
  },
  {
   "cell_type": "code",
   "execution_count": 16,
   "id": "992bb90c-61b4-46c0-9209-12e683c22a3f",
   "metadata": {},
   "outputs": [
    {
     "data": {
      "text/plain": [
       "['76,69,38,62,33,48,81,2,64,21,80,90,29,99,37,15,93,46,75,0,89,56,58,40,92,47,8,6,54,96,12,66,83,4,70,19,17,5,50,52,45,51,18,27,49,71,28,86,74,77,11,20,84,72,23,31,16,78,91,65,87,79,73,94,24,68,63,9,88,82,30,42,60,13,67,85,44,59,7,53,22,1,26,41,61,55,43,39,3,35,25,34,57,10,14,32,97,95,36,98',\n",
       " '',\n",
       " '17 45 62 28 73',\n",
       " '39 12  0 52  5',\n",
       " '87 48 50 85 44',\n",
       " '66 57 78 94  3',\n",
       " '91 37 69 16  1',\n",
       " '',\n",
       " '1 67  4 58 13',\n",
       " '25 54 34 63 87',\n",
       " '59 70 66 72 71',\n",
       " '33 17  8 20 85',\n",
       " '69 46 50 41 88',\n",
       " '',\n",
       " '47 63 80 15 90']"
      ]
     },
     "execution_count": 16,
     "metadata": {},
     "output_type": "execute_result"
    }
   ],
   "source": [
    "import numpy as np\n",
    "\n",
    "with open('data2021/day4.txt') as f4:\n",
    "    bingo = [row.strip() for row in f4.readlines()]\n",
    "    \n",
    "bingo[:15]"
   ]
  },
  {
   "cell_type": "code",
   "execution_count": 17,
   "id": "3ceb6fce-b71a-478b-90bc-fbc91b62af27",
   "metadata": {},
   "outputs": [
    {
     "data": {
      "text/plain": [
       "[76, 69, 38, 62, 33, 48, 81, 2, 64, 21]"
      ]
     },
     "execution_count": 17,
     "metadata": {},
     "output_type": "execute_result"
    }
   ],
   "source": [
    "# get the first row, numbers being called in the bingo game\n",
    "values = [int(x) for x in bingo[0].split(',')]\n",
    "values[:10]"
   ]
  },
  {
   "cell_type": "code",
   "execution_count": 18,
   "id": "b3b1904d-71f7-4df7-8666-d492331ed5d1",
   "metadata": {},
   "outputs": [
    {
     "data": {
      "text/plain": [
       "[array([[17, 45, 62, 28, 73],\n",
       "        [39, 12,  0, 52,  5],\n",
       "        [87, 48, 50, 85, 44],\n",
       "        [66, 57, 78, 94,  3],\n",
       "        [91, 37, 69, 16,  1]]),\n",
       " array([[ 1, 67,  4, 58, 13],\n",
       "        [25, 54, 34, 63, 87],\n",
       "        [59, 70, 66, 72, 71],\n",
       "        [33, 17,  8, 20, 85],\n",
       "        [69, 46, 50, 41, 88]])]"
      ]
     },
     "execution_count": 18,
     "metadata": {},
     "output_type": "execute_result"
    }
   ],
   "source": [
    "# we're going to alter the boards along the way, this function gets us a fresh set of unmodified boards\n",
    "def get_boards():\n",
    "    boards = []\n",
    "    for i in range(2, len(bingo), 6):\n",
    "        board = np.array([[int(x) for x in bingo[j].split()] for j in range(i, i+5)])\n",
    "        boards.append(board)\n",
    "    return boards\n",
    "\n",
    "get_boards()[:2]"
   ]
  },
  {
   "cell_type": "code",
   "execution_count": 19,
   "id": "4fcca457-b418-4ed3-a197-928eddf2fe0f",
   "metadata": {},
   "outputs": [],
   "source": [
    "# All numbers on the boards are 0-99, so we'll add 100 to a number on a board when it has been called.\n",
    "# We can then identify called numbers as those bigger than 100; all numbers on a board less than 100\n",
    "#  are the ones that haven't been called that we want to sum to score the board once it has won.\n",
    "# (I was going to negate called numbers, but 0 is a used number and that screwed it up.)\n",
    "\n",
    "def check_win(board):\n",
    "    win = False\n",
    "    \n",
    "    # check each row and each col to see if they have all nums above 100\n",
    "    for i in range(5):\n",
    "        if all(board[i, :] >= 100) or all(board[:, i] >= 100):\n",
    "            win = True\n",
    "    \n",
    "    return sum(board[board < 100]) if win else 0\n",
    "        "
   ]
  },
  {
   "cell_type": "markdown",
   "id": "56c1ee87-eb52-49a1-808b-cf148b2ea924",
   "metadata": {},
   "source": [
    "**Part 1**"
   ]
  },
  {
   "cell_type": "code",
   "execution_count": 20,
   "id": "bdc6de27-bf6a-4591-80a9-a62b5108d4d0",
   "metadata": {
    "tags": []
   },
   "outputs": [
    {
     "name": "stdout",
     "output_type": "stream",
     "text": [
      "Winner! Final value: 4, board score: 624, solution: 2496\n"
     ]
    }
   ],
   "source": [
    "boards = get_boards()\n",
    "finished = False\n",
    "for val in values:\n",
    "    if not finished:\n",
    "        for board in boards:\n",
    "            if val in board:\n",
    "                row, col = np.where(board==val)[0][0], np.where(board==val)[1][0]\n",
    "                board[row, col] += 100\n",
    "                score = check_win(board)\n",
    "                if score:\n",
    "                    print(f'Winner! Final value: {val}, board score: {score}, solution: {val*score}')\n",
    "                    finished = True\n",
    "                    break"
   ]
  },
  {
   "cell_type": "markdown",
   "id": "c584129c-325f-4916-ac13-f05613815d63",
   "metadata": {},
   "source": [
    "**Part 2**\n",
    "\n",
    "Now we'll use the same code from part 1, but remove finished boards. If the board we're removing is the last one, that's the one we want."
   ]
  },
  {
   "cell_type": "code",
   "execution_count": 21,
   "id": "93dd169a-5580-4b4c-aa76-2aa9c9359c82",
   "metadata": {},
   "outputs": [
    {
     "name": "stdout",
     "output_type": "stream",
     "text": [
      "Last Winner! Final value: 61, board score: 425, solution: 25925\n"
     ]
    }
   ],
   "source": [
    "boards = get_boards()\n",
    "finished = False\n",
    "to_remove_idxs = []\n",
    "for val in values:\n",
    "    if not finished:\n",
    "        for idx, board in enumerate(boards):\n",
    "            if val in board:\n",
    "                row, col = np.where(board==val)[0][0], np.where(board==val)[1][0]\n",
    "                board[row, col] += 100\n",
    "                score = check_win(board)\n",
    "                if score:\n",
    "                    if len(boards) == 1:\n",
    "                        print(f'Last Winner! Final value: {val}, board score: {score}, solution: {val*score}')\n",
    "                        finished = True\n",
    "                        break\n",
    "                    else:\n",
    "                        to_remove_idxs.append(idx)\n",
    "        if len(boards) == len(to_remove_idxs):\n",
    "            print('finished together')\n",
    "        boards = [boards[i] for i in range(len(boards)) if i not in to_remove_idxs]\n",
    "        to_remove_idxs = []\n",
    "                    "
   ]
  },
  {
   "cell_type": "markdown",
   "id": "083aa3fd-6aaf-49ce-8d58-1b36e2d32343",
   "metadata": {},
   "source": [
    "<a class=\"anchor\" id=\"day5\"></a>\n",
    "\n",
    "# Day 5\n",
    "\n",
    "*Part 1*  \n",
    "Only considering the vertical and horizontal line segments in the input, find the total number of places that experience an overlap of at least two vents.\n",
    "\n",
    "*Part 2*  \n",
    "Now include diagonals."
   ]
  },
  {
   "cell_type": "code",
   "execution_count": 43,
   "id": "d5365f76-5dae-4f03-8a4d-669211eef19a",
   "metadata": {},
   "outputs": [
    {
     "data": {
      "text/plain": [
       "('919,123 -> 88,954', [[919, 123], [88, 954]])"
      ]
     },
     "execution_count": 43,
     "metadata": {},
     "output_type": "execute_result"
    }
   ],
   "source": [
    "with open('data2021/day5.txt') as f5:\n",
    "    lines = [row.strip() for row in f5.readlines()]\n",
    "    \n",
    "## uncomment this block to override the actual input with the sample (set grid size to (10, 10))\n",
    "# sample = '''0,9 -> 5,9\n",
    "# 8,0 -> 0,8\n",
    "# 9,4 -> 3,4\n",
    "# 2,2 -> 2,1\n",
    "# 7,0 -> 7,4\n",
    "# 6,4 -> 2,0\n",
    "# 0,9 -> 2,9\n",
    "# 3,4 -> 1,4\n",
    "# 0,0 -> 8,8\n",
    "# 5,5 -> 8,2'''\n",
    "\n",
    "# lines = [row.strip() for row in sample.split('\\n')]\n",
    "    \n",
    "endpoints = []\n",
    "for line in lines:\n",
    "    start, _, end = line.split()\n",
    "    start = [int(x) for x in start.split(',')]\n",
    "    end = [int(x) for x in end.split(',')]\n",
    "    endpoints.append([start, end])\n",
    "\n",
    "lines[-1], endpoints[-1]"
   ]
  },
  {
   "cell_type": "markdown",
   "id": "8be41a9a-3129-406b-b101-a2ccc89a0eaf",
   "metadata": {},
   "source": [
    "**Part 1**"
   ]
  },
  {
   "cell_type": "code",
   "execution_count": 44,
   "id": "6b9befb6-c5f6-4f10-9066-2da12ade1bcd",
   "metadata": {},
   "outputs": [
    {
     "data": {
      "text/plain": [
       "7436"
      ]
     },
     "execution_count": 44,
     "metadata": {},
     "output_type": "execute_result"
    }
   ],
   "source": [
    "import numpy as np\n",
    "\n",
    "# set to (10, 10) for \"sample\"\n",
    "grid = np.zeros((1000, 1000))\n",
    "\n",
    "for ((x1, y1), (x2, y2)) in endpoints:\n",
    "    loy, hiy = sorted((y1, y2))\n",
    "    lox, hix = sorted((x1, x2))\n",
    "    if x1 == x2:\n",
    "        grid[loy:hiy+1, x1] += 1\n",
    "    elif y1 == y2:    \n",
    "        grid[y1, lox:hix+1] += 1\n",
    "        \n",
    "sum(sum(grid > 1))"
   ]
  },
  {
   "cell_type": "markdown",
   "id": "0141e892-8caf-473a-96b5-9692caa7e3c4",
   "metadata": {},
   "source": [
    "**Part 2**\n",
    "\n",
    "Not sure why I'm getting this FutureWarning, here is the slicing example in the docs that I'm following:\n",
    "\n",
    "    >>> y = np.arange(35).reshape(5, 7)\n",
    "    >>> y\n",
    "    array([[ 0,  1,  2,  3,  4,  5,  6],\n",
    "           [ 7,  8,  9, 10, 11, 12, 13],\n",
    "           [14, 15, 16, 17, 18, 19, 20],\n",
    "           [21, 22, 23, 24, 25, 26, 27],\n",
    "           [28, 29, 30, 31, 32, 33, 34]])\n",
    "    >>> y[np.array([0, 2, 4]), np.array([0, 1, 2])]\n",
    "    array([ 0, 15, 30])"
   ]
  },
  {
   "cell_type": "code",
   "execution_count": 51,
   "id": "550e6696-a7b0-4521-8476-1203cf00d0e6",
   "metadata": {},
   "outputs": [
    {
     "name": "stderr",
     "output_type": "stream",
     "text": [
      "<ipython-input-51-6b4212e1a0f5>:15: FutureWarning: Using a non-tuple sequence for multidimensional indexing is deprecated; use `arr[tuple(seq)]` instead of `arr[seq]`. In the future this will be interpreted as an array index, `arr[np.array(seq)]`, which will result either in an error or a different result.\n",
      "  grid[diags] += 1\n"
     ]
    },
    {
     "data": {
      "text/plain": [
       "21104"
      ]
     },
     "execution_count": 51,
     "metadata": {},
     "output_type": "execute_result"
    }
   ],
   "source": [
    "import numpy as np\n",
    "grid = np.zeros((1000, 1000))\n",
    "\n",
    "for ((x1, y1), (x2, y2)) in endpoints:\n",
    "    loy, hiy = sorted((y1, y2))\n",
    "    lox, hix = sorted((x1, x2))\n",
    "    if x1 == x2:\n",
    "        grid[loy:hiy+1, x1] += 1\n",
    "    elif y1 == y2:    \n",
    "        grid[y1, lox:hix+1] += 1\n",
    "    else: # diagonals; need if/else based on whether the x/y value is inc or dec for the diag\n",
    "        xvals = np.arange(x1, x2+1) if x1<x2 else np.arange(x1, x2-1, -1)\n",
    "        yvals = np.arange(y1, y2+1) if y1<y2 else np.arange(y1, y2-1, -1)\n",
    "        diags = [yvals, xvals]\n",
    "        grid[diags] += 1\n",
    "        \n",
    "sum(sum(grid > 1))"
   ]
  },
  {
   "cell_type": "markdown",
   "id": "7d94449d-5a31-40b1-bc4c-4d5ba823ec70",
   "metadata": {},
   "source": [
    "<a class=\"anchor\" id=\"day6\"></a>\n",
    "\n",
    "# Day 6\n",
    "\n",
    "*Part 1*  \n",
    "Given a list of nearby lanternfish ages, determine how many there will be after 80 days given that they take 7 days to create a new one and an additional 2 days for their first reproduction cycle.\n",
    "\n",
    "*Part 2*  \n",
    "Same, but 256 days."
   ]
  },
  {
   "cell_type": "code",
   "execution_count": 114,
   "id": "f51f969a-37cf-4a5f-a9bb-203888cfdc96",
   "metadata": {},
   "outputs": [
    {
     "data": {
      "text/plain": [
       "([4, 1, 4, 1, 3], [1, 1, 3, 3, 1])"
      ]
     },
     "execution_count": 114,
     "metadata": {},
     "output_type": "execute_result"
    }
   ],
   "source": [
    "import numpy as np\n",
    "\n",
    "with open('data2021/day6.txt') as f6:\n",
    "    fish = [int(x) for x in f6.read().split(',')]\n",
    "    \n",
    "sample_fish = [3, 4, 3, 1, 2]\n",
    "    \n",
    "fish[:5], fish[-5:]"
   ]
  },
  {
   "cell_type": "code",
   "execution_count": 115,
   "id": "013643a0-0b63-40c1-89aa-73873b5657ae",
   "metadata": {
    "tags": []
   },
   "outputs": [
    {
     "name": "stdout",
     "output_type": "stream",
     "text": [
      "day 1   \t count = 5 \t 2,3,2,0,1,\n",
      "day 2   \t count = 6 \t 1,2,1,6,0,8,\n",
      "day 3   \t count = 7 \t 0,1,0,5,6,7,8,\n",
      "day 4   \t count = 9 \t 6,0,6,4,5,6,7,8,8,\n",
      "day 5   \t count = 10 \t 5,6,5,3,4,5,6,7,7,8,\n",
      "day 6   \t count = 10 \t 4,5,4,2,3,4,5,6,6,7,\n",
      "day 7   \t count = 10 \t 3,4,3,1,2,3,4,5,5,6,\n",
      "day 8   \t count = 10 \t 2,3,2,0,1,2,3,4,4,5,\n",
      "day 9   \t count = 11 \t 1,2,1,6,0,1,2,3,3,4,8,\n",
      "day 10   \t count = 12 \t 0,1,0,5,6,0,1,2,2,3,7,8,\n",
      "day 11   \t count = 15 \t 6,0,6,4,5,6,0,1,1,2,6,7,8,8,8,\n",
      "day 12   \t count = 17 \t 5,6,5,3,4,5,6,0,0,1,5,6,7,7,7,8,8,\n",
      "day 13   \t count = 19 \t 4,5,4,2,3,4,5,6,6,0,4,5,6,6,6,7,7,8,8,\n",
      "day 14   \t count = 20 \t 3,4,3,1,2,3,4,5,5,6,3,4,5,5,5,6,6,7,7,8,\n",
      "day 15   \t count = 20 \t 2,3,2,0,1,2,3,4,4,5,2,3,4,4,4,5,5,6,6,7,\n",
      "day 16   \t count = 21 \t 1,2,1,6,0,1,2,3,3,4,1,2,3,3,3,4,4,5,5,6,8,\n",
      "day 17   \t count = 22 \t 0,1,0,5,6,0,1,2,2,3,0,1,2,2,2,3,3,4,4,5,7,8,\n",
      "day 18   \t count = 26 \t 6,0,6,4,5,6,0,1,1,2,6,0,1,1,1,2,2,3,3,4,6,7,8,8,8,8,\n",
      "day 19   \t count = 29 \t 5,6,5,3,4,5,6,0,0,1,5,6,0,0,0,1,1,2,2,3,5,6,7,7,7,7,8,8,8,\n",
      "day 20   \t count = 34 \t 4,5,4,2,3,4,5,6,6,0,4,5,6,6,6,0,0,1,1,2,4,5,6,6,6,6,7,7,7,8,8,8,8,8,\n"
     ]
    }
   ],
   "source": [
    "# This won't work to actually solve the problem, just to check the sample\n",
    "\n",
    "sfish = np.array(sample_fish)\n",
    "\n",
    "days = 20\n",
    "for day in range(1, days+1):\n",
    "    sfish -= 1\n",
    "    birth_count = sum(sfish == -1)\n",
    "    sfish = np.where(sfish == -1, 6, sfish)\n",
    "    sfish = np.concatenate([sfish, np.ones(birth_count)*8])\n",
    "    print(f'day {day}   \\t count = {len(sfish)} \\t ', end='')\n",
    "    for f in sfish:\n",
    "        print(int(f), end=',')\n",
    "    print()"
   ]
  },
  {
   "cell_type": "markdown",
   "id": "699985c4-6c8e-423c-97e2-52320d6e0a87",
   "metadata": {},
   "source": [
    "**Part 1 and Part 2**  \n",
    "We'll hold our information about the fish in a list of 9 elements indicating the number of fish of age 0-8 in each slot."
   ]
  },
  {
   "cell_type": "code",
   "execution_count": 117,
   "id": "211321ae-1343-41cc-926a-84d8a413f1cf",
   "metadata": {},
   "outputs": [
    {
     "data": {
      "text/plain": [
       "[0, 81, 46, 60, 63, 50, 0, 0, 0]"
      ]
     },
     "execution_count": 117,
     "metadata": {},
     "output_type": "execute_result"
    }
   ],
   "source": [
    "counts = [fish.count(age) for age in range(9)]\n",
    "counts"
   ]
  },
  {
   "cell_type": "code",
   "execution_count": 120,
   "id": "f1e0b1ef-f227-4b84-88aa-82d11a1482bc",
   "metadata": {
    "tags": []
   },
   "outputs": [
    {
     "name": "stdout",
     "output_type": "stream",
     "text": [
      "Part 1: 350149 fish\n",
      "Part 2: 1590327954513 fish\n"
     ]
    }
   ],
   "source": [
    "counts = [fish.count(age) for age in range(9)]\n",
    "daycounts = dict()\n",
    "days = 256\n",
    "\n",
    "for day in range(1, days+1):\n",
    "    birth_count = counts.pop(0)\n",
    "    counts[6] += birth_count\n",
    "    counts.append(birth_count)\n",
    "    daycounts[day] = sum(counts)\n",
    "    #print(f'day {day} \\t count = {sum(counts)} \\t {counts}')\n",
    "    \n",
    "print(f'Part 1: {daycounts[80]} fish')\n",
    "print(f'Part 2: {daycounts[256]} fish')"
   ]
  },
  {
   "cell_type": "markdown",
   "id": "ba0590b8-dfc4-4936-998f-02e675f6e4c1",
   "metadata": {},
   "source": [
    "<a class=\"anchor\" id=\"day7\"></a>\n",
    "\n",
    "# Day 7\n",
    "\n",
    "*Part 1*  \n",
    "Given are a list of horizontal crab positions.  Find the horizontal position that requires the least number of total steps from all the crabs to align on that horizontal position. How many total steps are taken?\n",
    "\n",
    "*Part 2*  \n",
    "Instead, fuel usage follows triangular numbers; 1 fuel for 1st step, 2 fuel for 2nd step (3 total), 3 fuel for 3rd step (6 total). Now find the min fuel possible to align all crabs."
   ]
  },
  {
   "cell_type": "code",
   "execution_count": 121,
   "id": "afb59c21-b874-447a-9567-ac5934531855",
   "metadata": {},
   "outputs": [
    {
     "data": {
      "text/plain": [
       "([1101, 1, 29, 67, 1102], [35, 1052, 85, 9, 454])"
      ]
     },
     "execution_count": 121,
     "metadata": {},
     "output_type": "execute_result"
    }
   ],
   "source": [
    "with open('data2021/day7.txt') as f7:\n",
    "    positions = [int(x) for x in f7.read().split(',')]\n",
    "    \n",
    "positions[:5], positions[-5:]"
   ]
  },
  {
   "cell_type": "code",
   "execution_count": 122,
   "id": "7a27878f-4bd1-4023-b897-983b37cd759e",
   "metadata": {},
   "outputs": [
    {
     "data": {
      "text/plain": [
       "1881"
      ]
     },
     "execution_count": 122,
     "metadata": {},
     "output_type": "execute_result"
    }
   ],
   "source": [
    "max(positions)"
   ]
  },
  {
   "cell_type": "markdown",
   "id": "02b15e9a-1d43-47a2-9594-cc194caea01f",
   "metadata": {},
   "source": [
    "**Part 1**  \n",
    "For each possible horizontal location, find the total distance for all crabs to that position."
   ]
  },
  {
   "cell_type": "code",
   "execution_count": 124,
   "id": "79e69598-956b-4b55-979c-a779e33739d0",
   "metadata": {},
   "outputs": [
    {
     "data": {
      "text/plain": [
       "355989"
      ]
     },
     "execution_count": 124,
     "metadata": {},
     "output_type": "execute_result"
    }
   ],
   "source": [
    "pos = np.array(positions)\n",
    "dists = []\n",
    "for i in range(max(pos)):\n",
    "    dists.append(sum(abs(pos - i)))\n",
    "\n",
    "min(dists)"
   ]
  },
  {
   "cell_type": "markdown",
   "id": "d73b0e24-c53a-4bcd-84e3-cb0166e35acc",
   "metadata": {},
   "source": [
    "**Part 2**\n",
    "\n",
    "Fuel usage follows the triangle number of the distance: 1, 3, 6, 10, 15, ... -> t(n) = n(n+1)/2"
   ]
  },
  {
   "cell_type": "code",
   "execution_count": 125,
   "id": "dee9fbb1-5dbc-4be1-a9ad-e61e968b18bd",
   "metadata": {},
   "outputs": [
    {
     "data": {
      "text/plain": [
       "102245489"
      ]
     },
     "execution_count": 125,
     "metadata": {},
     "output_type": "execute_result"
    }
   ],
   "source": [
    "pos = np.array(positions)\n",
    "dists = []\n",
    "for i in range(max(pos)):\n",
    "    dists.append(sum([x*(x+1)//2 for x in abs(pos - i)]))\n",
    "\n",
    "min(dists)"
   ]
  },
  {
   "cell_type": "markdown",
   "id": "9b374c86-8e84-4352-b6f0-9bb7838c159d",
   "metadata": {},
   "source": [
    "<a class=\"anchor\" id=\"day8\"></a>\n",
    "\n",
    "# Day 8\n",
    "\n",
    "      0:      1:      2:      3:      4:\n",
    "     aaaa    ....    aaaa    aaaa    ....\n",
    "    b    c  .    c  .    c  .    c  b    c\n",
    "    b    c  .    c  .    c  .    c  b    c\n",
    "     ....    ....    dddd    dddd    dddd\n",
    "    e    f  .    f  e    .  .    f  .    f\n",
    "    e    f  .    f  e    .  .    f  .    f\n",
    "     gggg    ....    gggg    gggg    ....\n",
    "\n",
    "      5:      6:      7:      8:      9:\n",
    "     aaaa    aaaa    aaaa    aaaa    aaaa\n",
    "    b    .  b    .  .    c  b    c  b    c\n",
    "    b    .  b    .  .    c  b    c  b    c\n",
    "     dddd    dddd    ....    dddd    dddd\n",
    "    .    f  e    f  .    f  e    f  .    f\n",
    "    .    f  e    f  .    f  e    f  .    f\n",
    "     gggg    gggg    ....    gggg    gggg\n",
    "     \n",
    "*Part 1*  \n",
    "We have a broken 7signal number display with 4 digits.  Although the signals for which bar should be lit up are wrong, we can identify the number 1, 4, 7, and 8 because they require a unique number of bars.  How many 1, 4, 7, and 8 values are in the \"values\" (things to the right of the |)?\n",
    "\n",
    "*Part 2*  \n",
    "Determine what the correct signal map must be for each set of entries and values; determine what numbers are produced by the corrected values; sum all of the actual values.\n",
    "\n",
    "Man, I did this kind of crazy. Here were my steps.\n",
    "\n",
    "1. Subtract parts from 1 from the parts from 7 to find the top\n",
    "2. Subtract parts from 7 and 4 from signals with 5 chars, 2 3 and 5. If one part remains, its the bottom.  If two parts remain, its the bottom or bottom left\n",
    "3. Subtract top, bottom, bottom left from signals with 5 chars, 2 3 and 5. If two parts remain, its a 2, so subtract the parts from 1 to get mid.\n",
    "4. Subtract mid and parts from 1 from 4 to get upper left\n",
    "5. Subtract all known parts from signals with 6 chars (0, 6, 9). If 1 part remains, its the lower right of the 6.\n",
    "6. Process of elimination to find the last.\n"
   ]
  },
  {
   "cell_type": "code",
   "execution_count": 181,
   "id": "af98cc84-293e-4338-a662-edf166914882",
   "metadata": {},
   "outputs": [],
   "source": [
    "numparts = {0: 'abcefg',  # 6\n",
    "            1: 'cf',      # 2\n",
    "            2: 'acdeg',   # 5\n",
    "            3: 'acdfg',   # 5\n",
    "            4: 'bcdf',    # 4\n",
    "            5: 'abdfg',   # 5\n",
    "            6: 'abdefg',  # 6\n",
    "            7: 'acf',     # 3 \n",
    "            8: 'abcdefg', # 7\n",
    "            9: 'abcdfg'}  # 6\n",
    "\n",
    "# we'll want to look up what number is associated with a signal later, so reverse the numparts dict\n",
    "signal_lookup = {v: k for k, v in numparts.items()}\n",
    "\n",
    "# 1 is the only number using 2 parts\n",
    "# 4 is the only number using 4 parts\n",
    "# 7 is the only number using 3 parts\n",
    "# 8 is the only number using 7 parts"
   ]
  },
  {
   "cell_type": "code",
   "execution_count": 182,
   "id": "26d6616a-e25d-4068-bb52-86e67618c9fb",
   "metadata": {},
   "outputs": [
    {
     "data": {
      "text/plain": [
       "['aeb edbgcf ba dbcge adbg cbgeaf bceadg faced cbaegfd deacb | dfeac bea cebgfa ab',\n",
       " 'fgacb gdeafb fegabdc bfagec cgf dcbaf ecgfad cbeg cg afebg | gfc fagceb cdfgae fcg',\n",
       " 'gb gdb gbca ecfgbad cdfgbe afcdgb dfbga bfead gcafd feacgd | beafd bdg dgb aefdb',\n",
       " 'gb caebgd gfcb aegdfcb acfbe edgaf abg bgfea beagcf dcefab | bga dafge agbdefc efabgc',\n",
       " 'febcga bfgcda afc cbagefd agcd bfecgd ac dfbca cbfgd befad | ac fca afc cdfab']"
      ]
     },
     "execution_count": 182,
     "metadata": {},
     "output_type": "execute_result"
    }
   ],
   "source": [
    "with open('data2021/day8.txt') as f8:\n",
    "    inp = [row.strip() for row in f8.readlines()]\n",
    "    \n",
    "inp[-5:]"
   ]
  },
  {
   "cell_type": "code",
   "execution_count": 183,
   "id": "0c00cbe2-c400-4581-a3da-2b8123502d55",
   "metadata": {},
   "outputs": [
    {
     "name": "stdout",
     "output_type": "stream",
     "text": [
      "['cbgefad', 'agc', 'fdega', 'cgdf', 'ecdgfa', 'efgca', 'gaefbd', 'edagbc', 'cg', 'ecafb']\n",
      "['cdgafbe', 'cfdg', 'cg', 'gac']\n",
      "['gcbdfe', 'cgefb', 'bgadcfe', 'de', 'cfabeg', 'cbgade', 'dbfe', 'ced', 'acfdg', 'egdcf']\n",
      "['de', 'bedf', 'ecdgf', 'ecd']\n"
     ]
    }
   ],
   "source": [
    "entries = []\n",
    "values = []\n",
    "for row in inp:\n",
    "    parts = row.split(' ')\n",
    "    entries.append(parts[:10])\n",
    "    values.append(parts[-4:])\n",
    "    \n",
    "for i in range(2):\n",
    "    print(entries[i])\n",
    "    print(values[i])"
   ]
  },
  {
   "cell_type": "markdown",
   "id": "225f5103-1b02-45ce-a452-0cc47d319833",
   "metadata": {},
   "source": [
    "**Part 1**"
   ]
  },
  {
   "cell_type": "code",
   "execution_count": 172,
   "id": "a573acc4-afe3-4065-b4ef-799281cd67f4",
   "metadata": {},
   "outputs": [
    {
     "data": {
      "text/plain": [
       "514"
      ]
     },
     "execution_count": 172,
     "metadata": {},
     "output_type": "execute_result"
    }
   ],
   "source": [
    "count = 0\n",
    "for v in values:\n",
    "    count += sum([len(x) == 2 for x in v])\n",
    "    count += sum([len(x) == 4 for x in v])\n",
    "    count += sum([len(x) == 3 for x in v])\n",
    "    count += sum([len(x) == 7 for x in v])\n",
    "count"
   ]
  },
  {
   "cell_type": "markdown",
   "id": "19448d13-c2e6-4f5c-8505-2c9fe6c37ac3",
   "metadata": {},
   "source": [
    "**Part 2**"
   ]
  },
  {
   "cell_type": "code",
   "execution_count": 173,
   "id": "6b4c1a6e-3187-4672-8382-a2c5920fff77",
   "metadata": {},
   "outputs": [
    {
     "name": "stdout",
     "output_type": "stream",
     "text": [
      "True\n",
      "True\n",
      "True\n",
      "True\n"
     ]
    }
   ],
   "source": [
    "# do all entry sets have the unique values in them?\n",
    "print(all([any([len(x) == 2 for x in ent]) for ent in entries]))\n",
    "print(all([any([len(x) == 4 for x in ent]) for ent in entries]))\n",
    "print(all([any([len(x) == 3 for x in ent]) for ent in entries]))\n",
    "print(all([any([len(x) == 7 for x in ent]) for ent in entries]))"
   ]
  },
  {
   "cell_type": "code",
   "execution_count": 176,
   "id": "16041996-a147-48c7-96cb-e5960089539a",
   "metadata": {},
   "outputs": [
    {
     "data": {
      "text/plain": [
       "1012272"
      ]
     },
     "execution_count": 176,
     "metadata": {},
     "output_type": "execute_result"
    }
   ],
   "source": [
    "total_value = 0\n",
    "\n",
    "# sample = 'acedgfb cdfbe gcdfa fbcad dab cefabd cdfgeb eafb cagedb ab | cdfeb fcadb cdfeb cdbaf'\n",
    "# entries = [sample.split(' ')[:10]]\n",
    "# values = [sample.split(' ')[-4:]]\n",
    "\n",
    "for i, entry in enumerate(entries):\n",
    "    \n",
    "    len2 = [signal for signal in entry if len(signal) == 2][0]\n",
    "    len3 = [signal for signal in entry if len(signal) == 3][0]\n",
    "    len4 = [signal for signal in entry if len(signal) == 4][0]\n",
    "    len5 = [signal for signal in entry if len(signal) == 5]\n",
    "    len6 = [signal for signal in entry if len(signal) == 6]\n",
    "    len7 = [signal for signal in entry if len(signal) == 7][0]\n",
    "    \n",
    "    # holds the relationship correct signal: incorrect signal\n",
    "    mapping = dict()\n",
    "    \n",
    "    # identify the top signal by subtracting parts from 1 from parts from 7\n",
    "    top = [char for char in len3 if char not in len2][0]\n",
    "    mapping['a'] = top\n",
    "    \n",
    "    # 2, 3, and 5 all have length 5. if we remove parts from both 7 and 4 from all len5, any with only one part left, thats the bottom\n",
    "    # then, the one that has 2 left, thats the bottom and the lower left\n",
    "    rem7and4 = [''.join([char for char in signal if char not in len3 and char not in len4]) for signal in len5]\n",
    "    bottom = [rem for rem in rem7and4 if len(rem) == 1][0]\n",
    "    botleft = [char for char in [rem for rem in rem7and4 if len(rem) == 2][0] if char != bottom][0] \n",
    "    mapping['e'] = botleft\n",
    "    mapping['g'] = bottom\n",
    "    \n",
    "    # now, remove known top, bottom, botleft from 2, 3, and 5.  If 2 parts remain, its a 2, so remove parts from one to get mid\n",
    "    rem_tbbl = [''.join([char for char in signal if char not in [top, bottom, botleft]]) for signal in len5]\n",
    "    for rem in rem_tbbl:\n",
    "        if len(rem) == 2:\n",
    "            mid = [char for char in rem if char not in len2][0]\n",
    "    mapping['d'] = mid\n",
    "    \n",
    "    # remove mid and \"1\" from 4 to get topleft\n",
    "    topleft = [char for char in len4 if char not in len2 and char != mid][0]\n",
    "    mapping['b'] = topleft\n",
    "    \n",
    "    # take the numbers with 6 chars (0, 6, 9). remove all known parts; if 1 part remains, thats the bot right of 6\n",
    "    rem_allknown = [''.join([char for char in signal if char not in mapping.values()]) for signal in len6]\n",
    "    for rem in rem_allknown:\n",
    "        if len(rem) == 1:\n",
    "            botright = rem\n",
    "    mapping['f'] = botright\n",
    "    \n",
    "    # last\n",
    "    topright = [char for char in len2 if char != botright][0]\n",
    "    mapping['c'] = topright\n",
    "    \n",
    "    # now that the forwards mapping is complete, we want to be able to reverse our lookup\n",
    "    #  to tranform our wrong signal back to the correct one\n",
    "    revmap = {v: k for k, v in mapping.items()}\n",
    "    \n",
    "    # for each value, convert it to the correct signal, lookup the number associated with that signal, build whole value, add it to total\n",
    "    actual_value = ''\n",
    "    for val in values[i]:\n",
    "        actual_signal = ''\n",
    "        for char in val:\n",
    "            actual_signal += revmap[char]\n",
    "        actual_signal = ''.join(sorted(actual_signal))\n",
    "        actual_value += str(signal_lookup[actual_signal])\n",
    "    \n",
    "    total_value += int(actual_value)\n",
    "    \n",
    "total_value"
   ]
  },
  {
   "cell_type": "markdown",
   "id": "0ad18322-3ebb-4f67-9b9c-0c4350a98377",
   "metadata": {},
   "source": [
    "<a class=\"anchor\" id=\"day9\"></a>\n",
    "\n",
    "# Day 9"
   ]
  },
  {
   "cell_type": "code",
   "execution_count": null,
   "id": "80f1ff45-2348-42ba-ad6b-108f095ddf8a",
   "metadata": {},
   "outputs": [],
   "source": []
  },
  {
   "cell_type": "markdown",
   "id": "a6de6afe-57e0-42b8-a518-fef239ca082e",
   "metadata": {},
   "source": [
    "<a class=\"anchor\" id=\"day10\"></a>\n",
    "\n",
    "# Day 10"
   ]
  },
  {
   "cell_type": "code",
   "execution_count": null,
   "id": "9d5d61c5-f5d4-4b05-99be-5ea7f0730784",
   "metadata": {},
   "outputs": [],
   "source": []
  },
  {
   "cell_type": "markdown",
   "id": "315ae79d-6cd0-4256-b8f8-a74ca2977cbc",
   "metadata": {},
   "source": [
    "<a class=\"anchor\" id=\"day11\"></a>\n",
    "\n",
    "# Day 11"
   ]
  },
  {
   "cell_type": "code",
   "execution_count": null,
   "id": "a7c93076-e89b-44ce-9487-a78aaaadb9ac",
   "metadata": {},
   "outputs": [],
   "source": []
  },
  {
   "cell_type": "markdown",
   "id": "0d4b06f0-1762-4b0a-a5ae-08f2780c75cc",
   "metadata": {},
   "source": [
    "<a class=\"anchor\" id=\"day12\"></a>\n",
    "\n",
    "# Day 12"
   ]
  },
  {
   "cell_type": "code",
   "execution_count": null,
   "id": "aa56927f-1def-49df-a948-bd52bff8cee2",
   "metadata": {},
   "outputs": [],
   "source": []
  },
  {
   "cell_type": "markdown",
   "id": "745a4ad6-a5eb-496b-9348-be9596a7acdd",
   "metadata": {},
   "source": [
    "<a class=\"anchor\" id=\"day13\"></a>\n",
    "\n",
    "# Day 13"
   ]
  },
  {
   "cell_type": "code",
   "execution_count": null,
   "id": "ceaf9749-b1ff-437c-950e-5f60fa483831",
   "metadata": {},
   "outputs": [],
   "source": []
  },
  {
   "cell_type": "markdown",
   "id": "dfa46c11-6858-452f-acde-efa97872695f",
   "metadata": {},
   "source": [
    "<a class=\"anchor\" id=\"day14\"></a>\n",
    "\n",
    "# Day 14"
   ]
  },
  {
   "cell_type": "code",
   "execution_count": null,
   "id": "64f7ff42-b726-466c-8f63-77fca2398dac",
   "metadata": {},
   "outputs": [],
   "source": []
  },
  {
   "cell_type": "markdown",
   "id": "91f2be48-cb77-4104-b07f-cae81b2fbf71",
   "metadata": {},
   "source": [
    "<a class=\"anchor\" id=\"day15\"></a>\n",
    "\n",
    "# Day 15"
   ]
  },
  {
   "cell_type": "code",
   "execution_count": null,
   "id": "d27adcd3-c401-49df-bf3f-af54527d329b",
   "metadata": {},
   "outputs": [],
   "source": []
  },
  {
   "cell_type": "markdown",
   "id": "74deb6fe-2fad-4930-9b93-fe480fc1e503",
   "metadata": {},
   "source": [
    "<a class=\"anchor\" id=\"day16\"></a>\n",
    "\n",
    "# Day 16"
   ]
  },
  {
   "cell_type": "code",
   "execution_count": null,
   "id": "0c6686a4-32f3-4d2b-a065-c477ebc935e6",
   "metadata": {},
   "outputs": [],
   "source": []
  },
  {
   "cell_type": "markdown",
   "id": "3e857b8a-f358-4cac-9b78-0d1550de9f0e",
   "metadata": {},
   "source": [
    "<a class=\"anchor\" id=\"day17\"></a>\n",
    "\n",
    "# Day 17"
   ]
  },
  {
   "cell_type": "code",
   "execution_count": null,
   "id": "aaa5fe13-6860-4c4b-a585-4cdc8a2df403",
   "metadata": {},
   "outputs": [],
   "source": []
  },
  {
   "cell_type": "markdown",
   "id": "ecb0791c-a4b5-48e4-8ca9-aad698b2e3b5",
   "metadata": {},
   "source": [
    "<a class=\"anchor\" id=\"day18\"></a>\n",
    "\n",
    "# Day 18"
   ]
  },
  {
   "cell_type": "code",
   "execution_count": null,
   "id": "62e34134-79a1-4de8-8bdd-f9a411caf024",
   "metadata": {},
   "outputs": [],
   "source": []
  },
  {
   "cell_type": "markdown",
   "id": "be571ba7-f6c8-4145-94e8-b8cb70fb97cf",
   "metadata": {},
   "source": [
    "<a class=\"anchor\" id=\"day19\"></a>\n",
    "\n",
    "# Day 19"
   ]
  },
  {
   "cell_type": "code",
   "execution_count": null,
   "id": "a4159b76-a82e-4ed6-ad0c-dd9ae354fb88",
   "metadata": {},
   "outputs": [],
   "source": []
  },
  {
   "cell_type": "markdown",
   "id": "1420a7a1-759a-4470-a1e6-bec31f6ed271",
   "metadata": {},
   "source": [
    "<a class=\"anchor\" id=\"day20\"></a>\n",
    "\n",
    "# Day 20"
   ]
  },
  {
   "cell_type": "code",
   "execution_count": null,
   "id": "8fdf69dd-b29b-479a-a8cc-79d0609ac8ac",
   "metadata": {},
   "outputs": [],
   "source": []
  },
  {
   "cell_type": "markdown",
   "id": "73a91c12-46d8-47bf-8e79-93b4f4e91276",
   "metadata": {},
   "source": [
    "<a class=\"anchor\" id=\"day21\"></a>\n",
    "\n",
    "# Day 21"
   ]
  },
  {
   "cell_type": "code",
   "execution_count": null,
   "id": "5f6c9f6c-439f-4932-a052-84736199f7aa",
   "metadata": {},
   "outputs": [],
   "source": []
  },
  {
   "cell_type": "markdown",
   "id": "42a29752-1fca-4713-9417-8758a8d106d2",
   "metadata": {},
   "source": [
    "<a class=\"anchor\" id=\"day22\"></a>\n",
    "\n",
    "# Day 22"
   ]
  },
  {
   "cell_type": "code",
   "execution_count": null,
   "id": "815bc2e6-c67a-4cea-a16d-d5706e218a33",
   "metadata": {},
   "outputs": [],
   "source": []
  },
  {
   "cell_type": "markdown",
   "id": "a757691a-c65e-47e1-b6a8-110c151c8824",
   "metadata": {},
   "source": [
    "<a class=\"anchor\" id=\"day23\"></a>\n",
    "\n",
    "# Day 23"
   ]
  },
  {
   "cell_type": "code",
   "execution_count": null,
   "id": "b05f6743-5b24-4379-8581-f2c87962ac62",
   "metadata": {},
   "outputs": [],
   "source": []
  },
  {
   "cell_type": "markdown",
   "id": "f6671ba1-6ac8-48b2-95ea-6fd8ac3723d3",
   "metadata": {},
   "source": [
    "<a class=\"anchor\" id=\"day24\"></a>\n",
    "\n",
    "# Day 24"
   ]
  },
  {
   "cell_type": "code",
   "execution_count": null,
   "id": "03cf98f7-d1cc-49b0-bb70-068356b9e900",
   "metadata": {},
   "outputs": [],
   "source": []
  },
  {
   "cell_type": "markdown",
   "id": "e63d739c-a686-42ea-9783-dbe0f86258c0",
   "metadata": {},
   "source": [
    "<a class=\"anchor\" id=\"day25\"></a>\n",
    "\n",
    "# Day 25"
   ]
  },
  {
   "cell_type": "code",
   "execution_count": null,
   "id": "2332471d-1639-4434-98f0-c93199839708",
   "metadata": {},
   "outputs": [],
   "source": []
  }
 ],
 "metadata": {
  "kernelspec": {
   "display_name": "Python 3",
   "language": "python",
   "name": "python3"
  },
  "language_info": {
   "codemirror_mode": {
    "name": "ipython",
    "version": 3
   },
   "file_extension": ".py",
   "mimetype": "text/x-python",
   "name": "python",
   "nbconvert_exporter": "python",
   "pygments_lexer": "ipython3",
   "version": "3.8.8"
  }
 },
 "nbformat": 4,
 "nbformat_minor": 5
}
