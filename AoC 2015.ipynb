{
 "cells": [
  {
   "cell_type": "markdown",
   "id": "a30b3ac9-6ac7-449b-8315-02257f6525df",
   "metadata": {},
   "source": [
    "# Advent of Code 2015\n",
    "\n",
    "___\n",
    "\n",
    "[**Day 1**](#day1) &nbsp; &nbsp; &nbsp; [**Day 2**](#day2) &nbsp; &nbsp; &nbsp; [**Day 3**](#day3) &nbsp; &nbsp; &nbsp; [**Day 4**](#day4) &nbsp; &nbsp; &nbsp; [**Day 5**](#day5)\n",
    "\n",
    "[**Day 6**](#day6) &nbsp; &nbsp; &nbsp; [**Day 7**](#day7) &nbsp; &nbsp; &nbsp; [**Day 8**](#day8) &nbsp; &nbsp; &nbsp; [**Day 9**](#day9) &nbsp; &nbsp; &nbsp; [**Day 10**](#day10)\n",
    "\n",
    "[**Day 11**](#day11) &nbsp; &nbsp; [**Day 12**](#day12) &nbsp; &nbsp; [**Day 13**](#day13) &nbsp; &nbsp; [**Day 14**](#day14) &nbsp; &nbsp; [**Day 15**](#day15)\n",
    "\n",
    "[**Day 16**](#day16) &nbsp; &nbsp; [**Day 17**](#day17) &nbsp; &nbsp; [**Day 18**](#day18) &nbsp; &nbsp; [*Day 19*](#day19) &nbsp; &nbsp; [**Day 20**](#day20)\n",
    "\n",
    "[**Day 21**](#day21) &nbsp; &nbsp; [Day 22](#day22) &nbsp; &nbsp; [**Day 23**](#day23) &nbsp; &nbsp; [**Day 24**](#day24) &nbsp; &nbsp; [*Day 25*](#day25)\n",
    "\n",
    "___"
   ]
  },
  {
   "cell_type": "markdown",
   "id": "0ff9e797-5d8a-407a-991e-6d4d435f56a9",
   "metadata": {},
   "source": [
    "<a class=\"anchor\" id=\"day1\"></a>\n",
    "## Day 1\n",
    "\n",
    "Santa's directions in a building are given by '(' and ')' for up and down.\n",
    "\n",
    "##### Part 1\n",
    "Determine Santa's final floor after all directions.\n",
    "\n",
    "##### Part 2\n",
    "Determine the number of the direction on which Santa first enters the basement (floor -1)."
   ]
  },
  {
   "cell_type": "code",
   "execution_count": 1,
   "id": "f0a2fed4-86c8-48cf-99d7-ce11df113cac",
   "metadata": {},
   "outputs": [
    {
     "data": {
      "text/plain": [
       "'(((())))()'"
      ]
     },
     "execution_count": 1,
     "metadata": {},
     "output_type": "execute_result"
    }
   ],
   "source": [
    "with open('data2015/day1.txt') as f1:\n",
    "    directions = f1.read()\n",
    "    \n",
    "directions[:10]"
   ]
  },
  {
   "cell_type": "markdown",
   "id": "63971406-3d73-4c1d-992e-26cf4764a12a",
   "metadata": {},
   "source": [
    "**Part 1**"
   ]
  },
  {
   "cell_type": "code",
   "execution_count": 2,
   "id": "7f39c0bd-73bc-4a56-aa67-ad00d2c5bbd3",
   "metadata": {},
   "outputs": [
    {
     "data": {
      "text/plain": [
       "232"
      ]
     },
     "execution_count": 2,
     "metadata": {},
     "output_type": "execute_result"
    }
   ],
   "source": [
    "directions.count('(') - directions.count(')')"
   ]
  },
  {
   "cell_type": "markdown",
   "id": "658056e5-72e4-4c1f-b21e-cc8fde87efbe",
   "metadata": {},
   "source": [
    "**Part 2**"
   ]
  },
  {
   "cell_type": "code",
   "execution_count": 3,
   "id": "89a92836-4802-4356-8796-9c59ab4de14f",
   "metadata": {},
   "outputs": [
    {
     "data": {
      "text/plain": [
       "1783"
      ]
     },
     "execution_count": 3,
     "metadata": {},
     "output_type": "execute_result"
    }
   ],
   "source": [
    "position = 0\n",
    "floor = 0\n",
    "while floor >= 0:\n",
    "    floor += 1 if directions[position] == '(' else -1\n",
    "    position += 1\n",
    "position"
   ]
  },
  {
   "cell_type": "markdown",
   "id": "494c1a9b-5d32-4567-84ae-9825625fc96e",
   "metadata": {},
   "source": [
    "<a class=\"anchor\" id=\"day2\"></a>\n",
    "## Day 2\n",
    "\n",
    "Elves are wrapping presents.  Each present takes its surface area in paper plus the smallest side's worth of area for slack.\n",
    "\n",
    "##### Part 1\n",
    "Determine the total area needed for all the presents.\n",
    "\n",
    "##### Part 2\n",
    "Given that the ribbon needed for each package is equal to the smallest perimeter + the volume of the box (in feet). Find the total ribbon needed."
   ]
  },
  {
   "cell_type": "code",
   "execution_count": 4,
   "id": "cf3d7147-394c-4f83-897d-a234cacaf978",
   "metadata": {},
   "outputs": [
    {
     "data": {
      "text/plain": [
       "['21x29x14', '20x29x30', '23x11x5']"
      ]
     },
     "execution_count": 4,
     "metadata": {},
     "output_type": "execute_result"
    }
   ],
   "source": [
    "with open('data2015/day2.txt') as f2:\n",
    "    strdims = [row.strip() for row in f2.readlines()]\n",
    "    \n",
    "strdims[-3:]"
   ]
  },
  {
   "cell_type": "code",
   "execution_count": 5,
   "id": "26a932b7-43cf-4b7c-903b-69d528b2afe2",
   "metadata": {},
   "outputs": [
    {
     "data": {
      "text/plain": [
       "[(4, 23, 21), (22, 29, 19), (11, 4, 11)]"
      ]
     },
     "execution_count": 5,
     "metadata": {},
     "output_type": "execute_result"
    }
   ],
   "source": [
    "dims = [(int(a), int(b), int(c)) for a, b, c in [dim.split('x') for dim in strdims]]\n",
    "dims[:3]"
   ]
  },
  {
   "cell_type": "markdown",
   "id": "c47b1f36-159d-4138-860f-e6dcf95aed3d",
   "metadata": {},
   "source": [
    "**Part 1**"
   ]
  },
  {
   "cell_type": "code",
   "execution_count": 6,
   "id": "450ff54f-bd31-4725-b10a-57d8f6b2d393",
   "metadata": {},
   "outputs": [
    {
     "data": {
      "text/plain": [
       "1598415"
      ]
     },
     "execution_count": 6,
     "metadata": {},
     "output_type": "execute_result"
    }
   ],
   "source": [
    "total_area = 0\n",
    "for a, b, c in dims:\n",
    "    area = 2*a*b + 2*b*c + 2*a*c\n",
    "    small2 = sorted([a, b, c])[:2]\n",
    "    area += small2[0]*small2[1]\n",
    "    total_area += area\n",
    "total_area"
   ]
  },
  {
   "cell_type": "markdown",
   "id": "23a84767-5fa3-4977-b82d-e45da206c728",
   "metadata": {},
   "source": [
    "**Part 2**"
   ]
  },
  {
   "cell_type": "code",
   "execution_count": 7,
   "id": "7c633c49-0a75-4caa-bcc6-d82f645be7a2",
   "metadata": {},
   "outputs": [
    {
     "data": {
      "text/plain": [
       "3812909"
      ]
     },
     "execution_count": 7,
     "metadata": {},
     "output_type": "execute_result"
    }
   ],
   "source": [
    "ribbon = 0\n",
    "for a, b, c in dims:\n",
    "    volume = a*b*c\n",
    "    small2 = sorted([a, b, c])[:2]\n",
    "    ribbon += volume + (2*small2[0] + 2*small2[1])\n",
    "ribbon"
   ]
  },
  {
   "cell_type": "markdown",
   "id": "d83b9b55-9bc7-4205-93f0-6cbfbf4d9a7c",
   "metadata": {},
   "source": [
    "<a class=\"anchor\" id=\"day3\"></a>\n",
    "## Day 3\n",
    "\n",
    "Santa is delivering presents to houses in a grid based on directions given by <>v^.\n",
    "\n",
    "##### Part 1\n",
    "Determine the total number of houses that receive at least 1 present.\n",
    "\n",
    "##### Part 2\n",
    "The instructions are to be shared by Santa (odd instructions) and RoboSanta (even instructions). Determine the total number of houses that receive at least 1 present."
   ]
  },
  {
   "cell_type": "code",
   "execution_count": 8,
   "id": "ff0822be-6bf3-4ef9-9de8-2cfaea5d9b53",
   "metadata": {},
   "outputs": [
    {
     "data": {
      "text/plain": [
       "'^>vv^'"
      ]
     },
     "execution_count": 8,
     "metadata": {},
     "output_type": "execute_result"
    }
   ],
   "source": [
    "with open('data2015/day3.txt') as f3:\n",
    "    directions = f3.read()\n",
    "    \n",
    "directions[-5:]"
   ]
  },
  {
   "cell_type": "code",
   "execution_count": 9,
   "id": "3b566dd4",
   "metadata": {},
   "outputs": [],
   "source": [
    "move_dict = {'^': (0, 1), 'v': (0, -1), '>': (1, 0), '<': (-1, 0)}"
   ]
  },
  {
   "cell_type": "markdown",
   "id": "304f343e-6a5d-4aa5-807c-ea6bcfaec28b",
   "metadata": {},
   "source": [
    "**Part 1**"
   ]
  },
  {
   "cell_type": "code",
   "execution_count": 10,
   "id": "53c5f5a3-13d7-4bc6-89d0-d20deb4a6e03",
   "metadata": {},
   "outputs": [
    {
     "data": {
      "text/plain": [
       "2081"
      ]
     },
     "execution_count": 10,
     "metadata": {},
     "output_type": "execute_result"
    }
   ],
   "source": [
    "x, y = 0, 0\n",
    "houses_visited = [(0, 0)]\n",
    "for direction in directions:\n",
    "    dx, dy = move_dict[direction]\n",
    "    x, y = x + dx, y + dy\n",
    "    if (x, y) not in houses_visited:\n",
    "        houses_visited.append((x, y))\n",
    "\n",
    "len(houses_visited)"
   ]
  },
  {
   "cell_type": "markdown",
   "id": "c6020711-ff65-4917-b37b-660631a1a210",
   "metadata": {},
   "source": [
    "**Part 2**"
   ]
  },
  {
   "cell_type": "code",
   "execution_count": 11,
   "id": "79d90471-adc8-48ab-a76a-63ee92e9ce9b",
   "metadata": {},
   "outputs": [
    {
     "data": {
      "text/plain": [
       "2341"
      ]
     },
     "execution_count": 11,
     "metadata": {},
     "output_type": "execute_result"
    }
   ],
   "source": [
    "xs, ys, xr, yr = 0, 0, 0, 0\n",
    "houses_visited = [(0, 0)]\n",
    "for i, direction in enumerate(directions):\n",
    "    dx, dy = move_dict[direction]\n",
    "    if i%2:\n",
    "        xs, ys = xs + dx, ys + dy\n",
    "        if (xs, ys) not in houses_visited:\n",
    "            houses_visited.append((xs, ys))\n",
    "    else:\n",
    "        xr, yr = xr + dx, yr + dy\n",
    "        if (xr, yr) not in houses_visited:\n",
    "            houses_visited.append((xr, yr))\n",
    "            \n",
    "len(houses_visited)"
   ]
  },
  {
   "cell_type": "markdown",
   "id": "2715e6ca",
   "metadata": {},
   "source": [
    "<a class=\"anchor\" id=\"day4\"></a>\n",
    "## Day 4\n",
    "\n",
    "##### Part 1\n",
    "Using the puzzle input, find the smallest integer we can append to the input such that the string has an MD5 hash that starts with five 0's.\n",
    "\n",
    "##### Part 2\n",
    "Same as part 1, but six 0's."
   ]
  },
  {
   "cell_type": "code",
   "execution_count": 12,
   "id": "72a53978",
   "metadata": {},
   "outputs": [
    {
     "data": {
      "text/plain": [
       "'900150983cd24fb0d6963f7d28e17f72'"
      ]
     },
     "execution_count": 12,
     "metadata": {},
     "output_type": "execute_result"
    }
   ],
   "source": [
    "import hashlib\n",
    "\n",
    "# example\n",
    "hashlib.md5('abc'.encode('utf-8')).hexdigest()"
   ]
  },
  {
   "cell_type": "markdown",
   "id": "ef33a351-4a19-4b44-af8e-61c6f228e576",
   "metadata": {},
   "source": [
    "**Part 1**"
   ]
  },
  {
   "cell_type": "code",
   "execution_count": 13,
   "id": "ed779e80-6a58-4d00-b563-9a783b602bbd",
   "metadata": {},
   "outputs": [
    {
     "name": "stdout",
     "output_type": "stream",
     "text": [
      "000004b30d481662b9cb0c105f6549b2\n"
     ]
    },
    {
     "data": {
      "text/plain": [
       "254575"
      ]
     },
     "execution_count": 13,
     "metadata": {},
     "output_type": "execute_result"
    }
   ],
   "source": [
    "day4input = 'bgvyzdsv'\n",
    "i = 0\n",
    "while True:\n",
    "    i += 1\n",
    "    to_check = day4input + str(i)\n",
    "    if hashlib.md5(to_check.encode('utf-8')).hexdigest()[:5] == '00000':\n",
    "        print(hashlib.md5(to_check.encode('utf-8')).hexdigest())\n",
    "        break\n",
    "\n",
    "i"
   ]
  },
  {
   "cell_type": "markdown",
   "id": "00f6b395-5394-4e00-8f25-1cf84a157fd2",
   "metadata": {},
   "source": [
    "**Part 2**"
   ]
  },
  {
   "cell_type": "code",
   "execution_count": 14,
   "id": "14dd2a06-d4af-42ca-9431-b905f987ce91",
   "metadata": {},
   "outputs": [
    {
     "name": "stdout",
     "output_type": "stream",
     "text": [
      "000000b1b64bf5eb55aad89986126953\n"
     ]
    },
    {
     "data": {
      "text/plain": [
       "1038736"
      ]
     },
     "execution_count": 14,
     "metadata": {},
     "output_type": "execute_result"
    }
   ],
   "source": [
    "day4input = 'bgvyzdsv'\n",
    "i = 0\n",
    "while True:\n",
    "    i += 1\n",
    "    to_check = day4input + str(i)\n",
    "    if hashlib.md5(to_check.encode('utf-8')).hexdigest()[:6] == '000000':\n",
    "        print(hashlib.md5(to_check.encode('utf-8')).hexdigest())\n",
    "        break\n",
    "\n",
    "i"
   ]
  },
  {
   "cell_type": "markdown",
   "id": "b0799a7b",
   "metadata": {},
   "source": [
    "<a class=\"anchor\" id=\"day5\"></a>\n",
    "## Day 5\n",
    "\n",
    "##### Part 1\n",
    "A \"nice\" string is one that has the following properties:\n",
    "1. At least three vowels\n",
    "2. At least one letter twice in a row\n",
    "3. Does not contain any of: 'ab', 'cd', 'pq', 'xy'\n",
    "\n",
    "How many nice strings?\n",
    "\n",
    "##### Part 2\n",
    "Now, a \"nice\" string has the following properties:\n",
    "1. Contains any two letters that appear at least twice without overlapping; 'xyaxy' but not 'aaa'\n",
    "2. At least one letter with repeated with exactly one letter between them; 'xyx' or 'aaa'"
   ]
  },
  {
   "cell_type": "code",
   "execution_count": 15,
   "id": "47499dcd",
   "metadata": {},
   "outputs": [
    {
     "data": {
      "text/plain": [
       "['mfifrjamczjncuym', 'otmgvsykuuxrluky', 'oiuroieurpyejuvm']"
      ]
     },
     "execution_count": 15,
     "metadata": {},
     "output_type": "execute_result"
    }
   ],
   "source": [
    "with open('data2015/day5.txt') as f5:\n",
    "    strings = [row.strip() for row in f5.readlines()]\n",
    "\n",
    "strings[-3:]"
   ]
  },
  {
   "cell_type": "code",
   "execution_count": 16,
   "id": "a729b5fb",
   "metadata": {},
   "outputs": [],
   "source": [
    "def is_nice1(string):\n",
    "    # at least three vowels\n",
    "    vowels = 'aeiou'\n",
    "    cond1 = sum([string.count(v) for v in vowels]) >= 3\n",
    "    \n",
    "    # use pairs list for cond2 and cond3\n",
    "    pairs = [string[i:i+2] for i in range(len(string)-1)]\n",
    "    cond2 = any([pair[0] == pair[1] for pair in pairs])\n",
    "    \n",
    "    bad = ['ab', 'cd', 'pq', 'xy']\n",
    "    cond3 = any([b == p for b in bad for p in pairs])\n",
    "    \n",
    "    return cond1 and cond2 and not cond3\n"
   ]
  },
  {
   "cell_type": "code",
   "execution_count": 17,
   "id": "ec5edfe3",
   "metadata": {},
   "outputs": [
    {
     "name": "stdout",
     "output_type": "stream",
     "text": [
      "True\n",
      "True\n",
      "False\n",
      "False\n",
      "False\n"
     ]
    }
   ],
   "source": [
    "tests1 = ['ugknbfddgicrmopn',  # nice\n",
    "         'aaa',               # nice\n",
    "         'jchzalrnumimnmhp',  # naughty - no double\n",
    "         'haegwjzuvuyypxyu',  # naughty - has xy\n",
    "         'dvszwmarrgswjxmb']  # naughty - one vowel\n",
    "\n",
    "for test in tests1:\n",
    "    print(is_nice1(test))"
   ]
  },
  {
   "cell_type": "code",
   "execution_count": 18,
   "id": "6290cb26",
   "metadata": {},
   "outputs": [
    {
     "data": {
      "text/plain": [
       "258"
      ]
     },
     "execution_count": 18,
     "metadata": {},
     "output_type": "execute_result"
    }
   ],
   "source": [
    "part1 = sum([is_nice1(string) for string in strings])\n",
    "part1"
   ]
  },
  {
   "cell_type": "code",
   "execution_count": 19,
   "id": "c639a5e4",
   "metadata": {},
   "outputs": [
    {
     "data": {
      "text/plain": [
       "False"
      ]
     },
     "execution_count": 19,
     "metadata": {},
     "output_type": "execute_result"
    }
   ],
   "source": [
    "def is_nice2(string):\n",
    "    pairs = [string[i:i+2] for i in range(len(string)-1)]\n",
    "    cond1 = False\n",
    "    for i, p1 in enumerate(pairs[:-1]):\n",
    "        for j, p2 in enumerate(pairs[i+2:]):\n",
    "            if p1 == p2:\n",
    "                cond1 = True\n",
    "    cond2 = any([string[i] == string[i+2] for i in range(len(string)-2)])\n",
    "    return cond1 and cond2\n",
    "\n",
    "is_nice2(tests1[0])"
   ]
  },
  {
   "cell_type": "code",
   "execution_count": 20,
   "id": "15dc2c74",
   "metadata": {},
   "outputs": [
    {
     "name": "stdout",
     "output_type": "stream",
     "text": [
      "True\n",
      "True\n",
      "False\n",
      "False\n"
     ]
    }
   ],
   "source": [
    "tests2 = ['qjhvhtzxzqqjkmpb',  # nice \n",
    "          'xxyxx',             # nice\n",
    "          'uurcxstgmygtbstg',  # naughty\n",
    "          'ieodomkazucvgmuy']  # naughty\n",
    "\n",
    "for test in tests2:\n",
    "    print(is_nice2(test))"
   ]
  },
  {
   "cell_type": "code",
   "execution_count": 21,
   "id": "382389f6",
   "metadata": {},
   "outputs": [
    {
     "data": {
      "text/plain": [
       "53"
      ]
     },
     "execution_count": 21,
     "metadata": {},
     "output_type": "execute_result"
    }
   ],
   "source": [
    "part2 = sum([is_nice2(string) for string in strings])\n",
    "part2"
   ]
  },
  {
   "cell_type": "markdown",
   "id": "ebd4a496",
   "metadata": {},
   "source": [
    "<a class=\"anchor\" id=\"day6\"></a>\n",
    "## Day 6\n",
    "\n",
    "The million-light display.\n",
    "\n",
    "##### Part 1\n",
    "All lights begin off.  Following all of Santa's instructions, what is the final number of lights that are on?\n",
    "\n",
    "##### Part 2\n",
    "Instead, start with all lights at a brightness of 0. Interpret 'turn on' to mean increase brightness by 1, 'turn off' to mean decrease by 1 to a min of 0, and 'toggle' to mean increase brightness by 2. Determine the sum of all brightnesses at the end."
   ]
  },
  {
   "cell_type": "code",
   "execution_count": 22,
   "id": "491a9086",
   "metadata": {},
   "outputs": [
    {
     "data": {
      "text/plain": [
       "['toggle 534,948 through 599,968',\n",
       " 'turn on 522,730 through 968,950',\n",
       " 'turn off 102,229 through 674,529']"
      ]
     },
     "execution_count": 22,
     "metadata": {},
     "output_type": "execute_result"
    }
   ],
   "source": [
    "import numpy as np\n",
    "\n",
    "with open('data2015/day6.txt') as f6:\n",
    "    instructions = [row.strip() for row in f6.readlines()]\n",
    "    \n",
    "instructions[-3:]"
   ]
  },
  {
   "cell_type": "code",
   "execution_count": 23,
   "id": "a6dba053",
   "metadata": {},
   "outputs": [
    {
     "data": {
      "text/plain": [
       "[['on', 887, 9, 959, 629],\n",
       " ['on', 454, 398, 844, 448],\n",
       " ['off', 539, 243, 559, 965],\n",
       " ['off', 370, 819, 676, 868],\n",
       " ['off', 145, 40, 370, 997],\n",
       " ['off', 301, 3, 808, 453],\n",
       " ['on', 351, 678, 951, 908],\n",
       " ['toggle', 720, 196, 897, 994]]"
      ]
     },
     "execution_count": 23,
     "metadata": {},
     "output_type": "execute_result"
    }
   ],
   "source": [
    "clean_insts = []\n",
    "for inst in instructions:\n",
    "    ci = inst.split(' ')\n",
    "    ci.remove('through')\n",
    "    if 'turn' in ci:\n",
    "        ci.remove('turn')\n",
    "    ci = ci[:1] + [int(x) for x in ci[1].split(',')] + [int(x) for x in ci[2].split(',')] \n",
    "    clean_insts.append(ci)\n",
    "clean_insts[:8]"
   ]
  },
  {
   "cell_type": "code",
   "execution_count": 24,
   "id": "0b762343",
   "metadata": {},
   "outputs": [
    {
     "data": {
      "text/plain": [
       "377891"
      ]
     },
     "execution_count": 24,
     "metadata": {},
     "output_type": "execute_result"
    }
   ],
   "source": [
    "lights1 = np.ones(shape=(1000, 1000))*(-1)\n",
    "for ci in clean_insts:\n",
    "    s, x0, y0, x1, y1 = ci\n",
    "    if s == 'on':\n",
    "        lights1[x0:x1+1, y0:y1+1] = 1\n",
    "    elif s == 'off':\n",
    "        lights1[x0:x1+1, y0:y1+1] = -1\n",
    "    elif s == 'toggle':\n",
    "        lights1[x0:x1+1, y0:y1+1] *= -1\n",
    "\n",
    "part1 = sum(sum(lights1 == 1))\n",
    "part1"
   ]
  },
  {
   "cell_type": "code",
   "execution_count": 25,
   "id": "249575c5",
   "metadata": {},
   "outputs": [
    {
     "data": {
      "text/plain": [
       "14110788.0"
      ]
     },
     "execution_count": 25,
     "metadata": {},
     "output_type": "execute_result"
    }
   ],
   "source": [
    "lights2 = np.zeros(shape=(1000, 1000))\n",
    "for ci in clean_insts:\n",
    "    s, x0, y0, x1, y1 = ci\n",
    "    if s == 'on':\n",
    "        lights2[x0:x1+1, y0:y1+1] += 1\n",
    "    elif s == 'off':\n",
    "        lights2[x0:x1+1, y0:y1+1] -= 1\n",
    "        lights2 = np.where(lights2 < 0, 0, lights2)\n",
    "    elif s == 'toggle':\n",
    "        lights2[x0:x1+1, y0:y1+1] += 2\n",
    "\n",
    "part2 = sum(sum(lights2))\n",
    "part2"
   ]
  },
  {
   "cell_type": "markdown",
   "id": "5e2baf5f",
   "metadata": {},
   "source": [
    "<a class=\"anchor\" id=\"day7\"></a>\n",
    "## Day 7\n",
    "\n",
    "Bitwise operators with circuits.\n",
    "\n",
    "##### Part 1\n",
    "After following all of the instructions, what is the signal provided to wire 'a'?\n",
    "\n",
    "##### Part 2\n",
    "Now override the signal into wire 'b' as the signal going to 'a' from Part 1.  Doing this (and knowing that each wire can only receive one signal, and 'b' is now already receiving a signal), reassemble the circuits and re-determine the signal going to 'a'."
   ]
  },
  {
   "cell_type": "code",
   "execution_count": 26,
   "id": "8bf14eb8",
   "metadata": {},
   "outputs": [],
   "source": [
    "sample = '''123 -> x\n",
    "456 -> y\n",
    "x AND y -> d\n",
    "x OR y -> e\n",
    "x LSHIFT 2 -> f\n",
    "y RSHIFT 2 -> g\n",
    "NOT x -> h\n",
    "NOT y -> i'''"
   ]
  },
  {
   "cell_type": "code",
   "execution_count": 27,
   "id": "e16542d1",
   "metadata": {},
   "outputs": [
    {
     "data": {
      "text/plain": [
       "['NOT h -> i', 'NOT hn -> ho', 'he RSHIFT 5 -> hh']"
      ]
     },
     "execution_count": 27,
     "metadata": {},
     "output_type": "execute_result"
    }
   ],
   "source": [
    "with open('data2015/day7.txt') as f7:\n",
    "    circuits = [row.strip() for row in f7.readlines()]\n",
    "\n",
    "circuits[-3:]"
   ]
  },
  {
   "cell_type": "code",
   "execution_count": 28,
   "id": "274b432f",
   "metadata": {},
   "outputs": [],
   "source": [
    "def get_signal(wire, circuits, signals):\n",
    "    \n",
    "    while len(circuits) > 0:\n",
    "        idx_to_remove = []\n",
    "        for i, row in enumerate(circuits):\n",
    "            row = row.split(' ')\n",
    "            arrow_ind = row.index('->')\n",
    "            if arrow_ind == 1:\n",
    "                # this \"if row[-1]\"statement is the key to part 2 - the problem is sort of vague about the \"override to b\",\n",
    "                #  thing but it really means that b can't get set to anything else because it is already receiving a signal,\n",
    "                #  so we need to skip the 'b -> (some num)' statement that is encountered or else we just end up with the\n",
    "                #  exact same signals as in part 1\n",
    "                if row[-1] in signals:\n",
    "                    idx_to_remove.append(i)\n",
    "                    continue\n",
    "                # sometimes get things like 3 -> x, other times things like y -> x\n",
    "                if row[0][0] in '0123456789':\n",
    "                    signals[row[-1]] = int(row[0])\n",
    "                    idx_to_remove.append(i)\n",
    "                else:\n",
    "                    if row[0] in signals:\n",
    "                        signals[row[-1]] = signals[row[0]]\n",
    "                        idx_to_remove.append(i)\n",
    "            elif arrow_ind == 2:\n",
    "                if row[1] in signals:\n",
    "                    signals[row[-1]] = (~signals[row[1]]) % 65536\n",
    "                    idx_to_remove.append(i)\n",
    "            elif arrow_ind == 3:\n",
    "                # sometimes AND statements have a number: 1 and x -> y\n",
    "                if row[1] == 'AND':\n",
    "                    if (row[0][0] in '0123456789') and (row[2] in signals):\n",
    "                        signals[row[-1]] = int(row[0]) & signals[row[2]]\n",
    "                        idx_to_remove.append(i)\n",
    "                    else:\n",
    "                        if row[0] in signals and row[2] in signals:\n",
    "                            signals[row[-1]] = signals[row[0]] & signals[row[2]]\n",
    "                            idx_to_remove.append(i)\n",
    "                elif row[1] == 'OR':\n",
    "                    if row[0] in signals and row[2] in signals:\n",
    "                        signals[row[-1]] = signals[row[0]] | signals[row[2]]\n",
    "                        idx_to_remove.append(i)\n",
    "                elif row[1] == 'LSHIFT':\n",
    "                    if row[0] in signals:\n",
    "                        signals[row[-1]] = signals[row[0]] << int(row[2])\n",
    "                        idx_to_remove.append(i)\n",
    "                elif row[1] == 'RSHIFT':\n",
    "                    if row[0] in signals:\n",
    "                        signals[row[-1]] = signals[row[0]] >> int(row[2])\n",
    "                        idx_to_remove.append(i)\n",
    "        circuits = [circuits[i] for i in range(len(circuits)) if i not in idx_to_remove]\n",
    "\n",
    "    return signals[wire]"
   ]
  },
  {
   "cell_type": "code",
   "execution_count": 29,
   "id": "e5786be2",
   "metadata": {},
   "outputs": [
    {
     "data": {
      "text/plain": [
       "65412"
      ]
     },
     "execution_count": 29,
     "metadata": {},
     "output_type": "execute_result"
    }
   ],
   "source": [
    "get_signal('h', sample.split('\\n'), dict())"
   ]
  },
  {
   "cell_type": "code",
   "execution_count": 30,
   "id": "880a15bd",
   "metadata": {},
   "outputs": [
    {
     "data": {
      "text/plain": [
       "16076"
      ]
     },
     "execution_count": 30,
     "metadata": {},
     "output_type": "execute_result"
    }
   ],
   "source": [
    "part1 = get_signal('a', circuits, dict())\n",
    "part1"
   ]
  },
  {
   "cell_type": "code",
   "execution_count": 31,
   "id": "e3aee725",
   "metadata": {},
   "outputs": [
    {
     "data": {
      "text/plain": [
       "2797"
      ]
     },
     "execution_count": 31,
     "metadata": {},
     "output_type": "execute_result"
    }
   ],
   "source": [
    "part2 = get_signal('a', circuits, {'b': part1})\n",
    "part2"
   ]
  },
  {
   "cell_type": "markdown",
   "id": "83a4bec7",
   "metadata": {},
   "source": [
    "<a class=\"anchor\" id=\"day8\"></a>\n",
    "## Day 8\n",
    "\n",
    "Comparing difference in length of string literals (how many actual characters typed) vs in-memory code size.\n",
    "\n",
    "##### Part 1\n",
    "What is the difference between the number of characters of code for string literals minus the number of characters in memory for the values of strings?\n",
    "\n",
    "##### Part 2\n",
    "Now, encode each string as a new string, such as \"\" -> \"\\\"\\\"\".  Then, again find the sum of the differences between the newly encoded string and the number of characters in the original."
   ]
  },
  {
   "cell_type": "markdown",
   "id": "bfcf877c",
   "metadata": {},
   "source": [
    "Samples:\n",
    "    \n",
    "    sample1 = ''           # 2  -  0 = 2\n",
    "    sample2 = 'abc'        # 5  -  3 = 2\n",
    "    sample3 = 'aaa\\'aaa'   # 10 -  7 = 3\n",
    "    sample4 = '\\x27'       # 6  -  1 = 5 (represents an apostrophe)\n",
    "                           #  total  = 12"
   ]
  },
  {
   "cell_type": "code",
   "execution_count": 32,
   "id": "c20b2d4a",
   "metadata": {},
   "outputs": [],
   "source": [
    "with open('data2015/day8.txt') as f8:\n",
    "    strings = f8.read()\n",
    "\n",
    "# chop off trailing newline\n",
    "strings = strings[:-1]"
   ]
  },
  {
   "cell_type": "code",
   "execution_count": 33,
   "id": "68825b55",
   "metadata": {
    "scrolled": true
   },
   "outputs": [
    {
     "data": {
      "text/plain": [
       "1333"
      ]
     },
     "execution_count": 33,
     "metadata": {},
     "output_type": "execute_result"
    }
   ],
   "source": [
    "part1 = 0\n",
    "for string in strings.split('\\n'):\n",
    "    part1 += len(string) - len(eval(string))\n",
    "\n",
    "part1"
   ]
  },
  {
   "cell_type": "code",
   "execution_count": 34,
   "id": "4b3a19cc",
   "metadata": {},
   "outputs": [
    {
     "data": {
      "text/plain": [
       "2046"
      ]
     },
     "execution_count": 34,
     "metadata": {},
     "output_type": "execute_result"
    }
   ],
   "source": [
    "part2 = 0\n",
    "for string in strings.split('\\n'):\n",
    "    part2 += string.count('\\\\') + string.count('\"') + 2\n",
    "part2"
   ]
  },
  {
   "cell_type": "markdown",
   "id": "53539ed2",
   "metadata": {},
   "source": [
    "<a class=\"anchor\" id=\"day9\"></a>\n",
    "## Day 9\n",
    "\n",
    "Finding shortest path between different cities.\n",
    "\n",
    "##### Part 1\n",
    "Find the shortest path that visits every location exactly once.\n",
    "\n",
    "##### Part 2\n",
    "Find the longest path that visits every location exactly once."
   ]
  },
  {
   "cell_type": "code",
   "execution_count": 35,
   "id": "bf1b8dc8",
   "metadata": {},
   "outputs": [],
   "source": [
    "sample = '''London to Dublin = 464\n",
    "London to Belfast = 518\n",
    "Dublin to Belfast = 141'''"
   ]
  },
  {
   "cell_type": "code",
   "execution_count": 36,
   "id": "2bcda156",
   "metadata": {},
   "outputs": [
    {
     "data": {
      "text/plain": [
       "({('London', 'Dublin'): 464,\n",
       "  ('Dublin', 'London'): 464,\n",
       "  ('London', 'Belfast'): 518,\n",
       "  ('Belfast', 'London'): 518,\n",
       "  ('Dublin', 'Belfast'): 141,\n",
       "  ('Belfast', 'Dublin'): 141},\n",
       " ['London', 'Dublin', 'Belfast'])"
      ]
     },
     "execution_count": 36,
     "metadata": {},
     "output_type": "execute_result"
    }
   ],
   "source": [
    "def get_travel_dict_and_locations(text):\n",
    "    travel_dict = dict()\n",
    "    locations = []\n",
    "    rows = text.split('\\n')\n",
    "    if rows[-1] == '':\n",
    "        rows = rows[:-1]\n",
    "    for row in rows:\n",
    "        row = row.split(' ')\n",
    "        if row[0] not in locations:\n",
    "            locations.append(row[0])\n",
    "        if row[2] not in locations:\n",
    "            locations.append(row[2])\n",
    "        travel_dict[(row[0], row[2])] = int(row[-1])\n",
    "        travel_dict[(row[2], row[0])] = int(row[-1])\n",
    "\n",
    "    return travel_dict, locations\n",
    "\n",
    "get_travel_dict_and_locations(sample)"
   ]
  },
  {
   "cell_type": "code",
   "execution_count": 37,
   "id": "307e4eae",
   "metadata": {},
   "outputs": [],
   "source": [
    "import itertools\n",
    "\n",
    "# this function works for parts 1 and 2; which can take on either 'shortest' or 'longest'\n",
    "def get_best_route(travel_dict, locations, which='shortest'):\n",
    "    routes = list(itertools.permutations(locations))\n",
    "    best_route = ()\n",
    "    best_length = 100000000 if which == 'shortest' else 0\n",
    "    for route in routes:\n",
    "        route_length = 0\n",
    "        for i in range(len(route)-1):\n",
    "            route_length += travel_dict[(route[i], route[i+1])]\n",
    "        if which == 'shortest':\n",
    "            if route_length < best_length:\n",
    "                best_route = route\n",
    "                best_length = route_length\n",
    "        elif which == 'longest':\n",
    "            if route_length > best_length:\n",
    "                best_route = route\n",
    "                best_length = route_length\n",
    "    return best_route, best_length"
   ]
  },
  {
   "cell_type": "code",
   "execution_count": 38,
   "id": "570436d3",
   "metadata": {},
   "outputs": [
    {
     "data": {
      "text/plain": [
       "(('London', 'Dublin', 'Belfast'), 605)"
      ]
     },
     "execution_count": 38,
     "metadata": {},
     "output_type": "execute_result"
    }
   ],
   "source": [
    "travel_dict, locations = get_travel_dict_and_locations(sample)\n",
    "best_route, best_length = get_best_route(travel_dict, locations, which='shortest')\n",
    "best_route, best_length"
   ]
  },
  {
   "cell_type": "code",
   "execution_count": 39,
   "id": "b4065bd6",
   "metadata": {},
   "outputs": [],
   "source": [
    "with open('data2015/day9.txt') as f9:\n",
    "    distances = f9.read()\n",
    "    \n",
    "travel_dict, locations = get_travel_dict_and_locations(distances)"
   ]
  },
  {
   "cell_type": "code",
   "execution_count": 40,
   "id": "f9d97c80",
   "metadata": {},
   "outputs": [
    {
     "data": {
      "text/plain": [
       "(('Tambi',\n",
       "  'Arbre',\n",
       "  'Snowdin',\n",
       "  'AlphaCentauri',\n",
       "  'Tristram',\n",
       "  'Straylight',\n",
       "  'Faerun',\n",
       "  'Norrath'),\n",
       " 251)"
      ]
     },
     "execution_count": 40,
     "metadata": {},
     "output_type": "execute_result"
    }
   ],
   "source": [
    "# Part 1\n",
    "best_route, best_length = get_best_route(travel_dict, locations, which='shortest')\n",
    "best_route, best_length"
   ]
  },
  {
   "cell_type": "code",
   "execution_count": 41,
   "id": "95bfc990",
   "metadata": {},
   "outputs": [
    {
     "data": {
      "text/plain": [
       "(('Tristram',\n",
       "  'Faerun',\n",
       "  'Arbre',\n",
       "  'Straylight',\n",
       "  'AlphaCentauri',\n",
       "  'Norrath',\n",
       "  'Tambi',\n",
       "  'Snowdin'),\n",
       " 898)"
      ]
     },
     "execution_count": 41,
     "metadata": {},
     "output_type": "execute_result"
    }
   ],
   "source": [
    "# Part 2\n",
    "best_route, best_length = get_best_route(travel_dict, locations, which='longest')\n",
    "best_route, best_length"
   ]
  },
  {
   "cell_type": "markdown",
   "id": "9a1bee17",
   "metadata": {},
   "source": [
    "<a class=\"anchor\" id=\"day10\"></a>\n",
    "## Day 10\n",
    "\n",
    "Look and say sequence\n",
    "\n",
    "##### Part 1\n",
    "Apply the look and say process to the given input 40 times. What is the length of the result?\n",
    "\n",
    "##### Part 2\n",
    "Apply the look and say process to the given input 50 times. What is the length of the result?"
   ]
  },
  {
   "cell_type": "code",
   "execution_count": 42,
   "id": "92cc23c8",
   "metadata": {},
   "outputs": [
    {
     "data": {
      "text/plain": [
       "'132123222113'"
      ]
     },
     "execution_count": 42,
     "metadata": {},
     "output_type": "execute_result"
    }
   ],
   "source": [
    "day10 = '3113322113'\n",
    "\n",
    "def dolooknsay(nums):\n",
    "    newstr = ''\n",
    "    i = 0\n",
    "    while i < len(nums):\n",
    "        current = nums[i]\n",
    "        j = 1\n",
    "        if i + j >= len(nums):\n",
    "            newstr += '1' + current\n",
    "            break\n",
    "        while nums[i + j] == current:\n",
    "            j += 1\n",
    "        newstr += str(j) + current\n",
    "        i += j\n",
    "    return newstr\n",
    "dolooknsay(day10)"
   ]
  },
  {
   "cell_type": "code",
   "execution_count": 43,
   "id": "33fa914c",
   "metadata": {},
   "outputs": [
    {
     "data": {
      "text/plain": [
       "329356"
      ]
     },
     "execution_count": 43,
     "metadata": {},
     "output_type": "execute_result"
    }
   ],
   "source": [
    "nums = day10[:]\n",
    "for i in range(40):\n",
    "    nums = dolooknsay(nums)\n",
    "part1 = len(nums)\n",
    "part1"
   ]
  },
  {
   "cell_type": "code",
   "execution_count": 44,
   "id": "06201800",
   "metadata": {},
   "outputs": [
    {
     "data": {
      "text/plain": [
       "4666278"
      ]
     },
     "execution_count": 44,
     "metadata": {},
     "output_type": "execute_result"
    }
   ],
   "source": [
    "nums = day10[:]\n",
    "for i in range(50):\n",
    "    nums = dolooknsay(nums)\n",
    "part2 = len(nums)\n",
    "part2"
   ]
  },
  {
   "cell_type": "markdown",
   "id": "ed3b8511",
   "metadata": {},
   "source": [
    "<a class=\"anchor\" id=\"day11\"></a>\n",
    "## Day 11\n",
    "\n",
    "Password policies.  All passwords are 8 lowercase letters.  \n",
    "\n",
    "##### Part 1\n",
    "The rules are:\n",
    "1. password must contain one increasing straight of at at least three letters, like 'abc' or 'hijk'\n",
    "2. password can't contain letters i, o, or l.\n",
    "3. password must contain two non-overlapping pairs of letters, like 'aabb', 'axxbyy', but not 'axxaxx' or 'bbb'.\n",
    "Given Santa's current password (puzzle input), determine the next valid password alphabetically (from aax, check aay, aaz, aba, ...)"
   ]
  },
  {
   "cell_type": "code",
   "execution_count": 45,
   "id": "6aa28eaa",
   "metadata": {},
   "outputs": [],
   "source": [
    "alphabet = 'abcdefghijklmnopqrstuvwxyz'\n",
    "day11 = 'cqjxjnds'"
   ]
  },
  {
   "cell_type": "code",
   "execution_count": 46,
   "id": "3d4516b5",
   "metadata": {},
   "outputs": [
    {
     "data": {
      "text/plain": [
       "True"
      ]
     },
     "execution_count": 46,
     "metadata": {},
     "output_type": "execute_result"
    }
   ],
   "source": [
    "def condition1(pw):\n",
    "    for i in range(6):\n",
    "        if pw[i:i+3] in alphabet:\n",
    "            return True\n",
    "    return False\n",
    "\n",
    "condition1('amvrstyw')"
   ]
  },
  {
   "cell_type": "code",
   "execution_count": 47,
   "id": "12832566",
   "metadata": {},
   "outputs": [
    {
     "data": {
      "text/plain": [
       "False"
      ]
     },
     "execution_count": 47,
     "metadata": {},
     "output_type": "execute_result"
    }
   ],
   "source": [
    "def condition2(pw):\n",
    "    return not any([bad in pw for bad in ['i', 'o', 'l']])\n",
    "\n",
    "condition2('akjhorer')"
   ]
  },
  {
   "cell_type": "code",
   "execution_count": 48,
   "id": "66a90db2",
   "metadata": {},
   "outputs": [],
   "source": [
    "def condition3(pw):\n",
    "    pairs_found = 0\n",
    "    i = 0\n",
    "    while pairs_found < 2 and i < 7:\n",
    "        if pw[i] == pw[i+1]:\n",
    "            pairs_found += 1\n",
    "            i += 2\n",
    "        else:\n",
    "            i += 1\n",
    "    return pairs_found == 2"
   ]
  },
  {
   "cell_type": "code",
   "execution_count": 49,
   "id": "9f084097",
   "metadata": {},
   "outputs": [
    {
     "data": {
      "text/plain": [
       "'abzzuaaa'"
      ]
     },
     "execution_count": 49,
     "metadata": {},
     "output_type": "execute_result"
    }
   ],
   "source": [
    "def get_next_pw(pw):\n",
    "    for i in range(7, -1, -1):\n",
    "        if pw[i] != 'z':\n",
    "            return pw[:i] + alphabet[alphabet.index(pw[i]) + 1] + 'a'*(7-i)\n",
    "    \n",
    "get_next_pw('abzztzzz')"
   ]
  },
  {
   "cell_type": "code",
   "execution_count": 50,
   "id": "655e5eaa",
   "metadata": {},
   "outputs": [],
   "source": [
    "def get_next_good_pw(curr_pw):\n",
    "    pw = get_next_pw(curr_pw)\n",
    "    while True:\n",
    "        if all([condition1(pw), condition2(pw), condition3(pw)]):\n",
    "            break\n",
    "        else:\n",
    "            pw = get_next_pw(pw)\n",
    "    return pw"
   ]
  },
  {
   "cell_type": "code",
   "execution_count": 51,
   "id": "104b0e6d",
   "metadata": {},
   "outputs": [
    {
     "data": {
      "text/plain": [
       "'cqjxxyzz'"
      ]
     },
     "execution_count": 51,
     "metadata": {},
     "output_type": "execute_result"
    }
   ],
   "source": [
    "part1 = get_next_good_pw(day11)\n",
    "part1"
   ]
  },
  {
   "cell_type": "code",
   "execution_count": 52,
   "id": "5668e394",
   "metadata": {},
   "outputs": [
    {
     "data": {
      "text/plain": [
       "'cqkaabcc'"
      ]
     },
     "execution_count": 52,
     "metadata": {},
     "output_type": "execute_result"
    }
   ],
   "source": [
    "part2 = get_next_good_pw(part1)\n",
    "part2"
   ]
  },
  {
   "cell_type": "markdown",
   "id": "07d991aa",
   "metadata": {},
   "source": [
    "<a class=\"anchor\" id=\"day12\"></a>\n",
    "## Day 12 \n",
    "\n",
    "JSON\n",
    "\n",
    "##### Part 1\n",
    "What is the sum of all of the numbers in the document? (note - this is much simpler interpreting the data as a raw text file rather than interpreting it as JSON data)\n",
    "\n",
    "##### Part 2\n",
    "Now, find the sum of all numbers in the document *that are not part of a dict with a value of 'red'*."
   ]
  },
  {
   "cell_type": "code",
   "execution_count": 53,
   "id": "10d08011",
   "metadata": {},
   "outputs": [
    {
     "data": {
      "text/plain": [
       "'{\"a\":138},\"b\":118,\"g\":\"green\",\"f\":0,\"i\":\"violet\"}}'"
      ]
     },
     "execution_count": 53,
     "metadata": {},
     "output_type": "execute_result"
    }
   ],
   "source": [
    "with open('data2015/day12.txt') as f12:\n",
    "    doc = f12.read().strip('\\n')\n",
    "\n",
    "doc[-50:]"
   ]
  },
  {
   "cell_type": "code",
   "execution_count": 54,
   "id": "f2d1e04b",
   "metadata": {},
   "outputs": [],
   "source": [
    "# sample = '{\"a\":138},\"b\":-118,\"g\":\"green\",\"f\":0,\"i\":\"violet\"}}'\n",
    "# doc = sample"
   ]
  },
  {
   "cell_type": "code",
   "execution_count": 55,
   "id": "d7d07778",
   "metadata": {},
   "outputs": [
    {
     "data": {
      "text/plain": [
       "111754"
      ]
     },
     "execution_count": 55,
     "metadata": {},
     "output_type": "execute_result"
    }
   ],
   "source": [
    "part1 = 0\n",
    "nums = '-0123456789'\n",
    "i = 0\n",
    "while i < len(doc):\n",
    "    if doc[i] in nums:\n",
    "        newstr = doc[i]\n",
    "        while doc[i+1] in nums:\n",
    "            newstr += doc[i+1]\n",
    "            i += 1\n",
    "        part1 += int(newstr)\n",
    "    i += 1\n",
    "part1"
   ]
  },
  {
   "cell_type": "code",
   "execution_count": 56,
   "id": "eef2c137",
   "metadata": {
    "tags": []
   },
   "outputs": [
    {
     "data": {
      "text/plain": [
       "{'e': [[{'e': 86,\n",
       "    'c': 23,\n",
       "    'a': {'a': [120, 169, 'green', 'red', 'orange'], 'b': 'red'},\n",
       "    'g': 'yellow',\n",
       "    'b': ['yellow'],\n",
       "    'd': 'red',\n",
       "    'f': -19},\n",
       "   {'e': -47,\n",
       "    'a': [2],\n",
       "    'd': {'a': 'violet'},\n",
       "    'c': 'green',\n",
       "    'h': 'orange',\n",
       "    'b': {'e': 59,\n",
       "     'a': 'yellow',\n",
       "     'd': 'green',\n",
       "     'c': 47,\n",
       "     'h': 'red',\n",
       "     'b': 'blue',\n",
       "     'g': 'orange',\n",
       "     'f': ['violet', 43, 168, 78]},\n",
       "    'g': 'orange',\n",
       "    'f': [{'e': [82, -41, 2, 'red', 'violet', 'orange', 'yellow'],\n",
       "      'c': 'green',\n",
       "      'a': 77,\n",
       "      'g': 'orange',\n",
       "      'b': 147,\n",
       "      'd': 49,\n",
       "      'f': 'blue'},\n",
       "     -1,\n",
       "     142,\n",
       "     136,\n",
       "     ['green', 'red', 166, -21],\n",
       "     'blue',\n",
       "     'orange',\n",
       "     {'a': 38}]},\n",
       "   'orange',\n",
       "   'yellow'],\n",
       "  'green',\n",
       "  -22,\n",
       "  [37,\n",
       "   [4,\n",
       "    -40,\n",
       "    ['red',\n",
       "     'yellow',\n",
       "     ['yellow',\n",
       "      177,\n",
       "      'red',\n",
       "      'blue',\n",
       "      139,\n",
       "      [55, 13, 'yellow', 'violet', -21, 140, 'yellow', 117],\n",
       "      'blue',\n",
       "      'blue',\n",
       "      106],\n",
       "     'blue',\n",
       "     {'a': 23}],\n",
       "    183,\n",
       "    92,\n",
       "    'orange',\n",
       "    'green'],\n",
       "   'orange'],\n",
       "  -5],\n",
       " 'c': [{'e': {'e': -13,\n",
       "    'c': -11,\n",
       "    'a': {'a': 49, 'b': 189},\n",
       "    'g': 144,\n",
       "    'b': 186,\n",
       "    'd': {'e': [146,\n",
       "      [32, 'violet', 'red', 'orange', -22],\n",
       "      'blue',\n",
       "      'violet',\n",
       "      57,\n",
       "      {'e': 12,\n",
       "       'a': 'red',\n",
       "       'd': 37,\n",
       "       'c': -13,\n",
       "       'h': 'green',\n",
       "       'b': -27,\n",
       "       'g': 'orange',\n",
       "       'f': 'orange',\n",
       "       'i': 'red'},\n",
       "      56,\n",
       "      -1,\n",
       "      'red',\n",
       "      -25],\n",
       "     'c': -14,\n",
       "     'a': [['orange', 'green', 'green', 'red', -25], -16, 104, 177, 'red'],\n",
       "     'g': 'red',\n",
       "     'b': 'blue',\n",
       "     'd': 2,\n",
       "     'f': 'green'},\n",
       "    'f': [{'e': {'c': -15, 'a': 'green', 'b': 144, 'd': -32},\n",
       "      'c': 'yellow',\n",
       "      'a': ['blue', 'blue'],\n",
       "      'b': 'yellow',\n",
       "      'd': 135,\n",
       "      'f': 'violet'}]},\n",
       "   'a': {'e': 'blue',\n",
       "    'a': [145,\n",
       "     128,\n",
       "     'orange',\n",
       "     'violet',\n",
       "     23,\n",
       "     ['orange',\n",
       "      [78, 'yellow', 'orange', 'orange', 'orange', 'green', 122, -35, 'blue'],\n",
       "      159,\n",
       "      114]],\n",
       "    'd': 'yellow',\n",
       "    'c': {'e': [100,\n",
       "      'green',\n",
       "      {'e': 'blue',\n",
       "       'a': 36,\n",
       "       'd': 84,\n",
       "       'j': 'orange',\n",
       "       'c': 'blue',\n",
       "       'h': 118,\n",
       "       'b': 85,\n",
       "       'g': 'violet',\n",
       "       'f': 'blue',\n",
       "       'i': 27},\n",
       "      'blue',\n",
       "      'blue'],\n",
       "     'a': 'red',\n",
       "     'd': 'blue',\n",
       "     'j': [159,\n",
       "      22,\n",
       "      'violet',\n",
       "      'orange',\n",
       "      'blue',\n",
       "      'orange',\n",
       "      'blue',\n",
       "      186,\n",
       "      175,\n",
       "      {'e': 29,\n",
       "       'a': 150,\n",
       "       'd': 'green',\n",
       "       'c': 129,\n",
       "       'h': 138,\n",
       "       'b': -29,\n",
       "       'g': 7,\n",
       "       'f': 'red',\n",
       "       'i': 'violet'}],\n",
       "     'c': 'yellow',\n",
       "     'h': ['blue',\n",
       "      -9,\n",
       "      41,\n",
       "      {'e': 144, 'c': 'violet', 'a': 161, 'b': 116, 'd': 126, 'f': 197},\n",
       "      173,\n",
       "      123,\n",
       "      50,\n",
       "      'red',\n",
       "      154],\n",
       "     'b': -23,\n",
       "     'g': 'orange',\n",
       "     'f': 'green',\n",
       "     'i': 'red'},\n",
       "    'h': 26,\n",
       "    'b': 30,\n",
       "    'g': 106,\n",
       "    'f': {'c': {'e': -28,\n",
       "      'c': ['red',\n",
       "       'violet',\n",
       "       'blue',\n",
       "       'orange',\n",
       "       'yellow',\n",
       "       'violet',\n",
       "       -30,\n",
       "       134,\n",
       "       0],\n",
       "      'a': -37,\n",
       "      'b': 41,\n",
       "      'd': 143},\n",
       "     'a': 121,\n",
       "     'b': 'yellow',\n",
       "     'd': [198, 'yellow']}},\n",
       "   'd': {'e': -2,\n",
       "    'a': 'green',\n",
       "    'd': {'a': 0, 'b': 'blue'},\n",
       "    'j': 'violet',\n",
       "    'c': [{'e': 'violet',\n",
       "      'a': 'orange',\n",
       "      'd': 'violet',\n",
       "      'c': -36,\n",
       "      'h': 68,\n",
       "      'b': 195,\n",
       "      'g': 41,\n",
       "      'f': 63},\n",
       "     11,\n",
       "     -20,\n",
       "     {'e': [100, 43, 183],\n",
       "      'a': 'yellow',\n",
       "      'd': ['orange',\n",
       "       'yellow',\n",
       "       'violet',\n",
       "       'yellow',\n",
       "       143,\n",
       "       162,\n",
       "       -23,\n",
       "       168,\n",
       "       145,\n",
       "       -33],\n",
       "      'j': 80,\n",
       "      'c': 'orange',\n",
       "      'h': {'a': 'orange'},\n",
       "      'b': 'violet',\n",
       "      'g': -21,\n",
       "      'f': -38,\n",
       "      'i': 'green'},\n",
       "     {'e': 'red',\n",
       "      'a': 81,\n",
       "      'd': 3,\n",
       "      'c': 'blue',\n",
       "      'h': [167, 'blue', 'yellow', 135, 64, 116, 134, 14, 160],\n",
       "      'b': 'red',\n",
       "      'g': 'blue',\n",
       "      'f': 'green'},\n",
       "     ['red',\n",
       "      [139, 'orange', 'blue', 'blue', 'orange', 'blue'],\n",
       "      'orange',\n",
       "      'red',\n",
       "      113,\n",
       "      26,\n",
       "      'yellow',\n",
       "      'yellow',\n",
       "      85]],\n",
       "    'h': [[117],\n",
       "     'yellow',\n",
       "     {'e': 187, 'c': 'orange', 'a': -22, 'b': ['orange'], 'd': 68},\n",
       "     154,\n",
       "     ['green', 'orange', 'blue', 87, 'green', 'orange', 46, 'violet'],\n",
       "     {'a': {'e': 178,\n",
       "       'c': 'blue',\n",
       "       'a': -2,\n",
       "       'g': 99,\n",
       "       'b': 'orange',\n",
       "       'd': -34,\n",
       "       'f': 'green'}},\n",
       "     'blue'],\n",
       "    'b': 'violet',\n",
       "    'g': [13, 'yellow', 43, 'orange'],\n",
       "    'f': {'e': -40,\n",
       "     'a': 'blue',\n",
       "     'd': 50,\n",
       "     'c': 'violet',\n",
       "     'h': {'e': 'orange',\n",
       "      'a': [-27, 159, 'violet', 'red', 130, 83, 'red', 'violet', -27],\n",
       "      'd': -42,\n",
       "      'j': 'blue',\n",
       "      'c': 9,\n",
       "      'h': {'e': 'yellow',\n",
       "       'a': 'blue',\n",
       "       'd': 177,\n",
       "       'c': 156,\n",
       "       'h': 'violet',\n",
       "       'b': 0,\n",
       "       'g': 'orange',\n",
       "       'f': -43,\n",
       "       'i': 'orange'},\n",
       "      'b': 'blue',\n",
       "      'g': [114, 'blue', -4, 'red', 'red', 'yellow', 'green'],\n",
       "      'f': 81,\n",
       "      'i': 'red'},\n",
       "     'b': 73,\n",
       "     'g': 176,\n",
       "     'f': 'red'},\n",
       "    'i': {'e': ['orange',\n",
       "      -16,\n",
       "      ['violet',\n",
       "       63,\n",
       "       'blue',\n",
       "       -40,\n",
       "       119,\n",
       "       22,\n",
       "       'orange',\n",
       "       'orange',\n",
       "       'violet',\n",
       "       'green'],\n",
       "      -30,\n",
       "      {'e': 'yellow',\n",
       "       'c': 172,\n",
       "       'a': 'green',\n",
       "       'g': 'yellow',\n",
       "       'b': 'green',\n",
       "       'd': 'yellow',\n",
       "       'f': 'red'},\n",
       "      190,\n",
       "      28,\n",
       "      {'e': 'orange', 'c': 'red', 'a': 'orange', 'b': 51, 'd': -31, 'f': 136},\n",
       "      'orange',\n",
       "      82],\n",
       "     'a': 'blue',\n",
       "     'd': 'red',\n",
       "     'c': ['blue', 81, 'blue', 'blue', 'green', 191, 'blue', 'blue', 1],\n",
       "     'h': {'e': 'orange',\n",
       "      'c': {'e': 'blue',\n",
       "       'a': 'green',\n",
       "       'd': 55,\n",
       "       'j': -36,\n",
       "       'c': 13,\n",
       "       'h': 'yellow',\n",
       "       'b': 162,\n",
       "       'g': 82,\n",
       "       'f': 'red',\n",
       "       'i': 'red'},\n",
       "      'a': 'violet',\n",
       "      'b': 'yellow',\n",
       "      'd': -24,\n",
       "      'f': 190},\n",
       "     'b': [{'e': 'green',\n",
       "       'a': 'green',\n",
       "       'd': -49,\n",
       "       'j': 'green',\n",
       "       'c': 'orange',\n",
       "       'h': 43,\n",
       "       'b': 'orange',\n",
       "       'g': 35,\n",
       "       'f': 'violet',\n",
       "       'i': 'blue'},\n",
       "      'yellow',\n",
       "      32,\n",
       "      'yellow'],\n",
       "     'g': 'blue',\n",
       "     'f': 0}},\n",
       "   'c': 'blue',\n",
       "   'h': 69,\n",
       "   'b': 166,\n",
       "   'g': [[88, ['blue', 21, 'yellow', 'violet']], ['red', 169], 'red'],\n",
       "   'f': 176},\n",
       "  {'e': ['yellow',\n",
       "    88,\n",
       "    164,\n",
       "    {'e': 'red',\n",
       "     'c': 'yellow',\n",
       "     'a': [20, 'blue', 'violet'],\n",
       "     'g': -31,\n",
       "     'b': 80,\n",
       "     'd': 'yellow',\n",
       "     'f': 'green'},\n",
       "    {'e': 'orange',\n",
       "     'c': 'green',\n",
       "     'a': 149,\n",
       "     'b': 'orange',\n",
       "     'd': -46,\n",
       "     'f': [160, 83, 'orange', 'red', 177, -11]},\n",
       "    'green',\n",
       "    [156,\n",
       "     'red',\n",
       "     {'c': 7,\n",
       "      'a': [152, 107, 130],\n",
       "      'b': {'c': 'yellow', 'a': 114, 'b': 38, 'd': 'blue'},\n",
       "      'd': 'orange'},\n",
       "     {'a': 49, 'b': -34},\n",
       "     34,\n",
       "     -32,\n",
       "     'green']],\n",
       "   'a': 134,\n",
       "   'd': -12,\n",
       "   'c': [-33,\n",
       "    {'e': 102,\n",
       "     'a': 'red',\n",
       "     'd': {'e': 'orange',\n",
       "      'a': 'green',\n",
       "      'd': 43,\n",
       "      'c': 'violet',\n",
       "      'h': {'a': 'violet'},\n",
       "      'b': -24,\n",
       "      'g': 'blue',\n",
       "      'f': 'blue',\n",
       "      'i': [68, 'blue']},\n",
       "     'j': -28,\n",
       "     'c': 87,\n",
       "     'h': 'violet',\n",
       "     'b': 122,\n",
       "     'g': 'violet',\n",
       "     'f': 'green',\n",
       "     'i': 'violet'}],\n",
       "   'h': 'violet',\n",
       "   'b': ['orange',\n",
       "    -14,\n",
       "    {'e': 37,\n",
       "     'a': 86,\n",
       "     'd': {'e': 186,\n",
       "      'a': -25,\n",
       "      'd': 71,\n",
       "      'c': 'orange',\n",
       "      'h': 86,\n",
       "      'b': 113,\n",
       "      'g': 27,\n",
       "      'f': 'green',\n",
       "      'i': 'yellow'},\n",
       "     'c': 16,\n",
       "     'h': 'orange',\n",
       "     'b': 'green',\n",
       "     'g': ['yellow',\n",
       "      'yellow',\n",
       "      ['orange', 'violet', 'violet', 'green', 58, 'orange'],\n",
       "      ['orange',\n",
       "       131,\n",
       "       'red',\n",
       "       'blue',\n",
       "       'orange',\n",
       "       183,\n",
       "       82,\n",
       "       'orange',\n",
       "       'yellow',\n",
       "       'blue'],\n",
       "      49,\n",
       "      'orange',\n",
       "      'violet',\n",
       "      'violet',\n",
       "      'yellow',\n",
       "      'orange'],\n",
       "     'f': 'yellow'},\n",
       "    [141, 'violet', 'red', -24, 18, 103, 88, 169, 75],\n",
       "    ['yellow',\n",
       "     ['green',\n",
       "      55,\n",
       "      92,\n",
       "      'yellow',\n",
       "      'orange',\n",
       "      135,\n",
       "      {'e': 'green',\n",
       "       'c': 141,\n",
       "       'a': -11,\n",
       "       'b': 129,\n",
       "       'd': 'orange',\n",
       "       'f': 'green'},\n",
       "      'violet'],\n",
       "     14,\n",
       "     [{'a': 130},\n",
       "      ['red', 'violet', 182, 'blue', 149, 'orange', -25, 'blue', 'blue'],\n",
       "      61,\n",
       "      -18,\n",
       "      'orange',\n",
       "      14,\n",
       "      {'e': 'red',\n",
       "       'a': 135,\n",
       "       'd': 'yellow',\n",
       "       'j': 'red',\n",
       "       'c': 23,\n",
       "       'h': 89,\n",
       "       'b': 82,\n",
       "       'g': 'orange',\n",
       "       'f': 'red',\n",
       "       'i': 72},\n",
       "      'red'],\n",
       "     ['red', 'blue', 'red', 78, 134, 53, 160],\n",
       "     -20,\n",
       "     98,\n",
       "     {'e': [198, 69, 168, 145, -29, 'red', 'orange', 'orange', 'yellow'],\n",
       "      'a': 'violet',\n",
       "      'd': 'green',\n",
       "      'j': 184,\n",
       "      'c': [7, 99, 186, 'blue'],\n",
       "      'h': 10,\n",
       "      'b': 'blue',\n",
       "      'g': 166,\n",
       "      'f': 'yellow',\n",
       "      'i': 177}],\n",
       "    'green',\n",
       "    {'e': 'red',\n",
       "     'a': 'green',\n",
       "     'd': -8,\n",
       "     'j': -47,\n",
       "     'c': {'e': 'orange',\n",
       "      'c': 74,\n",
       "      'a': 'yellow',\n",
       "      'b': 'orange',\n",
       "      'd': 34,\n",
       "      'f': 124},\n",
       "     'h': 152,\n",
       "     'b': 'red',\n",
       "     'g': 'yellow',\n",
       "     'f': 161,\n",
       "     'i': ['blue', 'red', 'orange', 'orange', 'orange', -38, 'orange', 'red']},\n",
       "    'yellow',\n",
       "    'blue',\n",
       "    75],\n",
       "   'g': [67,\n",
       "    ['orange',\n",
       "     109,\n",
       "     114,\n",
       "     32,\n",
       "     'green',\n",
       "     'green',\n",
       "     'yellow',\n",
       "     ['yellow',\n",
       "      'orange',\n",
       "      -40,\n",
       "      ['green',\n",
       "       'orange',\n",
       "       'yellow',\n",
       "       187,\n",
       "       3,\n",
       "       'yellow',\n",
       "       'violet',\n",
       "       'orange',\n",
       "       195,\n",
       "       'yellow'],\n",
       "      'blue',\n",
       "      'yellow',\n",
       "      'blue']],\n",
       "    [32, {'c': 43, 'a': 'red', 'b': 'blue', 'd': 25}],\n",
       "    {'c': 'red', 'a': 24, 'b': 139},\n",
       "    {'e': 'orange',\n",
       "     'a': 153,\n",
       "     'd': 43,\n",
       "     'c': 143,\n",
       "     'h': ['violet',\n",
       "      'yellow',\n",
       "      'green',\n",
       "      159,\n",
       "      165,\n",
       "      {'a': 'blue', 'b': 'violet'}],\n",
       "     'b': 150,\n",
       "     'g': ['red', 'red', 'orange', [138, 'green']],\n",
       "     'f': 'green'},\n",
       "    'violet',\n",
       "    -12,\n",
       "    'red',\n",
       "    ['violet', 'green']],\n",
       "   'f': {'e': {'e': 39,\n",
       "     'a': 'orange',\n",
       "     'd': {'e': [11],\n",
       "      'c': 'violet',\n",
       "      'a': 'orange',\n",
       "      'g': 49,\n",
       "      'b': 'red',\n",
       "      'd': 0,\n",
       "      'f': {'a': 45}},\n",
       "     'c': 'violet',\n",
       "     'h': -30,\n",
       "     'b': [93,\n",
       "      -1,\n",
       "      'red',\n",
       "      [39, 'red', 'green'],\n",
       "      'green',\n",
       "      [154, 'blue', 'orange', 147, 'orange', 'yellow'],\n",
       "      106,\n",
       "      ['green', 71, -9],\n",
       "      -37],\n",
       "     'g': 'blue',\n",
       "     'f': 'blue',\n",
       "     'i': 176},\n",
       "    'c': 98,\n",
       "    'a': 164,\n",
       "    'b': ['violet',\n",
       "     'orange',\n",
       "     [85,\n",
       "      {'e': 'yellow',\n",
       "       'a': 113,\n",
       "       'd': 176,\n",
       "       'c': 'green',\n",
       "       'h': 'violet',\n",
       "       'b': 'orange',\n",
       "       'g': 166,\n",
       "       'f': 'green',\n",
       "       'i': 'green'},\n",
       "      [145, 'green', -7, 'violet']],\n",
       "     {'e': ['green', 'green'],\n",
       "      'a': 'red',\n",
       "      'd': 79,\n",
       "      'j': 'blue',\n",
       "      'c': -41,\n",
       "      'h': 'yellow',\n",
       "      'b': 'violet',\n",
       "      'g': 'blue',\n",
       "      'f': 148,\n",
       "      'i': 20}],\n",
       "    'd': 12,\n",
       "    'f': [-34, 'yellow']}},\n",
       "  {'e': {'e': [{'a': 159},\n",
       "     ['red',\n",
       "      -46,\n",
       "      {'a': 11},\n",
       "      166,\n",
       "      116,\n",
       "      {'e': -39, 'c': -24, 'a': 194, 'b': 27, 'd': 91},\n",
       "      -37,\n",
       "      85,\n",
       "      ['green'],\n",
       "      61],\n",
       "     'yellow',\n",
       "     {'a': 135},\n",
       "     ['orange',\n",
       "      'orange',\n",
       "      128,\n",
       "      'green',\n",
       "      -20,\n",
       "      97,\n",
       "      {'e': 108,\n",
       "       'c': 195,\n",
       "       'a': 'blue',\n",
       "       'g': 51,\n",
       "       'b': 'green',\n",
       "       'd': 'violet',\n",
       "       'f': 28}]],\n",
       "    'a': 'green',\n",
       "    'd': 164,\n",
       "    'c': 'violet',\n",
       "    'h': 'orange',\n",
       "    'b': 'green',\n",
       "    'g': {'e': 'red',\n",
       "     'c': 151,\n",
       "     'a': 'violet',\n",
       "     'b': 46,\n",
       "     'd': 'yellow',\n",
       "     'f': ['red']},\n",
       "    'f': -35,\n",
       "    'i': 'orange'},\n",
       "   'a': {'e': 7,\n",
       "    'a': {'a': -28},\n",
       "    'd': 151,\n",
       "    'c': {'c': 147,\n",
       "     'a': 165,\n",
       "     'b': [-5,\n",
       "      ['violet',\n",
       "       'blue',\n",
       "       'orange',\n",
       "       'violet',\n",
       "       3,\n",
       "       'yellow',\n",
       "       86,\n",
       "       'orange',\n",
       "       197,\n",
       "       51],\n",
       "      6,\n",
       "      156,\n",
       "      43,\n",
       "      94,\n",
       "      'blue',\n",
       "      {'e': 130, 'c': 'orange', 'a': -29, 'b': 89, 'd': -41, 'f': 'orange'},\n",
       "      76]},\n",
       "    'h': {'e': 153,\n",
       "     'a': 'violet',\n",
       "     'd': 'yellow',\n",
       "     'j': 'green',\n",
       "     'c': {'c': 'blue', 'a': 'violet', 'b': 113, 'd': 'yellow'},\n",
       "     'h': {'e': 'blue',\n",
       "      'a': ['yellow', 29, 69],\n",
       "      'd': 'orange',\n",
       "      'c': 'red',\n",
       "      'h': 'green',\n",
       "      'b': 164,\n",
       "      'g': 'blue',\n",
       "      'f': {'c': 16, 'a': 191, 'b': 61}},\n",
       "     'b': 195,\n",
       "     'g': 'yellow',\n",
       "     'f': 'green',\n",
       "     'i': 'red'},\n",
       "    'b': 82,\n",
       "    'g': [51,\n",
       "     -47,\n",
       "     186,\n",
       "     {'e': 4, 'c': 27, 'a': 60, 'b': 'orange', 'd': 32, 'f': 'violet'},\n",
       "     {'e': 'blue',\n",
       "      'a': 72,\n",
       "      'd': 17,\n",
       "      'j': 'blue',\n",
       "      'c': 'red',\n",
       "      'h': 0,\n",
       "      'b': 'yellow',\n",
       "      'g': 195,\n",
       "      'f': ['red', 'green', 82, -31, 'blue', -24, 'yellow', 'red', 'violet'],\n",
       "      'i': 43},\n",
       "     ['green']],\n",
       "    'f': 'blue'},\n",
       "   'd': ['violet', 22, 118],\n",
       "   'j': -45,\n",
       "   'c': 174,\n",
       "   'h': 79,\n",
       "   'b': 180,\n",
       "   'g': {'c': -7,\n",
       "    'a': {'e': ['blue', 'violet'],\n",
       "     'c': 'blue',\n",
       "     'a': 'violet',\n",
       "     'g': 'red',\n",
       "     'b': 'orange',\n",
       "     'd': 'orange',\n",
       "     'f': {'a': 'violet', 'b': 33}},\n",
       "    'b': 183,\n",
       "    'd': 132},\n",
       "   'f': ['violet',\n",
       "    'violet',\n",
       "    'green',\n",
       "    [[[66, 'violet', 'violet', 'green', 'green']],\n",
       "     [181,\n",
       "      'yellow',\n",
       "      167,\n",
       "      134,\n",
       "      'orange',\n",
       "      {'e': 'red', 'c': 'violet', 'a': 'violet', 'b': 107, 'd': -19},\n",
       "      {'e': 0, 'c': 166, 'a': 'green', 'b': 'blue', 'd': 'red'}],\n",
       "     19,\n",
       "     -31,\n",
       "     108]],\n",
       "   'i': ['red',\n",
       "    'red',\n",
       "    [159],\n",
       "    [139,\n",
       "     'blue',\n",
       "     {'a': 106},\n",
       "     48,\n",
       "     117,\n",
       "     164,\n",
       "     ['blue',\n",
       "      161,\n",
       "      'green',\n",
       "      174,\n",
       "      'orange',\n",
       "      152,\n",
       "      'red',\n",
       "      'orange',\n",
       "      ['red', 'yellow', 'blue', -43]],\n",
       "     105,\n",
       "     22,\n",
       "     'green'],\n",
       "    [110]]},\n",
       "  153,\n",
       "  {'a': {'e': 'orange',\n",
       "    'a': [{'e': 'red',\n",
       "      'a': 'yellow',\n",
       "      'd': 'green',\n",
       "      'c': 'violet',\n",
       "      'h': {'e': 'blue',\n",
       "       'c': 62,\n",
       "       'a': 148,\n",
       "       'g': 'violet',\n",
       "       'b': 6,\n",
       "       'd': 'yellow',\n",
       "       'f': -1},\n",
       "      'b': 'yellow',\n",
       "      'g': -14,\n",
       "      'f': 58},\n",
       "     'violet',\n",
       "     'yellow',\n",
       "     {'e': 4,\n",
       "      'a': 'blue',\n",
       "      'd': {'e': 'green',\n",
       "       'a': -49,\n",
       "       'd': 'yellow',\n",
       "       'j': -39,\n",
       "       'c': 'orange',\n",
       "       'h': 'red',\n",
       "       'b': 'blue',\n",
       "       'g': 59,\n",
       "       'f': 'violet',\n",
       "       'i': 46},\n",
       "      'c': 195,\n",
       "      'h': 22,\n",
       "      'b': 160,\n",
       "      'g': 'orange',\n",
       "      'f': 'orange',\n",
       "      'i': 38},\n",
       "     'red',\n",
       "     ['orange', 'red', 'yellow', 34, 101, 'yellow'],\n",
       "     40,\n",
       "     ['orange',\n",
       "      {'e': 148,\n",
       "       'c': 'red',\n",
       "       'a': 85,\n",
       "       'g': 62,\n",
       "       'b': -13,\n",
       "       'd': -25,\n",
       "       'f': 'orange'},\n",
       "      -47,\n",
       "      34,\n",
       "      {'e': 'violet', 'c': 80, 'a': 'red', 'b': 34, 'd': 100},\n",
       "      58,\n",
       "      185,\n",
       "      'yellow',\n",
       "      'orange',\n",
       "      ['yellow', 'green', 'violet', 84, 'blue', 'orange', 13]],\n",
       "     183],\n",
       "    'd': 'red',\n",
       "    'j': [-2,\n",
       "     'red',\n",
       "     'yellow',\n",
       "     176,\n",
       "     -24,\n",
       "     140,\n",
       "     'blue',\n",
       "     'yellow',\n",
       "     155,\n",
       "     {'e': -28,\n",
       "      'c': 'violet',\n",
       "      'a': {'a': 'green', 'b': 3},\n",
       "      'b': 'red',\n",
       "      'd': -16}],\n",
       "    'c': ['violet', -16],\n",
       "    'h': 'blue',\n",
       "    'b': 'green',\n",
       "    'g': ['yellow',\n",
       "     'yellow',\n",
       "     'yellow',\n",
       "     44,\n",
       "     'orange',\n",
       "     50,\n",
       "     36,\n",
       "     {'e': 'green',\n",
       "      'a': 162,\n",
       "      'd': 112,\n",
       "      'c': 166,\n",
       "      'h': 92,\n",
       "      'b': 31,\n",
       "      'g': 'blue',\n",
       "      'f': -12}],\n",
       "    'f': 'yellow',\n",
       "    'i': ['yellow',\n",
       "     'violet',\n",
       "     [19, 'red', ['violet', 'violet', 195]],\n",
       "     ['yellow', [106], 'red', 'orange', 'blue'],\n",
       "     178,\n",
       "     {'e': 'violet',\n",
       "      'a': 104,\n",
       "      'd': 'red',\n",
       "      'c': 'yellow',\n",
       "      'h': {'c': -47, 'a': 'blue', 'b': 84},\n",
       "      'b': 'green',\n",
       "      'g': 0,\n",
       "      'f': 'blue',\n",
       "      'i': 'red'},\n",
       "     105]}},\n",
       "  {'e': 7,\n",
       "   'c': [156],\n",
       "   'a': {'a': {'e': {'e': 'violet',\n",
       "      'a': ['blue', 'yellow', 'orange'],\n",
       "      'd': 'green',\n",
       "      'c': [159, 'blue', 'violet', 'red', 61, 3],\n",
       "      'h': 'red',\n",
       "      'b': 'green',\n",
       "      'g': 132,\n",
       "      'f': 130},\n",
       "     'c': 92,\n",
       "     'a': 'orange',\n",
       "     'b': 'green',\n",
       "     'd': [186, 122],\n",
       "     'f': 'yellow'}},\n",
       "   'g': ['yellow', 'violet'],\n",
       "   'b': 'violet',\n",
       "   'd': {'e': {'c': 'orange',\n",
       "     'a': 127,\n",
       "     'b': 41,\n",
       "     'd': [36,\n",
       "      61,\n",
       "      178,\n",
       "      'yellow',\n",
       "      'green',\n",
       "      'red',\n",
       "      'violet',\n",
       "      {'e': -18,\n",
       "       'a': 'yellow',\n",
       "       'd': 'red',\n",
       "       'c': 0,\n",
       "       'h': 'yellow',\n",
       "       'b': 'yellow',\n",
       "       'g': 6,\n",
       "       'f': 'yellow'},\n",
       "      162]},\n",
       "    'c': -6,\n",
       "    'a': {'c': {'e': 'red', 'c': 78, 'a': 'blue', 'b': 91, 'd': 49, 'f': 14},\n",
       "     'a': ['green'],\n",
       "     'b': {'a': 22},\n",
       "     'd': {'a': 'blue'}},\n",
       "    'b': 154,\n",
       "    'd': 'orange',\n",
       "    'f': {'a': 170}},\n",
       "   'f': -33},\n",
       "  'blue',\n",
       "  82],\n",
       " 'a': {'c': ['green',\n",
       "   ['red',\n",
       "    'orange',\n",
       "    {'e': -28,\n",
       "     'a': {'a': 'violet', 'b': 110},\n",
       "     'd': [[174, 140, 72], 191, 'yellow', 108, 195, {'a': 'violet'}, 147, 53],\n",
       "     'c': 'yellow',\n",
       "     'h': 'green',\n",
       "     'b': 'violet',\n",
       "     'g': 'red',\n",
       "     'f': ['blue',\n",
       "      'orange',\n",
       "      'violet',\n",
       "      [48, 118],\n",
       "      156,\n",
       "      144,\n",
       "      -46,\n",
       "      110,\n",
       "      ['orange', 'yellow', 'blue', 'red'],\n",
       "      149],\n",
       "     'i': {'e': 'orange',\n",
       "      'c': 101,\n",
       "      'a': {'e': 111,\n",
       "       'a': 'blue',\n",
       "       'd': 'orange',\n",
       "       'j': 'orange',\n",
       "       'c': -40,\n",
       "       'h': 13,\n",
       "       'b': 'orange',\n",
       "       'g': 'yellow',\n",
       "       'f': 32,\n",
       "       'i': 'yellow'},\n",
       "      'g': {'e': 'orange',\n",
       "       'a': 'blue',\n",
       "       'd': 195,\n",
       "       'j': 81,\n",
       "       'c': 185,\n",
       "       'h': 20,\n",
       "       'b': 4,\n",
       "       'g': 'green',\n",
       "       'f': 112,\n",
       "       'i': 147},\n",
       "      'b': -22,\n",
       "      'd': 199,\n",
       "      'f': 'yellow'}},\n",
       "    'yellow',\n",
       "    19,\n",
       "    128,\n",
       "    -3,\n",
       "    27,\n",
       "    ['orange',\n",
       "     {'e': -8, 'c': 156, 'a': 'yellow', 'b': 'red', 'd': 20, 'f': -37},\n",
       "     [{'c': 19, 'a': 'blue', 'b': 150}, 'orange', -12, 9]]],\n",
       "   [12,\n",
       "    {'e': 'blue',\n",
       "     'c': 162,\n",
       "     'a': ['blue',\n",
       "      184,\n",
       "      'yellow',\n",
       "      'orange',\n",
       "      {'a': 'yellow', 'b': 'green'},\n",
       "      88,\n",
       "      -19,\n",
       "      60,\n",
       "      'yellow'],\n",
       "     'g': 'yellow',\n",
       "     'b': 191,\n",
       "     'd': -6,\n",
       "     'f': 'violet'}],\n",
       "   {'c': 'yellow',\n",
       "    'a': 'orange',\n",
       "    'b': {'a': 'violet',\n",
       "     'b': ['orange',\n",
       "      'orange',\n",
       "      'violet',\n",
       "      {'e': 'red',\n",
       "       'a': 'red',\n",
       "       'd': 163,\n",
       "       'c': 153,\n",
       "       'h': 'green',\n",
       "       'b': 6,\n",
       "       'g': 'blue',\n",
       "       'f': 17,\n",
       "       'i': 63},\n",
       "      163,\n",
       "      [164, -41, 'violet', 'violet', 126]]},\n",
       "    'd': -38}],\n",
       "  'a': {'e': {'c': -1,\n",
       "    'a': 'orange',\n",
       "    'b': {'c': 131,\n",
       "     'a': {'e': -11, 'c': 120, 'a': 'green', 'b': 198, 'd': 152, 'f': 37},\n",
       "     'b': 77,\n",
       "     'd': {'e': 8,\n",
       "      'a': 21,\n",
       "      'd': 'blue',\n",
       "      'c': 'yellow',\n",
       "      'h': 'violet',\n",
       "      'b': 11,\n",
       "      'g': 'violet',\n",
       "      'f': {'e': 148, 'c': 98, 'a': 80, 'b': 78, 'd': 68}}},\n",
       "    'd': 'orange'},\n",
       "   'a': ['violet', [-30, 117], [78, 31], 74, 197, 'red', 'orange', 95],\n",
       "   'd': 'green',\n",
       "   'c': [96, 'violet'],\n",
       "   'h': {'e': {'c': 'green',\n",
       "     'a': [76, 16, 125, 'green', 15, 'violet', 130, 60, 'red'],\n",
       "     'b': 'orange',\n",
       "     'd': -38},\n",
       "    'a': 71,\n",
       "    'd': 158,\n",
       "    'j': -16,\n",
       "    'c': [['yellow', 'green', 183, 165, -28, 4, 102],\n",
       "     -20,\n",
       "     'blue',\n",
       "     'violet',\n",
       "     {'e': 'yellow',\n",
       "      'c': {'e': 'orange',\n",
       "       'a': 'yellow',\n",
       "       'd': 'red',\n",
       "       'c': 'orange',\n",
       "       'h': 'orange',\n",
       "       'b': 169,\n",
       "       'g': 'violet',\n",
       "       'f': 48},\n",
       "      'a': 99,\n",
       "      'b': ['blue', -1, 'blue'],\n",
       "      'd': 104,\n",
       "      'f': 20},\n",
       "     83],\n",
       "    'h': 'green',\n",
       "    'b': [-14,\n",
       "     [28],\n",
       "     'yellow',\n",
       "     [93, 'blue', -24, 160, 35, 25, -32, 'green'],\n",
       "     {'e': [51, 'red', 64, 'red', 'blue', -16, 31, 146, 'blue', 'yellow'],\n",
       "      'c': 122,\n",
       "      'a': 'orange',\n",
       "      'b': 'yellow',\n",
       "      'd': {'c': 53, 'a': 179, 'b': 'blue', 'd': -44}},\n",
       "     17,\n",
       "     110],\n",
       "    'g': 151,\n",
       "    'f': 'orange',\n",
       "    'i': {'a': 'violet', 'b': {'a': [-24]}}},\n",
       "   'b': ['violet',\n",
       "    {'e': {'e': 91,\n",
       "      'a': {'e': 'blue',\n",
       "       'a': -25,\n",
       "       'd': 70,\n",
       "       'c': 'green',\n",
       "       'h': 'violet',\n",
       "       'b': 48,\n",
       "       'g': 'violet',\n",
       "       'f': 'orange'},\n",
       "      'd': 'yellow',\n",
       "      'c': 136,\n",
       "      'h': 90,\n",
       "      'b': {'e': 26,\n",
       "       'c': 'green',\n",
       "       'a': 'blue',\n",
       "       'g': 'violet',\n",
       "       'b': 192,\n",
       "       'd': 198,\n",
       "       'f': 86},\n",
       "      'g': 'orange',\n",
       "      'f': 'blue'},\n",
       "     'a': 137,\n",
       "     'd': 47,\n",
       "     'c': 11,\n",
       "     'h': 'yellow',\n",
       "     'b': 'orange',\n",
       "     'g': 'orange',\n",
       "     'f': {'e': 'blue',\n",
       "      'a': 45,\n",
       "      'd': 'violet',\n",
       "      'j': 146,\n",
       "      'c': -38,\n",
       "      'h': 4,\n",
       "      'b': 157,\n",
       "      'g': 104,\n",
       "      'f': -13,\n",
       "      'i': 'yellow'}},\n",
       "    {'e': 191,\n",
       "     'a': 'blue',\n",
       "     'd': 'green',\n",
       "     'c': 'blue',\n",
       "     'h': -19,\n",
       "     'b': 148,\n",
       "     'g': 'blue',\n",
       "     'f': {'e': 57,\n",
       "      'c': 'red',\n",
       "      'a': 167,\n",
       "      'b': [-42, 147, 166, 74, -32, 'orange', 'violet', 'yellow'],\n",
       "      'd': 'green',\n",
       "      'f': 71}},\n",
       "    'green',\n",
       "    [184,\n",
       "     'yellow',\n",
       "     [['yellow', 'yellow'],\n",
       "      'green',\n",
       "      {'e': -24,\n",
       "       'a': 1,\n",
       "       'd': 44,\n",
       "       'c': 'yellow',\n",
       "       'h': 'yellow',\n",
       "       'b': 144,\n",
       "       'g': 'violet',\n",
       "       'f': 'green',\n",
       "       'i': -7},\n",
       "      86,\n",
       "      119,\n",
       "      52,\n",
       "      'orange',\n",
       "      ['red', 'red', 18, 'orange', 192, 116],\n",
       "      120,\n",
       "      109]],\n",
       "    ['violet',\n",
       "     -14,\n",
       "     'violet',\n",
       "     {'e': -29,\n",
       "      'c': {'e': 'green',\n",
       "       'a': 'red',\n",
       "       'd': 'blue',\n",
       "       'j': 68,\n",
       "       'c': 9,\n",
       "       'h': 'orange',\n",
       "       'b': 25,\n",
       "       'g': 'red',\n",
       "       'f': 10,\n",
       "       'i': 'green'},\n",
       "      'a': -15,\n",
       "      'b': 'blue',\n",
       "      'd': 'violet',\n",
       "      'f': 125},\n",
       "     119,\n",
       "     [127, 'violet', 'green', 39]]],\n",
       "   'g': 'green',\n",
       "   'f': -14},\n",
       "  'b': 23,\n",
       "  'd': {'c': {'c': 98, 'a': 'yellow', 'b': 97},\n",
       "   'a': -29,\n",
       "   'b': {'a': 192,\n",
       "    'b': ['violet',\n",
       "     'yellow',\n",
       "     65,\n",
       "     {'c': {'e': 'violet',\n",
       "       'c': 'yellow',\n",
       "       'a': 'violet',\n",
       "       'b': 'blue',\n",
       "       'd': 'orange'},\n",
       "      'a': 'red',\n",
       "      'b': 176},\n",
       "     192]},\n",
       "   'd': 'orange'}},\n",
       " 'b': [{'e': 'yellow',\n",
       "   'c': 45,\n",
       "   'a': 81,\n",
       "   'b': ['orange'],\n",
       "   'd': 'violet',\n",
       "   'f': [-3,\n",
       "    'red',\n",
       "    146,\n",
       "    186,\n",
       "    'orange',\n",
       "    'red',\n",
       "    'blue',\n",
       "    {'e': 'green', 'c': 22, 'a': 'yellow', 'b': 'blue', 'd': -2, 'f': 'green'},\n",
       "    0,\n",
       "    180]},\n",
       "  [[-36,\n",
       "    ['orange', [166], 'violet'],\n",
       "    {'c': 86,\n",
       "     'a': [2,\n",
       "      173,\n",
       "      78,\n",
       "      'violet',\n",
       "      'orange',\n",
       "      ['violet',\n",
       "       'yellow',\n",
       "       'blue',\n",
       "       107,\n",
       "       24,\n",
       "       -1,\n",
       "       'orange',\n",
       "       13,\n",
       "       'green',\n",
       "       'violet']],\n",
       "     'b': 'violet',\n",
       "     'd': 107},\n",
       "    100,\n",
       "    ['yellow', -22, [177, 69, 144, 84, 159, 'violet'], 'green'],\n",
       "    {'e': 'green',\n",
       "     'a': 78,\n",
       "     'd': 173,\n",
       "     'c': 'blue',\n",
       "     'h': 36,\n",
       "     'b': [[-48, 164, 'red', 'blue', 45],\n",
       "      ['green', 'orange', 23, 15, 110, 49, 'blue'],\n",
       "      'violet',\n",
       "      0,\n",
       "      192,\n",
       "      53],\n",
       "     'g': ['blue', 'violet'],\n",
       "     'f': 'orange',\n",
       "     'i': [{'e': 186,\n",
       "       'c': 'orange',\n",
       "       'a': 'green',\n",
       "       'b': 174,\n",
       "       'd': 'yellow',\n",
       "       'f': 46},\n",
       "      'violet',\n",
       "      188,\n",
       "      'yellow',\n",
       "      54,\n",
       "      -6,\n",
       "      'blue',\n",
       "      'violet',\n",
       "      0,\n",
       "      {'e': 166,\n",
       "       'a': 'yellow',\n",
       "       'd': 'red',\n",
       "       'j': 'blue',\n",
       "       'c': 'red',\n",
       "       'h': 97,\n",
       "       'b': 'violet',\n",
       "       'g': 32,\n",
       "       'f': 173,\n",
       "       'i': 95}]},\n",
       "    {'a': 58, 'b': 'blue'},\n",
       "    'green',\n",
       "    ['red',\n",
       "     150,\n",
       "     3,\n",
       "     'orange',\n",
       "     32,\n",
       "     106,\n",
       "     [['blue'],\n",
       "      118,\n",
       "      {'c': 178, 'a': 7, 'b': 185, 'd': 'violet'},\n",
       "      'red',\n",
       "      164,\n",
       "      'red',\n",
       "      [128, 'red'],\n",
       "      -44],\n",
       "     {'e': 'orange',\n",
       "      'a': 'orange',\n",
       "      'd': 130,\n",
       "      'c': 'yellow',\n",
       "      'h': 'yellow',\n",
       "      'b': {'e': 91,\n",
       "       'a': 161,\n",
       "       'd': -44,\n",
       "       'c': -45,\n",
       "       'h': 'blue',\n",
       "       'b': 'orange',\n",
       "       'g': 122,\n",
       "       'f': 'orange'},\n",
       "      'g': 'yellow',\n",
       "      'f': 'blue'},\n",
       "     139,\n",
       "     {'a': 97}]],\n",
       "   'orange',\n",
       "   ['orange',\n",
       "    0,\n",
       "    'blue',\n",
       "    'red',\n",
       "    {'e': 192,\n",
       "     'c': 92,\n",
       "     'a': {'a': ['red',\n",
       "       164,\n",
       "       'yellow',\n",
       "       189,\n",
       "       'blue',\n",
       "       150,\n",
       "       'green',\n",
       "       'violet',\n",
       "       -35,\n",
       "       33],\n",
       "      'b': 'red'},\n",
       "     'g': 'yellow',\n",
       "     'b': {'a': 'blue'},\n",
       "     'd': 'red',\n",
       "     'f': -31},\n",
       "    111,\n",
       "    'yellow',\n",
       "    'red',\n",
       "    [['green',\n",
       "      'green',\n",
       "      42,\n",
       "      -47,\n",
       "      [88, 142, 'blue', 59, -42, 'violet'],\n",
       "      'green'],\n",
       "     'orange',\n",
       "     ['violet',\n",
       "      'yellow',\n",
       "      'violet',\n",
       "      198,\n",
       "      94,\n",
       "      44,\n",
       "      'orange',\n",
       "      'green',\n",
       "      'blue',\n",
       "      26],\n",
       "     'blue',\n",
       "     'violet']],\n",
       "   {'a': 118}],\n",
       "  {'e': -35,\n",
       "   'a': {'e': ['orange', -1, 121, 'red'],\n",
       "    'c': 'violet',\n",
       "    'a': [[127,\n",
       "      -18,\n",
       "      -4,\n",
       "      [-40, 42, 'violet', 167, 'orange', 112, 'orange'],\n",
       "      30,\n",
       "      31,\n",
       "      'violet',\n",
       "      37],\n",
       "     {'c': 'blue', 'a': 'green', 'b': 172},\n",
       "     [141, 154],\n",
       "     146,\n",
       "     'yellow'],\n",
       "    'b': 'blue',\n",
       "    'd': -3},\n",
       "   'd': 'red',\n",
       "   'c': -17,\n",
       "   'h': -3,\n",
       "   'b': ['violet', 'yellow', 19, 'red', 8, 138, 37],\n",
       "   'g': {'c': {'e': -5,\n",
       "     'c': [-23, 21, 'green', -3, 'red'],\n",
       "     'a': 163,\n",
       "     'b': 'blue',\n",
       "     'd': 'red',\n",
       "     'f': ['violet', 136, 'violet']},\n",
       "    'a': 183,\n",
       "    'b': -36,\n",
       "    'd': 'violet'},\n",
       "   'f': ['green',\n",
       "    ['green',\n",
       "     {'e': 'red',\n",
       "      'c': 'yellow',\n",
       "      'a': 10,\n",
       "      'g': 'blue',\n",
       "      'b': 56,\n",
       "      'd': 'red',\n",
       "      'f': ['green', 'red', 'red']},\n",
       "     ['violet',\n",
       "      'orange',\n",
       "      {'e': 7, 'c': 170, 'a': 'green', 'b': 55, 'd': 115},\n",
       "      'green',\n",
       "      'blue']]]},\n",
       "  {'e': {'e': {'a': 'blue', 'b': [192, 'blue', 86, 93]},\n",
       "    'a': 'green',\n",
       "    'd': 'yellow',\n",
       "    'c': 186,\n",
       "    'h': ['violet',\n",
       "     'orange',\n",
       "     'orange',\n",
       "     'violet',\n",
       "     'red',\n",
       "     'orange',\n",
       "     139,\n",
       "     'violet',\n",
       "     'green',\n",
       "     {'e': 'red',\n",
       "      'a': 85,\n",
       "      'd': 'orange',\n",
       "      'c': 'yellow',\n",
       "      'h': [46, 35, 'red', 'green', -11, 'blue'],\n",
       "      'b': 'yellow',\n",
       "      'g': 'yellow',\n",
       "      'f': 'orange'}],\n",
       "    'b': {'e': 77,\n",
       "     'a': 'yellow',\n",
       "     'd': 'green',\n",
       "     'c': 144,\n",
       "     'h': 'green',\n",
       "     'b': {'e': [27, 'blue', 'yellow', -48, -21, -12, 121, 'violet'],\n",
       "      'a': [-23],\n",
       "      'd': 'blue',\n",
       "      'j': {'e': 'orange', 'c': 'blue', 'a': 'green', 'b': -34, 'd': 'green'},\n",
       "      'c': 'green',\n",
       "      'h': 'green',\n",
       "      'b': 61,\n",
       "      'g': ['blue'],\n",
       "      'f': 19,\n",
       "      'i': 'violet'},\n",
       "     'g': 86,\n",
       "     'f': 'orange'},\n",
       "    'g': 'yellow',\n",
       "    'f': 'orange'},\n",
       "   'c': {'c': ['yellow',\n",
       "     82,\n",
       "     'red',\n",
       "     'orange',\n",
       "     {'e': 34,\n",
       "      'c': 'green',\n",
       "      'a': 'violet',\n",
       "      'b': 182,\n",
       "      'd': 'orange',\n",
       "      'f': {'e': -49,\n",
       "       'a': 184,\n",
       "       'd': 57,\n",
       "       'j': 'yellow',\n",
       "       'c': 120,\n",
       "       'h': 'violet',\n",
       "       'b': 170,\n",
       "       'g': 159,\n",
       "       'f': -3,\n",
       "       'i': 99}},\n",
       "     -37,\n",
       "     {'e': 84,\n",
       "      'a': ['violet', 154, 'violet', 123, 'violet', 148, 105, 'yellow', 195],\n",
       "      'd': 'orange',\n",
       "      'c': {'a': 140},\n",
       "      'h': 'yellow',\n",
       "      'b': 159,\n",
       "      'g': 76,\n",
       "      'f': 186},\n",
       "     183],\n",
       "    'a': [{'e': 'yellow',\n",
       "      'a': -2,\n",
       "      'd': 'green',\n",
       "      'c': {'c': 68, 'a': 'red', 'b': 'blue'},\n",
       "      'h': [140, 99, -2, 'green', 'orange', 'orange', -14, 60, 'red', 'green'],\n",
       "      'b': 'violet',\n",
       "      'g': 1,\n",
       "      'f': ['yellow', 'violet'],\n",
       "      'i': 142},\n",
       "     {'e': {'a': 76, 'b': -17},\n",
       "      'c': 46,\n",
       "      'a': [76, 1, 79, 36, -25, 'yellow', 0],\n",
       "      'g': 'yellow',\n",
       "      'b': 185,\n",
       "      'd': 54,\n",
       "      'f': 'green'}],\n",
       "    'b': {'e': 127,\n",
       "     'a': [['violet'], 115, 114, 'red', 'orange', 83, -17, -2],\n",
       "     'd': {'e': 198, 'c': 'red', 'a': 46, 'b': 77, 'd': 'green'},\n",
       "     'c': 140,\n",
       "     'h': 'orange',\n",
       "     'b': 89,\n",
       "     'g': 149,\n",
       "     'f': 'orange'}},\n",
       "   'a': 'blue',\n",
       "   'g': 62,\n",
       "   'b': 'orange',\n",
       "   'd': 'violet',\n",
       "   'f': {'e': -11,\n",
       "    'a': [29,\n",
       "     'yellow',\n",
       "     'yellow',\n",
       "     187,\n",
       "     'orange',\n",
       "     {'e': 147,\n",
       "      'a': 197,\n",
       "      'd': ['green', 182, -2, 95, -8, 110, -38],\n",
       "      'c': 'violet',\n",
       "      'h': 187,\n",
       "      'b': 90,\n",
       "      'g': 22,\n",
       "      'f': 'yellow',\n",
       "      'i': 'green'},\n",
       "     {'a': ['blue', 'red', 140], 'b': 'violet'},\n",
       "     'blue',\n",
       "     76,\n",
       "     59],\n",
       "    'd': -26,\n",
       "    'c': [{'a': 'orange', 'b': 179},\n",
       "     'red',\n",
       "     {'e': 'violet',\n",
       "      'c': 'orange',\n",
       "      'a': 'blue',\n",
       "      'g': 'violet',\n",
       "      'b': 25,\n",
       "      'd': 149,\n",
       "      'f': -27},\n",
       "     {'e': 'green',\n",
       "      'a': 'yellow',\n",
       "      'd': 'violet',\n",
       "      'j': {'c': 67, 'a': 179, 'b': 53},\n",
       "      'c': 145,\n",
       "      'h': -4,\n",
       "      'b': 'blue',\n",
       "      'g': 11,\n",
       "      'f': 'blue',\n",
       "      'i': 'violet'}],\n",
       "    'h': 'red',\n",
       "    'b': 'blue',\n",
       "    'g': {'e': 'yellow',\n",
       "     'c': [93, 12, 118, -7, 125, 93, 'yellow', 182, 113, 'yellow'],\n",
       "     'a': 'green',\n",
       "     'b': 'green',\n",
       "     'd': 'violet'},\n",
       "    'f': 'green',\n",
       "    'i': 'green'}},\n",
       "  [7]],\n",
       " 'd': [[[42,\n",
       "    67,\n",
       "    {'e': 'yellow',\n",
       "     'a': 'orange',\n",
       "     'd': {'e': 'orange',\n",
       "      'c': 'green',\n",
       "      'a': -26,\n",
       "      'g': [68, 162, 'orange', 'red'],\n",
       "      'b': 105,\n",
       "      'd': 52,\n",
       "      'f': 'yellow'},\n",
       "     'c': {'e': 'orange',\n",
       "      'a': 'orange',\n",
       "      'd': 120,\n",
       "      'c': 'blue',\n",
       "      'h': [172, 'orange', 171, -40, 139, 161, 'yellow', 197],\n",
       "      'b': 'yellow',\n",
       "      'g': [162, 'orange', 2],\n",
       "      'f': 'yellow',\n",
       "      'i': 'orange'},\n",
       "     'h': -21,\n",
       "     'b': 'green',\n",
       "     'g': {'e': 33,\n",
       "      'a': 6,\n",
       "      'd': 'violet',\n",
       "      'c': 193,\n",
       "      'h': 89,\n",
       "      'b': 56,\n",
       "      'g': 146,\n",
       "      'f': {'c': -46, 'a': 'green', 'b': 161},\n",
       "      'i': 149},\n",
       "     'f': 65},\n",
       "    [['yellow', 31, -4],\n",
       "     'red',\n",
       "     -27,\n",
       "     21,\n",
       "     {'e': {'e': -25,\n",
       "       'a': -1,\n",
       "       'd': 'violet',\n",
       "       'c': 'violet',\n",
       "       'h': 'blue',\n",
       "       'b': 'green',\n",
       "       'g': 'violet',\n",
       "       'f': 'orange',\n",
       "       'i': 'yellow'},\n",
       "      'c': 'orange',\n",
       "      'a': 'orange',\n",
       "      'g': 'orange',\n",
       "      'b': 60,\n",
       "      'd': {'e': 'yellow',\n",
       "       'c': 'green',\n",
       "       'a': 'yellow',\n",
       "       'g': 'violet',\n",
       "       'b': 134,\n",
       "       'd': 149,\n",
       "       'f': 'yellow'},\n",
       "      'f': 'blue'},\n",
       "     'violet',\n",
       "     [66, 'green', 25, 106, 'red', 'orange'],\n",
       "     {'a': {'e': 'orange',\n",
       "       'a': 95,\n",
       "       'd': 'red',\n",
       "       'c': 176,\n",
       "       'h': 179,\n",
       "       'b': 87,\n",
       "       'g': 195,\n",
       "       'f': 71,\n",
       "       'i': 'violet'},\n",
       "      'b': 14},\n",
       "     55],\n",
       "    'blue'],\n",
       "   [[62,\n",
       "     'violet',\n",
       "     58,\n",
       "     [-42,\n",
       "      'orange',\n",
       "      {'e': 186,\n",
       "       'a': 'orange',\n",
       "       'd': 'green',\n",
       "       'j': 100,\n",
       "       'c': 163,\n",
       "       'h': -9,\n",
       "       'b': 'green',\n",
       "       'g': 'orange',\n",
       "       'f': -8,\n",
       "       'i': 'orange'},\n",
       "      'red',\n",
       "      12,\n",
       "      'orange',\n",
       "      -3,\n",
       "      162,\n",
       "      'green'],\n",
       "     'violet',\n",
       "     94,\n",
       "     'orange',\n",
       "     41,\n",
       "     58,\n",
       "     'violet'],\n",
       "    [['green', 'green', 'red'],\n",
       "     'red',\n",
       "     128,\n",
       "     'blue',\n",
       "     'yellow',\n",
       "     'yellow',\n",
       "     {'e': 'yellow',\n",
       "      'a': 193,\n",
       "      'd': ['orange', 134],\n",
       "      'j': ['green', 45, 195, 123, 50, 61],\n",
       "      'c': 'violet',\n",
       "      'h': -39,\n",
       "      'b': 13,\n",
       "      'g': 'yellow',\n",
       "      'f': {'e': -33, 'c': 26, 'a': 83, 'b': 122, 'd': 'orange'},\n",
       "      'i': 'orange'},\n",
       "     'blue',\n",
       "     46,\n",
       "     'yellow'],\n",
       "    'yellow',\n",
       "    'yellow',\n",
       "    30,\n",
       "    [158,\n",
       "     {'c': 'green', 'a': 68, 'b': 122},\n",
       "     {'e': 95, 'c': 'orange', 'a': 'green', 'b': 115, 'd': 180, 'f': 'yellow'},\n",
       "     [194,\n",
       "      -29,\n",
       "      'orange',\n",
       "      'violet',\n",
       "      {'e': 173,\n",
       "       'a': 193,\n",
       "       'd': 'green',\n",
       "       'j': 'blue',\n",
       "       'c': 'blue',\n",
       "       'h': 'green',\n",
       "       'b': 'yellow',\n",
       "       'g': 'green',\n",
       "       'f': 186,\n",
       "       'i': 'red'},\n",
       "      135],\n",
       "     'violet']],\n",
       "   'yellow',\n",
       "   144,\n",
       "   ['violet',\n",
       "    'red',\n",
       "    {'a': [121], 'b': 134},\n",
       "    {'a': -23, 'b': 'violet'},\n",
       "    [7],\n",
       "    [101,\n",
       "     181,\n",
       "     'yellow',\n",
       "     {'e': 'violet', 'c': 'green', 'a': 56, 'b': 'green', 'd': 175}]],\n",
       "   'violet',\n",
       "   {'c': 'green',\n",
       "    'a': {'e': 'green',\n",
       "     'c': -42,\n",
       "     'a': -49,\n",
       "     'b': [['orange', 'yellow', -17, 'orange', -11, -41, 'red', 32],\n",
       "      'blue',\n",
       "      46,\n",
       "      {'a': 'yellow', 'b': 'violet'}],\n",
       "     'd': 'red',\n",
       "     'f': ['violet', 'violet', -11]},\n",
       "    'b': ['orange',\n",
       "     {'e': 62,\n",
       "      'c': 'violet',\n",
       "      'a': -5,\n",
       "      'b': 39,\n",
       "      'd': [122, 129, 'violet', 'orange']},\n",
       "     'green']}]],\n",
       " 'f': {'e': {'e': [{'e': {'a': 'violet'},\n",
       "     'c': 171,\n",
       "     'a': {'a': {'e': 122,\n",
       "       'a': 'blue',\n",
       "       'd': 164,\n",
       "       'j': 54,\n",
       "       'c': 'violet',\n",
       "       'h': -1,\n",
       "       'b': 148,\n",
       "       'g': 'blue',\n",
       "       'f': 190,\n",
       "       'i': -37}},\n",
       "     'b': [{'a': 158},\n",
       "      'blue',\n",
       "      26,\n",
       "      {'e': 'violet',\n",
       "       'c': 'green',\n",
       "       'a': 64,\n",
       "       'g': 36,\n",
       "       'b': 'blue',\n",
       "       'd': 'blue',\n",
       "       'f': 'green'},\n",
       "      'violet',\n",
       "      125,\n",
       "      'orange'],\n",
       "     'd': 'violet'},\n",
       "    'yellow',\n",
       "    {'c': {'e': -46,\n",
       "      'c': 121,\n",
       "      'a': 191,\n",
       "      'g': 'blue',\n",
       "      'b': 67,\n",
       "      'd': -25,\n",
       "      'f': 'blue'},\n",
       "     'a': 'orange',\n",
       "     'b': {'a': 108, 'b': ['red', -48]}},\n",
       "    {'e': 116,\n",
       "     'c': 'green',\n",
       "     'a': -34,\n",
       "     'g': 59,\n",
       "     'b': 'yellow',\n",
       "     'd': 37,\n",
       "     'f': {'e': -3,\n",
       "      'a': 105,\n",
       "      'd': 'red',\n",
       "      'c': 'red',\n",
       "      'h': 'green',\n",
       "      'b': 27,\n",
       "      'g': 189,\n",
       "      'f': 'violet'}},\n",
       "    'red',\n",
       "    ['yellow',\n",
       "     152,\n",
       "     {'e': 'red',\n",
       "      'a': [164, 155, 'green', 'yellow'],\n",
       "      'd': 79,\n",
       "      'c': 'violet',\n",
       "      'h': {'e': 'blue',\n",
       "       'c': 53,\n",
       "       'a': 'orange',\n",
       "       'b': -43,\n",
       "       'd': 'violet',\n",
       "       'f': 'orange'},\n",
       "      'b': 32,\n",
       "      'g': 'green',\n",
       "      'f': 'green',\n",
       "      'i': 23},\n",
       "     'red',\n",
       "     'violet',\n",
       "     -37,\n",
       "     [['green', 'violet', 131, -18, 'green'], 48, 6, 'red', 83],\n",
       "     152,\n",
       "     181,\n",
       "     75],\n",
       "    {'e': [116, 100, 'red', {'a': 156}, 'green'],\n",
       "     'c': 'red',\n",
       "     'a': 170,\n",
       "     'g': [28, 59, 'violet', 'violet', 144],\n",
       "     'b': 13,\n",
       "     'd': {'a': 'yellow', 'b': 'blue'},\n",
       "     'f': {'e': -45,\n",
       "      'c': 'orange',\n",
       "      'a': 'orange',\n",
       "      'b': 'green',\n",
       "      'd': ['orange', 'orange', 98, -13, 'yellow', 183, 193, 'green'],\n",
       "      'f': 'green'}},\n",
       "    128,\n",
       "    ['green']],\n",
       "   'a': {'e': {'e': 'green',\n",
       "     'a': 'yellow',\n",
       "     'd': {'c': -48,\n",
       "      'a': ['violet', 195, 77, -13, 'green', 'red'],\n",
       "      'b': 'blue',\n",
       "      'd': 'red'},\n",
       "     'c': 'violet',\n",
       "     'h': [-13, 'green'],\n",
       "     'b': 27,\n",
       "     'g': -37,\n",
       "     'f': 197},\n",
       "    'c': 68,\n",
       "    'a': -23,\n",
       "    'b': 93,\n",
       "    'd': 'orange',\n",
       "    'f': {'a': 'green', 'b': -4}},\n",
       "   'd': [-48],\n",
       "   'c': [['violet',\n",
       "     'blue',\n",
       "     'orange',\n",
       "     {'e': 42,\n",
       "      'c': 66,\n",
       "      'a': ['blue', 'blue', 'orange', 144, 130, 'red', 'violet', 'red', 112],\n",
       "      'b': 'blue',\n",
       "      'd': 192},\n",
       "     'orange',\n",
       "     ['orange', 4, 'violet', -47, 'orange'],\n",
       "     ['violet',\n",
       "      'yellow',\n",
       "      54,\n",
       "      {'c': 47, 'a': 'yellow', 'b': 'red'},\n",
       "      {'a': 'violet'},\n",
       "      151,\n",
       "      -30,\n",
       "      'orange',\n",
       "      'red'],\n",
       "     -31,\n",
       "     'blue'],\n",
       "    135,\n",
       "    {'e': 'red',\n",
       "     'a': [5, 117],\n",
       "     'd': 119,\n",
       "     'j': 189,\n",
       "     'c': {'e': 134,\n",
       "      'a': 142,\n",
       "      'd': 'orange',\n",
       "      'j': 189,\n",
       "      'c': 'red',\n",
       "      'h': 'violet',\n",
       "      'b': 'yellow',\n",
       "      'g': 122,\n",
       "      'f': {'c': 'orange', 'a': 'violet', 'b': 'yellow'},\n",
       "      'i': 107},\n",
       "     'h': 109,\n",
       "     'b': 15,\n",
       "     'g': [157, 135, 122, -34, 168, 'green', -19, 13, 64],\n",
       "     'f': {'e': 'blue',\n",
       "      'c': 174,\n",
       "      'a': 187,\n",
       "      'g': 'violet',\n",
       "      'b': 36,\n",
       "      'd': 80,\n",
       "      'f': 188},\n",
       "     'i': -10},\n",
       "    60,\n",
       "    'orange',\n",
       "    146,\n",
       "    {'e': -8,\n",
       "     'a': {'a': 63},\n",
       "     'd': 'green',\n",
       "     'c': 67,\n",
       "     'h': ['blue',\n",
       "      'yellow',\n",
       "      'red',\n",
       "      'blue',\n",
       "      ['yellow', 189, 'orange', 'green'],\n",
       "      'orange',\n",
       "      'violet'],\n",
       "     'b': -29,\n",
       "     'g': 'orange',\n",
       "     'f': ['violet', 'green', 'orange']},\n",
       "    {'e': 'violet',\n",
       "     'c': 'red',\n",
       "     'a': -45,\n",
       "     'g': [45,\n",
       "      'green',\n",
       "      -24,\n",
       "      -7,\n",
       "      {'a': 67, 'b': 'red'},\n",
       "      'orange',\n",
       "      188,\n",
       "      ['red', 'blue', 'red'],\n",
       "      47,\n",
       "      133],\n",
       "     'b': {'e': 112,\n",
       "      'a': 76,\n",
       "      'd': 'yellow',\n",
       "      'j': 93,\n",
       "      'c': 'orange',\n",
       "      'h': 137,\n",
       "      'b': 154,\n",
       "      'g': ['orange', 'red', 'yellow', -26, 'orange'],\n",
       "      'f': -3,\n",
       "      'i': 'yellow'},\n",
       "     'd': {'e': 'violet', 'c': 48, 'a': 174, 'b': 'green', 'd': 189},\n",
       "     'f': [69, 'red', {'a': 'green', 'b': 'blue'}, 'red', {'a': 85}]},\n",
       "    {'e': 'violet',\n",
       "     'c': {'e': 'violet',\n",
       "      'c': 'red',\n",
       "      'a': -22,\n",
       "      'b': 3,\n",
       "      'd': {'e': 185,\n",
       "       'c': 52,\n",
       "       'a': 'yellow',\n",
       "       'b': 165,\n",
       "       'd': 'blue',\n",
       "       'f': 'yellow'}},\n",
       "     'a': 45,\n",
       "     'b': 'green',\n",
       "     'd': 'blue'}],\n",
       "   'h': 'orange',\n",
       "   'b': {'e': 'red',\n",
       "    'c': 68,\n",
       "    'a': 171,\n",
       "    'g': -30,\n",
       "    'b': 'orange',\n",
       "    'd': 'violet',\n",
       "    'f': {'c': 22, 'a': ['green'], 'b': 148}},\n",
       "   'g': {'e': 77,\n",
       "    'c': 28,\n",
       "    'a': ['green',\n",
       "     'green',\n",
       "     {'a': 'violet', 'b': 115},\n",
       "     {'e': 59,\n",
       "      'a': 198,\n",
       "      'd': 'violet',\n",
       "      'c': 'yellow',\n",
       "      'h': -38,\n",
       "      'b': 'violet',\n",
       "      'g': 69,\n",
       "      'f': 'violet',\n",
       "      'i': -12},\n",
       "     35],\n",
       "    'b': 'blue',\n",
       "    'd': {'e': [-20, 'orange', 'green', 116, 'yellow', -21],\n",
       "     'c': 'red',\n",
       "     'a': 'green',\n",
       "     'b': 160,\n",
       "     'd': ['violet', -49, 'yellow', [46, 'blue', 196]]}},\n",
       "   'f': [162,\n",
       "    {'c': [-30, 'violet'], 'a': 'blue', 'b': 'blue', 'd': 83},\n",
       "    'blue'],\n",
       "   'i': 'green'},\n",
       "  'a': ['blue',\n",
       "   {'e': {'e': 131,\n",
       "     'c': 'yellow',\n",
       "     'a': 'blue',\n",
       "     'g': {'e': 'yellow',\n",
       "      'c': 70,\n",
       "      'a': {'e': 53, 'c': 100, 'a': 162, 'b': -7, 'd': -14, 'f': 'orange'},\n",
       "      'b': 'yellow',\n",
       "      'd': 'green',\n",
       "      'f': 149},\n",
       "     'b': [184, 'green', 'blue', -38, 193, 75, 156],\n",
       "     'd': 96,\n",
       "     'f': {'e': 177,\n",
       "      'c': 0,\n",
       "      'a': {'c': 'red', 'a': -23, 'b': 'yellow', 'd': -37},\n",
       "      'g': 149,\n",
       "      'b': 'blue',\n",
       "      'd': 61,\n",
       "      'f': 78}},\n",
       "    'c': -21,\n",
       "    'a': [{'e': {'a': 'yellow'},\n",
       "      'c': 71,\n",
       "      'a': {'e': -46,\n",
       "       'a': 'yellow',\n",
       "       'd': 'green',\n",
       "       'c': 78,\n",
       "       'h': 59,\n",
       "       'b': 'green',\n",
       "       'g': 189,\n",
       "       'f': 'red',\n",
       "       'i': 'red'},\n",
       "      'b': 'yellow',\n",
       "      'd': {'e': 'violet',\n",
       "       'c': 'violet',\n",
       "       'a': 'orange',\n",
       "       'b': 189,\n",
       "       'd': 21,\n",
       "       'f': 71},\n",
       "      'f': 15},\n",
       "     'green',\n",
       "     150,\n",
       "     'yellow'],\n",
       "    'b': 101,\n",
       "    'd': 'blue',\n",
       "    'f': 'blue'},\n",
       "   'green',\n",
       "   [[-10, {'c': 61, 'a': 99, 'b': 'green'}],\n",
       "    'violet',\n",
       "    ['blue', -41],\n",
       "    54,\n",
       "    [194, 146, 'green', 90, 'violet', 'violet', -5, 'red'],\n",
       "    {'e': 114,\n",
       "     'a': 'green',\n",
       "     'd': {'e': 'blue',\n",
       "      'a': 'blue',\n",
       "      'd': ['yellow', 10, 'blue', 86, 44, 'violet', 'red', 'red'],\n",
       "      'c': 94,\n",
       "      'h': {'e': 'red',\n",
       "       'c': 'blue',\n",
       "       'a': 89,\n",
       "       'g': 197,\n",
       "       'b': 148,\n",
       "       'd': 91,\n",
       "       'f': 52},\n",
       "      'b': 'orange',\n",
       "      'g': 'red',\n",
       "      'f': 'green'},\n",
       "     'c': [96, 127, 29],\n",
       "     'h': 'blue',\n",
       "     'b': 'green',\n",
       "     'g': 'yellow',\n",
       "     'f': {'e': 'green',\n",
       "      'a': 'blue',\n",
       "      'd': 'orange',\n",
       "      'j': 40,\n",
       "      'c': 'red',\n",
       "      'h': 92,\n",
       "      'b': -49,\n",
       "      'g': -34,\n",
       "      'f': 8,\n",
       "      'i': 125},\n",
       "     'i': -30},\n",
       "    {'a': 154, 'b': 100}]],\n",
       "  'd': {'c': {'a': 'violet', 'b': 'violet'},\n",
       "   'a': 'yellow',\n",
       "   'b': {'e': [83,\n",
       "     'red',\n",
       "     ['green', {'a': 'violet'}, 126, 105, 86],\n",
       "     [['blue', -40, 148, 'blue'],\n",
       "      168,\n",
       "      'red',\n",
       "      'green',\n",
       "      ['green', 41, 93, 'red', -19],\n",
       "      32,\n",
       "      'violet',\n",
       "      'violet',\n",
       "      'blue',\n",
       "      'yellow'],\n",
       "     {'a': 'yellow', 'b': 'green'},\n",
       "     [85, 164],\n",
       "     17,\n",
       "     60,\n",
       "     66,\n",
       "     {'c': 'yellow', 'a': 'yellow', 'b': -10, 'd': 'yellow'}],\n",
       "    'a': [109, 28, 52, [118, 'violet'], {'a': 'blue'}, 10, 163, 'green', -21],\n",
       "    'd': 'green',\n",
       "    'c': 'green',\n",
       "    'h': ['violet', 'violet'],\n",
       "    'b': 'blue',\n",
       "    'g': {'e': -22,\n",
       "     'c': ['yellow', 119, 127],\n",
       "     'a': 'green',\n",
       "     'g': 1,\n",
       "     'b': [{'a': 100, 'b': 'yellow'},\n",
       "      63,\n",
       "      41,\n",
       "      168,\n",
       "      152,\n",
       "      'yellow',\n",
       "      198,\n",
       "      -14,\n",
       "      30,\n",
       "      103],\n",
       "     'd': 'violet',\n",
       "     'f': ['blue', 135, 'yellow', 'green', 'yellow', ['yellow', 35, 91, 182]]},\n",
       "    'f': 'yellow',\n",
       "    'i': {'c': 'green',\n",
       "     'a': [{'a': 'yellow'}, 'green', 'orange', 50, 117, 94, 'red', 89],\n",
       "     'b': 'red'}}},\n",
       "  'j': {'e': {'e': {'a': 70},\n",
       "    'c': ['blue', 'violet'],\n",
       "    'a': 113,\n",
       "    'b': {'e': 'yellow', 'c': -9, 'a': 135, 'b': 'yellow', 'd': 81},\n",
       "    'd': {'e': 189,\n",
       "     'a': -19,\n",
       "     'd': -14,\n",
       "     'j': {'e': 'green',\n",
       "      'a': 1,\n",
       "      'd': 'violet',\n",
       "      'c': 'red',\n",
       "      'h': 106,\n",
       "      'b': 'green',\n",
       "      'g': -19,\n",
       "      'f': 192,\n",
       "      'i': 'green'},\n",
       "     'c': 195,\n",
       "     'h': 'yellow',\n",
       "     'b': 'orange',\n",
       "     'g': 45,\n",
       "     'f': 'green',\n",
       "     'i': 'violet'},\n",
       "    'f': 75},\n",
       "   'a': 'violet',\n",
       "   'd': 'blue',\n",
       "   'c': 'red',\n",
       "   'h': 113,\n",
       "   'b': [14,\n",
       "    {'e': 82,\n",
       "     'a': {'e': 59,\n",
       "      'a': 182,\n",
       "      'd': 'yellow',\n",
       "      'c': 'blue',\n",
       "      'h': 'yellow',\n",
       "      'b': 'green',\n",
       "      'g': 93,\n",
       "      'f': 'yellow',\n",
       "      'i': 147},\n",
       "     'd': 58,\n",
       "     'c': 'violet',\n",
       "     'h': {'a': {'e': 27,\n",
       "       'a': 'orange',\n",
       "       'd': 181,\n",
       "       'c': 142,\n",
       "       'h': 195,\n",
       "       'b': 'yellow',\n",
       "       'g': 44,\n",
       "       'f': 'yellow'}},\n",
       "     'b': -14,\n",
       "     'g': 'red',\n",
       "     'f': {'a': 154},\n",
       "     'i': 90},\n",
       "    'orange',\n",
       "    {'a': 'blue', 'b': -11},\n",
       "    ['yellow',\n",
       "     [38, -34, 'orange', 57],\n",
       "     'orange',\n",
       "     98,\n",
       "     'violet',\n",
       "     'violet',\n",
       "     {'a': 134},\n",
       "     [24, 'blue', 'blue', 172, 114],\n",
       "     10],\n",
       "    [{'a': ['yellow', 'green']},\n",
       "     166,\n",
       "     'blue',\n",
       "     ['blue',\n",
       "      {'e': 'blue',\n",
       "       'c': -6,\n",
       "       'a': 'green',\n",
       "       'b': 'green',\n",
       "       'd': 'green',\n",
       "       'f': 50},\n",
       "      -44,\n",
       "      {'e': 'violet',\n",
       "       'a': 'yellow',\n",
       "       'd': -27,\n",
       "       'j': 33,\n",
       "       'c': 'orange',\n",
       "       'h': 146,\n",
       "       'b': 'green',\n",
       "       'g': 30,\n",
       "       'f': 'violet',\n",
       "       'i': 'violet'},\n",
       "      'blue',\n",
       "      'red',\n",
       "      'violet',\n",
       "      6]],\n",
       "    113],\n",
       "   'g': {'e': {'e': 'red',\n",
       "     'a': 125,\n",
       "     'd': 183,\n",
       "     'j': 74,\n",
       "     'c': ['green', 'yellow'],\n",
       "     'h': 12,\n",
       "     'b': ['green', -38, 'yellow'],\n",
       "     'g': 71,\n",
       "     'f': 'blue',\n",
       "     'i': 'blue'},\n",
       "    'a': ['green',\n",
       "     86,\n",
       "     28,\n",
       "     [55, 127, 'blue', 172, 'green', 83, 'green', 'violet', {'a': 53}, 'blue'],\n",
       "     {'a': 181, 'b': 57},\n",
       "     [28, 'violet'],\n",
       "     'red',\n",
       "     {'a': 138},\n",
       "     198],\n",
       "    'd': 'yellow',\n",
       "    'c': [{'e': 'violet',\n",
       "      'c': 65,\n",
       "      'a': 'green',\n",
       "      'b': {'e': 'orange',\n",
       "       'a': 68,\n",
       "       'd': 'orange',\n",
       "       'c': 'green',\n",
       "       'h': 161,\n",
       "       'b': 'green',\n",
       "       'g': 'green',\n",
       "       'f': 13},\n",
       "      'd': -38},\n",
       "     'blue',\n",
       "     {'e': 73,\n",
       "      'a': 40,\n",
       "      'd': 'green',\n",
       "      'c': 'red',\n",
       "      'h': 'yellow',\n",
       "      'b': 117,\n",
       "      'g': 178,\n",
       "      'f': 170},\n",
       "     'yellow',\n",
       "     188],\n",
       "    'h': {'a': -21},\n",
       "    'b': {'c': 86,\n",
       "     'a': ['green', 'green', 170, 'blue', -40, 'yellow', 'red', 10],\n",
       "     'b': [['green',\n",
       "       'yellow',\n",
       "       2,\n",
       "       'violet',\n",
       "       -30,\n",
       "       'yellow',\n",
       "       'red',\n",
       "       -40,\n",
       "       'orange',\n",
       "       'violet'],\n",
       "      'red',\n",
       "      58,\n",
       "      165,\n",
       "      'red'],\n",
       "     'd': 13},\n",
       "    'g': {'a': 63},\n",
       "    'f': 'violet'},\n",
       "   'f': ['green'],\n",
       "   'i': [['yellow',\n",
       "     'yellow',\n",
       "     'red',\n",
       "     {'e': -5,\n",
       "      'c': 124,\n",
       "      'a': 'yellow',\n",
       "      'g': 'violet',\n",
       "      'b': 'orange',\n",
       "      'd': 'violet',\n",
       "      'f': 149},\n",
       "     -16,\n",
       "     9],\n",
       "    'violet',\n",
       "    -43,\n",
       "    {'c': 9, 'a': 52, 'b': 179, 'd': 74},\n",
       "    'violet',\n",
       "    [{'e': -30,\n",
       "      'a': 82,\n",
       "      'd': 'green',\n",
       "      'j': 49,\n",
       "      'c': {'e': 'green',\n",
       "       'a': 'violet',\n",
       "       'd': 'yellow',\n",
       "       'j': 'blue',\n",
       "       'c': 37,\n",
       "       'h': 'violet',\n",
       "       'b': 48,\n",
       "       'g': 12,\n",
       "       'f': 'green',\n",
       "       'i': 'red'},\n",
       "      'h': 58,\n",
       "      'b': ['yellow', 'blue', 'blue', 29, 'orange', 'green', 'green', 0],\n",
       "      'g': 128,\n",
       "      'f': 'orange',\n",
       "      'i': 91},\n",
       "     [181,\n",
       "      'red',\n",
       "      'green',\n",
       "      'violet',\n",
       "      'red',\n",
       "      'green',\n",
       "      'orange',\n",
       "      {'e': 'green',\n",
       "       'a': 'yellow',\n",
       "       'd': 'green',\n",
       "       'c': 24,\n",
       "       'h': 194,\n",
       "       'b': 128,\n",
       "       'g': 'red',\n",
       "       'f': 162,\n",
       "       'i': 'violet'},\n",
       "      191],\n",
       "     'red',\n",
       "     'violet',\n",
       "     'yellow',\n",
       "     'red'],\n",
       "    141,\n",
       "    123]},\n",
       "  'c': {'a': 95},\n",
       "  'h': {'a': 138},\n",
       "  'b': 118,\n",
       "  'g': 'green',\n",
       "  'f': 0,\n",
       "  'i': 'violet'}}"
      ]
     },
     "execution_count": 56,
     "metadata": {},
     "output_type": "execute_result"
    }
   ],
   "source": [
    "import json\n",
    "\n",
    "with open('data2015/day12.txt') as json_file:\n",
    "    data = json.load(json_file)\n",
    "data"
   ]
  },
  {
   "cell_type": "code",
   "execution_count": 57,
   "id": "ec9a2d56",
   "metadata": {},
   "outputs": [
    {
     "data": {
      "text/plain": [
       "dict"
      ]
     },
     "execution_count": 57,
     "metadata": {},
     "output_type": "execute_result"
    }
   ],
   "source": [
    "type(data)"
   ]
  },
  {
   "cell_type": "code",
   "execution_count": 58,
   "id": "ab13288b",
   "metadata": {},
   "outputs": [
    {
     "data": {
      "text/plain": [
       "65402"
      ]
     },
     "execution_count": 58,
     "metadata": {},
     "output_type": "execute_result"
    }
   ],
   "source": [
    "# recursively score each chunk from the whole document down\n",
    "def score_object(obj):\n",
    "    \n",
    "    def score_dict(D):\n",
    "        score = 0\n",
    "        for key in D:\n",
    "            val = D[key]\n",
    "            if val == 'red':\n",
    "                return 0\n",
    "            if type(val) == dict:\n",
    "                score += score_dict(val)\n",
    "            elif type(val) == list:\n",
    "                score += score_list(val)\n",
    "            else:\n",
    "                score += score_other(val)\n",
    "        return score\n",
    "    \n",
    "    def score_list(L):\n",
    "        score = 0\n",
    "        for obj in L:\n",
    "            if type(obj) == dict:\n",
    "                score += score_dict(obj)\n",
    "            elif type(obj) == list:\n",
    "                score += score_list(obj)\n",
    "            else:\n",
    "                score += score_other(obj)\n",
    "        return score\n",
    "    \n",
    "    def score_other(other):\n",
    "        return other if type(other) == int else 0\n",
    "    \n",
    "    score = 0\n",
    "    if type(obj) == dict:\n",
    "        return score_dict(obj)\n",
    "    elif type(obj) == list:\n",
    "        return score_list(obj)\n",
    "    else:\n",
    "        return score_other(obj)\n",
    "    \n",
    "    return score\n",
    "            \n",
    "part2 = score_object(data)\n",
    "part2"
   ]
  },
  {
   "cell_type": "markdown",
   "id": "1d802a7a",
   "metadata": {},
   "source": [
    "<a class=\"anchor\" id=\"day13\"></a>\n",
    "## Day 13\n",
    "\n",
    "Seating arrangements\n",
    "\n",
    "##### Part 1\n"
   ]
  },
  {
   "cell_type": "code",
   "execution_count": 59,
   "id": "d726cbd3",
   "metadata": {},
   "outputs": [
    {
     "data": {
      "text/plain": [
       "{('Alice', 'Bob'): 137,\n",
       " ('Alice', 'Carol'): -141,\n",
       " ('Alice', 'David'): 44,\n",
       " ('Bob', 'Carol'): 53,\n",
       " ('Bob', 'David'): -70,\n",
       " ('Carol', 'David'): 96,\n",
       " ('Bob', 'Alice'): 137,\n",
       " ('Carol', 'Alice'): -141,\n",
       " ('David', 'Alice'): 44,\n",
       " ('Carol', 'Bob'): 53,\n",
       " ('David', 'Bob'): -70,\n",
       " ('David', 'Carol'): 96}"
      ]
     },
     "execution_count": 59,
     "metadata": {},
     "output_type": "execute_result"
    }
   ],
   "source": [
    "sample13 = '''Alice would gain 54 happiness units by sitting next to Bob.\n",
    "Alice would lose 79 happiness units by sitting next to Carol.\n",
    "Alice would lose 2 happiness units by sitting next to David.\n",
    "Bob would gain 83 happiness units by sitting next to Alice.\n",
    "Bob would lose 7 happiness units by sitting next to Carol.\n",
    "Bob would lose 63 happiness units by sitting next to David.\n",
    "Carol would lose 62 happiness units by sitting next to Alice.\n",
    "Carol would gain 60 happiness units by sitting next to Bob.\n",
    "Carol would gain 55 happiness units by sitting next to David.\n",
    "David would gain 46 happiness units by sitting next to Alice.\n",
    "David would lose 7 happiness units by sitting next to Bob.\n",
    "David would gain 41 happiness units by sitting next to Carol.\n",
    "'''\n",
    "\n",
    "def get_happy_dict(text):\n",
    "    hd = dict()\n",
    "    for row in text.split('\\n'):\n",
    "        if row != '':\n",
    "            row = row.split(' ')\n",
    "            p1, p2, val = row[0], row[-1][:-1], int(row[3]) if row[2] == 'gain' else -int(row[3])\n",
    "            if (p2, p1) not in hd:\n",
    "                hd[(p1, p2)] = val\n",
    "            else:\n",
    "                hd[(p2, p1)] += val\n",
    "                \n",
    "    # add reversed pairs with same value to dict for easier lookup later\n",
    "    revs = {(k2, k1): v for (k1, k2), v in hd.items()}\n",
    "    hd.update(revs)\n",
    "    \n",
    "    return hd\n",
    "\n",
    "hd = get_happy_dict(sample13)\n",
    "hd"
   ]
  },
  {
   "cell_type": "code",
   "execution_count": 60,
   "id": "ca9bf4a5",
   "metadata": {},
   "outputs": [
    {
     "data": {
      "text/plain": [
       "(330, ['Bob', 'Carol', 'David', 'Alice'])"
      ]
     },
     "execution_count": 60,
     "metadata": {},
     "output_type": "execute_result"
    }
   ],
   "source": [
    "import itertools\n",
    "def find_best_arrangement(happy_dict, include_you=False):\n",
    "    \n",
    "    # get the unique people from the happy dict\n",
    "    people = list(set([person for pair in happy_dict.keys() for person in pair]))\n",
    "    \n",
    "    if include_you:\n",
    "        happy_dict.update({('you', person): 0 for person in people})\n",
    "        happy_dict.update({(person, 'you'): 0 for person in people})\n",
    "        people.append('you')\n",
    "        \n",
    "    # to get all permuations *unique up to rotation*, find permutations of first n-1 items, then append nth to all of them\n",
    "    orderings = list(itertools.permutations(people[:-1]))\n",
    "    orderings = [people[-1:] + list(order) for order in orderings]\n",
    "    \n",
    "    # score each arrangement\n",
    "    best_score, best_order = 0, []\n",
    "    for order in orderings:\n",
    "        score = 0\n",
    "        for i in range(len(people)-1):\n",
    "            score += happy_dict[(order[i], order[i+1])]\n",
    "        score += happy_dict[(order[-1], order[0])]\n",
    "        if score > best_score:\n",
    "            best_score = score\n",
    "            best_order = order\n",
    "            \n",
    "    return best_score, best_order\n",
    "\n",
    "find_best_arrangement(hd)"
   ]
  },
  {
   "cell_type": "code",
   "execution_count": 61,
   "id": "a2f4201c",
   "metadata": {},
   "outputs": [],
   "source": [
    "with open('data2015/day13.txt') as f13:\n",
    "    happy_dict = get_happy_dict(f13.read())"
   ]
  },
  {
   "cell_type": "code",
   "execution_count": 62,
   "id": "2e8cbfe5",
   "metadata": {},
   "outputs": [
    {
     "data": {
      "text/plain": [
       "(709, ['Bob', 'Mallory', 'Eric', 'Carol', 'Frank', 'David', 'George', 'Alice'])"
      ]
     },
     "execution_count": 62,
     "metadata": {},
     "output_type": "execute_result"
    }
   ],
   "source": [
    "part1 = find_best_arrangement(happy_dict, include_you=False)\n",
    "part1"
   ]
  },
  {
   "cell_type": "code",
   "execution_count": 63,
   "id": "052a6871",
   "metadata": {},
   "outputs": [
    {
     "data": {
      "text/plain": [
       "(668,\n",
       " ['you',\n",
       "  'Frank',\n",
       "  'Carol',\n",
       "  'Eric',\n",
       "  'Mallory',\n",
       "  'Bob',\n",
       "  'Alice',\n",
       "  'George',\n",
       "  'David'])"
      ]
     },
     "execution_count": 63,
     "metadata": {},
     "output_type": "execute_result"
    }
   ],
   "source": [
    "part2 = find_best_arrangement(happy_dict, include_you=True)\n",
    "part2"
   ]
  },
  {
   "cell_type": "markdown",
   "id": "8bf2a22c",
   "metadata": {},
   "source": [
    "<a class=\"anchor\" id=\"day14\"></a>\n",
    "## Day 14\n",
    "\n",
    "Reindeer Race\n",
    "\n",
    "##### Part 1\n",
    "After 2503 seconds, what is the distance traveled by the winning reindeer?\n",
    "\n",
    "##### Part 2\n",
    "Now each second the reindeer in the lead gets one point (or all that are tied for the lead). What is the most number of points any reindeer has after 2503 seconds?\n",
    "\n",
    "*Wrote a Reindeer class for this one in day14reindeer.py*"
   ]
  },
  {
   "cell_type": "code",
   "execution_count": 64,
   "id": "283346c4-410c-4f45-9004-27dce4a36dc9",
   "metadata": {},
   "outputs": [],
   "source": [
    "from data2015.day14reindeer import Reindeer"
   ]
  },
  {
   "cell_type": "code",
   "execution_count": 65,
   "id": "d6e8976c",
   "metadata": {},
   "outputs": [
    {
     "name": "stdout",
     "output_type": "stream",
     "text": [
      "Comet 1120\n",
      "Dancer 1056\n"
     ]
    }
   ],
   "source": [
    "sample = '''Comet can fly 14 km/s for 10 seconds, but then must rest for 127 seconds.\n",
    "Dancer can fly 16 km/s for 11 seconds, but then must rest for 162 seconds.\n",
    "'''\n",
    "\n",
    "def initialize_race(text):\n",
    "    alldeer = []\n",
    "    for row in text.split('\\n')[:-1]:\n",
    "        row = row.split(' ')\n",
    "        name, speed, mft, mrt = row[0], int(row[3]), int(row[6]), int(row[-2])\n",
    "        alldeer.append(Reindeer(name, speed, mft, mrt))\n",
    "    return alldeer\n",
    "\n",
    "alldeer = initialize_race(sample)\n",
    "for t in range(1000):\n",
    "    for deer in alldeer:\n",
    "        deer.do_second()\n",
    "\n",
    "for deer in alldeer:\n",
    "    print(deer.name, deer.distance)\n",
    "    "
   ]
  },
  {
   "cell_type": "code",
   "execution_count": 66,
   "id": "a709d13e-6031-45fb-bce2-06eaed2fff00",
   "metadata": {},
   "outputs": [],
   "source": [
    "actual14 = '''Dancer can fly 27 km/s for 5 seconds, but then must rest for 132 seconds.\n",
    "Cupid can fly 22 km/s for 2 seconds, but then must rest for 41 seconds.\n",
    "Rudolph can fly 11 km/s for 5 seconds, but then must rest for 48 seconds.\n",
    "Donner can fly 28 km/s for 5 seconds, but then must rest for 134 seconds.\n",
    "Dasher can fly 4 km/s for 16 seconds, but then must rest for 55 seconds.\n",
    "Blitzen can fly 14 km/s for 3 seconds, but then must rest for 38 seconds.\n",
    "Prancer can fly 3 km/s for 21 seconds, but then must rest for 40 seconds.\n",
    "Comet can fly 18 km/s for 6 seconds, but then must rest for 103 seconds.\n",
    "Vixen can fly 18 km/s for 5 seconds, but then must rest for 84 seconds.\n",
    "'''"
   ]
  },
  {
   "cell_type": "code",
   "execution_count": 67,
   "id": "96dd2ae5-d321-4d45-ae3c-62ee683ecbf3",
   "metadata": {},
   "outputs": [
    {
     "name": "stdout",
     "output_type": "stream",
     "text": [
      "Dancer 2565\n",
      "Cupid 2596\n",
      "Rudolph 2640\n",
      "Donner 2548\n",
      "Dasher 2304\n",
      "Blitzen 2590\n",
      "Prancer 2589\n",
      "Comet 2484\n",
      "Vixen 2610\n",
      "\n",
      "2640\n"
     ]
    }
   ],
   "source": [
    "alldeer = initialize_race(actual14)\n",
    "for t in range(2503):\n",
    "    for deer in alldeer:\n",
    "        deer.do_second()\n",
    "\n",
    "for deer in alldeer:\n",
    "    print(deer.name, deer.distance)\n",
    "print()\n",
    "part1 = print(max(deer.distance for deer in alldeer))\n",
    "part1"
   ]
  },
  {
   "cell_type": "code",
   "execution_count": 68,
   "id": "1e8b0066-469c-4bdb-949f-362ec7adcbb8",
   "metadata": {},
   "outputs": [
    {
     "name": "stdout",
     "output_type": "stream",
     "text": [
      "Dancer 164\n",
      "Cupid 46\n",
      "Rudolph 647\n",
      "Donner 1102\n",
      "Dasher 0\n",
      "Blitzen 6\n",
      "Prancer 176\n",
      "Comet 213\n",
      "Vixen 360\n",
      "\n"
     ]
    },
    {
     "data": {
      "text/plain": [
       "1102"
      ]
     },
     "execution_count": 68,
     "metadata": {},
     "output_type": "execute_result"
    }
   ],
   "source": [
    "alldeer = initialize_race(actual14)\n",
    "for t in range(2503):\n",
    "    for deer in alldeer:\n",
    "        deer.do_second()\n",
    "    best_dist = max(deer.distance for deer in alldeer)\n",
    "    for deer in alldeer:\n",
    "        if deer.distance == best_dist:\n",
    "            deer.get_point()\n",
    "        \n",
    "        \n",
    "for deer in alldeer:\n",
    "    print(deer.name, deer.points)\n",
    "print()\n",
    "part2 = max(deer.points for deer in alldeer)\n",
    "part2"
   ]
  },
  {
   "cell_type": "markdown",
   "id": "30bab9a3-2659-45de-a4fe-ad202b8b695c",
   "metadata": {},
   "source": [
    "<a class=\"anchor\" id=\"day15\"></a>\n",
    "## Day 15\n",
    "\n",
    "Each cookie ingredient has different properties that, when mixed in different portions, result in cookies with different scores. Each cookie gets 100 total parts in its ingredients (for the sample, might have 31 parts butterscotch and 69 parts cinnamon).\n",
    "\n",
    "##### Part 1\n",
    "Find the maximum possible score for a cook with the given ingredients/properties. Score by taking the dot product of amounts and property values for each property, then find those dot products' scalar product.  Any dot product that results in a negative value should be set to zero (so that the overall scalar product score for that cookie will be 0). Do not use calories for Part 1.\n",
    "    \n",
    "##### Part 2\n",
    "Now, find the optimal score for a cookie that has 500 calories.\n",
    "\n",
    "(to implement code for Part1 vs. Part2, just modify the \"counting_calories\" boolean variable)\n",
    "    "
   ]
  },
  {
   "cell_type": "code",
   "execution_count": 69,
   "id": "54933315-8b2d-4c3b-bf45-efb8e431d0d0",
   "metadata": {},
   "outputs": [
    {
     "name": "stdout",
     "output_type": "stream",
     "text": [
      "['Butterscotch', 'Cinnamon']\n"
     ]
    },
    {
     "data": {
      "text/plain": [
       "(62842880, 44)"
      ]
     },
     "execution_count": 69,
     "metadata": {},
     "output_type": "execute_result"
    }
   ],
   "source": [
    "sample = {'Butterscotch': {'capacity': -1, 'durability': -2, 'flavor': 6, 'texture': 3, 'calories': 8}, \n",
    "          'Cinnamon': {'capacity': 2, 'durability': 3, 'flavor': -2, 'texture': -1, 'calories': 3}}\n",
    "\n",
    "ings = list(sample.keys())\n",
    "props = list(sample['Cinnamon'].keys())\n",
    "print(ings)\n",
    "final_prods = []\n",
    "for i in range(1, 100):\n",
    "    a = i\n",
    "    b = 100 - i\n",
    "    results = [a*sample[ings[0]][prop] + b*sample[ings[1]][prop] for prop in props if prop != 'calories']\n",
    "    results = [result if result > 0 else 0 for result in results]\n",
    "    prod = 1\n",
    "    for result in results:\n",
    "        prod *= result\n",
    "    final_prods.append((prod, i))\n",
    "\n",
    "max(final_prods)\n",
    "    "
   ]
  },
  {
   "cell_type": "code",
   "execution_count": 70,
   "id": "4960cf7a-1e33-4f59-acf8-393d5b4581ac",
   "metadata": {},
   "outputs": [
    {
     "data": {
      "text/plain": [
       "(11171160, (27, 27, 15, 31))"
      ]
     },
     "execution_count": 70,
     "metadata": {},
     "output_type": "execute_result"
    }
   ],
   "source": [
    "actual15 = {'Sprinkles': {'capacity': 5, 'durability': -1, 'flavor': 0, 'texture': 0, 'calories': 5},\n",
    "            'PeanutButter': {'capacity': -1, 'durability': 3, 'flavor': 0, 'texture': 0, 'calories': 1},\n",
    "            'Frosting': {'capacity': 0, 'durability': -1, 'flavor': 4, 'texture': 0, 'calories': 6},\n",
    "            'Sugar': {'capacity': -1, 'durability': 0, 'flavor': 0, 'texture': 2, 'calories': 8}}\n",
    "\n",
    "ings = list(actual15.keys())\n",
    "props = list(actual15[ings[0]].keys())\n",
    "final_prods = []\n",
    "\n",
    "# set this to False for Part1, True for Part2\n",
    "counting_calories = True\n",
    "\n",
    "for i in range(1, 98):\n",
    "    for j in range(i+1, 99):\n",
    "        for k in range(j+1, 100):\n",
    "            a = i\n",
    "            b = j - i\n",
    "            c = k - j\n",
    "            d = 100 - k\n",
    "            if counting_calories:\n",
    "                cal = 'calories'\n",
    "                calories = a*actual15[ings[0]][cal] + b*actual15[ings[1]][cal] + c*actual15[ings[2]][cal] + d*actual15[ings[3]][cal]\n",
    "                if calories != 500:\n",
    "                    continue\n",
    "            results = [a*actual15[ings[0]][prop] + b*actual15[ings[1]][prop] + c*actual15[ings[2]][prop] + d*actual15[ings[3]][prop]\n",
    "                       for prop in props if prop != 'calories']\n",
    "            results = [result if result > 0 else 0 for result in results]\n",
    "            prod = 1\n",
    "            for result in results:\n",
    "                prod *= result\n",
    "            final_prods.append((prod, (a, b, c, d)))\n",
    "\n",
    "max(final_prods)"
   ]
  },
  {
   "cell_type": "markdown",
   "id": "51dc810a-953c-4d19-a68a-2cfc55b4db93",
   "metadata": {},
   "source": [
    "<a class=\"anchor\" id=\"day16\"></a>\n",
    "## Day 16\n",
    "\n",
    "Find the correct Aunt Sue out of 500 by using what you know about all of them.\n",
    "\n",
    "##### Part 1\n",
    "Given what you remember about each of the 500 Aunt Sues, determine which one must be the one that sent you the present (the correct sue).\n",
    "\n",
    "##### Part 2\n",
    "Now, it turns out that the values for 'cats' and 'trees' represent lower bounds for that value and 'pomeranians' and 'goldfish' represent upper bounds for that value from the correct sue. Now determine the number sue that sent you the present.\n"
   ]
  },
  {
   "cell_type": "code",
   "execution_count": 71,
   "id": "6805a1ab-6acd-406c-a8ae-d88dfcc72b53",
   "metadata": {},
   "outputs": [
    {
     "name": "stdout",
     "output_type": "stream",
     "text": [
      "{'children': 3, 'cats': 7, 'samoyeds': 2, 'pomeranians': 3, 'akitas': 0, 'vizslas': 0, 'goldfish': 5, 'trees': 3, 'cars': 2, 'perfumes': 1} ['children', 'cats', 'samoyeds', 'pomeranians', 'akitas', 'vizslas', 'goldfish', 'trees', 'cars', 'perfumes']\n"
     ]
    }
   ],
   "source": [
    "correct_sue = '''children: 3\n",
    "cats: 7\n",
    "samoyeds: 2\n",
    "pomeranians: 3\n",
    "akitas: 0\n",
    "vizslas: 0\n",
    "goldfish: 5\n",
    "trees: 3\n",
    "cars: 2\n",
    "perfumes: 1'''\n",
    "\n",
    "correct_sue_dict = {row.split(': ')[0]: int(row.split(': ')[1]) for row in correct_sue.split('\\n')}\n",
    "correct_sue_dict\n",
    "columns = list(correct_sue_dict.keys())\n",
    "print(correct_sue_dict, columns)"
   ]
  },
  {
   "cell_type": "code",
   "execution_count": 72,
   "id": "ca983b40-2065-4f1b-99ef-d12dc889c4e3",
   "metadata": {},
   "outputs": [
    {
     "data": {
      "text/plain": [
       "['Sue 1: children: 1, cars: 8, vizslas: 7',\n",
       " 'Sue 2: akitas: 10, perfumes: 10, children: 5',\n",
       " 'Sue 3: cars: 5, pomeranians: 4, vizslas: 1',\n",
       " 'Sue 4: goldfish: 5, children: 8, perfumes: 3',\n",
       " 'Sue 5: vizslas: 2, akitas: 7, perfumes: 6']"
      ]
     },
     "execution_count": 72,
     "metadata": {},
     "output_type": "execute_result"
    }
   ],
   "source": [
    "with open('data2015/day16.txt') as f16:\n",
    "    sues = [row.strip() for row in f16.readlines()]\n",
    "\n",
    "sues[:5]"
   ]
  },
  {
   "cell_type": "code",
   "execution_count": 73,
   "id": "5c7b95a1-c7ce-469b-ba82-f3cbc6aa2bc3",
   "metadata": {
    "tags": []
   },
   "outputs": [],
   "source": [
    "import pandas as pd\n",
    "import numpy as np\n",
    "\n",
    "sue_df = pd.DataFrame(columns=columns)\n",
    "\n",
    "# turn each row into a properly typed dict, fill in nans in the dict, add the row(as a dict) to the overall sue_df\n",
    "for i, sue in enumerate(sues):\n",
    "    \n",
    "    # don't need the sue's number, add a ',' to end of last number for consistency with other numbers\n",
    "    sue = sue.split(' ')[2:]\n",
    "    sue[-1] += ','\n",
    "    sue = [sue[i][:-1] if i%2==0 else int(sue[i][:-1]) for i in range(len(sue))]\n",
    "    sue_dict = {sue[i]: sue[i+1] for i in range(0, len(sue), 2)}\n",
    "    for col in columns:\n",
    "        if col not in sue_dict:\n",
    "            sue_dict[col] = np.nan\n",
    "    sue_df = sue_df.append(sue_dict, ignore_index=True)\n",
    "    \n",
    "# sues are numbered 1-500, not 0-499\n",
    "sue_df.index = [i + 1 for i in sue_df.index]"
   ]
  },
  {
   "cell_type": "code",
   "execution_count": 74,
   "id": "dc4c0704-717e-4b89-867e-a8910234efc4",
   "metadata": {},
   "outputs": [
    {
     "data": {
      "text/html": [
       "<div>\n",
       "<style scoped>\n",
       "    .dataframe tbody tr th:only-of-type {\n",
       "        vertical-align: middle;\n",
       "    }\n",
       "\n",
       "    .dataframe tbody tr th {\n",
       "        vertical-align: top;\n",
       "    }\n",
       "\n",
       "    .dataframe thead th {\n",
       "        text-align: right;\n",
       "    }\n",
       "</style>\n",
       "<table border=\"1\" class=\"dataframe\">\n",
       "  <thead>\n",
       "    <tr style=\"text-align: right;\">\n",
       "      <th></th>\n",
       "      <th>children</th>\n",
       "      <th>cats</th>\n",
       "      <th>samoyeds</th>\n",
       "      <th>pomeranians</th>\n",
       "      <th>akitas</th>\n",
       "      <th>vizslas</th>\n",
       "      <th>goldfish</th>\n",
       "      <th>trees</th>\n",
       "      <th>cars</th>\n",
       "      <th>perfumes</th>\n",
       "    </tr>\n",
       "  </thead>\n",
       "  <tbody>\n",
       "    <tr>\n",
       "      <th>1</th>\n",
       "      <td>1.0</td>\n",
       "      <td>NaN</td>\n",
       "      <td>NaN</td>\n",
       "      <td>NaN</td>\n",
       "      <td>NaN</td>\n",
       "      <td>7.0</td>\n",
       "      <td>NaN</td>\n",
       "      <td>NaN</td>\n",
       "      <td>8.0</td>\n",
       "      <td>NaN</td>\n",
       "    </tr>\n",
       "    <tr>\n",
       "      <th>2</th>\n",
       "      <td>5.0</td>\n",
       "      <td>NaN</td>\n",
       "      <td>NaN</td>\n",
       "      <td>NaN</td>\n",
       "      <td>10.0</td>\n",
       "      <td>NaN</td>\n",
       "      <td>NaN</td>\n",
       "      <td>NaN</td>\n",
       "      <td>NaN</td>\n",
       "      <td>10.0</td>\n",
       "    </tr>\n",
       "    <tr>\n",
       "      <th>3</th>\n",
       "      <td>NaN</td>\n",
       "      <td>NaN</td>\n",
       "      <td>NaN</td>\n",
       "      <td>4.0</td>\n",
       "      <td>NaN</td>\n",
       "      <td>1.0</td>\n",
       "      <td>NaN</td>\n",
       "      <td>NaN</td>\n",
       "      <td>5.0</td>\n",
       "      <td>NaN</td>\n",
       "    </tr>\n",
       "    <tr>\n",
       "      <th>4</th>\n",
       "      <td>8.0</td>\n",
       "      <td>NaN</td>\n",
       "      <td>NaN</td>\n",
       "      <td>NaN</td>\n",
       "      <td>NaN</td>\n",
       "      <td>NaN</td>\n",
       "      <td>5.0</td>\n",
       "      <td>NaN</td>\n",
       "      <td>NaN</td>\n",
       "      <td>3.0</td>\n",
       "    </tr>\n",
       "    <tr>\n",
       "      <th>5</th>\n",
       "      <td>NaN</td>\n",
       "      <td>NaN</td>\n",
       "      <td>NaN</td>\n",
       "      <td>NaN</td>\n",
       "      <td>7.0</td>\n",
       "      <td>2.0</td>\n",
       "      <td>NaN</td>\n",
       "      <td>NaN</td>\n",
       "      <td>NaN</td>\n",
       "      <td>6.0</td>\n",
       "    </tr>\n",
       "  </tbody>\n",
       "</table>\n",
       "</div>"
      ],
      "text/plain": [
       "   children  cats  samoyeds  pomeranians  akitas  vizslas  goldfish  trees  \\\n",
       "1       1.0   NaN       NaN          NaN     NaN      7.0       NaN    NaN   \n",
       "2       5.0   NaN       NaN          NaN    10.0      NaN       NaN    NaN   \n",
       "3       NaN   NaN       NaN          4.0     NaN      1.0       NaN    NaN   \n",
       "4       8.0   NaN       NaN          NaN     NaN      NaN       5.0    NaN   \n",
       "5       NaN   NaN       NaN          NaN     7.0      2.0       NaN    NaN   \n",
       "\n",
       "   cars  perfumes  \n",
       "1   8.0       NaN  \n",
       "2   NaN      10.0  \n",
       "3   5.0       NaN  \n",
       "4   NaN       3.0  \n",
       "5   NaN       6.0  "
      ]
     },
     "execution_count": 74,
     "metadata": {},
     "output_type": "execute_result"
    }
   ],
   "source": [
    "sue_df.head()"
   ]
  },
  {
   "cell_type": "code",
   "execution_count": 75,
   "id": "146faf60-1ac6-4126-82fd-2d69c23f1dd4",
   "metadata": {},
   "outputs": [
    {
     "name": "stdout",
     "output_type": "stream",
     "text": [
      "children\n",
      "cats\n",
      "samoyeds\n",
      "pomeranians\n",
      "akitas\n",
      "vizslas\n",
      "goldfish\n",
      "trees\n",
      "cars\n",
      "perfumes\n"
     ]
    }
   ],
   "source": [
    "sue_df2 = sue_df.copy()\n",
    "for key in correct_sue_dict:\n",
    "    print(key)\n",
    "    mask1 = sue_df2[key] == correct_sue_dict[key]\n",
    "    mask2 = sue_df2[key].isnull()\n",
    "    sue_df2 = sue_df2[mask1 | mask2]"
   ]
  },
  {
   "cell_type": "code",
   "execution_count": 76,
   "id": "a908ec38-0d1d-4f84-965d-c94543bcb510",
   "metadata": {},
   "outputs": [
    {
     "data": {
      "text/html": [
       "<div>\n",
       "<style scoped>\n",
       "    .dataframe tbody tr th:only-of-type {\n",
       "        vertical-align: middle;\n",
       "    }\n",
       "\n",
       "    .dataframe tbody tr th {\n",
       "        vertical-align: top;\n",
       "    }\n",
       "\n",
       "    .dataframe thead th {\n",
       "        text-align: right;\n",
       "    }\n",
       "</style>\n",
       "<table border=\"1\" class=\"dataframe\">\n",
       "  <thead>\n",
       "    <tr style=\"text-align: right;\">\n",
       "      <th></th>\n",
       "      <th>children</th>\n",
       "      <th>cats</th>\n",
       "      <th>samoyeds</th>\n",
       "      <th>pomeranians</th>\n",
       "      <th>akitas</th>\n",
       "      <th>vizslas</th>\n",
       "      <th>goldfish</th>\n",
       "      <th>trees</th>\n",
       "      <th>cars</th>\n",
       "      <th>perfumes</th>\n",
       "    </tr>\n",
       "  </thead>\n",
       "  <tbody>\n",
       "    <tr>\n",
       "      <th>213</th>\n",
       "      <td>3.0</td>\n",
       "      <td>NaN</td>\n",
       "      <td>NaN</td>\n",
       "      <td>NaN</td>\n",
       "      <td>NaN</td>\n",
       "      <td>0.0</td>\n",
       "      <td>5.0</td>\n",
       "      <td>NaN</td>\n",
       "      <td>NaN</td>\n",
       "      <td>NaN</td>\n",
       "    </tr>\n",
       "  </tbody>\n",
       "</table>\n",
       "</div>"
      ],
      "text/plain": [
       "     children  cats  samoyeds  pomeranians  akitas  vizslas  goldfish  trees  \\\n",
       "213       3.0   NaN       NaN          NaN     NaN      0.0       5.0    NaN   \n",
       "\n",
       "     cars  perfumes  \n",
       "213   NaN       NaN  "
      ]
     },
     "execution_count": 76,
     "metadata": {},
     "output_type": "execute_result"
    }
   ],
   "source": [
    "sue_df2"
   ]
  },
  {
   "cell_type": "code",
   "execution_count": 77,
   "id": "197f1341-b6d4-4c77-af29-579ede177307",
   "metadata": {},
   "outputs": [],
   "source": [
    "sue_df3 = sue_df.copy()\n",
    "for key in correct_sue_dict:\n",
    "    if key in ['cats', 'trees']:\n",
    "        mask1 = sue_df3[key] > correct_sue_dict[key]\n",
    "    elif key in ['pomeranians', 'goldfish']:\n",
    "        mask1 = sue_df3[key] < correct_sue_dict[key]\n",
    "    else:\n",
    "        mask1 = sue_df3[key] == correct_sue_dict[key]\n",
    "    mask2 = sue_df3[key].isnull()\n",
    "    sue_df3 = sue_df3[mask1 | mask2]\n",
    "        "
   ]
  },
  {
   "cell_type": "code",
   "execution_count": 78,
   "id": "b834a965-07b3-4724-a9ec-50d1a2403f9d",
   "metadata": {},
   "outputs": [
    {
     "data": {
      "text/html": [
       "<div>\n",
       "<style scoped>\n",
       "    .dataframe tbody tr th:only-of-type {\n",
       "        vertical-align: middle;\n",
       "    }\n",
       "\n",
       "    .dataframe tbody tr th {\n",
       "        vertical-align: top;\n",
       "    }\n",
       "\n",
       "    .dataframe thead th {\n",
       "        text-align: right;\n",
       "    }\n",
       "</style>\n",
       "<table border=\"1\" class=\"dataframe\">\n",
       "  <thead>\n",
       "    <tr style=\"text-align: right;\">\n",
       "      <th></th>\n",
       "      <th>children</th>\n",
       "      <th>cats</th>\n",
       "      <th>samoyeds</th>\n",
       "      <th>pomeranians</th>\n",
       "      <th>akitas</th>\n",
       "      <th>vizslas</th>\n",
       "      <th>goldfish</th>\n",
       "      <th>trees</th>\n",
       "      <th>cars</th>\n",
       "      <th>perfumes</th>\n",
       "    </tr>\n",
       "  </thead>\n",
       "  <tbody>\n",
       "    <tr>\n",
       "      <th>323</th>\n",
       "      <td>NaN</td>\n",
       "      <td>NaN</td>\n",
       "      <td>NaN</td>\n",
       "      <td>NaN</td>\n",
       "      <td>NaN</td>\n",
       "      <td>NaN</td>\n",
       "      <td>0.0</td>\n",
       "      <td>6.0</td>\n",
       "      <td>NaN</td>\n",
       "      <td>1.0</td>\n",
       "    </tr>\n",
       "  </tbody>\n",
       "</table>\n",
       "</div>"
      ],
      "text/plain": [
       "     children  cats  samoyeds  pomeranians  akitas  vizslas  goldfish  trees  \\\n",
       "323       NaN   NaN       NaN          NaN     NaN      NaN       0.0    6.0   \n",
       "\n",
       "     cars  perfumes  \n",
       "323   NaN       1.0  "
      ]
     },
     "execution_count": 78,
     "metadata": {},
     "output_type": "execute_result"
    }
   ],
   "source": [
    "sue_df3"
   ]
  },
  {
   "cell_type": "markdown",
   "id": "44fba926-2b91-4e06-9db1-7ab976f36db3",
   "metadata": {},
   "source": [
    "<a class=\"anchor\" id=\"day17\"></a>\n",
    "## Day 17\n",
    "\n",
    "The knapsack problem\n",
    "\n",
    "##### Part 1\n",
    "Given containers of the sizes shown in the input, how many ways can we hold exactly 150 liters?"
   ]
  },
  {
   "cell_type": "code",
   "execution_count": 79,
   "id": "79fa8773-b062-47f1-80a3-00006bfd9973",
   "metadata": {},
   "outputs": [
    {
     "data": {
      "text/plain": [
       "4"
      ]
     },
     "execution_count": 79,
     "metadata": {},
     "output_type": "execute_result"
    }
   ],
   "source": [
    "sample = [20, 15, 10, 5, 5]\n",
    "\n",
    "def find_group(goal, so_far, available):\n",
    "    #print(so_far, available)\n",
    "    if so_far == goal:\n",
    "        return 1\n",
    "    else:\n",
    "        total = 0\n",
    "        for i, av in enumerate(available):\n",
    "            if so_far + av <= goal:\n",
    "                total += find_group(goal, so_far+av, available[i+1:])\n",
    "        return total\n",
    "    \n",
    "find_group(25, 0, sample)"
   ]
  },
  {
   "cell_type": "code",
   "execution_count": 80,
   "id": "84a72b78-9c14-4c9e-a1dd-6309f416b955",
   "metadata": {},
   "outputs": [
    {
     "data": {
      "text/plain": [
       "654"
      ]
     },
     "execution_count": 80,
     "metadata": {},
     "output_type": "execute_result"
    }
   ],
   "source": [
    "actual17 = sorted([50, 44, 11, 49, 42, 46, 18, 32, 26, 40, 21, 7, 18, 43, 10, 47, 36, 24, 22, 40])[::-1]\n",
    "part1 = find_group(150, 0, actual17)\n",
    "part1"
   ]
  },
  {
   "cell_type": "code",
   "execution_count": 81,
   "id": "a9da7d79-43e5-4169-a71e-acc217b4c90c",
   "metadata": {},
   "outputs": [],
   "source": [
    "# by inspection from the print statment in the 'if' block, 4 is the fewest possible containers\n",
    "\n",
    "def find_group2(goal, so_far_list, available):\n",
    "    if so_far_list != [] and sum(so_far_list) == goal:\n",
    "        #print(len(so_far_list))\n",
    "        return 1 if len(so_far_list) == 4 else 0\n",
    "    else:\n",
    "        total = 0\n",
    "        for i, av in enumerate(available):\n",
    "            total_so_far = 0 if so_far_list == [] else sum(so_far_list)\n",
    "            if total_so_far + av <= goal:\n",
    "                total += find_group2(goal, so_far_list + [av], available[i+1:])\n",
    "        return total"
   ]
  },
  {
   "cell_type": "code",
   "execution_count": 82,
   "id": "336b8c61-54c8-4368-8c8c-f2f69f83a8db",
   "metadata": {},
   "outputs": [
    {
     "data": {
      "text/plain": [
       "57"
      ]
     },
     "execution_count": 82,
     "metadata": {},
     "output_type": "execute_result"
    }
   ],
   "source": [
    "part2 = find_group2(150, [], actual17)\n",
    "part2"
   ]
  },
  {
   "cell_type": "markdown",
   "id": "3fd0ae46",
   "metadata": {},
   "source": [
    "<a class=\"anchor\" id=\"day18\"></a>\n",
    "## Day 18\n",
    "\n",
    "Light show round 2 - a gif now"
   ]
  },
  {
   "cell_type": "code",
   "execution_count": 83,
   "id": "ce37dd69",
   "metadata": {},
   "outputs": [
    {
     "data": {
      "text/plain": [
       "array([[1., 0., 0., 0., 1., 1., 0., 0., 0., 0.],\n",
       "       [1., 1., 1., 1., 0., 0., 1., 0., 1., 0.],\n",
       "       [0., 0., 0., 1., 0., 0., 1., 1., 0., 0.],\n",
       "       [0., 1., 0., 0., 0., 1., 1., 0., 0., 0.],\n",
       "       [0., 0., 1., 1., 0., 1., 1., 1., 1., 1.],\n",
       "       [0., 1., 1., 1., 0., 1., 1., 1., 0., 1.],\n",
       "       [1., 0., 1., 1., 1., 1., 1., 0., 0., 1.],\n",
       "       [0., 0., 0., 0., 1., 0., 0., 0., 1., 1.],\n",
       "       [1., 1., 0., 1., 1., 0., 0., 0., 1., 0.],\n",
       "       [1., 0., 1., 0., 0., 1., 0., 0., 0., 0.]])"
      ]
     },
     "execution_count": 83,
     "metadata": {},
     "output_type": "execute_result"
    }
   ],
   "source": [
    "import numpy as np\n",
    "\n",
    "with open('data2015/day18.txt') as f18:\n",
    "    init_grid = [row.strip() for row in f18.readlines()]\n",
    "\n",
    "start_grid = np.zeros((100, 100))\n",
    "for i in range(100):\n",
    "    for j in range(100):\n",
    "        if init_grid[i][j] == '#':\n",
    "            start_grid[i, j] = 1\n",
    "start_grid[:10, :10]"
   ]
  },
  {
   "cell_type": "code",
   "execution_count": 84,
   "id": "53441ca9",
   "metadata": {},
   "outputs": [
    {
     "data": {
      "text/plain": [
       "1.0"
      ]
     },
     "execution_count": 84,
     "metadata": {},
     "output_type": "execute_result"
    }
   ],
   "source": [
    "def get_surround_on_count(grid, i, j):\n",
    "    poss_locs = [[i+1, j+1],\n",
    "                 [i+1, j+0],\n",
    "                 [i+1, j-1],\n",
    "                 [i+0, j+1],\n",
    "                 [i+0, j-1],\n",
    "                 [i-1, j+1],\n",
    "                 [i-1, j+0],\n",
    "                 [i-1, j-1]]\n",
    "    locs = [loc for loc in poss_locs if 0 <= loc[0] <= 99 and 0 <= loc[1] <= 99]\n",
    "    count = sum([grid[loc[0], loc[1]] for loc in locs])\n",
    "    return count\n",
    "\n",
    "get_surround_on_count(start_grid, 3, 0)"
   ]
  },
  {
   "cell_type": "code",
   "execution_count": 85,
   "id": "20621243",
   "metadata": {},
   "outputs": [
    {
     "data": {
      "text/plain": [
       "814.0"
      ]
     },
     "execution_count": 85,
     "metadata": {},
     "output_type": "execute_result"
    }
   ],
   "source": [
    "# to get the answer to Part1, set corners_on to False, for Part2, set corners_on to True \n",
    "\n",
    "grid = start_grid.copy()\n",
    "\n",
    "corners_on = False\n",
    "\n",
    "if corners_on:\n",
    "    grid[0, 0], grid[0, 99], grid[99, 0], grid[99, 99] = 1, 1, 1, 1\n",
    "\n",
    "for step in range(100):\n",
    "    newgrid = np.zeros((100, 100))\n",
    "    for i in range(100):\n",
    "        for j in range(100):\n",
    "            count = get_surround_on_count(grid, i, j)\n",
    "            newgrid[i, j] = 1 if ((grid[i, j] == 1 and count in [2, 3]) or (grid[i, j] == 0 and count == 3)) else 0\n",
    "            \n",
    "    if corners_on:\n",
    "        newgrid[0, 0], newgrid[0, 99], newgrid[99, 0], newgrid[99, 99] = 1, 1, 1, 1\n",
    "    \n",
    "    grid = newgrid\n",
    "    \n",
    "sum(sum(grid))            "
   ]
  },
  {
   "cell_type": "markdown",
   "id": "3c4a8c3b",
   "metadata": {},
   "source": [
    "<a class=\"anchor\" id=\"day19\"></a>\n",
    "## Day 19\n",
    "\n",
    "Reindeer chemistry\n",
    "\n",
    "##### Part 1\n",
    "Given the list of chemical replacements and the medicine molecule used to calibrate the machine, how many unique molecules can be created when performing a single replacement?"
   ]
  },
  {
   "cell_type": "code",
   "execution_count": 86,
   "id": "46f196b5",
   "metadata": {},
   "outputs": [],
   "source": [
    "sample_repl = '''H => HO\n",
    "H => OH\n",
    "O => HH'''\n",
    "\n",
    "sample_med = 'HOH'"
   ]
  },
  {
   "cell_type": "code",
   "execution_count": 87,
   "id": "eb91384a",
   "metadata": {},
   "outputs": [
    {
     "data": {
      "text/plain": [
       "[('H', 'HO'), ('H', 'OH'), ('O', 'HH')]"
      ]
     },
     "execution_count": 87,
     "metadata": {},
     "output_type": "execute_result"
    }
   ],
   "source": [
    "def get_rep_tuples(text):\n",
    "    rep_tuples = []\n",
    "    for row in text.split('\\n'):\n",
    "        row = row.split(' => ')\n",
    "        rep_tuples.append((row[0], row[1]))\n",
    "    return rep_tuples\n",
    "get_rep_tuples(sample_repl)"
   ]
  },
  {
   "cell_type": "code",
   "execution_count": 88,
   "id": "0927302b",
   "metadata": {},
   "outputs": [
    {
     "data": {
      "text/plain": [
       "(7,\n",
       " ['HOOHOHO', 'OHOHOHO', 'HHHHOHO', 'HOHOOHO', 'HOHHHHO', 'HOHOHOO', 'HOHOHHH'])"
      ]
     },
     "execution_count": 88,
     "metadata": {},
     "output_type": "execute_result"
    }
   ],
   "source": [
    "def get_distinct_new_mol(rep_tuples, medicine):\n",
    "    new_list = []\n",
    "    i = 0\n",
    "    rep_inputs = [rep[0] for rep in rep_tuples]\n",
    "    while i < len(medicine):\n",
    "        \n",
    "        # parts of the medicine we're replacing are one or two chars long, but the incoming replacement\n",
    "        #  parts have various lengths\n",
    "        \n",
    "        if medicine[i] in rep_inputs:\n",
    "            reps = [rep for rep in rep_tuples if rep[0] == medicine[i]]\n",
    "            for rep in reps:\n",
    "                new = medicine[:i] + rep[1] + medicine[i+1:]\n",
    "                if new not in new_list:\n",
    "                    new_list.append(new)\n",
    "        \n",
    "        elif medicine[i:i+2] in rep_inputs:\n",
    "            reps = [rep for rep in rep_tuples if rep[0] == medicine[i:i+2]]\n",
    "            for rep in reps:\n",
    "                new = medicine[:i] + rep[1] + medicine[i+2:]\n",
    "                if new not in new_list:\n",
    "                    new_list.append(new)\n",
    "            \n",
    "        i += 1\n",
    "        \n",
    "    return new_list\n",
    "\n",
    "out = get_distinct_new_mol(get_rep_tuples(sample_repl), 'HOHOHO')\n",
    "len(out), out"
   ]
  },
  {
   "cell_type": "code",
   "execution_count": 89,
   "id": "63866a7e",
   "metadata": {},
   "outputs": [
    {
     "data": {
      "text/plain": [
       "43"
      ]
     },
     "execution_count": 89,
     "metadata": {},
     "output_type": "execute_result"
    }
   ],
   "source": [
    "with open('data2015/day19.txt') as f19:\n",
    "    day19info = [row.strip() for row in f19.readlines()]\n",
    "    \n",
    "gap_idx = day19info.index('')\n",
    "gap_idx"
   ]
  },
  {
   "cell_type": "code",
   "execution_count": 90,
   "id": "20d1cd80",
   "metadata": {},
   "outputs": [],
   "source": [
    "rep_tuples, molecule = get_rep_tuples('\\n'.join(day19info[:gap_idx])), day19info[gap_idx+1]"
   ]
  },
  {
   "cell_type": "code",
   "execution_count": 91,
   "id": "f891bcb8",
   "metadata": {},
   "outputs": [
    {
     "data": {
      "text/plain": [
       "'CRnCaSiRnBSiRnFArTiBPTiTiBFArPBCaSiThSiRnTiBPBPMgArCaSiRnTiMgArCaSiThCaSiRnFArRnSiRnFArTiTiBFArCaCaSiRnSiThCaCaSiRnMgArFYSiRnFYCaFArSiThCaSiThPBPTiMgArCaPRnSiAlArPBCaCaSiRnFYSiThCaRnFArArCaCaSiRnPBSiRnFArMgYCaCaCaCaSiThCaCaSiAlArCaCaSiRnPBSiAlArBCaCaCaCaSiThCaPBSiThPBPBCaSiRnFYFArSiThCaSiRnFArBCaCaSiRnFYFArSiThCaPBSiThCaSiRnPMgArRnFArPTiBCaPRnFArCaCaCaCaSiRnCaCaSiRnFYFArFArBCaSiThFArThSiThSiRnTiRnPMgArFArCaSiThCaPBCaSiRnBFArCaCaPRnCaCaPMgArSiRnFYFArCaSiThRnPBPMgAr'"
      ]
     },
     "execution_count": 91,
     "metadata": {},
     "output_type": "execute_result"
    }
   ],
   "source": [
    "molecule"
   ]
  },
  {
   "cell_type": "code",
   "execution_count": 92,
   "id": "5f022e3d",
   "metadata": {},
   "outputs": [
    {
     "data": {
      "text/plain": [
       "509"
      ]
     },
     "execution_count": 92,
     "metadata": {},
     "output_type": "execute_result"
    }
   ],
   "source": [
    "part1 = get_distinct_new_mol(rep_tuples, molecule)\n",
    "len(part1)"
   ]
  },
  {
   "cell_type": "markdown",
   "id": "1294e746-47df-4a37-96cc-5db5616182a2",
   "metadata": {},
   "source": [
    "### TODO - Day 19 Part 2"
   ]
  },
  {
   "cell_type": "markdown",
   "id": "077c2586-630f-4386-80c1-42870de7c36e",
   "metadata": {},
   "source": [
    "<a class=\"anchor\" id=\"day20\"></a>\n",
    "## Day 20\n",
    "\n",
    "Elves delivering presents to an infinite row of houses.\n",
    "\n",
    "**Part 1**  \n",
    "There is an infinite row of houses numbered 1, 2, ...  \n",
    "There are an infinite number of elves numbered 1, 2, ...  \n",
    "In order, each elf delivers 10 presents to every number house that is an integer multiple of their elf number (so elf number 7 delivers 10 presents to every house number that is a multiple of 7).  \n",
    "In this way, what is the lowest house number to receive at least as many presents as our puzzle input 34000000?  \n",
    "\n",
    "**Part 2**  \n",
    "Now, each elf delivers 11 presents to each visited house, but they only visit their first 50 houses that are multiples of their elf number.    \n",
    "In this way, what is the lowest house number to receive at least as many presents as our puzzle input?"
   ]
  },
  {
   "cell_type": "code",
   "execution_count": 93,
   "id": "22325791-7dc6-4107-93a8-2985da24b699",
   "metadata": {},
   "outputs": [],
   "source": [
    "def get_divisors(n):\n",
    "    divs = [1, n]\n",
    "    for i in range(2, int(n**.5)+1):\n",
    "        if n % i == 0:\n",
    "            divs = divs + [i, n//i]\n",
    "    return sorted(set(divs))\n"
   ]
  },
  {
   "cell_type": "code",
   "execution_count": 94,
   "id": "7277eff7-a08d-45e2-9e2b-97becd1c6154",
   "metadata": {},
   "outputs": [
    {
     "data": {
      "text/plain": [
       "[1, 2, 3, 4, 6, 9, 12, 18, 36]"
      ]
     },
     "execution_count": 94,
     "metadata": {},
     "output_type": "execute_result"
    }
   ],
   "source": [
    "get_divisors(36)"
   ]
  },
  {
   "cell_type": "code",
   "execution_count": 95,
   "id": "b2122db5-fc7e-4803-ae7b-0ff89e6bbe6a",
   "metadata": {},
   "outputs": [
    {
     "data": {
      "text/plain": [
       "[1]"
      ]
     },
     "execution_count": 95,
     "metadata": {},
     "output_type": "execute_result"
    }
   ],
   "source": [
    "get_divisors(1)"
   ]
  },
  {
   "cell_type": "code",
   "execution_count": 96,
   "id": "dafa7a13-f05a-4ac3-a650-7c18c5389f12",
   "metadata": {},
   "outputs": [
    {
     "name": "stdout",
     "output_type": "stream",
     "text": [
      "100000 2460780\n",
      "200000 4960620\n",
      "300000 9843120\n",
      "400000 9960300\n",
      "500000 12304530\n",
      "600000 19842480\n",
      "700000 19686240\n",
      "house number: 786240\n"
     ]
    }
   ],
   "source": [
    "target = 34000000\n",
    "\n",
    "i = 1\n",
    "while True:\n",
    "    presents = 10*sum(get_divisors(i))\n",
    "    if presents > target:\n",
    "        print(f'house number: {i}')\n",
    "        break\n",
    "    if i % 100000 == 0:\n",
    "        print(i, presents)\n",
    "    i += 1\n"
   ]
  },
  {
   "cell_type": "code",
   "execution_count": 97,
   "id": "31f341cd-37c2-4e50-a01f-2865df36b7a6",
   "metadata": {},
   "outputs": [
    {
     "name": "stdout",
     "output_type": "stream",
     "text": [
      "100000\n",
      "200000\n",
      "300000\n",
      "400000\n",
      "500000\n",
      "600000\n",
      "700000\n",
      "800000\n",
      "house number: 831600\n"
     ]
    }
   ],
   "source": [
    "present_dict = dict()\n",
    "elf = 1\n",
    "not_found = True\n",
    "while not_found:\n",
    "    for house_num in range(1, 51):\n",
    "        house = elf*house_num\n",
    "        if house not in present_dict:\n",
    "            present_dict[house] = 11*elf\n",
    "        else:\n",
    "            present_dict[house] += 11*elf\n",
    "    if present_dict[elf] > target:\n",
    "        print(f'house number: {elf}')\n",
    "        not_found = False\n",
    "    if elf % 100000 == 0:\n",
    "        print(elf)\n",
    "    elf+= 1"
   ]
  },
  {
   "cell_type": "markdown",
   "id": "c4b90f69-400f-4d08-9e8b-b231403e82d7",
   "metadata": {},
   "source": [
    "<a class=\"anchor\" id=\"day21\"></a>\n",
    "## Day 21\n",
    "\n",
    "RPG Simulator.  \n",
    "\n",
    "We'll be simulating 1-on-1 combat with an enemy, RPG style.  The Player (us) and the enemy (the boss) all have properties of HP, Attack, Defense.  Initially, our Player starts with 100HP, 0 att, 0 def.  \n",
    "\n",
    "Combat involves each combatant taking turns, with the Player always going first.  Attacks deal damage equal to min(1, att-def).  So, attacker has attack of 8 and defender has defense of 5, 3 damage is done, but even if the defender's defense was 10, 1 damage would still be dealt - always at least one damage.\n",
    "\n",
    "There is a shop from which the Player can purchase items - we have as much money as we want, but our goal for **Part 1** is to determine the least amount of money we can spend at the shop and still beat the boss (whose stats are given as our puzzle input).\n",
    "\n",
    "The Shop sells weapons, armor, and rings.  \n",
    "1. We are required to buy/use exactly 1 sword. \n",
    "2. We may buy/use 0 or 1 pieces of armor. \n",
    "3. We may buy/use 0, 1, or 2 rings.\n",
    "\n",
    "\n",
    "    Weapons:    Cost  Damage  Armor\n",
    "    Dagger        8     4       0\n",
    "    Shortsword   10     5       0\n",
    "    Warhammer    25     6       0\n",
    "    Longsword    40     7       0\n",
    "    Greataxe     74     8       0\n",
    "\n",
    "    Armor:      Cost  Damage  Armor\n",
    "    Leather      13     0       1\n",
    "    Chainmail    31     0       2\n",
    "    Splintmail   53     0       3\n",
    "    Bandedmail   75     0       4\n",
    "    Platemail   102     0       5\n",
    "\n",
    "    Rings:      Cost  Damage  Armor\n",
    "    Damage +1    25     1       0\n",
    "    Damage +2    50     2       0\n",
    "    Damage +3   100     3       0\n",
    "    Defense +1   20     0       1\n",
    "    Defense +2   40     0       2\n",
    "    Defense +3   80     0       3\n",
    "    \n",
    "\n",
    "For example, suppose you have 8 hit points, 5 damage, and 5 armor, and that the boss has 12 hit points, 7 damage, and 2 armor:"
   ]
  },
  {
   "cell_type": "code",
   "execution_count": 98,
   "id": "effd1bc0-d676-4307-8da8-0941f4270267",
   "metadata": {},
   "outputs": [
    {
     "data": {
      "text/plain": [
       "True"
      ]
     },
     "execution_count": 98,
     "metadata": {},
     "output_type": "execute_result"
    }
   ],
   "source": [
    "# = [hp, att, def]\n",
    "p = [8, 5, 5]\n",
    "b = [12, 7, 2]\n",
    "\n",
    "def do_combat(p, b):\n",
    "    # returns True if player wins, False if boss wins\n",
    "    #print('Player\\tBoss')\n",
    "    while True:\n",
    "        b[0] -= max([1, p[1] - b[2]])\n",
    "        if b[0] <= 0:\n",
    "            break\n",
    "        p[0] -= max([1, b[1] - p[2]])\n",
    "        if p[0] <= 0:\n",
    "            break\n",
    "        #print(str(p[0]) + '\\t' + str(b[0]))\n",
    "    #print(str(p[0]) + '\\t' + str(b[0]))\n",
    "    return p[0] > 0\n",
    "\n",
    "do_combat(p, b)"
   ]
  },
  {
   "cell_type": "code",
   "execution_count": 99,
   "id": "240d4273-7d33-4055-892e-4c54f1a2e6c0",
   "metadata": {},
   "outputs": [],
   "source": [
    "import numpy as np\n",
    "weapons = np.array([[8, 4, 0],\n",
    "                    [10, 5, 0],\n",
    "                    [25, 6, 0],\n",
    "                    [40, 7, 0],\n",
    "                    [74, 8, 0]])\n",
    "\n",
    "armor = np.array([[13, 0, 1],\n",
    "                  [31, 0, 2],\n",
    "                  [53, 0, 3],\n",
    "                  [75, 0, 4],\n",
    "                  [102, 0, 5],\n",
    "                  [0, 0, 0]])\n",
    "\n",
    "rings = np.array([[25, 1, 0],\n",
    "                  [50, 2, 0],\n",
    "                  [100, 3, 0],\n",
    "                  [20, 0, 1],\n",
    "                  [40, 0, 2],\n",
    "                  [80, 0, 3],\n",
    "                  [0, 0, 0],\n",
    "                  [0, 0, 0]])"
   ]
  },
  {
   "cell_type": "code",
   "execution_count": 100,
   "id": "70dd1acf-79e9-4d5a-bb79-4ea57087d2f6",
   "metadata": {},
   "outputs": [
    {
     "data": {
      "text/plain": [
       "array([162,   7,   5])"
      ]
     },
     "execution_count": 100,
     "metadata": {},
     "output_type": "execute_result"
    }
   ],
   "source": [
    "weapons[1] + armor[4] + rings[1]"
   ]
  },
  {
   "cell_type": "code",
   "execution_count": 101,
   "id": "1e249e60-ff7d-4cf9-a22c-bddf3ea46067",
   "metadata": {},
   "outputs": [
    {
     "data": {
      "text/plain": [
       "5"
      ]
     },
     "execution_count": 101,
     "metadata": {},
     "output_type": "execute_result"
    }
   ],
   "source": [
    "len(weapons)"
   ]
  },
  {
   "cell_type": "code",
   "execution_count": 102,
   "id": "5461c484-a386-48a1-b29b-545df8ca94c1",
   "metadata": {},
   "outputs": [],
   "source": [
    "stat_list = []\n",
    "for w in weapons:\n",
    "    for a in armor:\n",
    "        for i, r1 in enumerate(rings[:-1]):\n",
    "            for j, r2 in enumerate(rings[i+1:]):\n",
    "                stats = w + a + r1 + r2\n",
    "                stat_list.append(stats)"
   ]
  },
  {
   "cell_type": "code",
   "execution_count": 103,
   "id": "54885a26-6e0a-441e-9abc-578db3a40a2f",
   "metadata": {},
   "outputs": [
    {
     "data": {
      "text/plain": [
       "[array([8, 4, 0]),\n",
       " array([10,  5,  0]),\n",
       " array([21,  4,  1]),\n",
       " array([23,  5,  1]),\n",
       " array([25,  6,  0]),\n",
       " array([28,  4,  1]),\n",
       " array([28,  4,  1]),\n",
       " array([30,  5,  1]),\n",
       " array([30,  5,  1]),\n",
       " array([33,  5,  0]),\n",
       " array([33,  5,  0]),\n",
       " array([35,  6,  0]),\n",
       " array([35,  6,  0]),\n",
       " array([38,  6,  1]),\n",
       " array([39,  4,  2]),\n",
       " array([40,  7,  0]),\n",
       " array([41,  4,  2]),\n",
       " array([41,  4,  2]),\n",
       " array([41,  5,  2]),\n",
       " array([43,  5,  2])]"
      ]
     },
     "execution_count": 103,
     "metadata": {},
     "output_type": "execute_result"
    }
   ],
   "source": [
    "stat_list.sort(key=lambda x: x[0])\n",
    "stat_list[:20]"
   ]
  },
  {
   "cell_type": "code",
   "execution_count": 104,
   "id": "0ae9d8b6-2796-4681-964f-5290de82b349",
   "metadata": {},
   "outputs": [
    {
     "name": "stdout",
     "output_type": "stream",
     "text": [
      "cheapest winner: [remaining hp, att, def] = [2, 8, 1]\n",
      "cost: 78\n"
     ]
    }
   ],
   "source": [
    "for stat in stat_list:\n",
    "    cost, attack, defense = stat\n",
    "    player = [100, attack, defense]\n",
    "    boss = [104, 8, 1]\n",
    "    if do_combat(player, boss):\n",
    "        print(f'cheapest winner: [remaining hp, att, def] = {player}')\n",
    "        print(f'cost: {cost}')\n",
    "        break"
   ]
  },
  {
   "cell_type": "code",
   "execution_count": 105,
   "id": "581a08c3-2a12-4d5e-9883-b1c07060987e",
   "metadata": {},
   "outputs": [
    {
     "name": "stdout",
     "output_type": "stream",
     "text": [
      "most expensive loser: [final hp, att, def] = [-2, 7, 2]\n",
      "cost: 148\n"
     ]
    }
   ],
   "source": [
    "# part 2 - which is the most expensive loser?\n",
    "for stat in stat_list[::-1]:\n",
    "    cost, attack, defense = stat\n",
    "    player = [100, attack, defense]\n",
    "    boss = [104, 8, 1]\n",
    "    if not do_combat(player, boss):\n",
    "        print(f'most expensive loser: [final hp, att, def] = {player}')\n",
    "        print(f'cost: {cost}')\n",
    "        break"
   ]
  },
  {
   "cell_type": "markdown",
   "id": "de946eb1-c1c8-46f9-ab1d-497a9a156426",
   "metadata": {},
   "source": [
    "<a class=\"anchor\" id=\"day22\"></a>\n",
    "## Day 22\n",
    "\n",
    "Wizard Simulator.\n",
    "\n",
    "Same combat setup as in Day 21, but now instead of items we have spells. No defensive armor (but maybe magical armor, so still a defense stat), no regular attacks, but spells have attack levels.  Spells also cost mana - we start with 500 mana, and if we can't afford to cast any spell on our turn, we lose.\n",
    "\n",
    "Spells available:\n",
    "\n",
    "    Magic Missile costs 53 mana. It instantly does 4 damage.\n",
    "    \n",
    "    Drain costs 73 mana. It instantly does 2 damage and heals you for 2 hit points.\n",
    "    \n",
    "    Shield costs 113 mana. It starts an effect that lasts for 6 turns. While it is active, your armor is increased by 7.\n",
    "    \n",
    "    Poison costs 173 mana. It starts an effect that lasts for 6 turns. At the start of each turn while it is active, it deals the boss 3 damage.\n",
    "    \n",
    "    Recharge costs 229 mana. It starts an effect that lasts for 5 turns. At the start of each turn while it is active, it gives you 101 new mana.\n",
    "    \n",
    "**Part 1**  \n",
    "What is the least amount of total mana we can use in the fight and still win?"
   ]
  },
  {
   "cell_type": "code",
   "execution_count": 107,
   "id": "27c942f5-17fb-47cb-8467-1ca239bebc3f",
   "metadata": {},
   "outputs": [],
   "source": [
    "effects = {}\n",
    "t = 1\n",
    "\n",
    "# stats= [hp, mp, att, def]\n",
    "player = [10, 250, 0, 0]\n",
    "boss = [14, 0, 8, 0]\n",
    "\n",
    "actions = ['r', 's', 'd', 'p', 'm']\n",
    "# for action in actions:\n",
    "#     if action == 'r':\n",
    "        "
   ]
  },
  {
   "cell_type": "code",
   "execution_count": 108,
   "id": "3e6bceb9-1db1-4b97-a7c2-6352252e45f4",
   "metadata": {},
   "outputs": [
    {
     "name": "stdout",
     "output_type": "stream",
     "text": [
      "player died\n",
      "boss died\n",
      "won with mana cost:  0\n"
     ]
    }
   ],
   "source": [
    "from data2015.day22wizard import Combat"
   ]
  },
  {
   "cell_type": "code",
   "execution_count": 109,
   "id": "54b20b13-53fa-444c-90a4-0a5e573596f8",
   "metadata": {},
   "outputs": [],
   "source": [
    "p_hp, p_mp = 50, 500\n",
    "b_hp, b_att = 55, 8"
   ]
  },
  {
   "cell_type": "markdown",
   "id": "af04ce82",
   "metadata": {},
   "source": [
    "So, we need to deal a total of at least 55 points of damage.\n",
    "\n",
    "In total, poison does 18, and drain does 2 and magic missile does 4.\n",
    "\n",
    "Probably need to recursively search for all possible sequences of spells that keep mana above 0 and deal 55 damage.  Then, we do those combats with the class we made and determine which ones win.  Then we rank them by total mana costs to find the cheapest."
   ]
  },
  {
   "cell_type": "markdown",
   "id": "56dfc37c",
   "metadata": {},
   "source": [
    "<a class=\"anchor\" id=\"day23\"></a>\n",
    "## Day 23\n",
    "\n",
    "Assembly!\n",
    "\n",
    "We have a computer with two registers, a and b, which both start with a value of 0.  The computer supports 6 operations:\n",
    "\n",
    "1. **hlf r** sets register r to half its current value, then continues with the next instruction.\n",
    "2. **tpl r** sets register r to triple its current value, then continues with the next instruction.\n",
    "3. **inc r** increments register r, adding 1 to it, then continues with the next instruction.\n",
    "4. **jmp offset** is a jump; it continues with the instruction offset away relative to itself.\n",
    "5. **jie r, offset** is like jmp, but only jumps if register r is even (\"jump if even\").\n",
    "6. **jio r, offset** is like jmp, but only jumps if register r is 1 (\"jump if one\", not odd).\n",
    "\n",
    "The program exits when it tries to access a non-existant instruction (beyond the length of the list).\n",
    "\n",
    "**Part 1**  \n",
    "What is the value in register b when the program (puzzle input) is finished running?\n",
    "\n",
    "**Part 2**\n"
   ]
  },
  {
   "cell_type": "code",
   "execution_count": 110,
   "id": "a7686b30-a77d-422b-91cb-c9fccc862513",
   "metadata": {},
   "outputs": [
    {
     "data": {
      "text/plain": [
       "['inc a', 'jio a, +2', 'tpl a', 'inc a']"
      ]
     },
     "execution_count": 110,
     "metadata": {},
     "output_type": "execute_result"
    }
   ],
   "source": [
    "sample = '''inc a\n",
    "jio a, +2\n",
    "tpl a\n",
    "inc a'''\n",
    "\n",
    "sample_insts = sample.split('\\n')\n",
    "sample_insts"
   ]
  },
  {
   "cell_type": "code",
   "execution_count": 111,
   "id": "c2d9746d",
   "metadata": {},
   "outputs": [],
   "source": [
    "class Computer:\n",
    "    \n",
    "    def __init__(self, a=0, b=0):\n",
    "        self.a = a\n",
    "        self.b = b\n",
    "        self.idx = 0\n",
    "        \n",
    "    def do_instruction(self, inst):\n",
    "        i1, i2 = inst[:3], inst[4:]\n",
    "\n",
    "        if i1 == 'hlf':\n",
    "            if i2 == 'a':\n",
    "                self.a = self.a // 2\n",
    "            else:\n",
    "                self.b = self.b // 2\n",
    "            self.idx += 1\n",
    "\n",
    "        if i1 == 'tpl':\n",
    "            if i2 == 'a':\n",
    "                self.a *= 3\n",
    "            else:\n",
    "                self.b *= 3\n",
    "            self.idx += 1\n",
    "\n",
    "        if i1 == 'inc':\n",
    "            if i2 == 'a':\n",
    "                self.a += 1\n",
    "            else:\n",
    "                self.b += 1\n",
    "            self.idx += 1\n",
    "                \n",
    "        if i1 == 'jmp':\n",
    "            self.idx += int(i2)\n",
    "            \n",
    "        if i1 == 'jie':\n",
    "            r, offset = i2.split(', ')\n",
    "            if r == 'a':\n",
    "                if self.a % 2 == 0:\n",
    "                    self.idx += int(offset)\n",
    "                else:\n",
    "                    self.idx += 1\n",
    "            else:\n",
    "                if self.b % 2 == 0:\n",
    "                    self.idx += int(offset)\n",
    "                else:\n",
    "                    self.idx += 1\n",
    "            \n",
    "        if i1 == 'jio':\n",
    "            r, offset = i2.split(', ')\n",
    "            if r == 'a':\n",
    "                if self.a == 1:\n",
    "                    self.idx += int(offset)\n",
    "                else:\n",
    "                    self.idx += 1\n",
    "            else:\n",
    "                if self.b == 1:\n",
    "                    self.idx += int(offset)\n",
    "                else:\n",
    "                    self.idx += 1\n",
    "                    \n",
    "    def run_program(self, inst_list):\n",
    "        while self.idx < len(inst_list):\n",
    "            self.do_instruction(inst_list[self.idx])\n",
    "        return f'a: {self.a}     b: {self.b}'"
   ]
  },
  {
   "cell_type": "code",
   "execution_count": 112,
   "id": "fce633e4",
   "metadata": {},
   "outputs": [
    {
     "data": {
      "text/plain": [
       "'a: 2     b: 0'"
      ]
     },
     "execution_count": 112,
     "metadata": {},
     "output_type": "execute_result"
    }
   ],
   "source": [
    "scomp = Computer()\n",
    "scomp.run_program(sample_insts)"
   ]
  },
  {
   "cell_type": "code",
   "execution_count": 113,
   "id": "c0246c0b",
   "metadata": {},
   "outputs": [
    {
     "data": {
      "text/plain": [
       "['tpl a', 'inc a', 'jmp +2', 'hlf a', 'jmp -7']"
      ]
     },
     "execution_count": 113,
     "metadata": {},
     "output_type": "execute_result"
    }
   ],
   "source": [
    "with open('data2015/day23.txt') as f23:\n",
    "    instructions = [row.strip() for row in f23.readlines()]\n",
    "    \n",
    "instructions[-5:]"
   ]
  },
  {
   "cell_type": "code",
   "execution_count": 114,
   "id": "a9b76841",
   "metadata": {},
   "outputs": [
    {
     "data": {
      "text/plain": [
       "'a: 1     b: 307'"
      ]
     },
     "execution_count": 114,
     "metadata": {},
     "output_type": "execute_result"
    }
   ],
   "source": [
    "comp1 = Computer()\n",
    "comp1.run_program(instructions)"
   ]
  },
  {
   "cell_type": "code",
   "execution_count": 115,
   "id": "6bf7a3d5",
   "metadata": {},
   "outputs": [
    {
     "data": {
      "text/plain": [
       "'a: 1     b: 160'"
      ]
     },
     "execution_count": 115,
     "metadata": {},
     "output_type": "execute_result"
    }
   ],
   "source": [
    "comp2 = Computer(a=1, b=0)\n",
    "comp2.run_program(instructions)"
   ]
  },
  {
   "cell_type": "markdown",
   "id": "ffc34be8",
   "metadata": {},
   "source": [
    "<a class=\"anchor\" id=\"day24\"></a>\n",
    "## Day 24\n",
    "\n",
    "Packing presents into the sleigh.\n",
    "\n",
    "We're given a list of package weights, and there are three things we must consider when packing the sleigh.\n",
    "\n",
    "First, we need to divide the packages (which are identified by weight as our puzzle input) into three groups of exactly equal weight.\n",
    "\n",
    "We'd like to fill one compartment with as few packages as possible.\n",
    "\n",
    "Of all possible configurations associated with having the fewest possible number of packages in a single compartment, we want to select the smallest grouping that has the smallest product of weights (its \"quantum entanglement\").\n",
    "\n",
    "**Part 1**  \n",
    "What is the quantum entanglement of the small group of packages in ideal configuration?"
   ]
  },
  {
   "cell_type": "code",
   "execution_count": 116,
   "id": "a9e9d26a",
   "metadata": {},
   "outputs": [
    {
     "data": {
      "text/plain": [
       "20"
      ]
     },
     "execution_count": 116,
     "metadata": {},
     "output_type": "execute_result"
    }
   ],
   "source": [
    "sample = [1, 2, 3, 4, 5, 7, 8, 9, 10, 11]\n",
    "goal = sum(sample) // 3\n",
    "goal"
   ]
  },
  {
   "cell_type": "code",
   "execution_count": 117,
   "id": "7b936094",
   "metadata": {},
   "outputs": [],
   "source": [
    "import itertools\n",
    "\n",
    "def get_smallest_groups(weights, goal):\n",
    "    results = []\n",
    "    for i in range(1, len(weights)-1):\n",
    "        combos = list(itertools.combinations(weights, i))\n",
    "        for c in combos:\n",
    "            if sum(c) == goal:\n",
    "                results.append(c)\n",
    "        if len(results) > 0:\n",
    "            return results\n",
    "    return 'no groups'"
   ]
  },
  {
   "cell_type": "code",
   "execution_count": 118,
   "id": "20573f06",
   "metadata": {},
   "outputs": [
    {
     "data": {
      "text/plain": [
       "[(9, 11)]"
      ]
     },
     "execution_count": 118,
     "metadata": {},
     "output_type": "execute_result"
    }
   ],
   "source": [
    "get_smallest_groups(sample, 20)"
   ]
  },
  {
   "cell_type": "code",
   "execution_count": 119,
   "id": "476eb388",
   "metadata": {},
   "outputs": [
    {
     "data": {
      "text/plain": [
       "[101, 103, 107, 109, 113]"
      ]
     },
     "execution_count": 119,
     "metadata": {},
     "output_type": "execute_result"
    }
   ],
   "source": [
    "with open('data2015/day24.txt') as f24:\n",
    "    weights = [int(row.strip()) for row in f24.readlines()]\n",
    "    \n",
    "weights[-5:]"
   ]
  },
  {
   "cell_type": "code",
   "execution_count": 120,
   "id": "42a9ed38",
   "metadata": {},
   "outputs": [],
   "source": [
    "smallest_groups = get_smallest_groups(weights, sum(weights) // 3)"
   ]
  },
  {
   "cell_type": "code",
   "execution_count": 121,
   "id": "b7f209a1",
   "metadata": {},
   "outputs": [
    {
     "data": {
      "text/plain": [
       "10723906903"
      ]
     },
     "execution_count": 121,
     "metadata": {},
     "output_type": "execute_result"
    }
   ],
   "source": [
    "def prod(L):\n",
    "    result = 1\n",
    "    for x in L:\n",
    "        result *= x\n",
    "    return result\n",
    "\n",
    "part1 = min([prod(group) for group in smallest_groups])\n",
    "part1"
   ]
  },
  {
   "cell_type": "code",
   "execution_count": 122,
   "id": "2b8f9867",
   "metadata": {},
   "outputs": [
    {
     "data": {
      "text/plain": [
       "74850409"
      ]
     },
     "execution_count": 122,
     "metadata": {},
     "output_type": "execute_result"
    }
   ],
   "source": [
    "smallest_groups2 = get_smallest_groups(weights, sum(weights) // 4)\n",
    "part2 = min([prod(group) for group in smallest_groups2])\n",
    "part2"
   ]
  },
  {
   "cell_type": "markdown",
   "id": "c30874c1",
   "metadata": {},
   "source": [
    "<a class=\"anchor\" id=\"day25\"></a>\n",
    "# Day 25\n",
    "\n",
    "Puzzle input: <mark> 20151125 </mark>\n",
    "\n",
    "To continue, please consult the code grid in the manual.  Enter the code at row 2978, column 3083."
   ]
  },
  {
   "cell_type": "code",
   "execution_count": 123,
   "id": "04193930",
   "metadata": {},
   "outputs": [
    {
     "data": {
      "text/plain": [
       "array([[0., 0., 0., 0.],\n",
       "       [0., 0., 0., 0.],\n",
       "       [0., 0., 0., 0.],\n",
       "       [0., 0., 0., 0.]])"
      ]
     },
     "execution_count": 123,
     "metadata": {},
     "output_type": "execute_result"
    }
   ],
   "source": [
    "import numpy as np\n",
    "\n",
    "grid = np.zeros(shape=(4, 4))\n",
    "grid"
   ]
  },
  {
   "cell_type": "code",
   "execution_count": 124,
   "id": "8a20745c",
   "metadata": {},
   "outputs": [
    {
     "data": {
      "text/plain": [
       "array([[20151125.,        0.,        0.,        0.,        0.],\n",
       "       [       0.,        0.,        0.,        0.,        0.],\n",
       "       [       0.,        0.,        0.,        0.,        0.],\n",
       "       [       0.,        0.,        0.,        0.,        0.],\n",
       "       [       0.,        0.,        0.,        0.,        0.]])"
      ]
     },
     "execution_count": 124,
     "metadata": {},
     "output_type": "execute_result"
    }
   ],
   "source": [
    "grid = np.zeros(shape=(10000,10000))\n",
    "i, j, n = 0, 0, 1\n",
    "grid[i, j] = 20151125\n",
    "grid[:5, :5]"
   ]
  },
  {
   "cell_type": "code",
   "execution_count": 125,
   "id": "eb8ccbf6",
   "metadata": {},
   "outputs": [
    {
     "data": {
      "text/plain": [
       "31916031"
      ]
     },
     "execution_count": 125,
     "metadata": {},
     "output_type": "execute_result"
    }
   ],
   "source": [
    "def get_next_num(value):\n",
    "    return (value * 252533) % 33554393\n",
    "\n",
    "get_next_num(20151125)"
   ]
  },
  {
   "cell_type": "code",
   "execution_count": 126,
   "id": "281ff55f",
   "metadata": {},
   "outputs": [
    {
     "data": {
      "text/plain": [
       "array([[20151125., 18749137., 17289845., 30943339., 10071777., 33511524.],\n",
       "       [31916031., 21629792., 16929656.,  7726640., 15514188.,  4041754.],\n",
       "       [16080970.,  8057251.,  1601130.,  7981243., 11661866., 16474243.],\n",
       "       [24592653., 32451966., 21345942.,  9380097., 10600672., 31527494.],\n",
       "       [   77061., 17552253., 28094349.,  6899651.,  9250759., 31663883.],\n",
       "       [33071741.,  6796745., 25397450., 24659492.,  1534922., 27995004.]])"
      ]
     },
     "execution_count": 126,
     "metadata": {},
     "output_type": "execute_result"
    }
   ],
   "source": [
    "# verifying the sample\n",
    "\n",
    "num = 20151125\n",
    "for _ in range(30):\n",
    "    while i > 0:\n",
    "        i -= 1\n",
    "        j += 1\n",
    "        num = get_next_num(num)\n",
    "        grid[i, j] = num\n",
    "    i, j = j+1, 0\n",
    "    num = get_next_num(num)\n",
    "    grid[i, j] = num\n",
    "\n",
    "grid[:6, :6]"
   ]
  },
  {
   "cell_type": "code",
   "execution_count": 127,
   "id": "d18c2b60",
   "metadata": {},
   "outputs": [
    {
     "data": {
      "text/plain": [
       "2650453.0"
      ]
     },
     "execution_count": 127,
     "metadata": {},
     "output_type": "execute_result"
    }
   ],
   "source": [
    "# part 1\n",
    "\n",
    "grid = np.zeros(shape=(10000,10000))\n",
    "i, j, n = 0, 0, 1\n",
    "grid[i, j] = 20151125\n",
    "num = 20151125\n",
    "\n",
    "while grid[2977, 3082] == 0:\n",
    "    while i > 0:\n",
    "        i -= 1\n",
    "        j += 1\n",
    "        num = get_next_num(num)\n",
    "        grid[i, j] = num\n",
    "        n += 1\n",
    "    i, j = j+1, 0\n",
    "    num = get_next_num(num)\n",
    "    grid[i, j] = num\n",
    "    n += 1\n",
    "\n",
    "grid[2977, 3082]"
   ]
  },
  {
   "cell_type": "markdown",
   "id": "81e13da6-672b-4f8f-9177-b8e741199067",
   "metadata": {},
   "source": [
    "**Part 2**\n",
    "\n",
    "not allowed until all other 49 stars are done"
   ]
  },
  {
   "cell_type": "code",
   "execution_count": null,
   "id": "e9641ec3",
   "metadata": {},
   "outputs": [],
   "source": []
  }
 ],
 "metadata": {
  "kernelspec": {
   "display_name": "Python 3",
   "language": "python",
   "name": "python3"
  },
  "language_info": {
   "codemirror_mode": {
    "name": "ipython",
    "version": 3
   },
   "file_extension": ".py",
   "mimetype": "text/x-python",
   "name": "python",
   "nbconvert_exporter": "python",
   "pygments_lexer": "ipython3",
   "version": "3.8.8"
  }
 },
 "nbformat": 4,
 "nbformat_minor": 5
}
