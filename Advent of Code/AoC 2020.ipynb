{
 "cells": [
  {
   "cell_type": "markdown",
   "id": "f23d1bad-0c64-4d9d-a287-984df668dc04",
   "metadata": {},
   "source": [
    "# Advent of Code 2020\n",
    "\n",
    "___\n",
    "\n",
    "[**Day 1**](#day1) &nbsp; &nbsp; &nbsp; [**Day 2**](#day2) &nbsp; &nbsp; &nbsp; [**Day 3**](#day3) &nbsp; &nbsp; &nbsp; [**Day 4**](#day4) &nbsp; &nbsp; &nbsp; [**Day 5**](#day5)\n",
    "\n",
    "[**Day 6**](#day6) &nbsp; &nbsp; &nbsp; [**Day 7**](#day7) &nbsp; &nbsp; &nbsp; [**Day 8**](#day8) &nbsp; &nbsp; &nbsp; [**Day 9**](#day9) &nbsp; &nbsp; &nbsp; [**Day 10**](#day10)\n",
    "\n",
    "[**Day 11**](#day11) &nbsp; &nbsp; [**Day 12**](#day12) &nbsp; &nbsp; [*Day 13*](#day13) &nbsp; &nbsp; [**Day 14**](#day14) &nbsp; &nbsp; [**Day 15**](#day15)\n",
    "\n",
    "[**Day 16**](#day16) &nbsp; &nbsp; [Day 17](#day17) &nbsp; &nbsp; [Day 18](#day18) &nbsp; &nbsp; [Day 19](#day19) &nbsp; &nbsp; [Day 20](#day20)\n",
    "\n",
    "[Day 21](#day21) &nbsp; &nbsp; [Day 22](#day22) &nbsp; &nbsp; [Day 23](#day23) &nbsp; &nbsp; [Day 24](#day24) &nbsp; &nbsp; [Day 25](#day25)\n",
    "\n",
    "___"
   ]
  },
  {
   "cell_type": "markdown",
   "id": "fcd63f25",
   "metadata": {},
   "source": [
    "<a class=\"anchor\" id=\"day1\"></a>\n",
    "# Day 1"
   ]
  },
  {
   "cell_type": "code",
   "execution_count": 1,
   "id": "cf961e84-f657-4155-a57d-b5573190cd5f",
   "metadata": {},
   "outputs": [
    {
     "data": {
      "text/plain": [
       "[1742, 1319, 1882, 951, 1849]"
      ]
     },
     "execution_count": 1,
     "metadata": {},
     "output_type": "execute_result"
    }
   ],
   "source": [
    "with open('data2020/day1.txt') as f1:\n",
    "    exp_report = [int(row.strip()) for row in f1.readlines()]\n",
    "    \n",
    "exp_report[-5:]"
   ]
  },
  {
   "cell_type": "markdown",
   "id": "a60fab09-e3ca-4039-99e6-598ec8134e1b",
   "metadata": {},
   "source": [
    "**Part 1**"
   ]
  },
  {
   "cell_type": "code",
   "execution_count": 2,
   "id": "235c7f69-5f5a-42c9-8974-a16628871449",
   "metadata": {},
   "outputs": [
    {
     "name": "stdout",
     "output_type": "stream",
     "text": [
      "41979\n"
     ]
    }
   ],
   "source": [
    "for i, exp1 in enumerate(exp_report):\n",
    "    for j, exp2 in enumerate(exp_report[i:]):\n",
    "        if exp1 + exp2 == 2020:\n",
    "            print(exp1*exp2)"
   ]
  },
  {
   "cell_type": "markdown",
   "id": "3cf171a1-8c52-4f55-af76-cd0d76ffd9a0",
   "metadata": {},
   "source": [
    "**Part 2**"
   ]
  },
  {
   "cell_type": "code",
   "execution_count": 3,
   "id": "50eecc01-1470-44bf-b0ea-d94b4c9e5b03",
   "metadata": {},
   "outputs": [
    {
     "name": "stdout",
     "output_type": "stream",
     "text": [
      "193416912\n"
     ]
    }
   ],
   "source": [
    "for i, exp1 in enumerate(exp_report):\n",
    "    for j, exp2 in enumerate(exp_report[i:]):\n",
    "        for k, exp3 in enumerate(exp_report[i+j:]):\n",
    "            if exp1 + exp2 + exp3 == 2020:\n",
    "                print(exp1*exp2*exp3)"
   ]
  },
  {
   "cell_type": "markdown",
   "id": "ca2d8f27",
   "metadata": {},
   "source": [
    "*code golf - one line each for read/parse, part1, part2*"
   ]
  },
  {
   "cell_type": "code",
   "execution_count": 3,
   "id": "8edd34ca",
   "metadata": {},
   "outputs": [
    {
     "data": {
      "text/plain": [
       "(41979, 193416912)"
      ]
     },
     "execution_count": 3,
     "metadata": {},
     "output_type": "execute_result"
    }
   ],
   "source": [
    "import itertools\n",
    "data = list(map(int, open('data2020/day1.txt').read().splitlines()))\n",
    "d1p1 = (lambda x:x[0]*x[1])([pair for pair in list(itertools.combinations(data, 2)) if pair[0] + pair[1] == 2020][0])\n",
    "d1p2 = (lambda x:x[0]*x[1]*x[2])([pair for pair in list(itertools.combinations(data, 3)) if pair[0] + pair[1] + pair[2] == 2020][0])\n",
    "d1p1, d1p2"
   ]
  },
  {
   "cell_type": "markdown",
   "id": "1de9c361",
   "metadata": {},
   "source": [
    "<a class=\"anchor\" id=\"day2\"></a>\n",
    "\n",
    "# Day 2\n",
    "\n",
    "*Part 1*  \n",
    "How many of the passwords contain the letter in the given range? Example:\n",
    "  \n",
    "    1-2 x: xpxc\n",
    "    \n",
    "This asks \"does the password xpxc contain an x somewhere between the first and second slot?\"\n",
    "\n",
    "*Part 2*  \n",
    "Instead, find the passwords that have the desired letter at exactly the lower bound or upper bound but not both."
   ]
  },
  {
   "cell_type": "code",
   "execution_count": 4,
   "id": "4596af0c-7253-4f7e-ab99-95984ecaf65c",
   "metadata": {},
   "outputs": [
    {
     "data": {
      "text/plain": [
       "['1-2 x: xpxc',\n",
       " '1-5 b: bwlbbbbcq',\n",
       " '3-5 v: qvjjdhvl',\n",
       " '9-12 t: ttfjvvtgxtctrntnhtt',\n",
       " '3-4 r: rqjw']"
      ]
     },
     "execution_count": 4,
     "metadata": {},
     "output_type": "execute_result"
    }
   ],
   "source": [
    "with open('data2020/day2.txt') as f2:\n",
    "    pwlist = [row.strip() for row in f2.readlines()]\n",
    "\n",
    "pwlist[:5]"
   ]
  },
  {
   "cell_type": "markdown",
   "id": "06854336",
   "metadata": {},
   "source": [
    "**Part 1**"
   ]
  },
  {
   "cell_type": "code",
   "execution_count": 5,
   "id": "3ef1cb97",
   "metadata": {},
   "outputs": [
    {
     "data": {
      "text/plain": [
       "556"
      ]
     },
     "execution_count": 5,
     "metadata": {},
     "output_type": "execute_result"
    }
   ],
   "source": [
    "count = 0\n",
    "for row in pwlist:\n",
    "    row = row.split(' ')\n",
    "    span, char, pw = row\n",
    "    lower, upper = map(int, span.split('-'))\n",
    "    char = char[0]\n",
    "    if lower <= pw.count(char) <= upper:\n",
    "        count += 1\n",
    "count    "
   ]
  },
  {
   "cell_type": "markdown",
   "id": "4e440231",
   "metadata": {},
   "source": [
    "**Part 2**"
   ]
  },
  {
   "cell_type": "code",
   "execution_count": 6,
   "id": "12346047",
   "metadata": {},
   "outputs": [
    {
     "data": {
      "text/plain": [
       "605"
      ]
     },
     "execution_count": 6,
     "metadata": {},
     "output_type": "execute_result"
    }
   ],
   "source": [
    "count = 0\n",
    "for row in pwlist:\n",
    "    row = row.split(' ')\n",
    "    span, char, pw = row\n",
    "    lower, upper = map(int, span.split('-'))\n",
    "    char = char[0]\n",
    "    if (pw[lower-1] == char and pw[upper-1] != char) or (pw[lower-1] != char and pw[upper-1] == char):\n",
    "        count += 1\n",
    "count    "
   ]
  },
  {
   "cell_type": "markdown",
   "id": "10858db0-2f1e-46de-946b-a1a76bc332ec",
   "metadata": {},
   "source": [
    "<a class=\"anchor\" id=\"day3\"></a>\n",
    "# Day 3\n",
    "\n",
    "Skiing through the trees!\n",
    "Starting from top left and going to the bottom row, with the grid repeating horzontally:\n",
    "\n",
    "*Part 1*  \n",
    "How many trees will you hit with a slope of right 3, down 1?\n",
    "\n",
    "*Part 2*  \n",
    "Find number of trees hit for 5 different slopes, find their product."
   ]
  },
  {
   "cell_type": "code",
   "execution_count": 7,
   "id": "bb897ff2-607b-4123-b297-22ae3a158855",
   "metadata": {},
   "outputs": [
    {
     "data": {
      "text/plain": [
       "['.#..#.....#....##..............',\n",
       " '...#.#...#...#.#..........#....',\n",
       " '#...###...#.#.....#.##.#.#...#.',\n",
       " '#.....#.#...##....#...#...#....',\n",
       " '##.......##.#.....#........##.#']"
      ]
     },
     "execution_count": 7,
     "metadata": {},
     "output_type": "execute_result"
    }
   ],
   "source": [
    "with open('data2020/day3.txt') as f3:\n",
    "    forest = [row.strip() for row in f3.readlines()]\n",
    "\n",
    "forest[:5]"
   ]
  },
  {
   "cell_type": "markdown",
   "id": "2f40d098",
   "metadata": {},
   "source": [
    "**Part 1**"
   ]
  },
  {
   "cell_type": "code",
   "execution_count": 8,
   "id": "18bf1f92",
   "metadata": {},
   "outputs": [
    {
     "data": {
      "text/plain": [
       "289"
      ]
     },
     "execution_count": 8,
     "metadata": {},
     "output_type": "execute_result"
    }
   ],
   "source": [
    "tree = 0\n",
    "i, j = 0, 0\n",
    "while i < len(forest):\n",
    "    if forest[i][j] == '#':\n",
    "        tree += 1\n",
    "    i += 1\n",
    "    j = (j+3) % len(forest[0])\n",
    "    \n",
    "tree"
   ]
  },
  {
   "cell_type": "markdown",
   "id": "051cae6c",
   "metadata": {},
   "source": [
    "**Part 2**"
   ]
  },
  {
   "cell_type": "code",
   "execution_count": 9,
   "id": "7e5a8e40",
   "metadata": {},
   "outputs": [
    {
     "data": {
      "text/plain": [
       "5522401584"
      ]
     },
     "execution_count": 9,
     "metadata": {},
     "output_type": "execute_result"
    }
   ],
   "source": [
    "mx = [1, 3, 5, 7, 1]\n",
    "my = [1, 1, 1, 1, 2]\n",
    "treeprod = 1\n",
    "for m in range(5):\n",
    "    x = mx[m]\n",
    "    y = my[m]\n",
    "    tree = 0\n",
    "    i, j = 0, 0\n",
    "    while i < len(forest):\n",
    "        if forest[i][j] == '#':\n",
    "            tree += 1\n",
    "        i += y\n",
    "        j = (j+x) % len(forest[0])\n",
    "    treeprod *= tree\n",
    "treeprod"
   ]
  },
  {
   "cell_type": "markdown",
   "id": "74f536c7-db83-4279-82d5-c578022b90c4",
   "metadata": {},
   "source": [
    "<a class=\"anchor\" id=\"day4\"></a>\n",
    "\n",
    "# Day 4\n",
    "\n",
    "Checking passports\n",
    "\n",
    "*Part 1*  \n",
    "Given is a list of passports.  There are 8 fields, all of which except for *cid* are required.  Determine how many passports have all required fields.\n",
    "\n",
    "*Part 2*  \n",
    "Now count passports that both have all fields and all the fields are valid according to these rules:\n",
    "\n",
    "    byr (Birth Year) - four digits; at least 1920 and at most 2002.\n",
    "    iyr (Issue Year) - four digits; at least 2010 and at most 2020.\n",
    "    eyr (Expiration Year) - four digits; at least 2020 and at most 2030.\n",
    "    hgt (Height) - a number followed by either cm or in:\n",
    "    If cm, the number must be at least 150 and at most 193.\n",
    "    If in, the number must be at least 59 and at most 76.\n",
    "    hcl (Hair Color) - a # followed by exactly six characters 0-9 or a-f.\n",
    "    ecl (Eye Color) - exactly one of: amb blu brn gry grn hzl oth.\n",
    "    pid (Passport ID) - a nine-digit number, including leading zeroes.\n",
    "    cid (Country ID) - ignored, missing or not."
   ]
  },
  {
   "cell_type": "code",
   "execution_count": 12,
   "id": "992bb90c-61b4-46c0-9209-12e683c22a3f",
   "metadata": {},
   "outputs": [
    {
     "data": {
      "text/plain": [
       "['byr:1991',\n",
       " 'iyr:1930 eyr:2024',\n",
       " '',\n",
       " 'ecl:oth hcl:#602927 eyr:2025 iyr:2013 hgt:151cm byr:1992 pid:812583062',\n",
       " '']"
      ]
     },
     "execution_count": 12,
     "metadata": {},
     "output_type": "execute_result"
    }
   ],
   "source": [
    "with open('data2020/day4.txt') as f4:\n",
    "    passports = [row.strip() for row in f4.readlines()]\n",
    "\n",
    "# when we identify several lines being part of one passport, we'll find the\n",
    "#  end of a passport by finding '', so put one on the very end\n",
    "passports.append('')\n",
    "passports[-5:]"
   ]
  },
  {
   "cell_type": "code",
   "execution_count": 15,
   "id": "fcfe1c17",
   "metadata": {},
   "outputs": [
    {
     "data": {
      "text/plain": [
       "['pid:095687847 eyr:2022 hgt:151cm byr:1967 iyr:2017 ecl:oth hcl:#866857 ',\n",
       " 'hcl:#866857 pid:983640144 hgt:61cm ecl:hzl byr:1991 iyr:1930 eyr:2024 ',\n",
       " 'ecl:oth hcl:#602927 eyr:2025 iyr:2013 hgt:151cm byr:1992 pid:812583062 ']"
      ]
     },
     "execution_count": 15,
     "metadata": {},
     "output_type": "execute_result"
    }
   ],
   "source": [
    "# move lines around so one line = one passport\n",
    "pps = []\n",
    "pp = ''\n",
    "for i, line in enumerate(passports):\n",
    "    if line == '':\n",
    "        pps.append(pp)\n",
    "        pp = ''\n",
    "    else:\n",
    "        pp += line + ' '\n",
    "pps[-3:]"
   ]
  },
  {
   "cell_type": "code",
   "execution_count": 16,
   "id": "fbf5416d",
   "metadata": {},
   "outputs": [
    {
     "data": {
      "text/plain": [
       "{'eyr': '2027',\n",
       " 'hcl': '#602927',\n",
       " 'hgt': '186cm',\n",
       " 'byr': '1939',\n",
       " 'iyr': '2019',\n",
       " 'pid': '552194973',\n",
       " 'ecl': 'hzl'}"
      ]
     },
     "execution_count": 16,
     "metadata": {},
     "output_type": "execute_result"
    }
   ],
   "source": [
    "# convert each passport string into its own dict; make a list of passport dicts\n",
    "ppdList = []\n",
    "for pp in pps:\n",
    "    ppd = {}\n",
    "    pp = pp.split(' ')\n",
    "    for part in pp:\n",
    "        if ':' in part:\n",
    "            k, v = part.split(':')\n",
    "            ppd[k] = v\n",
    "    ppdList.append(ppd)\n",
    "ppdList[0]"
   ]
  },
  {
   "cell_type": "code",
   "execution_count": 17,
   "id": "cf6bc236",
   "metadata": {},
   "outputs": [
    {
     "data": {
      "text/plain": [
       "235"
      ]
     },
     "execution_count": 17,
     "metadata": {},
     "output_type": "execute_result"
    }
   ],
   "source": [
    "# count passports with all requierd fields\n",
    "features = sorted(['hcl', 'pid', 'hgt', 'ecl', 'byr', 'iyr', 'eyr'])\n",
    "features2 = sorted(features + ['cid'])\n",
    "valid = 0\n",
    "for ppd in ppdList:\n",
    "    keys = sorted(list(set(ppd.keys())))\n",
    "    if keys == features or keys == features2:\n",
    "        valid += 1\n",
    "\n",
    "valid"
   ]
  },
  {
   "cell_type": "markdown",
   "id": "8be8f1ef",
   "metadata": {},
   "source": [
    "**Part 2**"
   ]
  },
  {
   "cell_type": "code",
   "execution_count": 24,
   "id": "b1dbbd68",
   "metadata": {},
   "outputs": [],
   "source": [
    "def is_valid(ppd):\n",
    "    \n",
    "    # check if all required fields are present first (like part 1)\n",
    "    if not (sorted(ppd.keys()) == features or sorted(ppd.keys()) == features2):\n",
    "        return 'type 1'\n",
    "    \n",
    "    by = int(ppd['byr'])\n",
    "    if by < 1920 or by > 2002:\n",
    "        return 'birth year error'\n",
    "    \n",
    "    iy = int(ppd['iyr'])\n",
    "    if iy < 2010 or iy > 2020:\n",
    "        return 'issue year error'\n",
    "    \n",
    "    ey = int(ppd['eyr'])\n",
    "    if ey < 2020 or ey > 2030:\n",
    "        return 'exp year error'\n",
    "    \n",
    "    hgtstr = ppd['hgt']\n",
    "    if 'cm' in hgtstr:\n",
    "        hgt = int(hgtstr[:-2])\n",
    "        if hgt < 150 or hgt > 193:\n",
    "            return 'height cm error'\n",
    "    elif 'in' in hgtstr:\n",
    "        hgt = int(hgtstr[:-2])\n",
    "        if hgt < 59 or hgt > 76:\n",
    "            return 'height in error'\n",
    "    elif 'cm' not in hgtstr and 'in' not in hgtstr:\n",
    "        return 'height no units error'\n",
    "    \n",
    "    hcl = ppd['hcl']\n",
    "    if not (hcl[0] == '#' and len(hcl) == 7 and all([char in '0123456789abcdef' for char in list(hcl[1:])])):\n",
    "        return 'hair color error'\n",
    "    \n",
    "    ecl = ppd['ecl']\n",
    "    if ecl not in ['amb', 'blu', 'brn', 'gry', 'grn', 'hzl', 'oth']:\n",
    "        return 'eye color error'\n",
    "    \n",
    "    pid = ppd['pid']\n",
    "    if not (len(pid) == 9 and all([char in '0123456789' for char in list(pid)])):\n",
    "        return 'passport id error'\n",
    "    \n",
    "    # 0 is a success here\n",
    "    return 'valid'\n"
   ]
  },
  {
   "cell_type": "code",
   "execution_count": 25,
   "id": "d16823b0",
   "metadata": {},
   "outputs": [
    {
     "data": {
      "text/plain": [
       "['valid',\n",
       " 'valid',\n",
       " 'passport id error',\n",
       " 'valid',\n",
       " 'valid',\n",
       " 'valid',\n",
       " 'type 1',\n",
       " 'issue year error',\n",
       " 'hair color error',\n",
       " 'type 1']"
      ]
     },
     "execution_count": 25,
     "metadata": {},
     "output_type": "execute_result"
    }
   ],
   "source": [
    "ppchecks = [is_valid(ppd) for ppd in ppdList]\n",
    "ppchecks[:10]"
   ]
  },
  {
   "cell_type": "code",
   "execution_count": 26,
   "id": "98fcd585",
   "metadata": {},
   "outputs": [
    {
     "data": {
      "text/plain": [
       "194"
      ]
     },
     "execution_count": 26,
     "metadata": {},
     "output_type": "execute_result"
    }
   ],
   "source": [
    "ppchecks.count('valid')"
   ]
  },
  {
   "cell_type": "markdown",
   "id": "083aa3fd-6aaf-49ce-8d58-1b36e2d32343",
   "metadata": {},
   "source": [
    "<a class=\"anchor\" id=\"day5\"></a>\n",
    "\n",
    "# Day 5\n",
    "\n",
    "*Part 1*  \n",
    "Given is a list of bording_passes in binary that are 10 digits long. First 7 indicate which row (1-128), last three indicate which column (1-8).  Seat ID is 8 times row plus column. Find the largest seat ID.\n",
    "\n",
    "*Part 2*  \n",
    "Now need to find your seat, the only missing one. However, some seats at the very front and back don't exist on this plane. Identify our seat ID, its the one missing with seats assigned to IDs immediately above and below it."
   ]
  },
  {
   "cell_type": "code",
   "execution_count": 40,
   "id": "d5365f76-5dae-4f03-8a4d-669211eef19a",
   "metadata": {},
   "outputs": [
    {
     "data": {
      "text/plain": [
       "['FBBBFFFRLL', 'FBBFBFBRRL', 'FBFFFFFRRL']"
      ]
     },
     "execution_count": 40,
     "metadata": {},
     "output_type": "execute_result"
    }
   ],
   "source": [
    "with open('data2020/day5.txt') as f5:\n",
    "    boarding_passes = [row.strip() for row in f5.readlines()]\n",
    "    \n",
    "boarding_passes[-3:]"
   ]
  },
  {
   "cell_type": "markdown",
   "id": "3a6d8c09",
   "metadata": {},
   "source": [
    "**Part 1**"
   ]
  },
  {
   "cell_type": "code",
   "execution_count": 41,
   "id": "8b9261f3",
   "metadata": {},
   "outputs": [],
   "source": [
    "def find_seat(bp):\n",
    "    bf = bp[:7]\n",
    "    lr = bp[7:]\n",
    "    \n",
    "    bf = bf.replace('B', '1')\n",
    "    bf = bf.replace('F', '0')\n",
    "    row = int(bf, 2)\n",
    "    \n",
    "    lr = lr.replace('L', '0')\n",
    "    lr = lr.replace('R', '1')\n",
    "    col = int(lr, 2)\n",
    "        \n",
    "    ID = row*8 + col\n",
    "    \n",
    "    return (row, col, ID)"
   ]
  },
  {
   "cell_type": "code",
   "execution_count": 42,
   "id": "d2b43925",
   "metadata": {},
   "outputs": [
    {
     "data": {
      "text/plain": [
       "(100, 1, 801)"
      ]
     },
     "execution_count": 42,
     "metadata": {},
     "output_type": "execute_result"
    }
   ],
   "source": [
    "all_seats = [find_seat(bp) for bp in boarding_passes]\n",
    "max(all_seats, key=lambda x: x[2])"
   ]
  },
  {
   "cell_type": "markdown",
   "id": "c1c693b6",
   "metadata": {},
   "source": [
    "**Part 2**"
   ]
  },
  {
   "cell_type": "code",
   "execution_count": 43,
   "id": "2e7e0e47",
   "metadata": {},
   "outputs": [
    {
     "data": {
      "text/plain": [
       "(40, 801)"
      ]
     },
     "execution_count": 43,
     "metadata": {},
     "output_type": "execute_result"
    }
   ],
   "source": [
    "check = sorted(allSeats, key=lambda x:x[2])\n",
    "scores = [x[2] for x in check]\n",
    "lowScore = check[0][2]\n",
    "highScore = check[-1][2]\n",
    "lowScore, highScore"
   ]
  },
  {
   "cell_type": "code",
   "execution_count": 44,
   "id": "f05937bb",
   "metadata": {},
   "outputs": [
    {
     "name": "stdout",
     "output_type": "stream",
     "text": [
      "597\n"
     ]
    }
   ],
   "source": [
    "for i in range(lowScore + 1, highScore):\n",
    "    if i not in scores and i-1 in scores and i+1 in scores:\n",
    "        print(i)"
   ]
  },
  {
   "cell_type": "markdown",
   "id": "7d94449d-5a31-40b1-bc4c-4d5ba823ec70",
   "metadata": {},
   "source": [
    "<a class=\"anchor\" id=\"day6\"></a>\n",
    "\n",
    "# Day 6\n",
    "\n",
    "Families are filling out customs declaration forms with 26 questions, a-z.  Letters given are the questions they said \"yes\" to, one string for each member of each family.\n",
    "\n",
    "*Part 1*  \n",
    "Find the questions that *anyone* in the group said yes to - sum those counts across all groups.\n",
    "\n",
    "*Part 2*  \n",
    "Find the questions that everyone in the group said yes to - sum those counts across all groups."
   ]
  },
  {
   "cell_type": "code",
   "execution_count": 48,
   "id": "f51f969a-37cf-4a5f-a9bb-203888cfdc96",
   "metadata": {},
   "outputs": [
    {
     "data": {
      "text/plain": [
       "['rdykiuwbhtzxmvcspnfeojqg', '', 'v', 'v', 'hv']"
      ]
     },
     "execution_count": 48,
     "metadata": {},
     "output_type": "execute_result"
    }
   ],
   "source": [
    "with open('data2020/day6.txt') as f6:\n",
    "    forms = [row.strip() for row in f6.readlines()]\n",
    "    \n",
    "forms[-5:]"
   ]
  },
  {
   "cell_type": "code",
   "execution_count": 51,
   "id": "dd5918e3",
   "metadata": {},
   "outputs": [
    {
     "data": {
      "text/plain": [
       "6437"
      ]
     },
     "execution_count": 51,
     "metadata": {},
     "output_type": "execute_result"
    }
   ],
   "source": [
    "counts = 0\n",
    "current = ''\n",
    "for i, q in enumerate(forms):\n",
    "    if q == '': # new family - document the old one, start a new one\n",
    "        counts += len(set(list(current)))\n",
    "        current = ''\n",
    "    else: # add on next piece of info\n",
    "        current += q\n",
    "counts += len(set(list(current)))\n",
    "counts"
   ]
  },
  {
   "cell_type": "markdown",
   "id": "52e14f99",
   "metadata": {},
   "source": [
    "**Part 2**"
   ]
  },
  {
   "cell_type": "code",
   "execution_count": 53,
   "id": "56572292",
   "metadata": {},
   "outputs": [
    {
     "data": {
      "text/plain": [
       "[['jmqnkzlsfedaptx', 'usjfkadqwmeyilph'],\n",
       " ['lodbmhvcaset', 'wcognbeaxhmvdt'],\n",
       " ['f', 'f', 'f', 'f'],\n",
       " ['dwxfircztpyshol',\n",
       "  'dogfryaxtlhzscw',\n",
       "  'gwchdzyftolsxra',\n",
       "  'thrdwcxfosqzyl',\n",
       "  'rholzdwctxfsy'],\n",
       " ['dbifho', 'zmdh', 'hobd']]"
      ]
     },
     "execution_count": 53,
     "metadata": {},
     "output_type": "execute_result"
    }
   ],
   "source": [
    "# can't just mash a whole family's answers together in part one, \n",
    "#  need to group each family's responses\n",
    "groups = []\n",
    "current = []\n",
    "for i, q in enumerate(forms):\n",
    "    if q == '':\n",
    "        groups.append(current)\n",
    "        current = []\n",
    "    else:\n",
    "        current.append(q)\n",
    "groups.append(current)\n",
    "\n",
    "groups[:5]"
   ]
  },
  {
   "cell_type": "code",
   "execution_count": 54,
   "id": "30faa202",
   "metadata": {},
   "outputs": [
    {
     "data": {
      "text/plain": [
       "3229"
      ]
     },
     "execution_count": 54,
     "metadata": {},
     "output_type": "execute_result"
    }
   ],
   "source": [
    "count = 0\n",
    "for g in groups:\n",
    "    total = ''.join(g)\n",
    "    totalunique = ''.join(list(set(list(total))))\n",
    "    count += len([char for char in totalunique if all([char in person for person in g])])\n",
    "    \n",
    "count"
   ]
  },
  {
   "cell_type": "markdown",
   "id": "ba0590b8-dfc4-4936-998f-02e675f6e4c1",
   "metadata": {},
   "source": [
    "<a class=\"anchor\" id=\"day7\"></a>\n",
    "\n",
    "# Day 7\n",
    "\n",
    "There are lot of rules about what types of bags must be contained by which bags.\n",
    "\n",
    "*Part 1*  \n",
    "Determine how many different colors of bags could contain a shiny gold bag.\n",
    "\n",
    "*Part 2*  \n",
    "Determine how many bags must be contained by a shiny gold bag."
   ]
  },
  {
   "cell_type": "code",
   "execution_count": 68,
   "id": "afb59c21-b874-447a-9567-ac5934531855",
   "metadata": {},
   "outputs": [
    {
     "data": {
      "text/plain": [
       "['faded purple bags contain 1 light fuchsia bag, 4 dull violet bags.',\n",
       " 'clear plum bags contain 2 vibrant gray bags, 4 striped tan bags.',\n",
       " 'wavy black bags contain 5 mirrored turquoise bags.',\n",
       " 'dark coral bags contain 5 faded violet bags.',\n",
       " 'pale orange bags contain 3 mirrored red bags, 4 clear olive bags.']"
      ]
     },
     "execution_count": 68,
     "metadata": {},
     "output_type": "execute_result"
    }
   ],
   "source": [
    "with open('data2020/day7.txt') as f7:\n",
    "    bags = [row.strip() for row in f7.readlines()]\n",
    "    \n",
    "bags[-5:]"
   ]
  },
  {
   "cell_type": "code",
   "execution_count": 69,
   "id": "2dbd7ab0",
   "metadata": {},
   "outputs": [],
   "source": [
    "# This sample should show an answer of \"4 colors of bags\" for Part 1 and \"shiny gold contains 32 bags\" for Part 2.\n",
    "\n",
    "# sample = ['light red bags contain 1 bright white bag, 2 muted yellow bags.',\n",
    "# 'dark orange bags contain 3 bright white bags, 4 muted yellow bags.',\n",
    "# 'bright white bags contain 1 shiny gold bag.',\n",
    "# 'muted yellow bags contain 2 shiny gold bags, 9 faded blue bags.',\n",
    "# 'shiny gold bags contain 1 dark olive bag, 2 vibrant plum bags.',\n",
    "# 'dark olive bags contain 3 faded blue bags, 4 dotted black bags.',\n",
    "# 'vibrant plum bags contain 5 faded blue bags, 6 dotted black bags.',\n",
    "# 'faded blue bags contain no other bags.',\n",
    "# 'dotted black bags contain no other bags.']\n",
    "\n",
    "# bags = sample"
   ]
  },
  {
   "cell_type": "code",
   "execution_count": 70,
   "id": "c24939b2",
   "metadata": {},
   "outputs": [
    {
     "name": "stdout",
     "output_type": "stream",
     "text": [
      "('posh brown', [[5, 'dim coral'], [1, 'plaid blue'], [2, 'faded bronze'], [2, 'light black']])\n",
      "('vibrant lime', [[3, 'dull lavender'], [3, 'dim crimson'], [3, 'mirrored lavender'], [2, 'muted cyan']])\n",
      "('clear olive', [[1, 'wavy gold'], [4, 'dim lime'], [3, 'dull tomato'], [5, 'dark turquoise']])\n"
     ]
    }
   ],
   "source": [
    "def parseBag(s):\n",
    "    bag, contains = s.split('contain ')\n",
    "    \n",
    "    bag = bag.split(' ')\n",
    "    bag = ' '.join(bag[:-2])\n",
    "    \n",
    "    contains = contains.split(', ')\n",
    "    inside = []\n",
    "    for thing in contains:\n",
    "        sp_thing = thing.split(' ')\n",
    "        if sp_thing[0] == 'no':\n",
    "            continue\n",
    "        count = int(sp_thing[0])\n",
    "        name = sp_thing[1] + ' ' + sp_thing[2]\n",
    "        inside.append([count, name])\n",
    "    \n",
    "    return (bag, inside)\n",
    "\n",
    "for bag in bags[:3]:\n",
    "    print(parseBag(bag))"
   ]
  },
  {
   "cell_type": "markdown",
   "id": "dd51301e",
   "metadata": {},
   "source": [
    "#### Build dicts to hold three relationships:\n",
    "1. containments in goodBagDict\n",
    "2. parent to child is in parentDict\n",
    "3. child to parent is in childDict\n",
    "\n",
    "I don't think I actually use parentDict...but I think I \"sort of\" needed it to make childDict."
   ]
  },
  {
   "cell_type": "code",
   "execution_count": 71,
   "id": "e8e2b8d5",
   "metadata": {},
   "outputs": [],
   "source": [
    "goodBags = [parseBag(bag) for bag in bags]\n",
    "goodBagDict = {k:v for k, v in goodBags}"
   ]
  },
  {
   "cell_type": "code",
   "execution_count": 72,
   "id": "f1dd1d84",
   "metadata": {},
   "outputs": [],
   "source": [
    "# Get list of parents and dict where parents are keys\n",
    "parents = [gb[0] for gb in goodBags]\n",
    "parentDict= {p:[] for p in parents}\n",
    "for gb in goodBags:\n",
    "    for c in gb[1]:\n",
    "        parentDict[gb[0]].append(c[1])"
   ]
  },
  {
   "cell_type": "code",
   "execution_count": 73,
   "id": "b7418a59",
   "metadata": {},
   "outputs": [],
   "source": [
    "# Get list of children and dict where children are keys\n",
    "children = []\n",
    "for p in parentDict:\n",
    "    for c in parentDict[p]:\n",
    "        children.append(c)\n",
    "children = list(set(children))\n",
    "childDict = {c:[] for c in children}\n",
    "for gb in goodBags:\n",
    "    for c in gb[1]:\n",
    "        childDict[c[1]].append(gb[0])"
   ]
  },
  {
   "cell_type": "code",
   "execution_count": 74,
   "id": "88a4133e",
   "metadata": {},
   "outputs": [],
   "source": [
    "allBags = list(set(children + parents))"
   ]
  },
  {
   "cell_type": "markdown",
   "id": "9d9d9027",
   "metadata": {},
   "source": [
    "**Part 1**"
   ]
  },
  {
   "cell_type": "code",
   "execution_count": 75,
   "id": "50f20ace",
   "metadata": {},
   "outputs": [
    {
     "data": {
      "text/plain": [
       "238"
      ]
     },
     "execution_count": 75,
     "metadata": {},
     "output_type": "execute_result"
    }
   ],
   "source": [
    "toCheck = ['shiny gold']\n",
    "holdsGold = [0 for i in range(len(allBags))]\n",
    "\n",
    "while toCheck != []:\n",
    "    newBags = [] # will hold all of the next layer up\n",
    "    for bag in toCheck:\n",
    "        holdsGold[allBags.index(bag)] = 1 # we've seen it now\n",
    "        if bag in childDict:  # if it has any parents\n",
    "            pars = childDict[bag]\n",
    "            for par in pars:\n",
    "                if holdsGold[allBags.index(par)] == 0: # and if those parents haven't been seen\n",
    "                    newBags.append(par) # put the parent into the next round\n",
    "    toCheck += newBags # add in the new bags\n",
    "    for bag in toCheck: # remove anything we've already seen\n",
    "        if holdsGold[allBags.index(bag)] == 1:\n",
    "            toCheck.remove(bag)\n",
    "            \n",
    "# holdsGold will have a \"1\" for shiny gold, but it doesn't contain itself\n",
    "sum(holdsGold) - 1"
   ]
  },
  {
   "cell_type": "markdown",
   "id": "3c218f4b",
   "metadata": {},
   "source": [
    "**Part 2**"
   ]
  },
  {
   "cell_type": "code",
   "execution_count": 76,
   "id": "1aee1301",
   "metadata": {},
   "outputs": [],
   "source": [
    "def get_contains(bag):\n",
    "    kids = goodBagDict[bag]\n",
    "    total = 0\n",
    "    if kids == []:\n",
    "        return 0\n",
    "    for kid in kids:\n",
    "        total += kid[0]*(get_contains(kid[1]) + 1)\n",
    "    return total"
   ]
  },
  {
   "cell_type": "code",
   "execution_count": 77,
   "id": "f851ece8",
   "metadata": {},
   "outputs": [
    {
     "data": {
      "text/plain": [
       "82930"
      ]
     },
     "execution_count": 77,
     "metadata": {},
     "output_type": "execute_result"
    }
   ],
   "source": [
    "get_contains('shiny gold')"
   ]
  },
  {
   "cell_type": "markdown",
   "id": "9b374c86-8e84-4352-b6f0-9bb7838c159d",
   "metadata": {},
   "source": [
    "<a class=\"anchor\" id=\"day8\"></a>\n",
    "\n",
    "# Day 8\n",
    "\n",
    "Some code is stuck in an infinite loop.\n",
    "It consists of 3 instructions with arguments.\n",
    "\n",
    "    Examples:\n",
    "\n",
    "    nop +0      # does nothing, executes next line (arg doesn't matter)\n",
    "    jmp +7      # moves to the instruction 7 lines later (jmp +1 == nop +0)\n",
    "    acc +4      # increases a global variable by 4 (accumulator, which starts at 0)\n",
    "    \n",
    "*Part 1*  \n",
    "The program is stuck in an infinite loop. Determine the value of the accumulator as the program is about to run a line of the code for a second time.\n",
    "\n",
    "*Part 2*  \n",
    "The code is supposed to terminate by attempting to run the line of code immediately past the final line. Its been determined that the error is caused either by a jmp instruction being a nop or vice versa. Find the line with the incorrect jmp/nop; determine the value of the accumulator when the fixed program terminates."
   ]
  },
  {
   "cell_type": "code",
   "execution_count": 78,
   "id": "db73334d-f8de-4e82-af6e-eecac1ca7340",
   "metadata": {},
   "outputs": [
    {
     "data": {
      "text/plain": [
       "['acc +50', 'acc +16', 'nop -119', 'acc +46', 'jmp +1']"
      ]
     },
     "execution_count": 78,
     "metadata": {},
     "output_type": "execute_result"
    }
   ],
   "source": [
    "with open('data2020/day8.txt') as f8:\n",
    "    program = [row.strip() for row in f8.readlines()]\n",
    "    \n",
    "program[-5:]"
   ]
  },
  {
   "cell_type": "markdown",
   "id": "c3ee5d45",
   "metadata": {},
   "source": [
    "**Part 1**"
   ]
  },
  {
   "cell_type": "code",
   "execution_count": 79,
   "id": "1a1e41c3",
   "metadata": {},
   "outputs": [
    {
     "data": {
      "text/plain": [
       "1928"
      ]
     },
     "execution_count": 79,
     "metadata": {},
     "output_type": "execute_result"
    }
   ],
   "source": [
    "seen = [0 for i in range(len(program))]  # which lines of code we've seen \n",
    "acc = 0\n",
    "\n",
    "i = 0\n",
    "while True:\n",
    "    opp, arg = program[i].split()\n",
    "    arg = int(arg)\n",
    "    if opp == 'nop':\n",
    "        i += 1\n",
    "    elif opp == 'acc':\n",
    "        acc += arg\n",
    "        i += 1\n",
    "    elif opp == 'jmp':\n",
    "        i += arg\n",
    "    if seen[i] == 1:\n",
    "        break\n",
    "    else:\n",
    "        seen[i] = 1\n",
    "        \n",
    "acc"
   ]
  },
  {
   "cell_type": "markdown",
   "id": "d381888c",
   "metadata": {},
   "source": [
    "**Part 2**"
   ]
  },
  {
   "cell_type": "code",
   "execution_count": 80,
   "id": "e6019f14",
   "metadata": {},
   "outputs": [],
   "source": [
    "def checkProg(prog):\n",
    "    seen = [0 for i in range(len(prog))]\n",
    "    acc = 0\n",
    "    i = 0\n",
    "    while True:\n",
    "        opp, arg = prog[i].split(' ')\n",
    "        arg = int(arg)\n",
    "        \n",
    "        if opp == 'nop':\n",
    "            i += 1\n",
    "        elif opp == 'acc':\n",
    "            acc += arg\n",
    "            i += 1\n",
    "        elif opp == 'jmp':\n",
    "            i += arg\n",
    "\n",
    "        if i == len(prog):\n",
    "            return acc\n",
    "        elif seen[i] == 1:\n",
    "            return -99\n",
    "        elif seen[i] == 0:\n",
    "            seen[i] = 1"
   ]
  },
  {
   "cell_type": "code",
   "execution_count": 81,
   "id": "d0026130",
   "metadata": {},
   "outputs": [
    {
     "name": "stdout",
     "output_type": "stream",
     "text": [
      "1319\n"
     ]
    }
   ],
   "source": [
    "for i, row in enumerate(program):\n",
    "    op = row[:3]\n",
    "    if op == 'acc':\n",
    "        continue\n",
    "    else:\n",
    "        newProg = program[:]\n",
    "        newProg[i] = 'jmp ' + row[4:] if op == 'nop' else 'nop ' + row[4:]    # swap ops\n",
    "    result = checkProg(newProg)\n",
    "    if result != -99:\n",
    "        print(result)\n",
    "        break"
   ]
  },
  {
   "cell_type": "markdown",
   "id": "0ad18322-3ebb-4f67-9b9c-0c4350a98377",
   "metadata": {},
   "source": [
    "<a class=\"anchor\" id=\"day9\"></a>\n",
    "\n",
    "# Day 9\n",
    "\n",
    "A list of numbers *almost* has the property that every number in the list can be made by a sum of some pair of numbers in the previous 25 numbers in the list (starting at the 26th number).  \n",
    "\n",
    "*Part 1*  \n",
    "Find the first number that cannot be made with the sum of two numbers in the previous 25.\n",
    "\n",
    "*Part 2*  \n",
    "The 'wrong' number (answer) from Part 1 can't be made as a sum of any of the previous 25, but it can be made as a sum of several values in a continuous span somewhere in the list (i.e. the 4th through the 12th add to that value, the 90th).\n",
    "\n",
    "Find the span - find the sum of the smallest and largest values in the span that sum to the Part 1 solution.\n",
    "\n",
    "We'll use the inchworm method to slide the window over which we're summing:\n",
    "\n",
    "1. increase the high until we go over x\n",
    "2. increase the low (decrease the sum) until we are under x"
   ]
  },
  {
   "cell_type": "code",
   "execution_count": 85,
   "id": "80f1ff45-2348-42ba-ad6b-108f095ddf8a",
   "metadata": {},
   "outputs": [
    {
     "data": {
      "text/plain": [
       "([30, 17, 44], [52398572893382, 54392776957308, 59213187032307])"
      ]
     },
     "execution_count": 85,
     "metadata": {},
     "output_type": "execute_result"
    }
   ],
   "source": [
    "with open('data2020/day9.txt') as f9:\n",
    "    vals = list(map(int, f9.read().splitlines()))\n",
    "    \n",
    "vals[:3], vals[-3:]"
   ]
  },
  {
   "cell_type": "code",
   "execution_count": 86,
   "id": "3a0b4364",
   "metadata": {},
   "outputs": [
    {
     "data": {
      "text/plain": [
       "[(1, 2), (1, 3), (1, 4), (2, 3), (2, 4), (3, 4)]"
      ]
     },
     "execution_count": 86,
     "metadata": {},
     "output_type": "execute_result"
    }
   ],
   "source": [
    "import itertools\n",
    "x = [1, 2, 3, 4]\n",
    "list(itertools.combinations(x, 2))"
   ]
  },
  {
   "cell_type": "markdown",
   "id": "f7eed939",
   "metadata": {},
   "source": [
    "**Part 1**"
   ]
  },
  {
   "cell_type": "code",
   "execution_count": 87,
   "id": "932654b1",
   "metadata": {},
   "outputs": [
    {
     "data": {
      "text/plain": [
       "400480901"
      ]
     },
     "execution_count": 87,
     "metadata": {},
     "output_type": "execute_result"
    }
   ],
   "source": [
    "i = 25\n",
    "while i < len(vals):\n",
    "    pre = vals[i-25:i]\n",
    "    x = vals[i]\n",
    "    if all([sum(pair) != x for pair in list(itertools.combinations(pre, 2))]):\n",
    "        break\n",
    "    i += 1\n",
    "x"
   ]
  },
  {
   "cell_type": "markdown",
   "id": "b822a0ce",
   "metadata": {},
   "source": [
    "**Part 2**"
   ]
  },
  {
   "cell_type": "code",
   "execution_count": 88,
   "id": "d4e462b7",
   "metadata": {},
   "outputs": [
    {
     "data": {
      "text/plain": [
       "67587168"
      ]
     },
     "execution_count": 88,
     "metadata": {},
     "output_type": "execute_result"
    }
   ],
   "source": [
    "x = 400480901\n",
    "low, high = 0, 1\n",
    "total = sum(vals[low:high+1])\n",
    "\n",
    "while total != x:\n",
    "    if total < x:\n",
    "        high += 1\n",
    "        total = sum(vals[low:high+1])\n",
    "    elif total > x:\n",
    "        while total > x:\n",
    "            low += 1\n",
    "            total = sum(vals[low:high+1])\n",
    "            \n",
    "min(vals[low:high]) + max(vals[low:high])"
   ]
  },
  {
   "cell_type": "markdown",
   "id": "a6de6afe-57e0-42b8-a518-fef239ca082e",
   "metadata": {},
   "source": [
    "<a class=\"anchor\" id=\"day10\"></a>\n",
    "\n",
    "# Day 10\n",
    "\n",
    "Lots of voltage adapters.\n",
    "\n",
    "*Part 1*  \n",
    "Using all of the adapters, how many 1 jumps and how many 3 jumps? Find the product of their counts.\n",
    "\n",
    "*Part 2*  \n",
    "How many possible ways can we connect the wall to the built-in adapter? Over a trillion, recursion won't work.\n",
    "\n",
    "Basically it seems like part 1 was to point out that all the differences are 1 or 3 between two consecutive numbers; if the diff is three then there's only one choice, so we really just need to look at the chunks where there are several values in a row that are 1 apart."
   ]
  },
  {
   "cell_type": "code",
   "execution_count": 91,
   "id": "9d5d61c5-f5d4-4b05-99be-5ea7f0730784",
   "metadata": {},
   "outputs": [
    {
     "data": {
      "text/plain": [
       "[168, 157, 27, 72]"
      ]
     },
     "execution_count": 91,
     "metadata": {},
     "output_type": "execute_result"
    }
   ],
   "source": [
    "with open('data2020/day10.txt') as f10:\n",
    "    adapters = list(map(int, f10.read().splitlines()))\n",
    "    \n",
    "adapters[-4:]"
   ]
  },
  {
   "cell_type": "markdown",
   "id": "640c4a65",
   "metadata": {},
   "source": [
    "**Part 1**"
   ]
  },
  {
   "cell_type": "code",
   "execution_count": 92,
   "id": "be02d92f",
   "metadata": {},
   "outputs": [
    {
     "data": {
      "text/plain": [
       "2450"
      ]
     },
     "execution_count": 92,
     "metadata": {},
     "output_type": "execute_result"
    }
   ],
   "source": [
    "ordered = sorted(adapters)\n",
    "ordered = [0] + ordered + [ordered[-1]+3]  # wall (0) and built-in adapter (3 more than biggest)\n",
    "\n",
    "diffs = [ordered[i+1] - ordered[i] for i in range(len(ordered)-1)]\n",
    "\n",
    "diffs.count(1)*diffs.count(3)"
   ]
  },
  {
   "cell_type": "markdown",
   "id": "63d97a89",
   "metadata": {},
   "source": [
    "**Part 2**\n",
    "\n",
    "Okay, let's take a look at possible arrangements for $n$ consecutive integers:\n",
    "\n",
    "    1                 : 1 arrangement\n",
    "   \n",
    "    1 2               : 1 arrangement\n",
    "    \n",
    "    1 2 3             : 2 arrangements\n",
    "    1   3\n",
    "    \n",
    "    1 2 3 4           : 4 arrangements\n",
    "    1   3 4\n",
    "    1 2   4 \n",
    "    1     4\n",
    "    \n",
    "    1 2 3 4 5         : 7 arrangements\n",
    "    1 2 3   5\n",
    "    1 2   4 5\n",
    "    1   3 4 5\n",
    "    1 2     5\n",
    "    1   3   5\n",
    "    1     4 5\n",
    "    \n",
    "    1 2 3 4 5 6       : 13 arrangements\n",
    "    1   3 4 5 6\n",
    "    1 2   4 5 6\n",
    "    1 2 3   5 6\n",
    "    1 2 3 4   6\n",
    "    1     4 5 6\n",
    "    1 2     5 6\n",
    "    1 2 3     6\n",
    "    1   3   5 6\n",
    "    1 2   4   6\n",
    "    1 2     5 6\n",
    "    1   3     6\n",
    "    1     4   6\n",
    "    \n",
    "From this we can see that if you have $n$ consecutive adjacent integers, then there are $tribonacci(n)$ ways to select them ensuring there is no gap bigger than 3:\n",
    "\n",
    "       n    :  1   2   3   4   5   6   7   8   9\n",
    "    trib(n) :  1   1   2   4   7   13  24  44  81"
   ]
  },
  {
   "cell_type": "code",
   "execution_count": 95,
   "id": "2a43374a",
   "metadata": {},
   "outputs": [
    {
     "data": {
      "text/plain": [
       "[1, 1, 2, 4, 7, 13, 24, 44, 81, 149, 274, 504, 927, 1705, 3136]"
      ]
     },
     "execution_count": 95,
     "metadata": {},
     "output_type": "execute_result"
    }
   ],
   "source": [
    "# make some trib numbers\n",
    "trib = [1, 1, 2]\n",
    "for i in range(40):\n",
    "    trib.append(sum(trib[-3:]))\n",
    "trib[:15]"
   ]
  },
  {
   "cell_type": "code",
   "execution_count": 98,
   "id": "cd573dfc",
   "metadata": {},
   "outputs": [
    {
     "name": "stdout",
     "output_type": "stream",
     "text": [
      "\n",
      "32396521357312 total arrangements\n"
     ]
    }
   ],
   "source": [
    "vals = ordered\n",
    "\n",
    "result = 1\n",
    "i = 0\n",
    "\n",
    "while i < len(vals)-1:\n",
    "    #print(i, end='\\t')\n",
    "    \n",
    "    # skip 3-gaps\n",
    "    if vals[i+1] - vals[i] == 3:\n",
    "        i += 1\n",
    "    \n",
    "    # if we find a 1-gap, find out how many cons_ecutive terms are 1-gaps\n",
    "    else:\n",
    "        cons = 1\n",
    "        while i+cons < len(vals) and vals[i+cons] - vals[i+cons-1] == 1:\n",
    "            cons += 1\n",
    "        result *= trib[cons-1] # -1 for indexing\n",
    "        i += cons\n",
    "    #print(cons)\n",
    "    \n",
    "print()\n",
    "print(f'{result} total arrangements')"
   ]
  },
  {
   "cell_type": "markdown",
   "id": "315ae79d-6cd0-4256-b8f8-a74ca2977cbc",
   "metadata": {},
   "source": [
    "<a class=\"anchor\" id=\"day11\"></a>\n",
    "\n",
    "# Day 11\n",
    "\n",
    "Seating arrangements ~ cellular automata\n",
    "\n",
    "Each seat is identified by\n",
    "\n",
    "    '.' == floor\n",
    "    'L' == empty seat\n",
    "    '#' == occupied seat\n",
    "\n",
    "*Part 1*  \n",
    "Every unit of time, every empty seat becomes occupied if nobody is surrounding it (8 surrounding spots), and occupied seats will become unoccupied if 4 or more adjacent spots have occupied seats.  Eventually, everyone will stop moving.  At that time, how many seats are occupied?\n",
    "\n",
    "*Part 2*  \n",
    "Instead, we should check the first visible chair in each of the eight directions to inform the seat's decision. Also, it now takes 5 visible people to cause a person to move, not 4. Now how many seats are occupied when everyone stops moving?"
   ]
  },
  {
   "cell_type": "code",
   "execution_count": 101,
   "id": "a7c93076-e89b-44ce-9487-a78aaaadb9ac",
   "metadata": {},
   "outputs": [
    {
     "data": {
      "text/plain": [
       "['LLLLLLLLL.LLLL.LLLLL.LLLLLL.LLLLLLLL.LLLLLLLLLLL.LLLLLL.LLLLLLLL.LLLLLLLLL.LLLLLLL.LLLLLLLL',\n",
       " 'LLLLLLLLL.LLLLLLLLLL.LLLLLL.LLLLL.LLLLLLL.LL.LLL.LLLLLLLLLLLLLLLLLLLLLLLLL.LLLLLL..LLLLLLLL',\n",
       " 'LLLLLLLLLLLLLL.LLLLL.LLLLLLLLLLLLLLLLLLLLLLLLLLLLLLLLLL.LLLLLLLL.LLLLLLLLL.LLLLLLLLLL.LLLLL']"
      ]
     },
     "execution_count": 101,
     "metadata": {},
     "output_type": "execute_result"
    }
   ],
   "source": [
    "with open('data2020/day11.txt') as f11:\n",
    "    seats = [row.strip() for row in f11.readlines()]\n",
    "    \n",
    "seats[-3:]"
   ]
  },
  {
   "cell_type": "markdown",
   "id": "8e0916be",
   "metadata": {},
   "source": [
    "**Part 1**"
   ]
  },
  {
   "cell_type": "code",
   "execution_count": 102,
   "id": "f49f5f73",
   "metadata": {},
   "outputs": [
    {
     "data": {
      "text/plain": [
       "94"
      ]
     },
     "execution_count": 102,
     "metadata": {},
     "output_type": "execute_result"
    }
   ],
   "source": [
    "steps = 0\n",
    "current = [list(row) for row in seats]\n",
    "rMax = len(current)\n",
    "cMax = len(current[0])\n",
    "next_seats = [['' for i in range(cMax)] for j in range(rMax)]\n",
    "\n",
    "while True:\n",
    "    steps += 1\n",
    "    for row in range(rMax):\n",
    "        for col in range(cMax):\n",
    "            \n",
    "            # find which adjacent spots to check\n",
    "            toCheck = [(row-1, col-1), (row-1, col), (row-1, col+1),\n",
    "                       (row, col-1), (row, col+1),\n",
    "                       (row+1, col-1), (row+1, col), (row+1, col+1)]\n",
    "            badlocs = []\n",
    "            for loc in toCheck:\n",
    "                y, x = loc\n",
    "                if (x < 0) or (y < 0) or (x >= cMax) or (y >= rMax):\n",
    "                    badlocs.append(loc)\n",
    "            toCheck = [loc for loc in toCheck if loc not in badlocs] # locations\n",
    "            nearby = [current[tc[0]][tc[1]] for tc in toCheck]       # things at the locations\n",
    "            \n",
    "            # update the location we're at based on what's around it\n",
    "            if current[row][col] == 'L':\n",
    "                if nearby.count('#') == 0:\n",
    "                    next_seats[row][col] = '#'\n",
    "                    continue\n",
    "            if current[row][col] == '#':\n",
    "                if nearby.count('#') >= 4:\n",
    "                    next_seats[row][col] = 'L'\n",
    "                    continue\n",
    "            \n",
    "            # if nothing changed, or floor, place the same piece into the next_seats grid\n",
    "            next_seats[row][col] = current[row][col]\n",
    "    \n",
    "    # the next_seats grid is complete; if no change, done, otherwise, do it again\n",
    "    if next_seats == current:\n",
    "        break\n",
    "    else:\n",
    "        current = next_seats\n",
    "        next_seats = [['' for i in range(cMax)] for j in range(rMax)]\n",
    "        \n",
    "steps"
   ]
  },
  {
   "cell_type": "code",
   "execution_count": 103,
   "id": "c40bc83b",
   "metadata": {},
   "outputs": [
    {
     "data": {
      "text/plain": [
       "2275"
      ]
     },
     "execution_count": 103,
     "metadata": {},
     "output_type": "execute_result"
    }
   ],
   "source": [
    "total = 0\n",
    "for row in current:\n",
    "    total += row.count('#')\n",
    "total"
   ]
  },
  {
   "cell_type": "markdown",
   "id": "247176b9",
   "metadata": {},
   "source": [
    "**Part 2**"
   ]
  },
  {
   "cell_type": "code",
   "execution_count": 104,
   "id": "78879664",
   "metadata": {},
   "outputs": [
    {
     "data": {
      "text/plain": [
       "86"
      ]
     },
     "execution_count": 104,
     "metadata": {},
     "output_type": "execute_result"
    }
   ],
   "source": [
    "current = [list(row) for row in seats]\n",
    "rMax = len(current)\n",
    "cMax = len(current[0])\n",
    "next_seats = [['' for i in range(cMax)] for j in range(rMax)]\n",
    "steps2 = 0\n",
    "\n",
    "while True:\n",
    "    steps2 += 1\n",
    "    for row in range(rMax):\n",
    "        for col in range(cMax):\n",
    "            \n",
    "            # find the visible seats in the 8 directions\n",
    "            vis = []\n",
    "            for dirs in [(-1,-1), (-1,0), (-1,1), (0,-1), (0,1), (1,-1), (1,0), (1,1)]:\n",
    "                r, c = row + dirs[0], col + dirs[1]\n",
    "                while (r >= 0) and (c >= 0) and (c < cMax) and (r < rMax):\n",
    "                    if current[r][c] != '.':\n",
    "                        vis.append(current[r][c])\n",
    "                        break\n",
    "                    r, c = r + dirs[0], c + dirs[1]\n",
    "                    \n",
    "            # update the location we're at based on what's around it\n",
    "            if current[row][col] == 'L':\n",
    "                if all([v != '#' for v in vis]):\n",
    "                    next_seats[row][col] = '#'\n",
    "                    continue\n",
    "            if current[row][col] == '#':\n",
    "                if sum([v == '#' for v in vis]) >= 5:\n",
    "                    next_seats[row][col] = 'L'\n",
    "                    continue\n",
    "\n",
    "            # if nothing changed, or floor, place the same piece into the next_seats grid\n",
    "            next_seats[row][col] = current[row][col]\n",
    "            \n",
    "    # the next_seats grid is complete; if no change, done, otherwise, do it again\n",
    "    if next_seats == current:\n",
    "        break\n",
    "    else:\n",
    "        current = next_seats\n",
    "        next_seats = [['' for i in range(cMax)] for j in range(rMax)]\n",
    "\n",
    "steps2"
   ]
  },
  {
   "cell_type": "code",
   "execution_count": 105,
   "id": "0c10cef1",
   "metadata": {},
   "outputs": [
    {
     "data": {
      "text/plain": [
       "2121"
      ]
     },
     "execution_count": 105,
     "metadata": {},
     "output_type": "execute_result"
    }
   ],
   "source": [
    "total2 = 0\n",
    "for row in current:\n",
    "    total2 += row.count('#')\n",
    "total2"
   ]
  },
  {
   "cell_type": "markdown",
   "id": "0d4b06f0-1762-4b0a-a5ae-08f2780c75cc",
   "metadata": {},
   "source": [
    "<a class=\"anchor\" id=\"day12\"></a>\n",
    "\n",
    "# Day 12\n",
    "\n",
    "Navigating the ferry.\n",
    "\n",
    "    Ferry starts at (0, 0) facing east.\n",
    "\n",
    "    Action N means to move north by the given value.\n",
    "    Action S means to move south by the given value.\n",
    "    Action E means to move east by the given value.\n",
    "    Action W means to move west by the given value.\n",
    "    Action L means to turn left the given number of degrees.\n",
    "    Action R means to turn right the given number of degrees.\n",
    "    Action F means to move forward by the given value in the direction the ship is currently facing.\n",
    "\n",
    "*Part 1*  \n",
    "What is the Manhattan distance from the starting spot after all directions are followed?\n",
    "\n",
    "*Part 2*  \n",
    "Now interpret instructions as associated with a waypoint that begins at (10, 1) relative to the ferry starting at (0, 0).\n",
    "\n",
    "    Action N means to move the waypoint north by the given value.\n",
    "    Action S means to move the waypoint south by the given value.\n",
    "    Action E means to move the waypoint east by the given value.\n",
    "    Action W means to move the waypoint west by the given value.\n",
    "    Action L means to rotate the waypoint around the ship left (counter-clockwise) the given number of degrees.\n",
    "    Action R means to rotate the waypoint around the ship right (clockwise) the given number of degrees.\n",
    "    Action F means to move forward to the waypoint a number of times equal to the given value.\n",
    "Again, find the Manhattan distance the ferry is from its starting spot."
   ]
  },
  {
   "cell_type": "code",
   "execution_count": 106,
   "id": "aa56927f-1def-49df-a948-bd52bff8cee2",
   "metadata": {},
   "outputs": [
    {
     "data": {
      "text/plain": [
       "['F80', 'S1', 'L90', 'R180', 'F37']"
      ]
     },
     "execution_count": 106,
     "metadata": {},
     "output_type": "execute_result"
    }
   ],
   "source": [
    "with open('data2020/day12.txt') as f12:\n",
    "    dirs = [row.strip() for row in f12.readlines()]\n",
    "    \n",
    "dirs[-5:]"
   ]
  },
  {
   "cell_type": "code",
   "execution_count": 107,
   "id": "e36e372d",
   "metadata": {},
   "outputs": [
    {
     "data": {
      "text/plain": [
       "1007"
      ]
     },
     "execution_count": 107,
     "metadata": {},
     "output_type": "execute_result"
    }
   ],
   "source": [
    "x, y = 0, 0\n",
    "direction = 0 # east: 0, 1, 2, 3 = east, north, west, south\n",
    "for d in dirs:\n",
    "    inst, val = d[0], int(d[1:])\n",
    "    if inst == 'E':\n",
    "        x += val\n",
    "    elif inst == 'W':\n",
    "        x -= val\n",
    "    elif inst == 'N':\n",
    "        y += val\n",
    "    elif inst == 'S':\n",
    "        y -= val\n",
    "    else: # if inst in 'RLF'\n",
    "        if inst == 'R':\n",
    "            direction = (direction + val//90) % 4\n",
    "        elif inst == 'L':\n",
    "            direction = (direction - val//90) % 4\n",
    "        elif inst == 'F':\n",
    "            if direction == 0:\n",
    "                x += val\n",
    "            elif direction == 1:\n",
    "                y += val\n",
    "            elif direction == 2:\n",
    "                x -= val\n",
    "            elif direction == 3:\n",
    "                y -= val\n",
    "\n",
    "abs(x) + abs(y)"
   ]
  },
  {
   "cell_type": "markdown",
   "id": "e85b1779",
   "metadata": {},
   "source": [
    "**Part 2**"
   ]
  },
  {
   "cell_type": "code",
   "execution_count": 108,
   "id": "6cc89926",
   "metadata": {},
   "outputs": [
    {
     "data": {
      "text/plain": [
       "41212"
      ]
     },
     "execution_count": 108,
     "metadata": {},
     "output_type": "execute_result"
    }
   ],
   "source": [
    "x, y = 0, 0\n",
    "wx, wy = 10, 1\n",
    "direction = 0\n",
    "for d in dirs:\n",
    "    inst, val = d[0], int(d[1:])\n",
    "    if inst == 'N':\n",
    "        wy += val\n",
    "    elif inst == 'S':\n",
    "        wy -= val\n",
    "    elif inst == 'W':\n",
    "        wx -= val\n",
    "    elif inst == 'E':\n",
    "        wx += val\n",
    "    elif d == 'R90' or d == 'L270':\n",
    "        wx, wy = wy, -wx\n",
    "    elif d == 'R180' or  d == 'L180':\n",
    "        wx, wy = -wx, -wy\n",
    "    elif d == 'R270' or d == 'L90':\n",
    "        wx, wy = -wy, wx\n",
    "    elif inst == 'F':\n",
    "        x += wx*val\n",
    "        y += wy*val\n",
    "        \n",
    "abs(x) + abs(y)"
   ]
  },
  {
   "cell_type": "markdown",
   "id": "a68dbbfc",
   "metadata": {},
   "source": [
    "**Visualize**\n",
    "\n",
    "Copy code from part 1, but save each location as we arrive at it"
   ]
  },
  {
   "cell_type": "code",
   "execution_count": 109,
   "id": "1f7f1483",
   "metadata": {},
   "outputs": [],
   "source": [
    "x, y = 0, 0\n",
    "direction = 0 # east: 0, 1, 2, 3 = east, north, west, south\n",
    "locs = [(0,0)]\n",
    "for d in dirs:\n",
    "    inst, val = d[0], int(d[1:])\n",
    "    if inst == 'E':\n",
    "        x += val\n",
    "    elif inst == 'W':\n",
    "        x -= val\n",
    "    elif inst == 'N':\n",
    "        y += val\n",
    "    elif inst == 'S':\n",
    "        y -= val\n",
    "    else: # if inst in 'RLF'\n",
    "        if inst == 'R':\n",
    "            direction = (direction + val//90) % 4\n",
    "        elif inst == 'L':\n",
    "            direction = (direction - val//90) % 4\n",
    "        elif inst == 'F':\n",
    "            if direction == 0:\n",
    "                x += val\n",
    "            elif direction == 1:\n",
    "                y += val\n",
    "            elif direction == 2:\n",
    "                x -= val\n",
    "            elif direction == 3:\n",
    "                y -= val\n",
    "    if inst not in 'RL':\n",
    "        locs.append((x, y))"
   ]
  },
  {
   "cell_type": "code",
   "execution_count": 110,
   "id": "9cec6c70",
   "metadata": {},
   "outputs": [],
   "source": [
    "xlocs, ylocs = zip(*locs)"
   ]
  },
  {
   "cell_type": "code",
   "execution_count": 111,
   "id": "0d0c59fc",
   "metadata": {},
   "outputs": [
    {
     "data": {
      "image/png": "[encoded data removed]",
      "text/plain": [
       "<Figure size 432x288 with 1 Axes>"
      ]
     },
     "metadata": {
      "needs_background": "light"
     },
     "output_type": "display_data"
    }
   ],
   "source": [
    "import matplotlib.pyplot as plt\n",
    "\n",
    "for i in range(1, len(locs)):\n",
    "    plt.plot(xlocs[i-1:i+1], ylocs[i-1:i+1], 'b-', linewidth=1)\n",
    "    plt.plot(xlocs[i], ylocs[i], 'k.', markersize=3)\n",
    "plt.plot(xlocs[0], ylocs[0], 'g.', markersize=12)\n",
    "plt.plot(xlocs[-1], ylocs[-1], 'r.', markersize=12)\n",
    "plt.show()"
   ]
  },
  {
   "cell_type": "markdown",
   "id": "745a4ad6-a5eb-496b-9348-be9596a7acdd",
   "metadata": {},
   "source": [
    "<a class=\"anchor\" id=\"day13\"></a>\n",
    "\n",
    "# Day 13\n",
    "\n",
    "*Part 1*  \n",
    "What is the ID of the earliest bus you can take to the airport multiplied by the number of minutes you'll need to wait for that bus?\n",
    "\n",
    "*Part 2*  \n"
   ]
  },
  {
   "cell_type": "code",
   "execution_count": 113,
   "id": "ceaf9749-b1ff-437c-950e-5f60fa483831",
   "metadata": {},
   "outputs": [
    {
     "data": {
      "text/plain": [
       "['1000104',\n",
       " '41,x,x,x,x,x,x,x,x,x,x,x,x,x,x,x,x,x,x,x,x,x,x,x,x,x,x,x,x,x,x,x,x,x,x,37,x,x,x,x,x,659,x,x,x,x,x,x,x,23,x,x,x,x,13,x,x,x,x,x,19,x,x,x,x,x,x,x,x,x,29,x,937,x,x,x,x,x,x,x,x,x,x,x,x,x,x,x,x,17']"
      ]
     },
     "execution_count": 113,
     "metadata": {},
     "output_type": "execute_result"
    }
   ],
   "source": [
    "with open('data2020/day13.txt') as f13:\n",
    "    notes = [row.strip() for row in f13.readlines()]\n",
    "    \n",
    "notes"
   ]
  },
  {
   "cell_type": "code",
   "execution_count": 114,
   "id": "1fc160b6",
   "metadata": {},
   "outputs": [],
   "source": [
    "# earliest timestamp and buses\n",
    "et = int(notes[0])\n",
    "buses = notes[1].split(',')"
   ]
  },
  {
   "cell_type": "markdown",
   "id": "6135f09a",
   "metadata": {},
   "source": [
    "**Part 1**"
   ]
  },
  {
   "cell_type": "code",
   "execution_count": 115,
   "id": "d7a2122c",
   "metadata": {},
   "outputs": [],
   "source": [
    "active_buses = [int(bus) for bus in buses if bus != 'x']\n",
    "\n",
    "close_times = [(bus, (et//bus + 1)*bus) for bus in active_buses]\n",
    "close_times.sort(key=lambda x: x[1])"
   ]
  },
  {
   "cell_type": "code",
   "execution_count": 116,
   "id": "5771830f",
   "metadata": {},
   "outputs": [
    {
     "data": {
      "text/plain": [
       "115"
      ]
     },
     "execution_count": 116,
     "metadata": {},
     "output_type": "execute_result"
    }
   ],
   "source": [
    "best = close_times[0]\n",
    "best[0]*(best[1] - et)"
   ]
  },
  {
   "cell_type": "markdown",
   "id": "12792954",
   "metadata": {},
   "source": [
    "**Part 2**"
   ]
  },
  {
   "cell_type": "markdown",
   "id": "5960f553",
   "metadata": {},
   "source": []
  },
  {
   "cell_type": "code",
   "execution_count": null,
   "id": "8216a9a6",
   "metadata": {},
   "outputs": [],
   "source": []
  },
  {
   "cell_type": "code",
   "execution_count": null,
   "id": "2d0bbbe0",
   "metadata": {},
   "outputs": [],
   "source": []
  },
  {
   "cell_type": "markdown",
   "id": "dfa46c11-6858-452f-acde-efa97872695f",
   "metadata": {},
   "source": [
    "<a class=\"anchor\" id=\"day14\"></a>\n",
    "\n",
    "# Day 14\n",
    "\n",
    "*Part 1*  \n",
    "Given is a list of masks and values to write to locations in memory. Line by line, each time we see a mask, that is the new mask, and that mask will overwrite the 36-bit binary version of the value being assigned to memory. If the mask has a 0 or 1, that is the new bit in the value, it the mask has an X, leave the original bit.\n",
    "\n",
    "After masking all the values and assigning them to memory, what is the sum of all values assigned to memory?\n",
    "\n",
    "*Part 2*  \n",
    "Now, the masks are modifying the locations in memory, not the values.\n",
    "\n",
    "    0: leave that bit alone\n",
    "    1: change the mem bit to 1\n",
    "    X: leave as X, can take on either 0 or 1, all possible combos of mem address should take on the new val\n",
    "    Example\n",
    "    mask = 000000000000000000000000000000X1001X\n",
    "    mem[42] = 100\n",
    "    mask = 00000000000000000000000000000000X0XX\n",
    "    mem[26] = 1\n",
    "\n",
    "    should give answer of 208\n",
    "    \n",
    "In the first mem write above, mask has 2 X's, so there are 4 possible combos the X's could take on (00, 01, 10, 11), and we want to write the value of 100 to all 4 of them. The second write has a mask with 3 X's, so there are 8 different locations we'll write the value of 1 to memory."
   ]
  },
  {
   "cell_type": "code",
   "execution_count": 118,
   "id": "64f7ff42-b726-466c-8f63-77fca2398dac",
   "metadata": {},
   "outputs": [
    {
     "data": {
      "text/plain": [
       "['mem[59783] = 121082',\n",
       " 'mem[56918] = 1237706',\n",
       " 'mem[32355] = 472',\n",
       " 'mem[44080] = 131839645',\n",
       " 'mem[56680] = 38523']"
      ]
     },
     "execution_count": 118,
     "metadata": {},
     "output_type": "execute_result"
    }
   ],
   "source": [
    "with open('data2020/day14.txt') as f14:\n",
    "    prog = [row.strip() for row in f14.readlines()]\n",
    "    \n",
    "prog[-5:]"
   ]
  },
  {
   "cell_type": "markdown",
   "id": "6f36fa3f",
   "metadata": {},
   "source": [
    "**Part 1**"
   ]
  },
  {
   "cell_type": "code",
   "execution_count": 119,
   "id": "f4a1b3a1",
   "metadata": {},
   "outputs": [
    {
     "data": {
      "text/plain": [
       "64"
      ]
     },
     "execution_count": 119,
     "metadata": {},
     "output_type": "execute_result"
    }
   ],
   "source": [
    "def applyMask(mask, val):\n",
    "    newVal = bin(val)[2:]  # convert to binary\n",
    "    newVal = '0'*(36-len(newVal)) + newVal   # add leading 0s\n",
    "    maskedVal = ''.join([newVal[i] if mask[i] == 'X' else mask[i] for i in range(36)])   # apply the mask\n",
    "    return int(maskedVal, 2)  # return the base_10 value to be written to memory\n",
    "\n",
    "applyMask('XXXXXXXXXXXXXXXXXXXXXXXXXXXXX1XXXX0X', 0)"
   ]
  },
  {
   "cell_type": "code",
   "execution_count": 120,
   "id": "8175d79d",
   "metadata": {},
   "outputs": [
    {
     "data": {
      "text/plain": [
       "6559449933360"
      ]
     },
     "execution_count": 120,
     "metadata": {},
     "output_type": "execute_result"
    }
   ],
   "source": [
    "known = {}\n",
    "for i, line in enumerate(prog):\n",
    "    if line[:4] == 'mask':\n",
    "        mask = line.split(' = ')[1]\n",
    "    else:\n",
    "        loc, val = line.split(' = ')\n",
    "        loc = int(loc[4:-1])\n",
    "        val = int(val)\n",
    "        newVal = applyMask(mask, val)\n",
    "        known[loc] = newVal\n",
    "        \n",
    "sum(known.values())"
   ]
  },
  {
   "cell_type": "markdown",
   "id": "331b2b75",
   "metadata": {},
   "source": [
    "**Part 2**"
   ]
  },
  {
   "cell_type": "code",
   "execution_count": 121,
   "id": "3428d256",
   "metadata": {},
   "outputs": [
    {
     "data": {
      "text/plain": [
       "[42, 34359738410]"
      ]
     },
     "execution_count": 121,
     "metadata": {},
     "output_type": "execute_result"
    }
   ],
   "source": [
    "def applyMask2(mask, memloc):\n",
    "    # convert loc to binary with leading 0s\n",
    "    loc = bin(memloc)[2:]\n",
    "    loc = '0'*(36-len(loc)) + loc\n",
    "    \n",
    "    # apply mask to the loc, leaving in Xs\n",
    "    maskedloc = ''\n",
    "    for i in range(36):\n",
    "        curr = mask[i]\n",
    "        if curr == '0':\n",
    "            maskedloc += loc[i]\n",
    "        elif curr == '1':\n",
    "            maskedloc += '1'\n",
    "        else:\n",
    "            maskedloc += 'X'\n",
    "            \n",
    "    # get all possible locs (all binary combos possible for Xs)\n",
    "    locs = []\n",
    "    xcount = maskedloc.count('X')\n",
    "    for i in range(2**xcount):\n",
    "        ml = maskedloc[:]  # make a copy of masked loc so we can modify it\n",
    "        insert = bin(i)[2:]  # create binary string of vals to be inserted\n",
    "        insert = '0'*(xcount-len(insert)) + insert  # add leading zeros\n",
    "        for j in range(len(insert)):\n",
    "            ml = ml.replace('X', insert[j], 1)  # replace Xs one at a time\n",
    "        locs.append(int(ml, 2))\n",
    "        \n",
    "    # return the list of locations in memory we need to write to\n",
    "    return list(set(locs))\n",
    "\n",
    "applyMask2('X000000000000000000000000000000000000', 42)"
   ]
  },
  {
   "cell_type": "code",
   "execution_count": 123,
   "id": "32862f00",
   "metadata": {},
   "outputs": [
    {
     "data": {
      "text/plain": [
       "3369767240513"
      ]
     },
     "execution_count": 123,
     "metadata": {},
     "output_type": "execute_result"
    }
   ],
   "source": [
    "def getAnswer(data):\n",
    "    known2 = {}\n",
    "    for i, line in enumerate(data):\n",
    "        if line[:4] == 'mask':\n",
    "            mask = line.split(' = ')[1]\n",
    "        else:\n",
    "            loc, val = line.split(' = ')\n",
    "            loc = int(loc[4:-1])\n",
    "            val = int(val)\n",
    "            newlocs = applyMask2(mask, loc)\n",
    "            #print(newlocs)\n",
    "            for nl in newlocs:\n",
    "                known2[nl] = val\n",
    "    return sum(known2.values())\n",
    "\n",
    "getAnswer(prog)"
   ]
  },
  {
   "cell_type": "markdown",
   "id": "91f2be48-cb77-4104-b07f-cae81b2fbf71",
   "metadata": {},
   "source": [
    "<a class=\"anchor\" id=\"day15\"></a>\n",
    "\n",
    "# Day 15\n",
    "\n",
    "Playing a memory game with the elves.\n",
    "\n",
    "*Part 1*\n",
    "\n",
    "In this game, the players take turns saying numbers. They begin by taking turns reading from a list of starting numbers (your puzzle input). Then, each turn consists of considering the most recently spoken number:\n",
    "\n",
    "If that was the first time the number has been spoken, the current player says 0.  \n",
    "Otherwise, the number had been spoken before; the current player announces how many turns apart the number is from when it was previously spoken.\n",
    "\n",
    "Given the starting numbers (input), what is the 2020th number spoken?\n",
    "\n",
    "(This sequence is in the OEIS:  https://oeis.org/A181391)\n",
    "\n",
    "*Part 2*  \n",
    "(Lame) Instead, find the 30,000,000th value\n"
   ]
  },
  {
   "cell_type": "code",
   "execution_count": 124,
   "id": "d27adcd3-c401-49df-bf3f-af54527d329b",
   "metadata": {},
   "outputs": [],
   "source": [
    "# my problem input\n",
    "data1 = [8,0,17,4,1,12]"
   ]
  },
  {
   "cell_type": "markdown",
   "id": "32652f67",
   "metadata": {},
   "source": [
    "**Part 1**"
   ]
  },
  {
   "cell_type": "code",
   "execution_count": 125,
   "id": "8b4cab3d",
   "metadata": {},
   "outputs": [],
   "source": [
    "def findnth(n, data):\n",
    "    # initialize a dict to hold indices we've seen each val\n",
    "    # since 0 is special, need a starter for it\n",
    "    locs = {0:[]}\n",
    "    \n",
    "    # put initial numbers in dict\n",
    "    for i, val in enumerate(data):\n",
    "        locs[val] = [i]\n",
    "    \n",
    "    # If we've only seen the number once before, that means it \n",
    "    #  was the most recent number, so go with a 0 next.\n",
    "    # If we've seen the number before, find distance from one\n",
    "    #  number ago (i-1) and prev occurrance before that ([-2]),\n",
    "    #  two occurrences ago.\n",
    "    \n",
    "    last = data[-1]\n",
    "    i = len(data)\n",
    "    while i < n:\n",
    "        if len(locs[last]) == 1:\n",
    "            last = 0\n",
    "            locs[0].append(i)\n",
    "        else:\n",
    "            last = i - 1 - locs[last][-2] # last = dist here\n",
    "            if last not in locs:\n",
    "                locs[last] = [i]\n",
    "            else:\n",
    "                locs[last].append(i)\n",
    "        i += 1\n",
    "    return last\n",
    "        "
   ]
  },
  {
   "cell_type": "code",
   "execution_count": 126,
   "id": "be0497ed",
   "metadata": {},
   "outputs": [
    {
     "data": {
      "text/plain": [
       "1836"
      ]
     },
     "execution_count": 126,
     "metadata": {},
     "output_type": "execute_result"
    }
   ],
   "source": [
    "# sample data should give 1836\n",
    "data2 = [3, 1, 2]\n",
    "findnth(2020, data2)"
   ]
  },
  {
   "cell_type": "code",
   "execution_count": 127,
   "id": "97bec898",
   "metadata": {},
   "outputs": [
    {
     "data": {
      "text/plain": [
       "981"
      ]
     },
     "execution_count": 127,
     "metadata": {},
     "output_type": "execute_result"
    }
   ],
   "source": [
    "findnth(2020, data1)"
   ]
  },
  {
   "cell_type": "markdown",
   "id": "c30a48b6",
   "metadata": {},
   "source": [
    "**Part 2**"
   ]
  },
  {
   "cell_type": "code",
   "execution_count": 128,
   "id": "5f6d9d32",
   "metadata": {},
   "outputs": [
    {
     "data": {
      "text/plain": [
       "164878"
      ]
     },
     "execution_count": 128,
     "metadata": {},
     "output_type": "execute_result"
    }
   ],
   "source": [
    "findnth(30000000, data1)"
   ]
  },
  {
   "cell_type": "markdown",
   "id": "74deb6fe-2fad-4930-9b93-fe480fc1e503",
   "metadata": {},
   "source": [
    "<a class=\"anchor\" id=\"day16\"></a>\n",
    "\n",
    "# Day 16\n",
    "\n",
    "You can't read your train ticket, but you know what the 20 field represent, and you know what values are valid for the fields.\n",
    "\n",
    "*Part 1*  \n",
    "Determine the sum of all values on all scanned tickets that don't match any field (class).\n",
    "\n",
    "*Part 2*  \n",
    "Now, remove all the invalid tickets, and use the valid tickets to determine which values correspond to which fields. All the tickets have the same order, including mine, so for example, perhaps the 3rd value on every ticket indicates the price. Determine in which order the values on each ticket correspond to the available fields. Then, find the product of the 6 \"departure\" values on your ticket (first 6)."
   ]
  },
  {
   "cell_type": "code",
   "execution_count": 130,
   "id": "0c6686a4-32f3-4d2b-a065-c477ebc935e6",
   "metadata": {},
   "outputs": [
    {
     "data": {
      "text/plain": [
       "['departure location: 32-209 or 234-963',\n",
       " 'departure station: 47-64 or 83-967',\n",
       " 'departure platform: 37-609 or 628-970',\n",
       " 'departure track: 29-546 or 567-971',\n",
       " 'departure date: 50-795 or 816-960',\n",
       " 'departure time: 49-736 or 750-962',\n",
       " 'arrival location: 48-399 or 420-967',\n",
       " 'arrival station: 49-353 or 360-967',\n",
       " 'arrival platform: 37-275 or 298-969',\n",
       " 'arrival track: 40-119 or 127-954',\n",
       " 'class: 35-750 or 760-968',\n",
       " 'duration: 43-162 or 186-963',\n",
       " 'price: 30-889 or 914-949',\n",
       " 'route: 39-266 or 274-950',\n",
       " 'row: 45-366 or 389-954',\n",
       " 'seat: 42-765 or 772-955',\n",
       " 'train: 30-494 or 518-957',\n",
       " 'type: 48-822 or 835-973',\n",
       " 'wagon: 32-330 or 342-951',\n",
       " 'zone: 36-455 or 462-973',\n",
       " '',\n",
       " 'your ticket:',\n",
       " '109,137,131,157,191,103,127,53,107,151,61,59,139,83,101,149,89,193,113,97',\n",
       " '',\n",
       " 'nearby tickets:',\n",
       " '141,889,637,661,351,108,544,424,330,479,662,448,152,584,408,736,714,299,61,864',\n",
       " '692,855,843,361,21,265,678,716,347,531,56,792,492,656,727,848,149,596,887,862',\n",
       " '819,139,202,774,606,242,646,653,298,111,881,937,118,600,423,354,780,249,639,301',\n",
       " '938,258,482,697,640,678,946,349,153,198,707,601,925,601,677,307,925,840,870,177',\n",
       " '119,724,442,993,137,394,85,673,609,862,631,92,545,591,104,451,130,603,94,946']"
      ]
     },
     "execution_count": 130,
     "metadata": {},
     "output_type": "execute_result"
    }
   ],
   "source": [
    "with open('data2020/day16.txt') as f16:\n",
    "    info = [row.strip() for row in f16.readlines()]\n",
    "    \n",
    "info[:30]"
   ]
  },
  {
   "cell_type": "markdown",
   "id": "8088f2f4",
   "metadata": {},
   "source": [
    "**Part 1**"
   ]
  },
  {
   "cell_type": "code",
   "execution_count": 131,
   "id": "2add038a",
   "metadata": {},
   "outputs": [
    {
     "name": "stdout",
     "output_type": "stream",
     "text": [
      "[109, 137, 131, 157, 191, 103, 127, 53, 107, 151, 61, 59, 139, 83, 101, 149, 89, 193, 113, 97]\n"
     ]
    }
   ],
   "source": [
    "# get class intervals\n",
    "i = 0\n",
    "classes = []\n",
    "while info[i] != '':\n",
    "    line = info[i]\n",
    "    int1, int2 = line[line.index(':')+1:].split(' or ')\n",
    "    classes.append(([int(x) for x in int1.split('-')], [int(x) for x in int2.split('-')]))\n",
    "    i += 1\n",
    "i += 2\n",
    "\n",
    "# get my ticket information\n",
    "myticket = [int(x) for x in info[i].split(',')]\n",
    "print(myticket)\n",
    "i += 3\n",
    "\n",
    "# get scanned ticket information\n",
    "tickets = []\n",
    "while i < len(info):\n",
    "    tickets.append([int(x) for x in info[i].split(',')])\n",
    "    i += 1"
   ]
  },
  {
   "cell_type": "code",
   "execution_count": 132,
   "id": "a19a47a4",
   "metadata": {},
   "outputs": [
    {
     "data": {
      "text/plain": [
       "[([32, 209], [234, 963]),\n",
       " ([47, 64], [83, 967]),\n",
       " ([37, 609], [628, 970]),\n",
       " ([29, 546], [567, 971]),\n",
       " ([50, 795], [816, 960])]"
      ]
     },
     "execution_count": 132,
     "metadata": {},
     "output_type": "execute_result"
    }
   ],
   "source": [
    "classes[:5]"
   ]
  },
  {
   "cell_type": "code",
   "execution_count": 133,
   "id": "b1043a6f",
   "metadata": {},
   "outputs": [
    {
     "data": {
      "text/plain": [
       "[[32, 209], [234, 963], [47, 64], [83, 967], [37, 609]]"
      ]
     },
     "execution_count": 133,
     "metadata": {},
     "output_type": "execute_result"
    }
   ],
   "source": [
    "# flatten the classes for this part, ticket vals need to match any class\n",
    "allclasses = [classes[j][i] for j in range(len(classes)) for i in range(2)]\n",
    "allclasses[:5]"
   ]
  },
  {
   "cell_type": "code",
   "execution_count": 134,
   "id": "40f4b310",
   "metadata": {},
   "outputs": [
    {
     "data": {
      "text/plain": [
       "19060"
      ]
     },
     "execution_count": 134,
     "metadata": {},
     "output_type": "execute_result"
    }
   ],
   "source": [
    "err = 0\n",
    "for t in tickets:\n",
    "    for val in t:\n",
    "        if any([c[0] <= val and c[1] >= val for c in allclasses]):\n",
    "            continue\n",
    "        else:\n",
    "            err += val\n",
    "err"
   ]
  },
  {
   "cell_type": "markdown",
   "id": "e9fc8a59",
   "metadata": {},
   "source": [
    "**Part 2**"
   ]
  },
  {
   "cell_type": "code",
   "execution_count": 135,
   "id": "3c6292c5",
   "metadata": {},
   "outputs": [],
   "source": [
    "# remove invalid\n",
    "bad = []\n",
    "for t in tickets:\n",
    "    for val in t:\n",
    "        if any([c[0] <= val and c[1] >= val for c in allclasses]):\n",
    "            continue\n",
    "        else:\n",
    "            bad.append(t)\n",
    "goodtix = [t for t in tickets if t not in bad]"
   ]
  },
  {
   "cell_type": "code",
   "execution_count": 136,
   "id": "fe98178d",
   "metadata": {},
   "outputs": [
    {
     "data": {
      "text/plain": [
       "{14: 7,\n",
       " 8: 10,\n",
       " 10: 15,\n",
       " 17: 6,\n",
       " 19: 12,\n",
       " 7: 1,\n",
       " 1: 11,\n",
       " 2: 17,\n",
       " 0: 5,\n",
       " 4: 14,\n",
       " 5: 13,\n",
       " 3: 19,\n",
       " 13: 18,\n",
       " 16: 16,\n",
       " 15: 3,\n",
       " 6: 0,\n",
       " 12: 9,\n",
       " 18: 2,\n",
       " 9: 4,\n",
       " 11: 8}"
      ]
     },
     "execution_count": 136,
     "metadata": {},
     "output_type": "execute_result"
    }
   ],
   "source": [
    "avail = classes[:]   # copy classes to avail so we can modify it\n",
    "order = {}\n",
    "unclaimed = list(range(len(goodtix[0])))   # ticket indices we haven't matched yet\n",
    "\n",
    "while unclaimed:\n",
    "    for i in unclaimed:\n",
    "        vals = [t[i] for t in goodtix]   # get i_th val from every ticket\n",
    "        goodavailind = []\n",
    "        for aind, a in enumerate(avail):\n",
    "            if all([(a[0][0] <= v <= a[0][1]) or (a[1][0] <= v <= a[1][1]) for v in vals]):\n",
    "                goodavailind.append(aind)\n",
    "        if len(goodavailind) == 1:   # only want to claim a match if its the only possible match\n",
    "            aind = goodavailind[0]\n",
    "            order[aind] = i   # put match in final dict\n",
    "            avail[aind] = [[-1,-1],[-1,-1]]   # prevent this class from being matched again\n",
    "            unclaimed.remove(i)   # prevent the i_th val on each tix from being checked again\n",
    "            break\n",
    "order"
   ]
  },
  {
   "cell_type": "code",
   "execution_count": 137,
   "id": "16a83913",
   "metadata": {},
   "outputs": [
    {
     "data": {
      "text/plain": [
       "953713095011"
      ]
     },
     "execution_count": 137,
     "metadata": {},
     "output_type": "execute_result"
    }
   ],
   "source": [
    "ans = 1\n",
    "for i in range(6):\n",
    "    ans *= myticket[order[i]]\n",
    "ans"
   ]
  },
  {
   "cell_type": "markdown",
   "id": "3e857b8a-f358-4cac-9b78-0d1550de9f0e",
   "metadata": {},
   "source": [
    "<a class=\"anchor\" id=\"day17\"></a>\n",
    "\n",
    "# Day 17"
   ]
  },
  {
   "cell_type": "code",
   "execution_count": null,
   "id": "aaa5fe13-6860-4c4b-a585-4cdc8a2df403",
   "metadata": {},
   "outputs": [],
   "source": []
  },
  {
   "cell_type": "code",
   "execution_count": null,
   "id": "2abbac2e",
   "metadata": {},
   "outputs": [],
   "source": []
  },
  {
   "cell_type": "code",
   "execution_count": null,
   "id": "d1b2d3fb",
   "metadata": {},
   "outputs": [],
   "source": []
  },
  {
   "cell_type": "code",
   "execution_count": null,
   "id": "bc615eda",
   "metadata": {},
   "outputs": [],
   "source": []
  },
  {
   "cell_type": "code",
   "execution_count": null,
   "id": "c6b708cf",
   "metadata": {},
   "outputs": [],
   "source": []
  },
  {
   "cell_type": "code",
   "execution_count": null,
   "id": "8f7a2abc",
   "metadata": {},
   "outputs": [],
   "source": []
  },
  {
   "cell_type": "markdown",
   "id": "ecb0791c-a4b5-48e4-8ca9-aad698b2e3b5",
   "metadata": {},
   "source": [
    "<a class=\"anchor\" id=\"day18\"></a>\n",
    "\n",
    "# Day 18"
   ]
  },
  {
   "cell_type": "code",
   "execution_count": null,
   "id": "62e34134-79a1-4de8-8bdd-f9a411caf024",
   "metadata": {},
   "outputs": [],
   "source": []
  },
  {
   "cell_type": "markdown",
   "id": "be571ba7-f6c8-4145-94e8-b8cb70fb97cf",
   "metadata": {},
   "source": [
    "<a class=\"anchor\" id=\"day19\"></a>\n",
    "\n",
    "# Day 19"
   ]
  },
  {
   "cell_type": "code",
   "execution_count": null,
   "id": "a4159b76-a82e-4ed6-ad0c-dd9ae354fb88",
   "metadata": {},
   "outputs": [],
   "source": []
  },
  {
   "cell_type": "markdown",
   "id": "1420a7a1-759a-4470-a1e6-bec31f6ed271",
   "metadata": {},
   "source": [
    "<a class=\"anchor\" id=\"day20\"></a>\n",
    "\n",
    "# Day 20"
   ]
  },
  {
   "cell_type": "code",
   "execution_count": null,
   "id": "8fdf69dd-b29b-479a-a8cc-79d0609ac8ac",
   "metadata": {},
   "outputs": [],
   "source": []
  },
  {
   "cell_type": "markdown",
   "id": "73a91c12-46d8-47bf-8e79-93b4f4e91276",
   "metadata": {},
   "source": [
    "<a class=\"anchor\" id=\"day21\"></a>\n",
    "\n",
    "# Day 21"
   ]
  },
  {
   "cell_type": "code",
   "execution_count": null,
   "id": "5f6c9f6c-439f-4932-a052-84736199f7aa",
   "metadata": {},
   "outputs": [],
   "source": []
  },
  {
   "cell_type": "markdown",
   "id": "42a29752-1fca-4713-9417-8758a8d106d2",
   "metadata": {},
   "source": [
    "<a class=\"anchor\" id=\"day22\"></a>\n",
    "\n",
    "# Day 22"
   ]
  },
  {
   "cell_type": "code",
   "execution_count": null,
   "id": "815bc2e6-c67a-4cea-a16d-d5706e218a33",
   "metadata": {},
   "outputs": [],
   "source": []
  },
  {
   "cell_type": "markdown",
   "id": "a757691a-c65e-47e1-b6a8-110c151c8824",
   "metadata": {},
   "source": [
    "<a class=\"anchor\" id=\"day23\"></a>\n",
    "\n",
    "# Day 23"
   ]
  },
  {
   "cell_type": "code",
   "execution_count": null,
   "id": "b05f6743-5b24-4379-8581-f2c87962ac62",
   "metadata": {},
   "outputs": [],
   "source": []
  },
  {
   "cell_type": "markdown",
   "id": "f6671ba1-6ac8-48b2-95ea-6fd8ac3723d3",
   "metadata": {},
   "source": [
    "<a class=\"anchor\" id=\"day24\"></a>\n",
    "\n",
    "# Day 24"
   ]
  },
  {
   "cell_type": "code",
   "execution_count": null,
   "id": "03cf98f7-d1cc-49b0-bb70-068356b9e900",
   "metadata": {},
   "outputs": [],
   "source": []
  },
  {
   "cell_type": "markdown",
   "id": "e63d739c-a686-42ea-9783-dbe0f86258c0",
   "metadata": {},
   "source": [
    "<a class=\"anchor\" id=\"day25\"></a>\n",
    "\n",
    "# Day 25"
   ]
  },
  {
   "cell_type": "code",
   "execution_count": null,
   "id": "2332471d-1639-4434-98f0-c93199839708",
   "metadata": {},
   "outputs": [],
   "source": []
  }
 ],
 "metadata": {
  "kernelspec": {
   "display_name": "Python 3",
   "language": "python",
   "name": "python3"
  },
  "language_info": {
   "codemirror_mode": {
    "name": "ipython",
    "version": 3
   },
   "file_extension": ".py",
   "mimetype": "text/x-python",
   "name": "python",
   "nbconvert_exporter": "python",
   "pygments_lexer": "ipython3",
   "version": "3.8.8"
  }
 },
 "nbformat": 4,
 "nbformat_minor": 5
}
