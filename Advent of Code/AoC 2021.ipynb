{
 "cells": [
  {
   "cell_type": "markdown",
   "id": "f23d1bad-0c64-4d9d-a287-984df668dc04",
   "metadata": {
    "tags": []
   },
   "source": [
    "# Advent of Code 2021\n",
    "\n",
    "___\n",
    "\n",
    "[**Day 1**](#day1) &nbsp; &nbsp; &nbsp; [**Day 2**](#day2) &nbsp; &nbsp; &nbsp; [**Day 3**](#day3) &nbsp; &nbsp; &nbsp; [**Day 4**](#day4) &nbsp; &nbsp; &nbsp; [**Day 5**](#day5)\n",
    "\n",
    "[**Day 6**](#day6) &nbsp; &nbsp; &nbsp; [**Day 7**](#day7) &nbsp; &nbsp; &nbsp; [**Day 8**](#day8) &nbsp; &nbsp; &nbsp; [**Day 9**](#day9) &nbsp; &nbsp; &nbsp; [**Day 10**](#day10)\n",
    "\n",
    "[**Day 11**](#day11) &nbsp; &nbsp; [**Day 12**](#day12) &nbsp; &nbsp; [Day 13](#day13) &nbsp; &nbsp; [Day 14](#day14) &nbsp; &nbsp; [Day 15](#day15)\n",
    "\n",
    "[Day 16](#day16) &nbsp; &nbsp; [Day 17](#day17) &nbsp; &nbsp; [Day 18](#day18) &nbsp; &nbsp; [Day 19](#day19) &nbsp; &nbsp; [Day 20](#day20)\n",
    "\n",
    "[Day 21](#day21) &nbsp; &nbsp; [Day 22](#day22) &nbsp; &nbsp; [Day 23](#day23) &nbsp; &nbsp; [Day 24](#day24) &nbsp; &nbsp; [Day 25](#day25)\n",
    "\n",
    "___"
   ]
  },
  {
   "cell_type": "markdown",
   "id": "fcd63f25",
   "metadata": {},
   "source": [
    "<a class=\"anchor\" id=\"day1\"></a>\n",
    "# Day 1\n",
    "\n",
    "*Part 1*  \n",
    "Given a list of depth measurements, how many times is there in increase in depth?\n",
    "\n",
    "*Part 2*  \n",
    "Now instead consider sums of groups of three (comparing x1+x2+x3 to x2+x3+x4). How many times is there in increase?"
   ]
  },
  {
   "cell_type": "code",
   "execution_count": null,
   "id": "c44fe395-51c5-46bb-8886-d6a1fdb268ac",
   "metadata": {},
   "outputs": [],
   "source": [
    "with open('data2021/day1.txt') as f1:\n",
    "    depths = [int(row.strip()) for row in f1.readlines()]\n",
    "    \n",
    "depths[:5], depths[-5:]"
   ]
  },
  {
   "cell_type": "markdown",
   "id": "5eb9a3cb-1109-4675-813d-e5ed5fd0177e",
   "metadata": {},
   "source": [
    "**Part 1**"
   ]
  },
  {
   "cell_type": "code",
   "execution_count": null,
   "id": "aea1c3af-6b1a-4375-b12e-521a3e0d3f40",
   "metadata": {},
   "outputs": [],
   "source": [
    "diffs = [depths[i] - depths[i-1] for i in range(1, len(depths))]\n",
    "sum([d > 0 for d in diffs])"
   ]
  },
  {
   "cell_type": "markdown",
   "id": "aa6490ad-0b59-4139-af91-c4787d334461",
   "metadata": {},
   "source": [
    "**Part 2**"
   ]
  },
  {
   "cell_type": "code",
   "execution_count": null,
   "id": "7de3534a-bf31-47b2-8890-64061929ef0c",
   "metadata": {},
   "outputs": [],
   "source": [
    "trips = [sum(depths[i:i+3]) for i in range(len(depths)-2)]\n",
    "tdiffs = [trips[i] - trips[i-1] for i in range(1, len(trips))]\n",
    "sum([t > 0 for t in tdiffs])"
   ]
  },
  {
   "cell_type": "markdown",
   "id": "1de9c361",
   "metadata": {},
   "source": [
    "<a class=\"anchor\" id=\"day2\"></a>\n",
    "\n",
    "# Day 2\n",
    "\n",
    "*Part 1*  \n",
    "Given are a list of commands for a submarine.  After following the commands, find the product of the horizontal position and the depth.\n",
    "\n",
    "*Part 2*  \n",
    "Now we interpret the commands differently and track a variable *aim*:\n",
    "\n",
    "    down X increases your aim by X units.\n",
    "    up X decreases your aim by X units.\n",
    "    forward X does two things:\n",
    "        It increases your horizontal position by X units.\n",
    "        It increases your depth by your aim multiplied by X.\n",
    "        \n",
    "Again, find the product of the final horizontal position and depth."
   ]
  },
  {
   "cell_type": "code",
   "execution_count": null,
   "id": "d0810ad9-c709-474a-9224-370b11fdc2a0",
   "metadata": {},
   "outputs": [],
   "source": [
    "with open('data2021/day2.txt') as f2:\n",
    "    cmds = [row.strip() for row in f2.readlines()]\n",
    "    \n",
    "cmds[-5:]"
   ]
  },
  {
   "cell_type": "markdown",
   "id": "b838d5c5-de3a-4ac9-956b-f620c8f0889e",
   "metadata": {},
   "source": [
    "**Part 1**"
   ]
  },
  {
   "cell_type": "code",
   "execution_count": null,
   "id": "3c50aea6-2ccf-4aa5-9dbe-2d3cc046d78f",
   "metadata": {},
   "outputs": [],
   "source": [
    "horiz = 0\n",
    "depth = 0\n",
    "\n",
    "for cmd in cmds:\n",
    "    words = cmd.split()\n",
    "    if words[0] == 'forward':\n",
    "        horiz += int(words[1])\n",
    "    elif words[0] == 'up':\n",
    "        depth -= int(words[1])\n",
    "    else:\n",
    "        depth += int(words[1])\n",
    "horiz*depth"
   ]
  },
  {
   "cell_type": "markdown",
   "id": "a2cd9aef-3807-4bd4-99c3-cf182bf8fb3d",
   "metadata": {},
   "source": [
    "**Part 2**"
   ]
  },
  {
   "cell_type": "code",
   "execution_count": null,
   "id": "a70b66ce-4a38-49ad-87a7-1fba21797cbb",
   "metadata": {},
   "outputs": [],
   "source": [
    "horiz = 0\n",
    "depth = 0\n",
    "aim = 0\n",
    "\n",
    "for cmd in cmds:\n",
    "    words = cmd.split()\n",
    "    word, val = words[0], int(words[1])\n",
    "    if word == 'forward':\n",
    "        horiz += val\n",
    "        depth += aim*val\n",
    "    elif word == 'up':\n",
    "        aim -= val\n",
    "    else:\n",
    "        aim += val\n",
    "horiz*depth"
   ]
  },
  {
   "cell_type": "markdown",
   "id": "10858db0-2f1e-46de-946b-a1a76bc332ec",
   "metadata": {},
   "source": [
    "<a class=\"anchor\" id=\"day3\"></a>\n",
    "# Day 3\n",
    "\n",
    "*Part 1*  \n",
    "Given is a report with a bunch of binary strings.  Find the most common and least common digits in each position, then find the product of the decimal version of each of those two binary strings.\n",
    "\n",
    "*Part 2*  \n",
    "This time, filter by each index.  That is, find the most common digit in the ith location of all the binary strings; only keep the binary strings that have the most common, discard the others.  Do this until only one string remains.  Do this for both the most common and least common digits to produce two strings and find their decimal product."
   ]
  },
  {
   "cell_type": "code",
   "execution_count": null,
   "id": "bb897ff2-607b-4123-b297-22ae3a158855",
   "metadata": {},
   "outputs": [],
   "source": [
    "with open('data2021/day3.txt') as f3:\n",
    "    report = [row.strip() for row in f3.readlines()]\n",
    "    \n",
    "report[-5:]"
   ]
  },
  {
   "cell_type": "markdown",
   "id": "ea692681-a667-4fcb-bb42-3f805cd6cedf",
   "metadata": {},
   "source": [
    "**Part 1**"
   ]
  },
  {
   "cell_type": "code",
   "execution_count": null,
   "id": "b3dfe85e-ec10-445c-a9dd-5d0af217708f",
   "metadata": {},
   "outputs": [],
   "source": [
    "cols = [''.join([row[i] for row in report]) for i in range(len(report[0]))]\n",
    "gamma = ''\n",
    "for col in cols:\n",
    "    gamma += '1' if col.count('1') > col.count('0') else '0'\n",
    "gamma"
   ]
  },
  {
   "cell_type": "code",
   "execution_count": null,
   "id": "e3ee6d0c-d0d8-447f-b9be-86bccb8e2a39",
   "metadata": {},
   "outputs": [],
   "source": [
    "epsilon = ''\n",
    "for char in gamma:\n",
    "    epsilon += '1' if char == '0' else '0'\n",
    "epsilon"
   ]
  },
  {
   "cell_type": "code",
   "execution_count": null,
   "id": "cae50a63-08f8-49de-9e28-cf9b4c5f42e6",
   "metadata": {},
   "outputs": [],
   "source": [
    "int(gamma, 2) * int(epsilon, 2)"
   ]
  },
  {
   "cell_type": "markdown",
   "id": "df445285-f4fc-4324-8088-f5e200ed4853",
   "metadata": {},
   "source": [
    "**Part 2**"
   ]
  },
  {
   "cell_type": "code",
   "execution_count": null,
   "id": "bc68c15b-b969-435d-96ac-8fddb8ee8dd5",
   "metadata": {},
   "outputs": [],
   "source": [
    "oxygen = report[:]\n",
    "\n",
    "while len(oxygen) > 1:\n",
    "    for i in range(len(oxygen[0])):\n",
    "        vals = [ox[i] for ox in oxygen]\n",
    "        zeros, ones = vals.count('0'), vals.count('1')\n",
    "        if ones >= zeros:\n",
    "            oxygen = [ox for ox in oxygen if ox[i] == '1']\n",
    "        else:\n",
    "            oxygen = [ox for ox in oxygen if ox[i] == '0']\n",
    "            \n",
    "ox_bin = oxygen[0]\n",
    "ox_dec = int(ox_bin, 2)\n",
    "ox_dec"
   ]
  },
  {
   "cell_type": "code",
   "execution_count": null,
   "id": "1cbd7030-5336-4a26-a0e7-972b576fb478",
   "metadata": {},
   "outputs": [],
   "source": [
    "co2 = report[:]\n",
    "\n",
    "while len(co2) > 1:\n",
    "    for i in range(len(co2[0])):\n",
    "        vals = [c[i] for c in co2]\n",
    "        zeros, ones = vals.count('0'), vals.count('1')\n",
    "        if ones < zeros:\n",
    "            co2 = [c for c in co2 if c[i] == '1']\n",
    "        else:\n",
    "            co2 = [c for c in co2 if c[i] == '0']\n",
    "        if len(co2) == 1:\n",
    "            break\n",
    "            \n",
    "co2_bin = co2[0]\n",
    "co2_dec = int(co2_bin, 2)\n",
    "co2_dec"
   ]
  },
  {
   "cell_type": "code",
   "execution_count": null,
   "id": "64078277-f2c9-45a8-b82d-c6007cf3a5f4",
   "metadata": {},
   "outputs": [],
   "source": [
    "ox_dec * co2_dec"
   ]
  },
  {
   "cell_type": "markdown",
   "id": "74f536c7-db83-4279-82d5-c578022b90c4",
   "metadata": {
    "tags": []
   },
   "source": [
    "<a class=\"anchor\" id=\"day4\"></a>\n",
    "\n",
    "# Day 4\n",
    "Bingo with a squid.\n",
    "\n",
    "*Part 1*  \n",
    "By calling the given input numbers, find the board that wins first (no diagonals).  On that board, find the sum of the non-covered spaces once the board wins.\n",
    "\n",
    "*Part 2*  \n",
    "Find the last board to win and find the sum of its non-covered spaces."
   ]
  },
  {
   "cell_type": "code",
   "execution_count": null,
   "id": "992bb90c-61b4-46c0-9209-12e683c22a3f",
   "metadata": {},
   "outputs": [],
   "source": [
    "import numpy as np\n",
    "\n",
    "with open('data2021/day4.txt') as f4:\n",
    "    bingo = [row.strip() for row in f4.readlines()]\n",
    "    \n",
    "bingo[:15]"
   ]
  },
  {
   "cell_type": "code",
   "execution_count": null,
   "id": "3ceb6fce-b71a-478b-90bc-fbc91b62af27",
   "metadata": {},
   "outputs": [],
   "source": [
    "# get the first row, numbers being called in the bingo game\n",
    "values = [int(x) for x in bingo[0].split(',')]\n",
    "values[:10]"
   ]
  },
  {
   "cell_type": "code",
   "execution_count": null,
   "id": "b3b1904d-71f7-4df7-8666-d492331ed5d1",
   "metadata": {},
   "outputs": [],
   "source": [
    "# we're going to alter the boards along the way, this function gets us a fresh set of unmodified boards\n",
    "def get_boards():\n",
    "    boards = []\n",
    "    for i in range(2, len(bingo), 6):\n",
    "        board = np.array([[int(x) for x in bingo[j].split()] for j in range(i, i+5)])\n",
    "        boards.append(board)\n",
    "    return boards\n",
    "\n",
    "get_boards()[:2]"
   ]
  },
  {
   "cell_type": "code",
   "execution_count": null,
   "id": "4fcca457-b418-4ed3-a197-928eddf2fe0f",
   "metadata": {},
   "outputs": [],
   "source": [
    "# All numbers on the boards are 0-99, so we'll add 100 to a number on a board when it has been called.\n",
    "# We can then identify called numbers as those bigger than 100; all numbers on a board less than 100\n",
    "#  are the ones that haven't been called that we want to sum to score the board once it has won.\n",
    "# (I was going to negate called numbers, but 0 is a used number and that screwed it up.)\n",
    "\n",
    "def check_win(board):\n",
    "    win = False\n",
    "    \n",
    "    # check each row and each col to see if they have all nums above 100\n",
    "    for i in range(5):\n",
    "        if all(board[i, :] >= 100) or all(board[:, i] >= 100):\n",
    "            win = True\n",
    "    \n",
    "    return sum(board[board < 100]) if win else 0\n",
    "        "
   ]
  },
  {
   "cell_type": "markdown",
   "id": "56c1ee87-eb52-49a1-808b-cf148b2ea924",
   "metadata": {},
   "source": [
    "**Part 1**"
   ]
  },
  {
   "cell_type": "code",
   "execution_count": null,
   "id": "bdc6de27-bf6a-4591-80a9-a62b5108d4d0",
   "metadata": {
    "tags": []
   },
   "outputs": [],
   "source": [
    "boards = get_boards()\n",
    "finished = False\n",
    "for val in values:\n",
    "    if not finished:\n",
    "        for board in boards:\n",
    "            if val in board:\n",
    "                row, col = np.where(board==val)[0][0], np.where(board==val)[1][0]\n",
    "                board[row, col] += 100\n",
    "                score = check_win(board)\n",
    "                if score:\n",
    "                    print(f'Winner! Final value: {val}, board score: {score}, solution: {val*score}')\n",
    "                    finished = True\n",
    "                    break"
   ]
  },
  {
   "cell_type": "markdown",
   "id": "c584129c-325f-4916-ac13-f05613815d63",
   "metadata": {},
   "source": [
    "**Part 2**\n",
    "\n",
    "Now we'll use the same code from part 1, but remove finished boards. If the board we're removing is the last one, that's the one we want."
   ]
  },
  {
   "cell_type": "code",
   "execution_count": null,
   "id": "93dd169a-5580-4b4c-aa76-2aa9c9359c82",
   "metadata": {},
   "outputs": [],
   "source": [
    "boards = get_boards()\n",
    "finished = False\n",
    "to_remove_idxs = []\n",
    "for val in values:\n",
    "    if not finished:\n",
    "        for idx, board in enumerate(boards):\n",
    "            if val in board:\n",
    "                row, col = np.where(board==val)[0][0], np.where(board==val)[1][0]\n",
    "                board[row, col] += 100\n",
    "                score = check_win(board)\n",
    "                if score:\n",
    "                    if len(boards) == 1:\n",
    "                        print(f'Last Winner! Final value: {val}, board score: {score}, solution: {val*score}')\n",
    "                        finished = True\n",
    "                        break\n",
    "                    else:\n",
    "                        to_remove_idxs.append(idx)\n",
    "        if len(boards) == len(to_remove_idxs):\n",
    "            print('finished together')\n",
    "        boards = [boards[i] for i in range(len(boards)) if i not in to_remove_idxs]\n",
    "        to_remove_idxs = []\n",
    "                    "
   ]
  },
  {
   "cell_type": "markdown",
   "id": "083aa3fd-6aaf-49ce-8d58-1b36e2d32343",
   "metadata": {},
   "source": [
    "<a class=\"anchor\" id=\"day5\"></a>\n",
    "\n",
    "# Day 5\n",
    "\n",
    "*Part 1*  \n",
    "Only considering the vertical and horizontal line segments in the input, find the total number of places that experience an overlap of at least two vents.\n",
    "\n",
    "*Part 2*  \n",
    "Now include diagonals."
   ]
  },
  {
   "cell_type": "code",
   "execution_count": null,
   "id": "d5365f76-5dae-4f03-8a4d-669211eef19a",
   "metadata": {},
   "outputs": [],
   "source": [
    "with open('data2021/day5.txt') as f5:\n",
    "    lines = [row.strip() for row in f5.readlines()]\n",
    "    \n",
    "## uncomment this block to override the actual input with the sample (set grid size to (10, 10))\n",
    "# sample = '''0,9 -> 5,9\n",
    "# 8,0 -> 0,8\n",
    "# 9,4 -> 3,4\n",
    "# 2,2 -> 2,1\n",
    "# 7,0 -> 7,4\n",
    "# 6,4 -> 2,0\n",
    "# 0,9 -> 2,9\n",
    "# 3,4 -> 1,4\n",
    "# 0,0 -> 8,8\n",
    "# 5,5 -> 8,2'''\n",
    "\n",
    "# lines = [row.strip() for row in sample.split('\\n')]\n",
    "    \n",
    "endpoints = []\n",
    "for line in lines:\n",
    "    start, _, end = line.split()\n",
    "    start = [int(x) for x in start.split(',')]\n",
    "    end = [int(x) for x in end.split(',')]\n",
    "    endpoints.append([start, end])\n",
    "\n",
    "lines[-1], endpoints[-1]"
   ]
  },
  {
   "cell_type": "markdown",
   "id": "8be41a9a-3129-406b-b101-a2ccc89a0eaf",
   "metadata": {},
   "source": [
    "**Part 1**"
   ]
  },
  {
   "cell_type": "code",
   "execution_count": null,
   "id": "6b9befb6-c5f6-4f10-9066-2da12ade1bcd",
   "metadata": {},
   "outputs": [],
   "source": [
    "import numpy as np\n",
    "\n",
    "# set to (10, 10) for \"sample\"\n",
    "grid = np.zeros((1000, 1000))\n",
    "\n",
    "for ((x1, y1), (x2, y2)) in endpoints:\n",
    "    loy, hiy = sorted((y1, y2))\n",
    "    lox, hix = sorted((x1, x2))\n",
    "    if x1 == x2:\n",
    "        grid[loy:hiy+1, x1] += 1\n",
    "    elif y1 == y2:    \n",
    "        grid[y1, lox:hix+1] += 1\n",
    "        \n",
    "sum(sum(grid > 1))"
   ]
  },
  {
   "cell_type": "markdown",
   "id": "0141e892-8caf-473a-96b5-9692caa7e3c4",
   "metadata": {},
   "source": [
    "**Part 2**\n",
    "\n",
    "Not sure why I'm getting this FutureWarning, here is the slicing example in the docs that I'm following:\n",
    "\n",
    "    >>> y = np.arange(35).reshape(5, 7)\n",
    "    >>> y\n",
    "    array([[ 0,  1,  2,  3,  4,  5,  6],\n",
    "           [ 7,  8,  9, 10, 11, 12, 13],\n",
    "           [14, 15, 16, 17, 18, 19, 20],\n",
    "           [21, 22, 23, 24, 25, 26, 27],\n",
    "           [28, 29, 30, 31, 32, 33, 34]])\n",
    "    >>> y[np.array([0, 2, 4]), np.array([0, 1, 2])]\n",
    "    array([ 0, 15, 30])"
   ]
  },
  {
   "cell_type": "code",
   "execution_count": null,
   "id": "550e6696-a7b0-4521-8476-1203cf00d0e6",
   "metadata": {},
   "outputs": [],
   "source": [
    "import numpy as np\n",
    "grid = np.zeros((1000, 1000))\n",
    "\n",
    "for ((x1, y1), (x2, y2)) in endpoints:\n",
    "    loy, hiy = sorted((y1, y2))\n",
    "    lox, hix = sorted((x1, x2))\n",
    "    if x1 == x2:\n",
    "        grid[loy:hiy+1, x1] += 1\n",
    "    elif y1 == y2:    \n",
    "        grid[y1, lox:hix+1] += 1\n",
    "    else: # diagonals; need if/else based on whether the x/y value is inc or dec for the diag\n",
    "        xvals = np.arange(x1, x2+1) if x1<x2 else np.arange(x1, x2-1, -1)\n",
    "        yvals = np.arange(y1, y2+1) if y1<y2 else np.arange(y1, y2-1, -1)\n",
    "        diags = [yvals, xvals]\n",
    "        grid[diags] += 1\n",
    "        \n",
    "sum(sum(grid > 1))"
   ]
  },
  {
   "cell_type": "markdown",
   "id": "7d94449d-5a31-40b1-bc4c-4d5ba823ec70",
   "metadata": {},
   "source": [
    "<a class=\"anchor\" id=\"day6\"></a>\n",
    "\n",
    "# Day 6\n",
    "\n",
    "*Part 1*  \n",
    "Given a list of nearby lanternfish ages, determine how many there will be after 80 days given that they take 7 days to create a new one and an additional 2 days for their first reproduction cycle.\n",
    "\n",
    "*Part 2*  \n",
    "Same, but 256 days."
   ]
  },
  {
   "cell_type": "code",
   "execution_count": null,
   "id": "f51f969a-37cf-4a5f-a9bb-203888cfdc96",
   "metadata": {},
   "outputs": [],
   "source": [
    "import numpy as np\n",
    "\n",
    "with open('data2021/day6.txt') as f6:\n",
    "    fish = [int(x) for x in f6.read().split(',')]\n",
    "    \n",
    "sample_fish = [3, 4, 3, 1, 2]\n",
    "    \n",
    "fish[:5], fish[-5:]"
   ]
  },
  {
   "cell_type": "code",
   "execution_count": null,
   "id": "013643a0-0b63-40c1-89aa-73873b5657ae",
   "metadata": {
    "tags": []
   },
   "outputs": [],
   "source": [
    "# This won't work to actually solve the problem, just to check the sample\n",
    "\n",
    "sfish = np.array(sample_fish)\n",
    "\n",
    "days = 20\n",
    "for day in range(1, days+1):\n",
    "    sfish -= 1\n",
    "    birth_count = sum(sfish == -1)\n",
    "    sfish = np.where(sfish == -1, 6, sfish)\n",
    "    sfish = np.concatenate([sfish, np.ones(birth_count)*8])\n",
    "    print(f'day {day}   \\t count = {len(sfish)} \\t ', end='')\n",
    "    for f in sfish:\n",
    "        print(int(f), end=',')\n",
    "    print()"
   ]
  },
  {
   "cell_type": "markdown",
   "id": "699985c4-6c8e-423c-97e2-52320d6e0a87",
   "metadata": {},
   "source": [
    "**Part 1 and Part 2**  \n",
    "We'll hold our information about the fish in a list of 9 elements indicating the number of fish of age 0-8 in each slot."
   ]
  },
  {
   "cell_type": "code",
   "execution_count": null,
   "id": "211321ae-1343-41cc-926a-84d8a413f1cf",
   "metadata": {},
   "outputs": [],
   "source": [
    "counts = [fish.count(age) for age in range(9)]\n",
    "counts"
   ]
  },
  {
   "cell_type": "code",
   "execution_count": null,
   "id": "f1e0b1ef-f227-4b84-88aa-82d11a1482bc",
   "metadata": {
    "tags": []
   },
   "outputs": [],
   "source": [
    "counts = [fish.count(age) for age in range(9)]\n",
    "daycounts = dict()\n",
    "days = 256\n",
    "\n",
    "for day in range(1, days+1):\n",
    "    birth_count = counts.pop(0)\n",
    "    counts[6] += birth_count\n",
    "    counts.append(birth_count)\n",
    "    daycounts[day] = sum(counts)\n",
    "    #print(f'day {day} \\t count = {sum(counts)} \\t {counts}')\n",
    "    \n",
    "print(f'Part 1: {daycounts[80]} fish')\n",
    "print(f'Part 2: {daycounts[256]} fish')"
   ]
  },
  {
   "cell_type": "markdown",
   "id": "ba0590b8-dfc4-4936-998f-02e675f6e4c1",
   "metadata": {},
   "source": [
    "<a class=\"anchor\" id=\"day7\"></a>\n",
    "\n",
    "# Day 7\n",
    "\n",
    "*Part 1*  \n",
    "Given are a list of horizontal crab positions.  Find the horizontal position that requires the least number of total steps from all the crabs to align on that horizontal position. How many total steps are taken?\n",
    "\n",
    "*Part 2*  \n",
    "Instead, fuel usage follows triangular numbers; 1 fuel for 1st step, 2 fuel for 2nd step (3 total), 3 fuel for 3rd step (6 total). Now find the min fuel possible to align all crabs."
   ]
  },
  {
   "cell_type": "code",
   "execution_count": null,
   "id": "afb59c21-b874-447a-9567-ac5934531855",
   "metadata": {},
   "outputs": [],
   "source": [
    "with open('data2021/day7.txt') as f7:\n",
    "    positions = [int(x) for x in f7.read().split(',')]\n",
    "    \n",
    "positions[:5], positions[-5:]"
   ]
  },
  {
   "cell_type": "code",
   "execution_count": null,
   "id": "7a27878f-4bd1-4023-b897-983b37cd759e",
   "metadata": {},
   "outputs": [],
   "source": [
    "max(positions)"
   ]
  },
  {
   "cell_type": "markdown",
   "id": "02b15e9a-1d43-47a2-9594-cc194caea01f",
   "metadata": {},
   "source": [
    "**Part 1**  \n",
    "For each possible horizontal location, find the total distance for all crabs to that position."
   ]
  },
  {
   "cell_type": "code",
   "execution_count": null,
   "id": "79e69598-956b-4b55-979c-a779e33739d0",
   "metadata": {},
   "outputs": [],
   "source": [
    "pos = np.array(positions)\n",
    "dists = []\n",
    "for i in range(max(pos)):\n",
    "    dists.append(sum(abs(pos - i)))\n",
    "\n",
    "min(dists)"
   ]
  },
  {
   "cell_type": "markdown",
   "id": "d73b0e24-c53a-4bcd-84e3-cb0166e35acc",
   "metadata": {},
   "source": [
    "**Part 2**\n",
    "\n",
    "Fuel usage follows the triangle number of the distance: 1, 3, 6, 10, 15, ... -> t(n) = n(n+1)/2"
   ]
  },
  {
   "cell_type": "code",
   "execution_count": null,
   "id": "dee9fbb1-5dbc-4be1-a9ad-e61e968b18bd",
   "metadata": {},
   "outputs": [],
   "source": [
    "pos = np.array(positions)\n",
    "dists = []\n",
    "for i in range(max(pos)):\n",
    "    dists.append(sum([x*(x+1)//2 for x in abs(pos - i)]))\n",
    "\n",
    "min(dists)"
   ]
  },
  {
   "cell_type": "markdown",
   "id": "9b374c86-8e84-4352-b6f0-9bb7838c159d",
   "metadata": {},
   "source": [
    "<a class=\"anchor\" id=\"day8\"></a>\n",
    "\n",
    "# Day 8\n",
    "\n",
    "      0:      1:      2:      3:      4:\n",
    "     aaaa    ....    aaaa    aaaa    ....\n",
    "    b    c  .    c  .    c  .    c  b    c\n",
    "    b    c  .    c  .    c  .    c  b    c\n",
    "     ....    ....    dddd    dddd    dddd\n",
    "    e    f  .    f  e    .  .    f  .    f\n",
    "    e    f  .    f  e    .  .    f  .    f\n",
    "     gggg    ....    gggg    gggg    ....\n",
    "\n",
    "      5:      6:      7:      8:      9:\n",
    "     aaaa    aaaa    aaaa    aaaa    aaaa\n",
    "    b    .  b    .  .    c  b    c  b    c\n",
    "    b    .  b    .  .    c  b    c  b    c\n",
    "     dddd    dddd    ....    dddd    dddd\n",
    "    .    f  e    f  .    f  e    f  .    f\n",
    "    .    f  e    f  .    f  e    f  .    f\n",
    "     gggg    gggg    ....    gggg    gggg\n",
    "     \n",
    "*Part 1*  \n",
    "We have a broken 7signal number display with 4 digits.  Although the signals for which bar should be lit up are wrong, we can identify the number 1, 4, 7, and 8 because they require a unique number of bars.  How many 1, 4, 7, and 8 values are in the \"values\" (things to the right of the |)?\n",
    "\n",
    "*Part 2*  \n",
    "Determine what the correct signal map must be for each set of entries and values; determine what numbers are produced by the corrected values; sum all of the actual values.\n",
    "\n",
    "Man, I did this kind of crazy. Here were my steps.\n",
    "\n",
    "1. Subtract parts from 1 from the parts from 7 to find the top\n",
    "2. Subtract parts from 7 and 4 from signals with 5 chars, 2 3 and 5. If one part remains, its the bottom.  If two parts remain, its the bottom or bottom left\n",
    "3. Subtract top, bottom, bottom left from signals with 5 chars, 2 3 and 5. If two parts remain, its a 2, so subtract the parts from 1 to get mid.\n",
    "4. Subtract mid and parts from 1 from 4 to get upper left\n",
    "5. Subtract all known parts from signals with 6 chars (0, 6, 9). If 1 part remains, its the lower right of the 6.\n",
    "6. Process of elimination to find the last.\n"
   ]
  },
  {
   "cell_type": "code",
   "execution_count": null,
   "id": "af98cc84-293e-4338-a662-edf166914882",
   "metadata": {},
   "outputs": [],
   "source": [
    "numparts = {0: 'abcefg',  # 6\n",
    "            1: 'cf',      # 2\n",
    "            2: 'acdeg',   # 5\n",
    "            3: 'acdfg',   # 5\n",
    "            4: 'bcdf',    # 4\n",
    "            5: 'abdfg',   # 5\n",
    "            6: 'abdefg',  # 6\n",
    "            7: 'acf',     # 3 \n",
    "            8: 'abcdefg', # 7\n",
    "            9: 'abcdfg'}  # 6\n",
    "\n",
    "# we'll want to look up what number is associated with a signal later, so reverse the numparts dict\n",
    "signal_lookup = {v: k for k, v in numparts.items()}\n",
    "\n",
    "# 1 is the only number using 2 parts\n",
    "# 4 is the only number using 4 parts\n",
    "# 7 is the only number using 3 parts\n",
    "# 8 is the only number using 7 parts"
   ]
  },
  {
   "cell_type": "code",
   "execution_count": null,
   "id": "26d6616a-e25d-4068-bb52-86e67618c9fb",
   "metadata": {},
   "outputs": [],
   "source": [
    "with open('data2021/day8.txt') as f8:\n",
    "    inp = [row.strip() for row in f8.readlines()]\n",
    "    \n",
    "inp[-5:]"
   ]
  },
  {
   "cell_type": "code",
   "execution_count": null,
   "id": "0c00cbe2-c400-4581-a3da-2b8123502d55",
   "metadata": {},
   "outputs": [],
   "source": [
    "entries = []\n",
    "values = []\n",
    "for row in inp:\n",
    "    parts = row.split(' ')\n",
    "    entries.append(parts[:10])\n",
    "    values.append(parts[-4:])\n",
    "    \n",
    "for i in range(2):\n",
    "    print(entries[i])\n",
    "    print(values[i])"
   ]
  },
  {
   "cell_type": "markdown",
   "id": "225f5103-1b02-45ce-a452-0cc47d319833",
   "metadata": {},
   "source": [
    "**Part 1**"
   ]
  },
  {
   "cell_type": "code",
   "execution_count": null,
   "id": "a573acc4-afe3-4065-b4ef-799281cd67f4",
   "metadata": {},
   "outputs": [],
   "source": [
    "count = 0\n",
    "for v in values:\n",
    "    count += sum([len(x) == 2 for x in v])\n",
    "    count += sum([len(x) == 4 for x in v])\n",
    "    count += sum([len(x) == 3 for x in v])\n",
    "    count += sum([len(x) == 7 for x in v])\n",
    "count"
   ]
  },
  {
   "cell_type": "markdown",
   "id": "19448d13-c2e6-4f5c-8505-2c9fe6c37ac3",
   "metadata": {},
   "source": [
    "**Part 2**"
   ]
  },
  {
   "cell_type": "code",
   "execution_count": null,
   "id": "6b4c1a6e-3187-4672-8382-a2c5920fff77",
   "metadata": {},
   "outputs": [],
   "source": [
    "# do all entry sets have the unique values in them?\n",
    "print(all([any([len(x) == 2 for x in ent]) for ent in entries]))\n",
    "print(all([any([len(x) == 4 for x in ent]) for ent in entries]))\n",
    "print(all([any([len(x) == 3 for x in ent]) for ent in entries]))\n",
    "print(all([any([len(x) == 7 for x in ent]) for ent in entries]))"
   ]
  },
  {
   "cell_type": "code",
   "execution_count": null,
   "id": "16041996-a147-48c7-96cb-e5960089539a",
   "metadata": {},
   "outputs": [],
   "source": [
    "total_value = 0\n",
    "\n",
    "# sample = 'acedgfb cdfbe gcdfa fbcad dab cefabd cdfgeb eafb cagedb ab | cdfeb fcadb cdfeb cdbaf'\n",
    "# entries = [sample.split(' ')[:10]]\n",
    "# values = [sample.split(' ')[-4:]]\n",
    "\n",
    "for i, entry in enumerate(entries):\n",
    "    \n",
    "    len2 = [signal for signal in entry if len(signal) == 2][0]\n",
    "    len3 = [signal for signal in entry if len(signal) == 3][0]\n",
    "    len4 = [signal for signal in entry if len(signal) == 4][0]\n",
    "    len5 = [signal for signal in entry if len(signal) == 5]\n",
    "    len6 = [signal for signal in entry if len(signal) == 6]\n",
    "    len7 = [signal for signal in entry if len(signal) == 7][0]\n",
    "    \n",
    "    # holds the relationship correct signal: incorrect signal\n",
    "    mapping = dict()\n",
    "    \n",
    "    # identify the top signal by subtracting parts from 1 from parts from 7\n",
    "    top = [char for char in len3 if char not in len2][0]\n",
    "    mapping['a'] = top\n",
    "    \n",
    "    # 2, 3, and 5 all have length 5. if we remove parts from both 7 and 4 from all len5, any with only one part left, thats the bottom\n",
    "    # then, the one that has 2 left, thats the bottom and the lower left\n",
    "    rem7and4 = [''.join([char for char in signal if char not in len3 and char not in len4]) for signal in len5]\n",
    "    bottom = [rem for rem in rem7and4 if len(rem) == 1][0]\n",
    "    botleft = [char for char in [rem for rem in rem7and4 if len(rem) == 2][0] if char != bottom][0] \n",
    "    mapping['e'] = botleft\n",
    "    mapping['g'] = bottom\n",
    "    \n",
    "    # now, remove known top, bottom, botleft from 2, 3, and 5.  If 2 parts remain, its a 2, so remove parts from one to get mid\n",
    "    rem_tbbl = [''.join([char for char in signal if char not in [top, bottom, botleft]]) for signal in len5]\n",
    "    for rem in rem_tbbl:\n",
    "        if len(rem) == 2:\n",
    "            mid = [char for char in rem if char not in len2][0]\n",
    "    mapping['d'] = mid\n",
    "    \n",
    "    # remove mid and \"1\" from 4 to get topleft\n",
    "    topleft = [char for char in len4 if char not in len2 and char != mid][0]\n",
    "    mapping['b'] = topleft\n",
    "    \n",
    "    # take the numbers with 6 chars (0, 6, 9). remove all known parts; if 1 part remains, thats the bot right of 6\n",
    "    rem_allknown = [''.join([char for char in signal if char not in mapping.values()]) for signal in len6]\n",
    "    for rem in rem_allknown:\n",
    "        if len(rem) == 1:\n",
    "            botright = rem\n",
    "    mapping['f'] = botright\n",
    "    \n",
    "    # last\n",
    "    topright = [char for char in len2 if char != botright][0]\n",
    "    mapping['c'] = topright\n",
    "    \n",
    "    # now that the forwards mapping is complete, we want to be able to reverse our lookup\n",
    "    #  to tranform our wrong signal back to the correct one\n",
    "    revmap = {v: k for k, v in mapping.items()}\n",
    "    \n",
    "    # for each value, convert it to the correct signal, lookup the number associated with that signal, \n",
    "    #  build whole value, add it to total\n",
    "    actual_value = ''\n",
    "    for val in values[i]:\n",
    "        actual_signal = ''\n",
    "        for char in val:\n",
    "            actual_signal += revmap[char]\n",
    "        actual_signal = ''.join(sorted(actual_signal))\n",
    "        actual_value += str(signal_lookup[actual_signal])\n",
    "    \n",
    "    total_value += int(actual_value)\n",
    "    \n",
    "total_value"
   ]
  },
  {
   "cell_type": "markdown",
   "id": "0ad18322-3ebb-4f67-9b9c-0c4350a98377",
   "metadata": {},
   "source": [
    "<a class=\"anchor\" id=\"day9\"></a>\n",
    "\n",
    "# Day 9\n",
    "\n",
    "*Part 1*  \n",
    "Given is a 2D depth map.  We want to find all local minima (only consider comparisons UDLR, not all 8 dirs).  Risk level of a low point is 1+depth, find some of all risk levels of minima.\n",
    "\n",
    "*Part 2*  \n",
    "All depths < 9 are part of a basin.  Find the size of all basins - find the biggest three basins - find the product of the sizes of the three biggest basins."
   ]
  },
  {
   "cell_type": "code",
   "execution_count": null,
   "id": "80f1ff45-2348-42ba-ad6b-108f095ddf8a",
   "metadata": {},
   "outputs": [],
   "source": [
    "with open('data2021/day9.txt') as f9:\n",
    "    rows = [row.strip() for row in f9.readlines()]\n",
    "    \n",
    "rows[-3:]"
   ]
  },
  {
   "cell_type": "code",
   "execution_count": null,
   "id": "a77ef318-9067-4de9-b870-e71009e9bb05",
   "metadata": {},
   "outputs": [],
   "source": [
    "import numpy as np\n",
    "\n",
    "# part 1 won't alter the depths array, but part 2 will, so want to be able to get a clean depths array\n",
    "def get_padded_depths():\n",
    "    depths = [[int(x) for x in list(row)] for row in rows]\n",
    "    depths = np.array(depths)\n",
    "    depths = np.pad(depths, 1, mode='constant', constant_values=[9])\n",
    "    return depths\n",
    "\n",
    "depths = get_padded_depths()\n",
    "print(depths, f'shape: {depths.shape}')"
   ]
  },
  {
   "cell_type": "markdown",
   "id": "b809808c-6582-4307-8a4e-991b1c29b49b",
   "metadata": {},
   "source": [
    "**Part 1**\n",
    "\n",
    "Here I'm snagging the vertical and horizontal strip of three, so the center one that is the depth of consideration gets snagged twice.  Then, of all the sorted values to be considered, if we are at a minima, the curr_depth should be smallest and should be in the list twice, so we check the first two are the same as the curr_depth, and that the third is larger (otherwise all 9s gets considered a minima):\n",
    "\n",
    "    Considering \"9\":         UDLR from \"9\":           \"consider\" values:             sorted \"consider\" values:\n",
    "    \n",
    "    1  2  3  4  5            1  2  3 -4- 5            [4, 9, 14]                     here, first 2 don't match \"9\", \n",
    "    6  7  8 _9_ 10    -->    6  7 -8-_9_-10-   -->    [8, 9, 10]                     not minima\n",
    "    11 12 13 14 15           11 12 13-14-15           = [4, 9, 14, 8, 9, 10]   -->   [4, 8, 9, 9, 10, 14]"
   ]
  },
  {
   "cell_type": "code",
   "execution_count": null,
   "id": "314dc4a0-d7df-49aa-80f8-881771377933",
   "metadata": {},
   "outputs": [],
   "source": [
    "# there is no way that a nested for loop and 4 boolean checks are needed for this\n",
    "\n",
    "depths = get_padded_depths()\n",
    "risk_total = 0\n",
    "for row in range(1, len(depths)-1):\n",
    "    for col in range(1, len(depths)-1):\n",
    "        curr_depth = depths[row, col]\n",
    "        consider = sorted(np.concatenate([depths[row, col-1:col+2], depths[row-1:row+2, col]]))\n",
    "        if (consider[0] == consider[1] == curr_depth) and (consider[2] > curr_depth):\n",
    "            # print(f'{curr_depth = }')\n",
    "            # print(f'{consider = }')\n",
    "            # print()\n",
    "            risk_total += 1+curr_depth\n",
    "risk_total"
   ]
  },
  {
   "cell_type": "markdown",
   "id": "92f08263-0fb9-4a93-8782-4d2879d561fc",
   "metadata": {},
   "source": [
    "**Part 2**\n",
    "\n",
    "All numbers are 1-9, and 9s can't be part of a basin, so we'll ID our basins as integers from 10 upward. A depth hasn't been ID'd as part of a basin if it is smaller than 9."
   ]
  },
  {
   "cell_type": "code",
   "execution_count": null,
   "id": "02baec21-15ed-4733-a808-663bde6d6dad",
   "metadata": {},
   "outputs": [],
   "source": [
    "depths = get_padded_depths()\n",
    "curr_basin = 10\n",
    "\n",
    "for row in range(1, len(depths)-1):\n",
    "    for col in range(1, len(depths)-1):\n",
    "        if depths[row, col] < 9:\n",
    "            depths[row, col] = curr_basin\n",
    "            fringe = [(row+1, col), (row-1, col), (row, col+1), (row, col-1)]\n",
    "            while fringe:\n",
    "                new_fringe = []\n",
    "                for r, c in fringe:\n",
    "                    if depths[r, c] < 9:\n",
    "                        depths[r, c] = curr_basin\n",
    "                        new_fringe = new_fringe + [(r+1, c), (r-1, c), (r, c+1), (r, c-1)]\n",
    "                fringe = new_fringe\n",
    "            curr_basin += 1\n",
    "            "
   ]
  },
  {
   "cell_type": "code",
   "execution_count": null,
   "id": "d3e6a57a-f119-4fd9-a176-f7451628d642",
   "metadata": {},
   "outputs": [],
   "source": [
    "# our basin IDs started at 10 and go up to whatever curr_basin left off as \n",
    "basins = range(10, curr_basin)\n",
    "\n",
    "# make list of (count, basin_ID) tuples, sort them descending\n",
    "sizes = [(sum(sum(depths == b)), b) for b in basins]\n",
    "sorted_sizes = sorted(sizes)[::-1]\n",
    "sorted_sizes[:3]"
   ]
  },
  {
   "cell_type": "code",
   "execution_count": null,
   "id": "0e5c0fc1-47ad-4d42-9553-9870e7a050f0",
   "metadata": {},
   "outputs": [],
   "source": [
    "# answer to part 2\n",
    "sorted_sizes[0][0] * sorted_sizes[1][0] * sorted_sizes[2][0]"
   ]
  },
  {
   "cell_type": "code",
   "execution_count": null,
   "id": "0a275f7d-8d4b-4b92-95e6-ceb878133430",
   "metadata": {},
   "outputs": [],
   "source": [
    "# change values in the depths array to highlite the winners in a heatmap\n",
    "depths = np.where(depths == sorted_sizes[0][1], 2, depths)\n",
    "depths = np.where(depths == sorted_sizes[1][1], 3, depths)\n",
    "depths = np.where(depths == sorted_sizes[2][1], 4, depths)\n",
    "depths = np.where(depths == 9, 0, depths)\n",
    "depths = np.where(depths > 9, 1, depths)"
   ]
  },
  {
   "cell_type": "code",
   "execution_count": null,
   "id": "f26b118f-2ba6-4e5f-a8d5-0abb4e7db67a",
   "metadata": {},
   "outputs": [],
   "source": [
    "depths[:10, :10]"
   ]
  },
  {
   "cell_type": "code",
   "execution_count": null,
   "id": "1794916f-efd9-4ff3-8da2-08bf21e692b2",
   "metadata": {},
   "outputs": [],
   "source": [
    "import matplotlib.pyplot as plt\n",
    "plt.imshow(depths, cmap='gnuplot')\n",
    "plt.show()"
   ]
  },
  {
   "cell_type": "markdown",
   "id": "a6de6afe-57e0-42b8-a518-fef239ca082e",
   "metadata": {},
   "source": [
    "<a class=\"anchor\" id=\"day10\"></a>\n",
    "\n",
    "# Day 10\n",
    "\n",
    "Matching delimeters. Given is lots of chunks of (, {, [, <, >, ]< }, ).  Some lines are all matched up, some lines are incomplete but with no errors, and others have errors like (], which are corrupted.  \n",
    "\n",
    "*Part 1*  \n",
    "Find the sum of all syntax error scores for all corrupted lines; ignore incomplete lines.  Each line has a syntax error score:\n",
    "\n",
    "    ): 3 points.\n",
    "    ]: 57 points.\n",
    "    }: 1197 points.\n",
    "    >: 25137 points.\n",
    "\n",
    "*Part 2*  \n",
    "Find the median completion score for all incomplete lines; ignore corrupted lines.  To find a completion score for an incomplete line, start with a score of 0, and for every closer needed, in order, to complete the line, multiply the score by 5 and add the value as given here:\n",
    "\n",
    "    ): 1 point\n",
    "    ]: 2 points\n",
    "    }: 3 points\n",
    "    >: 4 points"
   ]
  },
  {
   "cell_type": "code",
   "execution_count": null,
   "id": "9d5d61c5-f5d4-4b05-99be-5ea7f0730784",
   "metadata": {},
   "outputs": [],
   "source": [
    "with open('data2021/day10.txt') as f10:\n",
    "    lines = [row.strip() for row in f10.readlines()]\n",
    "    \n",
    "lines[-2:]"
   ]
  },
  {
   "cell_type": "code",
   "execution_count": null,
   "id": "fb60517a-fb6e-4f8d-b80d-cbf7b436634b",
   "metadata": {},
   "outputs": [],
   "source": [
    "openers = ['(', '[', '{', '<']\n",
    "closers = [')', ']', '}', '>']\n",
    "pairs_co = {closers[i]: openers[i] for i in range(4)}\n",
    "synt_scores = {')': 3, ']': 57, '}': 1197, '>': 25137}\n",
    "\n",
    "def syntax_score(line):\n",
    "    fifo = []\n",
    "    for i, char in enumerate(line):\n",
    "        if char in openers: \n",
    "            fifo.append(char)\n",
    "        elif char in closers:\n",
    "            if len(fifo) == 0 or fifo[-1] != pairs_co[char]:\n",
    "                return synt_scores[char]\n",
    "            else:\n",
    "                del fifo[-1]\n",
    "    return 0"
   ]
  },
  {
   "cell_type": "code",
   "execution_count": null,
   "id": "419c5fd4-10eb-44d2-8e4a-716ba2da3ede",
   "metadata": {},
   "outputs": [],
   "source": [
    "samples = '''[({(<(())[]>[[{[]{<()<>>\n",
    "[(()[<>])]({[<{<<[]>>(\n",
    "{([(<{}[<>[]}>{[]{[(<()>\n",
    "(((({<>}<{<{<>}{[]{[]{}\n",
    "[[<[([]))<([[{}[[()]]]\n",
    "[{[{({}]{}}([{[{{{}}([]\n",
    "{<[[]]>}<{[{[{[]{()[[[]\n",
    "[<(<(<(<{}))><([]([]()\n",
    "<{([([[(<>()){}]>(<<{{\n",
    "<{([{{}}[<[[[<>{}]]]>[]]'''\n",
    "\n",
    "sample_lines = samples.split('\\n')\n",
    "sample_lines"
   ]
  },
  {
   "cell_type": "code",
   "execution_count": null,
   "id": "74afd0cc-006c-451c-bac6-04a76e2ed329",
   "metadata": {},
   "outputs": [],
   "source": [
    "for line in sample_lines:\n",
    "    print(f'{syntax_score(line)} \\t {line}')"
   ]
  },
  {
   "cell_type": "code",
   "execution_count": null,
   "id": "63141484-451b-4f6a-bce8-01e980714ddf",
   "metadata": {},
   "outputs": [],
   "source": [
    "sum([syntax_score(line) for line in lines])"
   ]
  },
  {
   "cell_type": "markdown",
   "id": "a3429af1-89dd-490e-a6d1-89ff53f06283",
   "metadata": {},
   "source": [
    "**Part 2**\n",
    "\n",
    "Now, only considering incomplete lines.  Get their completion score - start with a score of 0, and for each closer needed, in order, to finish the line, multiply the score by 5 and add the value in the provided table.\n",
    "\n",
    "    ): 1 point\n",
    "    ]: 2 points\n",
    "    }: 3 points\n",
    "    >: 4 points\n",
    "    \n",
    "Then, find the median score of all the completion scores."
   ]
  },
  {
   "cell_type": "code",
   "execution_count": null,
   "id": "b30a470d-0b82-4aae-8b7a-260a1f00705c",
   "metadata": {},
   "outputs": [],
   "source": [
    "openers = ['(', '[', '{', '<']\n",
    "closers = [')', ']', '}', '>']\n",
    "pairs_oc = {openers[i]: closers[i] for i in range(4)}\n",
    "comp_scores = {')': 1, ']': 2, '}': 3, '>': 4}\n",
    "\n",
    "def completion_score(line):\n",
    "    fifo = []\n",
    "    for i, char in enumerate(line):\n",
    "        if char in openers: \n",
    "            fifo.append(char)\n",
    "        elif char in closers:\n",
    "            # if its a corrupted line, \"skip it\", only want incomplete lines\n",
    "            if len(fifo) == 0 or fifo[-1] != pairs[char]:\n",
    "                return 0\n",
    "            else:\n",
    "                del fifo[-1]\n",
    "                \n",
    "    # now, fifo is the remaining stuff to be matched\n",
    "    score = 0\n",
    "    for char in fifo[::-1]:\n",
    "        score = (score*5) + comp_scores[pairs_oc[char]]\n",
    "    return score\n",
    "\n",
    "completion_score('(((({<>}<{<{<>}{[]{[]{}')"
   ]
  },
  {
   "cell_type": "code",
   "execution_count": null,
   "id": "fc4cb184-aaa3-4709-b7d5-a244075a2671",
   "metadata": {},
   "outputs": [],
   "source": [
    "# want median completion score\n",
    "scores = [completion_score(line) for line in lines]\n",
    "sorted_comp_scores = sorted([score for score in scores if score != 0])\n",
    "n = len(sorted_comp_scores)\n",
    "sorted_comp_scores[(n-1)//2]"
   ]
  },
  {
   "cell_type": "markdown",
   "id": "315ae79d-6cd0-4256-b8f8-a74ca2977cbc",
   "metadata": {},
   "source": [
    "<a class=\"anchor\" id=\"day11\"></a>\n",
    "\n",
    "# Day 11\n",
    "\n",
    "*Part 1*  \n",
    "Given is a 10x10 grid of octopi lighting up, all have integer light values.  Every round, increase all by 1. Then, any with light value 10 or higher flash, which increases the light value of all 8 surrounding octopi by 1.  This may propagate through many octopi, but each can only flash once per round, and after flashing ends the round with a light value of 0.  Determine the total number of flashed in the first 100 rounds.\n",
    "\n",
    "*Part 2*  \n",
    "Determine the first round number at which they all flash at the same time."
   ]
  },
  {
   "cell_type": "code",
   "execution_count": null,
   "id": "a7c93076-e89b-44ce-9487-a78aaaadb9ac",
   "metadata": {},
   "outputs": [],
   "source": [
    "import numpy as np\n",
    "with open('data2021/day11.txt') as f11:\n",
    "    lites_input = [row.strip() for row in f11.readlines()]\n",
    "\n",
    "# sample = '''5483143223\n",
    "# 2745854711\n",
    "# 5264556173\n",
    "# 6141336146\n",
    "# 6357385478\n",
    "# 4167524645\n",
    "# 2176841721\n",
    "# 6882881134\n",
    "# 4846848554\n",
    "# 5283751526'''\n",
    "# lites = [row.strip() for row in sample.split('\\n')]\n",
    "\n",
    "# want a function to create our grid since we modify it directly for each part\n",
    "def get_lites():\n",
    "    lites = np.array([[int(x) for x in list(row)] for row in lites_input])\n",
    "    lites = np.pad(lites, 1, mode='constant', constant_values=[-1000])\n",
    "    return lites\n",
    "\n",
    "lites = get_lites()\n",
    "lites[:5, :5]"
   ]
  },
  {
   "cell_type": "code",
   "execution_count": null,
   "id": "7f8246e5-1680-4744-983d-cedfe12196fe",
   "metadata": {},
   "outputs": [],
   "source": [
    "lites = get_lites()\n",
    "flash_count = 0\n",
    "for i in range(100):\n",
    "    lites[1:11, 1:11] += 1\n",
    "    while sum(sum(lites >= 10)):\n",
    "        # look through all 100, flash the ones that are ready, set flashed octopi to\n",
    "        # a value of -1000 so they're guaranteed negative for the duration of\n",
    "        # the round. after round is over, np.where() sets the negs to 0s\n",
    "        for r in range(1, 11):\n",
    "            for c in range(1, 11):\n",
    "                if lites[r, c] >= 10:\n",
    "                    lites[r-1:r+2, c-1:c+2] += 1\n",
    "                    lites[r, c] = -1000\n",
    "    flash_count += sum(sum(lites[1:11, 1:11] < 0))\n",
    "    lites[1:11, 1:11] = np.where(lites[1:11, 1:11] < 0, 0, lites[1:11, 1:11])\n",
    "        \n",
    "flash_count    "
   ]
  },
  {
   "cell_type": "markdown",
   "id": "3fff7589-0614-421f-9143-3c7c0ae8259a",
   "metadata": {},
   "source": [
    "**Part 2**  \n",
    "\n",
    "Pretty similar to part 1, just check if the number of terms that are negative is 100 (all)."
   ]
  },
  {
   "cell_type": "code",
   "execution_count": null,
   "id": "2b89c1c5-41e8-4c0f-91dc-0dee2d09fab5",
   "metadata": {},
   "outputs": [],
   "source": [
    "lites = get_lites()\n",
    "i = 0\n",
    "while True:\n",
    "    lites[1:11, 1:11] += 1\n",
    "    while sum(sum(lites >= 10)):\n",
    "        for r in range(1, 11):\n",
    "            for c in range(1, 11):\n",
    "                if lites[r, c] >= 10:\n",
    "                    lites[r-1:r+2, c-1:c+2] += 1\n",
    "                    lites[r, c] = -1000\n",
    "    if sum(sum(lites[1:11, 1:11] < 0)) == 100:\n",
    "        print(f'round {i+1}')\n",
    "        break\n",
    "    lites[1:11, 1:11] = np.where(lites[1:11, 1:11] < 0, 0, lites[1:11, 1:11])\n",
    "    i += 1\n"
   ]
  },
  {
   "cell_type": "markdown",
   "id": "0d4b06f0-1762-4b0a-a5ae-08f2780c75cc",
   "metadata": {},
   "source": [
    "<a class=\"anchor\" id=\"day12\"></a>\n",
    "\n",
    "# Day 12\n",
    "\n",
    "*Part 1*  \n",
    "Given is a list of edges (connections between caves).  Uppercase caves may be visited any number of times, lowercase caves only once in any given route.  How many total possible routes from 'start' to 'end'?\n",
    "\n",
    "*Part 2*  \n",
    "Same, but now we're allowed to repeat visit *one* small cave per route (and it can't be 'start' or 'end').  How many routes now?"
   ]
  },
  {
   "cell_type": "code",
   "execution_count": 42,
   "id": "82b0a122-6ddf-4b53-a1af-2812cac450aa",
   "metadata": {},
   "outputs": [
    {
     "data": {
      "text/plain": [
       "['ih-NV', 'ks-HK', 'MF-kc', 'zw-NV', 'NV-ks']"
      ]
     },
     "execution_count": 42,
     "metadata": {},
     "output_type": "execute_result"
    }
   ],
   "source": [
    "with open('data2021/day12.txt') as f12:\n",
    "    edges = [row.strip() for row in f12.readlines()]\n",
    "    \n",
    "edges[-5:]"
   ]
  },
  {
   "cell_type": "code",
   "execution_count": 43,
   "id": "b58b04c1-445d-4b74-8d3c-e587f92034cb",
   "metadata": {},
   "outputs": [
    {
     "data": {
      "text/plain": [
       "['start-A', 'start-b', 'A-c', 'A-b', 'b-d', 'A-end', 'b-end']"
      ]
     },
     "execution_count": 43,
     "metadata": {},
     "output_type": "execute_result"
    }
   ],
   "source": [
    "sample1 = '''start-A\n",
    "start-b\n",
    "A-c\n",
    "A-b\n",
    "b-d\n",
    "A-end\n",
    "b-end'''\n",
    "\n",
    "sample1 = sample1.split('\\n')\n",
    "sample1"
   ]
  },
  {
   "cell_type": "code",
   "execution_count": 44,
   "id": "812b4ba1",
   "metadata": {},
   "outputs": [
    {
     "data": {
      "text/plain": [
       "['dc-end', 'HN-start', 'start-kj', 'dc-start', 'dc-HN']"
      ]
     },
     "execution_count": 44,
     "metadata": {},
     "output_type": "execute_result"
    }
   ],
   "source": [
    "sample2 = '''dc-end\n",
    "HN-start\n",
    "start-kj\n",
    "dc-start\n",
    "dc-HN\n",
    "LN-dc\n",
    "HN-end\n",
    "kj-sa\n",
    "kj-HN\n",
    "kj-dc'''\n",
    "\n",
    "sample2 = sample2.split('\\n')\n",
    "sample2[:5]"
   ]
  },
  {
   "cell_type": "code",
   "execution_count": 45,
   "id": "e9e8e330-3c9d-4062-b7a6-9a77262ca8fe",
   "metadata": {},
   "outputs": [
    {
     "data": {
      "text/plain": [
       "{'start': ['A', 'b'],\n",
       " 'c': ['A'],\n",
       " 'd': ['b'],\n",
       " 'b': ['A', 'd', 'end'],\n",
       " 'A': ['c', 'b', 'end']}"
      ]
     },
     "execution_count": 45,
     "metadata": {},
     "output_type": "execute_result"
    }
   ],
   "source": [
    "def get_edge_dict(edge_list):\n",
    "    vertices = set()\n",
    "    for edge in edge_list:\n",
    "        v1, v2 = edge.split('-')\n",
    "        vertices.add(v1)\n",
    "        vertices.add(v2)\n",
    "    \n",
    "    edge_dict = {v: [] for v in vertices if v != 'end'}\n",
    "    for edge in edge_list:\n",
    "        v1, v2 = edge.split('-')\n",
    "        if v2 != 'start' and v1 != 'end': edge_dict[v1].append(v2)\n",
    "        if v1 != 'start' and v2 != 'end': edge_dict[v2].append(v1)\n",
    "        \n",
    "    return edge_dict\n",
    "\n",
    "edge_dict1 = get_edge_dict(sample1)\n",
    "edge_dict1"
   ]
  },
  {
   "cell_type": "code",
   "execution_count": 46,
   "id": "af109150-fbbb-4db0-81fd-0870bc5ba6d4",
   "metadata": {},
   "outputs": [
    {
     "data": {
      "text/plain": [
       "10"
      ]
     },
     "execution_count": 46,
     "metadata": {},
     "output_type": "execute_result"
    }
   ],
   "source": [
    "def recur_count_routes1(edge_dict, vertex, visited):\n",
    "    count = 0\n",
    "    for v2 in edge_dict[vertex]:\n",
    "        if v2 == 'end':\n",
    "            #print(visited + ['end'])\n",
    "            count += 1\n",
    "        elif v2.isupper() or (v2.islower and v2 not in visited):\n",
    "            count += recur_count_routes1(edge_dict, v2, visited + [v2])\n",
    "    return count\n",
    "\n",
    "# first sample\n",
    "recur_count_routes1(edge_dict1, 'start', ['start'])        "
   ]
  },
  {
   "cell_type": "code",
   "execution_count": 47,
   "id": "92e7e950-990b-4ef6-a832-4cf6749c23c9",
   "metadata": {},
   "outputs": [
    {
     "data": {
      "text/plain": [
       "19"
      ]
     },
     "execution_count": 47,
     "metadata": {},
     "output_type": "execute_result"
    }
   ],
   "source": [
    "# second sample\n",
    "edge_dict2 = get_edge_dict(sample2)\n",
    "recur_count_routes1(edge_dict2, 'start', ['start'])"
   ]
  },
  {
   "cell_type": "code",
   "execution_count": 48,
   "id": "5f773620",
   "metadata": {},
   "outputs": [
    {
     "data": {
      "text/plain": [
       "4720"
      ]
     },
     "execution_count": 48,
     "metadata": {},
     "output_type": "execute_result"
    }
   ],
   "source": [
    "# part 1\n",
    "edge_dict = get_edge_dict(edges)\n",
    "recur_count_routes1(edge_dict, 'start', ['start'])"
   ]
  },
  {
   "cell_type": "markdown",
   "id": "29eca243",
   "metadata": {},
   "source": [
    "**Part 2**\n",
    "\n",
    "Now, we're allowed to travel to *one* small cave 2 times in our route, still can't return to 'start' or leave 'end' once we ge to it."
   ]
  },
  {
   "cell_type": "code",
   "execution_count": 49,
   "id": "5f37f014",
   "metadata": {},
   "outputs": [
    {
     "data": {
      "text/plain": [
       "36"
      ]
     },
     "execution_count": 49,
     "metadata": {},
     "output_type": "execute_result"
    }
   ],
   "source": [
    "# need to check the visited list to see if we have a double lowercase yet\n",
    "# note that this would allow for 'start' to double up, which is why we \n",
    "#  include the if v2 == 'start': continue block in the recur_count_routes2()\n",
    "def has_lowercase_double(vList):\n",
    "    lowers = [v for v in vList if v.islower()]\n",
    "    if len(lowers) == len(set(lowers)):\n",
    "        return False\n",
    "    return True\n",
    "\n",
    "def recur_count_routes2(edge_dict, vertex, visited):\n",
    "    count = 0\n",
    "    for v2 in edge_dict[vertex]:\n",
    "        allowed = False\n",
    "        # don't allow repeats of 'start'\n",
    "        if v2 == 'start':\n",
    "            continue\n",
    "        elif v2 == 'end':\n",
    "            #print(visited + ['end'])\n",
    "            count += 1\n",
    "        # Good to continue if (a) uppercase, (b) lowercase and new, or (c) lowercase and no double lowercase yet\n",
    "        elif v2.isupper() or (v2.islower() and ((v2 not in visited) or (not has_lowercase_double(visited)))):\n",
    "            count += recur_count_routes2(edge_dict, v2, visited + [v2])\n",
    "    return count\n",
    "            \n",
    "# first sample\n",
    "recur_count_routes2(edge_dict1, 'start', ['start'])  "
   ]
  },
  {
   "cell_type": "code",
   "execution_count": 50,
   "id": "8528ca77",
   "metadata": {},
   "outputs": [
    {
     "data": {
      "text/plain": [
       "147848"
      ]
     },
     "execution_count": 50,
     "metadata": {},
     "output_type": "execute_result"
    }
   ],
   "source": [
    "# part 2\n",
    "edge_dict = get_edge_dict(edges)\n",
    "recur_count_routes2(edge_dict, 'start', ['start'])"
   ]
  },
  {
   "cell_type": "markdown",
   "id": "745a4ad6-a5eb-496b-9348-be9596a7acdd",
   "metadata": {},
   "source": [
    "<a class=\"anchor\" id=\"day13\"></a>\n",
    "\n",
    "# Day 13"
   ]
  },
  {
   "cell_type": "code",
   "execution_count": null,
   "id": "ceaf9749-b1ff-437c-950e-5f60fa483831",
   "metadata": {},
   "outputs": [],
   "source": []
  },
  {
   "cell_type": "markdown",
   "id": "dfa46c11-6858-452f-acde-efa97872695f",
   "metadata": {},
   "source": [
    "<a class=\"anchor\" id=\"day14\"></a>\n",
    "\n",
    "# Day 14"
   ]
  },
  {
   "cell_type": "code",
   "execution_count": null,
   "id": "64f7ff42-b726-466c-8f63-77fca2398dac",
   "metadata": {},
   "outputs": [],
   "source": []
  },
  {
   "cell_type": "markdown",
   "id": "91f2be48-cb77-4104-b07f-cae81b2fbf71",
   "metadata": {},
   "source": [
    "<a class=\"anchor\" id=\"day15\"></a>\n",
    "\n",
    "# Day 15"
   ]
  },
  {
   "cell_type": "code",
   "execution_count": null,
   "id": "d27adcd3-c401-49df-bf3f-af54527d329b",
   "metadata": {},
   "outputs": [],
   "source": []
  },
  {
   "cell_type": "markdown",
   "id": "74deb6fe-2fad-4930-9b93-fe480fc1e503",
   "metadata": {},
   "source": [
    "<a class=\"anchor\" id=\"day16\"></a>\n",
    "\n",
    "# Day 16"
   ]
  },
  {
   "cell_type": "code",
   "execution_count": null,
   "id": "0c6686a4-32f3-4d2b-a065-c477ebc935e6",
   "metadata": {},
   "outputs": [],
   "source": []
  },
  {
   "cell_type": "markdown",
   "id": "3e857b8a-f358-4cac-9b78-0d1550de9f0e",
   "metadata": {},
   "source": [
    "<a class=\"anchor\" id=\"day17\"></a>\n",
    "\n",
    "# Day 17"
   ]
  },
  {
   "cell_type": "code",
   "execution_count": null,
   "id": "aaa5fe13-6860-4c4b-a585-4cdc8a2df403",
   "metadata": {},
   "outputs": [],
   "source": []
  },
  {
   "cell_type": "markdown",
   "id": "ecb0791c-a4b5-48e4-8ca9-aad698b2e3b5",
   "metadata": {},
   "source": [
    "<a class=\"anchor\" id=\"day18\"></a>\n",
    "\n",
    "# Day 18"
   ]
  },
  {
   "cell_type": "code",
   "execution_count": null,
   "id": "62e34134-79a1-4de8-8bdd-f9a411caf024",
   "metadata": {},
   "outputs": [],
   "source": []
  },
  {
   "cell_type": "markdown",
   "id": "be571ba7-f6c8-4145-94e8-b8cb70fb97cf",
   "metadata": {},
   "source": [
    "<a class=\"anchor\" id=\"day19\"></a>\n",
    "\n",
    "# Day 19"
   ]
  },
  {
   "cell_type": "code",
   "execution_count": null,
   "id": "a4159b76-a82e-4ed6-ad0c-dd9ae354fb88",
   "metadata": {},
   "outputs": [],
   "source": []
  },
  {
   "cell_type": "markdown",
   "id": "1420a7a1-759a-4470-a1e6-bec31f6ed271",
   "metadata": {},
   "source": [
    "<a class=\"anchor\" id=\"day20\"></a>\n",
    "\n",
    "# Day 20"
   ]
  },
  {
   "cell_type": "code",
   "execution_count": null,
   "id": "8fdf69dd-b29b-479a-a8cc-79d0609ac8ac",
   "metadata": {},
   "outputs": [],
   "source": []
  },
  {
   "cell_type": "markdown",
   "id": "73a91c12-46d8-47bf-8e79-93b4f4e91276",
   "metadata": {},
   "source": [
    "<a class=\"anchor\" id=\"day21\"></a>\n",
    "\n",
    "# Day 21"
   ]
  },
  {
   "cell_type": "code",
   "execution_count": null,
   "id": "5f6c9f6c-439f-4932-a052-84736199f7aa",
   "metadata": {},
   "outputs": [],
   "source": []
  },
  {
   "cell_type": "markdown",
   "id": "42a29752-1fca-4713-9417-8758a8d106d2",
   "metadata": {},
   "source": [
    "<a class=\"anchor\" id=\"day22\"></a>\n",
    "\n",
    "# Day 22"
   ]
  },
  {
   "cell_type": "code",
   "execution_count": null,
   "id": "815bc2e6-c67a-4cea-a16d-d5706e218a33",
   "metadata": {},
   "outputs": [],
   "source": []
  },
  {
   "cell_type": "markdown",
   "id": "a757691a-c65e-47e1-b6a8-110c151c8824",
   "metadata": {},
   "source": [
    "<a class=\"anchor\" id=\"day23\"></a>\n",
    "\n",
    "# Day 23"
   ]
  },
  {
   "cell_type": "code",
   "execution_count": null,
   "id": "b05f6743-5b24-4379-8581-f2c87962ac62",
   "metadata": {},
   "outputs": [],
   "source": []
  },
  {
   "cell_type": "markdown",
   "id": "f6671ba1-6ac8-48b2-95ea-6fd8ac3723d3",
   "metadata": {},
   "source": [
    "<a class=\"anchor\" id=\"day24\"></a>\n",
    "\n",
    "# Day 24"
   ]
  },
  {
   "cell_type": "code",
   "execution_count": null,
   "id": "03cf98f7-d1cc-49b0-bb70-068356b9e900",
   "metadata": {},
   "outputs": [],
   "source": []
  },
  {
   "cell_type": "markdown",
   "id": "e63d739c-a686-42ea-9783-dbe0f86258c0",
   "metadata": {},
   "source": [
    "<a class=\"anchor\" id=\"day25\"></a>\n",
    "\n",
    "# Day 25"
   ]
  },
  {
   "cell_type": "code",
   "execution_count": null,
   "id": "2332471d-1639-4434-98f0-c93199839708",
   "metadata": {},
   "outputs": [],
   "source": []
  }
 ],
 "metadata": {
  "kernelspec": {
   "display_name": "Python 3",
   "language": "python",
   "name": "python3"
  },
  "language_info": {
   "codemirror_mode": {
    "name": "ipython",
    "version": 3
   },
   "file_extension": ".py",
   "mimetype": "text/x-python",
   "name": "python",
   "nbconvert_exporter": "python",
   "pygments_lexer": "ipython3",
   "version": "3.8.8"
  }
 },
 "nbformat": 4,
 "nbformat_minor": 5
}
