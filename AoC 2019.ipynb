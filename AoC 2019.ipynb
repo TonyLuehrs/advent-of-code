{
 "cells": [
  {
   "cell_type": "markdown",
   "id": "f23d1bad-0c64-4d9d-a287-984df668dc04",
   "metadata": {},
   "source": [
    "# Advent of Code 2019\n",
    "\n",
    "___\n",
    "\n",
    "[**Day 1**](#day1) &nbsp; &nbsp; &nbsp; [Day 2](#day2) &nbsp; &nbsp; &nbsp; [Day 3](#day3) &nbsp; &nbsp; &nbsp; [Day 4](#day4) &nbsp; &nbsp; &nbsp; [Day 5](#day5)\n",
    "\n",
    "[Day 6](#day6) &nbsp; &nbsp; &nbsp; [Day 7](#day7) &nbsp; &nbsp; &nbsp; [Day 8](#day8) &nbsp; &nbsp; &nbsp; [Day 9](#day9) &nbsp; &nbsp; &nbsp; [Day 10](#day10)\n",
    "\n",
    "[Day 11](#day11) &nbsp; &nbsp; [Day 12](#day12) &nbsp; &nbsp; [Day 13](#day13) &nbsp; &nbsp; [Day 14](#day14) &nbsp; &nbsp; [Day 15](#day15)\n",
    "\n",
    "[Day 16](#day16) &nbsp; &nbsp; [Day 17](#day17) &nbsp; &nbsp; [Day 18](#day18) &nbsp; &nbsp; [Day 19](#day19) &nbsp; &nbsp; [Day 20](#day20)\n",
    "\n",
    "[Day 21](#day21) &nbsp; &nbsp; [Day 22](#day22) &nbsp; &nbsp; [Day 23](#day23) &nbsp; &nbsp; [Day 24](#day24) &nbsp; &nbsp; [Day 25](#day25)\n",
    "\n",
    "___"
   ]
  },
  {
   "cell_type": "markdown",
   "id": "fcd63f25",
   "metadata": {},
   "source": [
    "<a class=\"anchor\" id=\"day1\"></a>\n",
    "# Day 1\n",
    "\n",
    "*Part 1*  \n",
    "Launching a bunch of modules into space, need to calculate how much fuel we need based on their masses. To find fuel needed for a module, divide mass by 3, round down, subtract 2 (negatives are 0). Find total fuel needed.\n",
    "\n",
    "*Part 2*  \n",
    "Fuel has weight too, and so we need more fuel based on the fuel we need.  Recursively apply the same pattern to Part 1 to find the actual total fuel we need. (Ex: module mass of 47 -> needs 13 fuel -> needs 2 fuel, total of 15 fuel for that module)"
   ]
  },
  {
   "cell_type": "code",
   "execution_count": 2,
   "id": "04eff1df-2edd-4e4d-b638-8a8d2d48aeb6",
   "metadata": {},
   "outputs": [
    {
     "data": {
      "text/plain": [
       "[97162, 80664, 149742, 88983, 74518]"
      ]
     },
     "execution_count": 2,
     "metadata": {},
     "output_type": "execute_result"
    }
   ],
   "source": [
    "with open('data2019/day1.txt') as f1:\n",
    "    masses = [int(row.strip()) for row in f1.readlines()]\n",
    "    \n",
    "masses[-5:]"
   ]
  },
  {
   "cell_type": "markdown",
   "id": "491cffef-b111-4d44-820c-e302487e14be",
   "metadata": {},
   "source": [
    "**Part 1**"
   ]
  },
  {
   "cell_type": "code",
   "execution_count": 3,
   "id": "531869b6-82cb-48c4-83e1-e5bd58fd5902",
   "metadata": {},
   "outputs": [
    {
     "data": {
      "text/plain": [
       "3289802"
      ]
     },
     "execution_count": 3,
     "metadata": {},
     "output_type": "execute_result"
    }
   ],
   "source": [
    "fuels = [(mass // 3) - 2 for mass in masses]\n",
    "total_fuel1 = sum(fuels)\n",
    "total_fuel1"
   ]
  },
  {
   "cell_type": "markdown",
   "id": "4681dfb7-c1f2-4548-90fe-5d227ca8fb9c",
   "metadata": {},
   "source": [
    "**Part 2**"
   ]
  },
  {
   "cell_type": "code",
   "execution_count": 4,
   "id": "1e09af63-0066-46a4-8e3e-5cf6eb69f0bf",
   "metadata": {},
   "outputs": [
    {
     "data": {
      "text/plain": [
       "50346"
      ]
     },
     "execution_count": 4,
     "metadata": {},
     "output_type": "execute_result"
    }
   ],
   "source": [
    "def get_recursive_fuel(mass):\n",
    "    fuel_req = 0\n",
    "    fuel = (mass // 3) - 2\n",
    "    fuel_req += fuel\n",
    "    \n",
    "    while fuel > 8:\n",
    "        fuel = (fuel // 3) - 2\n",
    "        fuel_req += fuel\n",
    "    \n",
    "    return fuel_req\n",
    "\n",
    "get_recursive_fuel(100756)"
   ]
  },
  {
   "cell_type": "code",
   "execution_count": 5,
   "id": "0d39026c-6026-4b9d-ade1-ee9d16319866",
   "metadata": {},
   "outputs": [
    {
     "data": {
      "text/plain": [
       "4931831"
      ]
     },
     "execution_count": 5,
     "metadata": {},
     "output_type": "execute_result"
    }
   ],
   "source": [
    "total_fuel2 = sum([get_recursive_fuel(mass) for mass in masses])\n",
    "total_fuel2"
   ]
  },
  {
   "cell_type": "markdown",
   "id": "1de9c361",
   "metadata": {},
   "source": [
    "<a class=\"anchor\" id=\"day2\"></a>\n",
    "\n",
    "# Day 2\n",
    "\n",
    "It's freakin intcode time.\n",
    "\n",
    "If, at index i, there is a 1, then add the values at locations indicated by value i+1 and i+2 and store the sum in location i+3.\n",
    "If, at index i, there is a 2, then multiply the values at locations indicated by value i+1 and i+2 and store the sum in location i+3.\n",
    "If, at index i, there is a 99, then terminate the program.\n",
    "\n",
    "*Part 1*  \n",
    "Given the puzzle input, replace index 1 with value 12 and index 2 with the value 2, run the program, determine the value at index 0.\n",
    "\n",
    "*Part 2*\n",
    "Now, find the (a, b) pair with 0 <= a, b <= 100 that, when inserted at the 1st and 2nd indices as in Part 1, result in an output of 19690720 at index 0 after the program terminates. Report solution as 100*a + b.\n",
    "\n",
    "\n",
    "Note - this depends on the *Intcode()* data class in the file *intcode.py*."
   ]
  },
  {
   "cell_type": "code",
   "execution_count": 6,
   "id": "9378ca00-f4d0-4311-b513-907b272f4c83",
   "metadata": {},
   "outputs": [
    {
     "data": {
      "text/plain": [
       "([1, 0, 0, 3, 1], [99, 2, 0, 14, 0])"
      ]
     },
     "execution_count": 6,
     "metadata": {},
     "output_type": "execute_result"
    }
   ],
   "source": [
    "with open('data2019/day2.txt') as f2:\n",
    "    program = [int(x) for x in f2.read().split(',')]\n",
    "\n",
    "program[:5], program[-5:]"
   ]
  },
  {
   "cell_type": "markdown",
   "id": "83ab4ba9-026d-40c7-8dd8-7c40742e0c8a",
   "metadata": {},
   "source": [
    "**Part 1**"
   ]
  },
  {
   "cell_type": "code",
   "execution_count": 8,
   "id": "4596af0c-7253-4f7e-ab99-95984ecaf65c",
   "metadata": {},
   "outputs": [
    {
     "data": {
      "text/plain": [
       "4570637"
      ]
     },
     "execution_count": 8,
     "metadata": {},
     "output_type": "execute_result"
    }
   ],
   "source": [
    "from data2019.intcode import Intcode\n",
    "\n",
    "program1 = program[:]\n",
    "program1[1] = 12\n",
    "program1[2] = 2\n",
    "computer = Intcode(program1)\n",
    "computer.run_program()\n",
    "computer.program[0]"
   ]
  },
  {
   "cell_type": "markdown",
   "id": "a6afe0b8-4c72-4f7f-8c28-7918414edf59",
   "metadata": {},
   "source": [
    "**Part 2**"
   ]
  },
  {
   "cell_type": "code",
   "execution_count": 10,
   "id": "96b6e467-34e1-46ba-9e4d-b71ff374c07f",
   "metadata": {},
   "outputs": [
    {
     "name": "stdout",
     "output_type": "stream",
     "text": [
      "a = 54 and b = 85 give the desired output with a puzzle solution of 5485\n"
     ]
    }
   ],
   "source": [
    "from data2019.intcode import Intcode\n",
    "\n",
    "for a in range(100):\n",
    "    for b in range(100):\n",
    "        prog = program[:]\n",
    "        prog[1] = a\n",
    "        prog[2] = b\n",
    "        computer = Intcode(prog)\n",
    "        computer.run_program()\n",
    "        output = computer.program[0]\n",
    "        if output == 19690720:\n",
    "            print(f'{a = } and {b = } give the desired output with a puzzle solution of {100*a + b}')"
   ]
  },
  {
   "cell_type": "markdown",
   "id": "10858db0-2f1e-46de-946b-a1a76bc332ec",
   "metadata": {},
   "source": [
    "<a class=\"anchor\" id=\"day3\"></a>\n",
    "# Day 3\n",
    "\n",
    "*Part 1*  \n",
    "Given 2 wire diagrams, find the nearest intersection location from the central node (Manhattan measure).\n",
    "\n",
    "*Part 2*  \n",
    "d"
   ]
  },
  {
   "cell_type": "code",
   "execution_count": 12,
   "id": "bb897ff2-607b-4123-b297-22ae3a158855",
   "metadata": {},
   "outputs": [
    {
     "data": {
      "text/plain": [
       "['D33', 'R831', 'D783', 'R577', 'U402', 'R482', 'D741', 'R737', 'D474', 'L666']"
      ]
     },
     "execution_count": 12,
     "metadata": {},
     "output_type": "execute_result"
    }
   ],
   "source": [
    "with open('data2019/day3.txt') as f3:\n",
    "    wire1, wire2 = [row.strip() for row in f3.readlines()]\n",
    "    \n",
    "wire1, wire2 = wire1.split(','), wire2.split(',')\n",
    "wire1[-10:]"
   ]
  },
  {
   "cell_type": "code",
   "execution_count": 13,
   "id": "885ad687-b802-4f68-9293-96785096b9b4",
   "metadata": {},
   "outputs": [
    {
     "data": {
      "text/plain": [
       "(301, 301)"
      ]
     },
     "execution_count": 13,
     "metadata": {},
     "output_type": "execute_result"
    }
   ],
   "source": [
    "len(wire1), len(wire2)"
   ]
  },
  {
   "cell_type": "code",
   "execution_count": 14,
   "id": "2ddbce7a-6d45-401b-a3a7-352c40e1fe03",
   "metadata": {},
   "outputs": [
    {
     "data": {
      "text/plain": [
       "410"
      ]
     },
     "execution_count": 14,
     "metadata": {},
     "output_type": "execute_result"
    }
   ],
   "source": [
    "import numpy as np\n",
    "\n",
    "samplewire1 = 'R98,U47,R26,D63,R33,U87,L62,D20,R33,U53,R51'.split(',')\n",
    "samplewire2 = 'U98,R91,D20,R16,D67,R40,U7,R15,U6,R7'.split(',')\n",
    "wire1 = samplewire1\n",
    "wire2 = samplewire2\n",
    "\n",
    "# build location lists for each wire\n",
    "locs1, locs2 = [], []\n",
    "w1, w2 = np.zeros(2), np.zeros(2)\n",
    "dist1, dist2 = 0, 0\n",
    "moves = {'U': np.array([0, 1]), 'D': np.array([0, -1]), 'L': np.array([-1, 0]), 'R': np.array([1, 0])}\n",
    "dist_sums = []\n",
    "\n",
    "for i in range(len(wire1)):\n",
    "    inst1 = wire1[i]\n",
    "    char, val = inst1[0], int(inst1[1:])\n",
    "    for j in range(val):\n",
    "        w1 += moves[char]\n",
    "        dist1 += 1\n",
    "        locs1.append((w1[0], w1[1], dist1))\n",
    "        \n",
    "for i in range(len(wire2)):\n",
    "    inst2 = wire2[i]\n",
    "    char, val = inst2[0], int(inst2[1:])\n",
    "    for j in range(val):\n",
    "        w2 += moves[char]\n",
    "        dist2 += 1\n",
    "        matches = [(w2[0], w2[1]) == (loc[0], loc[1]) for loc in locs1]\n",
    "        if any(matches):\n",
    "            idx1 = matches.index(True)\n",
    "            partial_dist1 = locs1[idx1][2]\n",
    "            dist_sums.append(partial_dist1 + dist2)\n",
    "        #locs2.append(tuple(w2))\n",
    "\n",
    "min(dist_sums)"
   ]
  },
  {
   "cell_type": "code",
   "execution_count": 15,
   "id": "eb8838e6-1d1e-4bb0-98eb-c8e772f33175",
   "metadata": {},
   "outputs": [
    {
     "data": {
      "text/plain": [
       "set()"
      ]
     },
     "execution_count": 15,
     "metadata": {},
     "output_type": "execute_result"
    }
   ],
   "source": [
    "# find set intersections\n",
    "intersections = set(locs1).intersection(set(locs2))\n",
    "intersections"
   ]
  },
  {
   "cell_type": "code",
   "execution_count": 17,
   "id": "2eb68169-4d06-4c78-99ba-fa634a6d8682",
   "metadata": {},
   "outputs": [],
   "source": [
    "#min([abs(x) + abs(y) for (x, y) in intersections])"
   ]
  },
  {
   "cell_type": "code",
   "execution_count": null,
   "id": "e231086e-5410-422e-837d-d0fce9706967",
   "metadata": {},
   "outputs": [],
   "source": []
  },
  {
   "cell_type": "markdown",
   "id": "74f536c7-db83-4279-82d5-c578022b90c4",
   "metadata": {},
   "source": [
    "<a class=\"anchor\" id=\"day4\"></a>\n",
    "\n",
    "# Day 4"
   ]
  },
  {
   "cell_type": "code",
   "execution_count": null,
   "id": "992bb90c-61b4-46c0-9209-12e683c22a3f",
   "metadata": {},
   "outputs": [],
   "source": []
  },
  {
   "cell_type": "markdown",
   "id": "083aa3fd-6aaf-49ce-8d58-1b36e2d32343",
   "metadata": {},
   "source": [
    "<a class=\"anchor\" id=\"day5\"></a>\n",
    "\n",
    "# Day 5"
   ]
  },
  {
   "cell_type": "code",
   "execution_count": null,
   "id": "d5365f76-5dae-4f03-8a4d-669211eef19a",
   "metadata": {},
   "outputs": [],
   "source": []
  },
  {
   "cell_type": "markdown",
   "id": "7d94449d-5a31-40b1-bc4c-4d5ba823ec70",
   "metadata": {},
   "source": [
    "<a class=\"anchor\" id=\"day6\"></a>\n",
    "\n",
    "# Day 6"
   ]
  },
  {
   "cell_type": "code",
   "execution_count": null,
   "id": "f51f969a-37cf-4a5f-a9bb-203888cfdc96",
   "metadata": {},
   "outputs": [],
   "source": []
  },
  {
   "cell_type": "markdown",
   "id": "ba0590b8-dfc4-4936-998f-02e675f6e4c1",
   "metadata": {},
   "source": [
    "<a class=\"anchor\" id=\"day7\"></a>\n",
    "\n",
    "# Day 7"
   ]
  },
  {
   "cell_type": "code",
   "execution_count": null,
   "id": "afb59c21-b874-447a-9567-ac5934531855",
   "metadata": {},
   "outputs": [],
   "source": []
  },
  {
   "cell_type": "markdown",
   "id": "9b374c86-8e84-4352-b6f0-9bb7838c159d",
   "metadata": {},
   "source": [
    "<a class=\"anchor\" id=\"day8\"></a>\n",
    "\n",
    "# Day 8"
   ]
  },
  {
   "cell_type": "code",
   "execution_count": null,
   "id": "db73334d-f8de-4e82-af6e-eecac1ca7340",
   "metadata": {},
   "outputs": [],
   "source": []
  },
  {
   "cell_type": "markdown",
   "id": "0ad18322-3ebb-4f67-9b9c-0c4350a98377",
   "metadata": {},
   "source": [
    "<a class=\"anchor\" id=\"day9\"></a>\n",
    "\n",
    "# Day 9"
   ]
  },
  {
   "cell_type": "code",
   "execution_count": null,
   "id": "80f1ff45-2348-42ba-ad6b-108f095ddf8a",
   "metadata": {},
   "outputs": [],
   "source": []
  },
  {
   "cell_type": "markdown",
   "id": "a6de6afe-57e0-42b8-a518-fef239ca082e",
   "metadata": {},
   "source": [
    "<a class=\"anchor\" id=\"day10\"></a>\n",
    "\n",
    "# Day 10"
   ]
  },
  {
   "cell_type": "code",
   "execution_count": null,
   "id": "9d5d61c5-f5d4-4b05-99be-5ea7f0730784",
   "metadata": {},
   "outputs": [],
   "source": []
  },
  {
   "cell_type": "markdown",
   "id": "315ae79d-6cd0-4256-b8f8-a74ca2977cbc",
   "metadata": {},
   "source": [
    "<a class=\"anchor\" id=\"day11\"></a>\n",
    "\n",
    "# Day 11"
   ]
  },
  {
   "cell_type": "code",
   "execution_count": null,
   "id": "a7c93076-e89b-44ce-9487-a78aaaadb9ac",
   "metadata": {},
   "outputs": [],
   "source": []
  },
  {
   "cell_type": "markdown",
   "id": "0d4b06f0-1762-4b0a-a5ae-08f2780c75cc",
   "metadata": {},
   "source": [
    "<a class=\"anchor\" id=\"day12\"></a>\n",
    "\n",
    "# Day 12"
   ]
  },
  {
   "cell_type": "code",
   "execution_count": null,
   "id": "aa56927f-1def-49df-a948-bd52bff8cee2",
   "metadata": {},
   "outputs": [],
   "source": []
  },
  {
   "cell_type": "markdown",
   "id": "745a4ad6-a5eb-496b-9348-be9596a7acdd",
   "metadata": {},
   "source": [
    "<a class=\"anchor\" id=\"day13\"></a>\n",
    "\n",
    "# Day 13"
   ]
  },
  {
   "cell_type": "code",
   "execution_count": null,
   "id": "ceaf9749-b1ff-437c-950e-5f60fa483831",
   "metadata": {},
   "outputs": [],
   "source": []
  },
  {
   "cell_type": "markdown",
   "id": "dfa46c11-6858-452f-acde-efa97872695f",
   "metadata": {},
   "source": [
    "<a class=\"anchor\" id=\"day14\"></a>\n",
    "\n",
    "# Day 14"
   ]
  },
  {
   "cell_type": "code",
   "execution_count": null,
   "id": "64f7ff42-b726-466c-8f63-77fca2398dac",
   "metadata": {},
   "outputs": [],
   "source": []
  },
  {
   "cell_type": "markdown",
   "id": "91f2be48-cb77-4104-b07f-cae81b2fbf71",
   "metadata": {},
   "source": [
    "<a class=\"anchor\" id=\"day15\"></a>\n",
    "\n",
    "# Day 15"
   ]
  },
  {
   "cell_type": "code",
   "execution_count": null,
   "id": "d27adcd3-c401-49df-bf3f-af54527d329b",
   "metadata": {},
   "outputs": [],
   "source": []
  },
  {
   "cell_type": "markdown",
   "id": "74deb6fe-2fad-4930-9b93-fe480fc1e503",
   "metadata": {},
   "source": [
    "<a class=\"anchor\" id=\"day16\"></a>\n",
    "\n",
    "# Day 16"
   ]
  },
  {
   "cell_type": "code",
   "execution_count": null,
   "id": "0c6686a4-32f3-4d2b-a065-c477ebc935e6",
   "metadata": {},
   "outputs": [],
   "source": []
  },
  {
   "cell_type": "markdown",
   "id": "3e857b8a-f358-4cac-9b78-0d1550de9f0e",
   "metadata": {},
   "source": [
    "<a class=\"anchor\" id=\"day17\"></a>\n",
    "\n",
    "# Day 17"
   ]
  },
  {
   "cell_type": "code",
   "execution_count": null,
   "id": "aaa5fe13-6860-4c4b-a585-4cdc8a2df403",
   "metadata": {},
   "outputs": [],
   "source": []
  },
  {
   "cell_type": "markdown",
   "id": "ecb0791c-a4b5-48e4-8ca9-aad698b2e3b5",
   "metadata": {},
   "source": [
    "<a class=\"anchor\" id=\"day18\"></a>\n",
    "\n",
    "# Day 18"
   ]
  },
  {
   "cell_type": "code",
   "execution_count": null,
   "id": "62e34134-79a1-4de8-8bdd-f9a411caf024",
   "metadata": {},
   "outputs": [],
   "source": []
  },
  {
   "cell_type": "markdown",
   "id": "be571ba7-f6c8-4145-94e8-b8cb70fb97cf",
   "metadata": {},
   "source": [
    "<a class=\"anchor\" id=\"day19\"></a>\n",
    "\n",
    "# Day 19"
   ]
  },
  {
   "cell_type": "code",
   "execution_count": null,
   "id": "a4159b76-a82e-4ed6-ad0c-dd9ae354fb88",
   "metadata": {},
   "outputs": [],
   "source": []
  },
  {
   "cell_type": "markdown",
   "id": "1420a7a1-759a-4470-a1e6-bec31f6ed271",
   "metadata": {},
   "source": [
    "<a class=\"anchor\" id=\"day20\"></a>\n",
    "\n",
    "# Day 20"
   ]
  },
  {
   "cell_type": "code",
   "execution_count": null,
   "id": "8fdf69dd-b29b-479a-a8cc-79d0609ac8ac",
   "metadata": {},
   "outputs": [],
   "source": []
  },
  {
   "cell_type": "markdown",
   "id": "73a91c12-46d8-47bf-8e79-93b4f4e91276",
   "metadata": {},
   "source": [
    "<a class=\"anchor\" id=\"day21\"></a>\n",
    "\n",
    "# Day 21"
   ]
  },
  {
   "cell_type": "code",
   "execution_count": null,
   "id": "5f6c9f6c-439f-4932-a052-84736199f7aa",
   "metadata": {},
   "outputs": [],
   "source": []
  },
  {
   "cell_type": "markdown",
   "id": "42a29752-1fca-4713-9417-8758a8d106d2",
   "metadata": {},
   "source": [
    "<a class=\"anchor\" id=\"day22\"></a>\n",
    "\n",
    "# Day 22"
   ]
  },
  {
   "cell_type": "code",
   "execution_count": null,
   "id": "815bc2e6-c67a-4cea-a16d-d5706e218a33",
   "metadata": {},
   "outputs": [],
   "source": []
  },
  {
   "cell_type": "markdown",
   "id": "a757691a-c65e-47e1-b6a8-110c151c8824",
   "metadata": {},
   "source": [
    "<a class=\"anchor\" id=\"day23\"></a>\n",
    "\n",
    "# Day 23"
   ]
  },
  {
   "cell_type": "code",
   "execution_count": null,
   "id": "b05f6743-5b24-4379-8581-f2c87962ac62",
   "metadata": {},
   "outputs": [],
   "source": []
  },
  {
   "cell_type": "markdown",
   "id": "f6671ba1-6ac8-48b2-95ea-6fd8ac3723d3",
   "metadata": {},
   "source": [
    "<a class=\"anchor\" id=\"day24\"></a>\n",
    "\n",
    "# Day 24"
   ]
  },
  {
   "cell_type": "code",
   "execution_count": null,
   "id": "03cf98f7-d1cc-49b0-bb70-068356b9e900",
   "metadata": {},
   "outputs": [],
   "source": []
  },
  {
   "cell_type": "markdown",
   "id": "e63d739c-a686-42ea-9783-dbe0f86258c0",
   "metadata": {},
   "source": [
    "<a class=\"anchor\" id=\"day25\"></a>\n",
    "\n",
    "# Day 25"
   ]
  },
  {
   "cell_type": "code",
   "execution_count": null,
   "id": "2332471d-1639-4434-98f0-c93199839708",
   "metadata": {},
   "outputs": [],
   "source": []
  }
 ],
 "metadata": {
  "kernelspec": {
   "display_name": "Python 3",
   "language": "python",
   "name": "python3"
  },
  "language_info": {
   "codemirror_mode": {
    "name": "ipython",
    "version": 3
   },
   "file_extension": ".py",
   "mimetype": "text/x-python",
   "name": "python",
   "nbconvert_exporter": "python",
   "pygments_lexer": "ipython3",
   "version": "3.8.8"
  }
 },
 "nbformat": 4,
 "nbformat_minor": 5
}
