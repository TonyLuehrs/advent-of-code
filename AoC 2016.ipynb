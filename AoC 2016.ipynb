{
 "cells": [
  {
   "cell_type": "markdown",
   "id": "e33f0a7b-66f1-4b5e-8695-cdcab547d0c1",
   "metadata": {},
   "source": [
    "# Advent of Code 2016\n",
    "\n",
    "___\n",
    "\n",
    "[**Day 1**](#day1) &nbsp; &nbsp; &nbsp; [**Day 2**](#day2) &nbsp; &nbsp; &nbsp; [**Day 3**](#day3) &nbsp; &nbsp; &nbsp; [**Day 4**](#day4) &nbsp; &nbsp; &nbsp; [**Day 5**](#day5)\n",
    "\n",
    "[**Day 6**](#day6) &nbsp; &nbsp; &nbsp; [**Day 7**](#day7) &nbsp; &nbsp; &nbsp; [**Day 8**](#day8) &nbsp; &nbsp; &nbsp; [*Day 9*](#day9) &nbsp; &nbsp; &nbsp; [**Day 10**](#day10)\n",
    "\n",
    "[Day 11](#day11) &nbsp; &nbsp; [**Day 12**](#day12) &nbsp; &nbsp; [**Day 13**](#day13) &nbsp; &nbsp; [**Day 14**](#day14) &nbsp; &nbsp; [**Day 15**](#day15)\n",
    "\n",
    "[**Day 16**](#day16) &nbsp; &nbsp; [**Day 17**](#day17) &nbsp; &nbsp; [**Day 18**](#day18) &nbsp; &nbsp; [Day 19](#day19) &nbsp; &nbsp; [**Day 20**](#day20)\n",
    "\n",
    "[Day 21](#day21) &nbsp; &nbsp; [Day 22](#day22) &nbsp; &nbsp; [Day 23](#day23) &nbsp; &nbsp; [Day 24](#day24) &nbsp; &nbsp; [Day 25](#day25)\n",
    "\n",
    "___"
   ]
  },
  {
   "cell_type": "markdown",
   "id": "1266ae65-6b3d-49a3-bfe6-9a2ee7276d7b",
   "metadata": {},
   "source": [
    "<a class=\"anchor\" id=\"day1\"></a>\n",
    "\n",
    "## Day 1\n",
    "\n",
    "Taxicab geometry.\n",
    "\n",
    "Given a set of instructions, determine how far away (in city blocks) you end up from your starting point.  Instructions are given like \"R6\" which means turn right 90 degrees and walk 6 blocks.  You begin facing north.\n",
    "\n",
    "*Part 1*  \n",
    "How many blocks do you end up away from your starting position after doing all the instructions?\n",
    "\n",
    "*Part 2*  \n",
    "What is the first location that you visit (pass over) twice? (Doesn't need to be a landing spot, going north 7 means you visited 7 locations to get there)."
   ]
  },
  {
   "cell_type": "code",
   "execution_count": 1,
   "id": "8971c728-b758-4505-830e-149848af4af1",
   "metadata": {},
   "outputs": [
    {
     "data": {
      "text/plain": [
       "['R2', 'R2', 'R5', 'L1', 'L2']"
      ]
     },
     "execution_count": 1,
     "metadata": {},
     "output_type": "execute_result"
    }
   ],
   "source": [
    "with open('data2016/day1.txt') as f1:\n",
    "    steps = f1.read()[:-1].split(', ')\n",
    "    \n",
    "steps[-5:]"
   ]
  },
  {
   "cell_type": "markdown",
   "id": "07f1f32d-2fa1-409d-b768-598e7e308180",
   "metadata": {},
   "source": [
    "**Part 1**"
   ]
  },
  {
   "cell_type": "code",
   "execution_count": 2,
   "id": "2b284e2d",
   "metadata": {},
   "outputs": [
    {
     "data": {
      "text/plain": [
       "299"
      ]
     },
     "execution_count": 2,
     "metadata": {},
     "output_type": "execute_result"
    }
   ],
   "source": [
    "direction = 0  # [0, 1, 2, 3] = [N, W, S, E]\n",
    "x, y = 0, 0\n",
    "\n",
    "for step in steps:\n",
    "    rot, dist = step[0], int(step[1:])\n",
    "    direction = ((direction + 1) % 4) if rot == 'L' else ((direction - 1) % 4)\n",
    "    if direction == 0:\n",
    "        y += dist\n",
    "    elif direction == 1:\n",
    "        x -= dist\n",
    "    elif direction == 2:\n",
    "        y -= dist\n",
    "    elif direction == 3:\n",
    "        x += dist\n",
    "        \n",
    "abs(x) + abs(y)"
   ]
  },
  {
   "cell_type": "markdown",
   "id": "cba63cf2-c7da-4768-ba1f-2f5990a21c4a",
   "metadata": {},
   "source": [
    "**Part 2**"
   ]
  },
  {
   "cell_type": "code",
   "execution_count": 3,
   "id": "9ebbef3e",
   "metadata": {},
   "outputs": [
    {
     "name": "stdout",
     "output_type": "stream",
     "text": [
      "found it: (-176, -5) with dist of 181\n"
     ]
    }
   ],
   "source": [
    "direction = 0  # [0, 1, 2, 3] = [N, W, S, E]\n",
    "x, y = 0, 0\n",
    "visited = [(0, 0)]\n",
    "found = False\n",
    "\n",
    "for step in steps:\n",
    "    if found:\n",
    "        break\n",
    "    rot, dist = step[0], int(step[1:])\n",
    "    direction = ((direction + 1) % 4) if rot == 'L' else ((direction - 1) % 4)\n",
    "    if direction == 0:\n",
    "        new_places = [(x, y+i) for i in range(1, dist+1)]\n",
    "        y += dist\n",
    "    elif direction == 1:\n",
    "        new_places = [(x-i, y) for i in range(1, dist+1)]\n",
    "        x -= dist\n",
    "    elif direction == 2:\n",
    "        new_places = [(x, y-i) for i in range(1, dist+1)]\n",
    "        y -= dist\n",
    "    elif direction == 3:\n",
    "        new_places = [(x+i, y) for i in range(1, dist+1)]\n",
    "        x += dist\n",
    "    #print(step, (x, y), new_places)\n",
    "    for np in new_places:\n",
    "        if np in visited:\n",
    "            print(f'found it: {np} with dist of {abs(np[0]) + abs(np[1])}')\n",
    "            found = True\n",
    "            break\n",
    "        else:\n",
    "            visited.append(np)\n"
   ]
  },
  {
   "cell_type": "markdown",
   "id": "31805c42",
   "metadata": {},
   "source": [
    "<a class=\"anchor\" id=\"day2\"></a>\n",
    "\n",
    "## Day 2\n",
    "\n",
    "Need the code for the bathroom door.\n",
    "\n",
    "The input pad for the bathroom door is arranged like this:\n",
    "\n",
    "    1  2  3\n",
    "    4  5  6\n",
    "    7  8  9\n",
    "    \n",
    "To determine the password, a line of instructions gives movements that should be taken (only if possible) relative to a starting position of 5.  For example, the line of instructions \"ULDDDRRRU\" would go up to 2, left to 1, down to 4, down to 7, down (can't) stay at 7, right to 8, right to 9, right (can't) stay at 9, up to 6, so that digit would be 6.\n",
    "\n",
    "*Part 1*  \n",
    "Determine the password to use the bathroom given the puzzle input.\n",
    "\n",
    "*Part 2*  \n",
    "Determine the password given the diamond-shaped keypad:\n",
    "\n",
    "    .  .  1  .  .\n",
    "    .  2  3  4  .\n",
    "    5  6  7  8  9\n",
    "    .  A  B  C  .\n",
    "    .  .  D  .  ."
   ]
  },
  {
   "cell_type": "code",
   "execution_count": 4,
   "id": "2b176f5e",
   "metadata": {},
   "outputs": [
    {
     "data": {
      "text/plain": [
       "'RUDLLUDRRDRRLRURRULRLRDUDLRRLRDDUDRDLRRLLRURRDDLRLLRRURULRUULDUDUULDULDLRLRDLRDLRUURLDRLUDRRDDDRDRRRDDLLLRRLULLRRDDUDULRDRDUURLDLRULULUDLLDRUDUURRUDLLRDRLRRUUUDLDUDRRULLDURRDUDDLRURDLDRLULDDURRLULLRDDDRLURLULDLRUDLURDURRUDULDUUDLLLDDDUUURRRDLLDURRDLULRULULLRDURULLURDRLLRUUDDRRUDRDRRRURUUDLDDRLDRURULDDLLULULURDLDLDULLRLRDLLUUDDUDUDDDDRURLUDUDDDRRUDDLUDULLRDLDLURDDUURDLRLUUDRRULLRDLDDDLDULDUDRDUUULULDULUDLULRLRUULLDURLDULDRDLLDULLLULRLRD'"
      ]
     },
     "execution_count": 4,
     "metadata": {},
     "output_type": "execute_result"
    }
   ],
   "source": [
    "with open('data2016/day2.txt') as f2:\n",
    "    lines = [row.strip() for row in f2.readlines()]\n",
    "    \n",
    "lines[-1]"
   ]
  },
  {
   "cell_type": "markdown",
   "id": "3fba2c11-8d2a-4e4e-b765-702b2715265e",
   "metadata": {},
   "source": [
    "**Part 1**"
   ]
  },
  {
   "cell_type": "code",
   "execution_count": 5,
   "id": "a823fd4e",
   "metadata": {},
   "outputs": [],
   "source": [
    "numpad = {(0, 0): 1, (0, 1): 2, (0, 2): 3,\n",
    "          (1, 0): 4, (1, 1): 5, (1, 2): 6,\n",
    "          (2, 0): 7, (2, 1): 8, (2, 2): 9,}\n",
    "\n",
    "numpad_rev = {v: k for k, v in numpad.items()}\n",
    "\n",
    "def eval_line(start_num, line):\n",
    "    row, col = numpad_rev[start_num]\n",
    "    for char in line:\n",
    "        if char == 'U':\n",
    "            row = max(0, row-1)\n",
    "        elif char == 'D':\n",
    "            row = min(2, row+1)\n",
    "        elif char == 'R':\n",
    "            col = min(2, col+1)\n",
    "        elif char == 'L':\n",
    "            col = max(0, col-1)\n",
    "    return numpad[(row, col)]\n"
   ]
  },
  {
   "cell_type": "code",
   "execution_count": 6,
   "id": "4122b806",
   "metadata": {},
   "outputs": [
    {
     "data": {
      "text/plain": [
       "'1985'"
      ]
     },
     "execution_count": 6,
     "metadata": {},
     "output_type": "execute_result"
    }
   ],
   "source": [
    "sample = ['ULL', 'RRDDD', 'LURDL', 'UUUUD']\n",
    "start_num = 5\n",
    "code = ''\n",
    "for row in sample:\n",
    "    digit = eval_line(start_num, row)\n",
    "    code += str(digit)\n",
    "    start_num = digit\n",
    "    \n",
    "code"
   ]
  },
  {
   "cell_type": "code",
   "execution_count": 7,
   "id": "eccaf73a",
   "metadata": {},
   "outputs": [
    {
     "data": {
      "text/plain": [
       "'53255'"
      ]
     },
     "execution_count": 7,
     "metadata": {},
     "output_type": "execute_result"
    }
   ],
   "source": [
    "digit = 5\n",
    "password = ''\n",
    "\n",
    "for row in lines:\n",
    "    digit = eval_line(digit, row)\n",
    "    password += str(digit)\n",
    "    \n",
    "password"
   ]
  },
  {
   "cell_type": "markdown",
   "id": "26496f56",
   "metadata": {},
   "source": [
    "**Part 2**"
   ]
  },
  {
   "cell_type": "code",
   "execution_count": 8,
   "id": "7bc377ce",
   "metadata": {},
   "outputs": [],
   "source": [
    "numpad2 = {(0, 0): -1, (0, 1): -1, (0, 2): 1, (0, 3): -1, (0, 4): -1,\n",
    "           (1, 0): -1, (1, 1):  2, (1, 2): 3, (1, 3):  4, (1, 4): -1,\n",
    "           (2, 0):  5, (2, 1):  6, (2, 2): 7, (2, 3):  8, (2, 4):  9,\n",
    "           (3, 0): -1, (3, 1): 'A',(3, 2):'B',(3, 3): 'C',(3, 4): -1,\n",
    "           (4, 0): -1, (4, 1): -1, (4, 2):'D',(4, 3): -1, (4, 4): -1,}\n",
    "\n",
    "numpad2_rev = {v: k for k, v in numpad2.items() if v != -1}\n",
    "\n",
    "def eval_line2(start_dig, line):\n",
    "    row, col = numpad2_rev[start_dig]\n",
    "    for char in line:\n",
    "        if char == 'U':\n",
    "            row = row-1 if ((row > 0) and (numpad2[(row-1, col)] != -1)) else row\n",
    "        elif char == 'D':\n",
    "            row = row+1 if ((row < 4) and (numpad2[(row+1, col)] != -1)) else row\n",
    "        elif char == 'R':\n",
    "            col = col+1 if ((col < 4) and (numpad2[(row, col+1)] != -1)) else col\n",
    "        elif char == 'L':\n",
    "            col = col-1 if ((col > 0) and (numpad2[(row, col-1)] != -1)) else col\n",
    "    return numpad2[(row, col)]\n"
   ]
  },
  {
   "cell_type": "code",
   "execution_count": 9,
   "id": "ddf9ece5",
   "metadata": {},
   "outputs": [
    {
     "data": {
      "text/plain": [
       "'5DB3'"
      ]
     },
     "execution_count": 9,
     "metadata": {},
     "output_type": "execute_result"
    }
   ],
   "source": [
    "sample = ['ULL', 'RRDDD', 'LURDL', 'UUUUD']\n",
    "\n",
    "dig = 5\n",
    "code = ''\n",
    "for row in sample:\n",
    "    dig = eval_line2(dig, row)\n",
    "    code += str(dig)\n",
    "code"
   ]
  },
  {
   "cell_type": "code",
   "execution_count": 10,
   "id": "93063c31",
   "metadata": {},
   "outputs": [
    {
     "data": {
      "text/plain": [
       "'7423A'"
      ]
     },
     "execution_count": 10,
     "metadata": {},
     "output_type": "execute_result"
    }
   ],
   "source": [
    "dig = 5\n",
    "password2 = ''\n",
    "for row in lines:\n",
    "    dig = eval_line2(dig, row)\n",
    "    password2 += str(dig)\n",
    "password2"
   ]
  },
  {
   "cell_type": "markdown",
   "id": "0952af03",
   "metadata": {},
   "source": [
    "<a class=\"anchor\" id=\"day3\"></a>\n",
    "\n",
    "## Day 3\n",
    "\n",
    "*Part 1*  \n",
    "How many of the given sets of three side lengths could form a triangle?\n",
    "\n",
    "*Part 2*  \n",
    "Triangle triples are actually arranged vertically in groups of three, not horizontally. Now how many actual triangles are there?"
   ]
  },
  {
   "cell_type": "code",
   "execution_count": 11,
   "id": "efe91296",
   "metadata": {},
   "outputs": [
    {
     "data": {
      "text/plain": [
       "[[810, 679, 10], [783, 255, 616], [545, 626, 626], [84, 910, 149]]"
      ]
     },
     "execution_count": 11,
     "metadata": {},
     "output_type": "execute_result"
    }
   ],
   "source": [
    "with open('data2016/day3.txt') as f3:\n",
    "    triples_str = [row.strip() for row in f3.readlines()]\n",
    "    \n",
    "triples = [[int(x) for x in row.split()] for row in triples_str]\n",
    "triples[:4]"
   ]
  },
  {
   "cell_type": "markdown",
   "id": "265f564a-5874-4e3b-a10b-04bd32f03ac5",
   "metadata": {},
   "source": [
    "**Part 1**"
   ]
  },
  {
   "cell_type": "code",
   "execution_count": 12,
   "id": "bb55aa81",
   "metadata": {},
   "outputs": [
    {
     "data": {
      "text/plain": [
       "869"
      ]
     },
     "execution_count": 12,
     "metadata": {},
     "output_type": "execute_result"
    }
   ],
   "source": [
    "sum([sorted(row)[2] < sum(sorted(row)[:2]) for row in triples])"
   ]
  },
  {
   "cell_type": "markdown",
   "id": "ac867f0e",
   "metadata": {},
   "source": [
    "**Part 2**  \n"
   ]
  },
  {
   "cell_type": "code",
   "execution_count": 13,
   "id": "492f7424",
   "metadata": {},
   "outputs": [],
   "source": [
    "columns = [[row[i] for row in triples] for i in range(3)]\n",
    "triples2 = [columns[0][i:i+3] for i in range(0, len(columns[0]), 3)] + \\\n",
    "           [columns[1][i:i+3] for i in range(0, len(columns[1]), 3)] + \\\n",
    "           [columns[2][i:i+3] for i in range(0, len(columns[2]), 3)]\n"
   ]
  },
  {
   "cell_type": "code",
   "execution_count": 14,
   "id": "29181455",
   "metadata": {},
   "outputs": [
    {
     "data": {
      "text/plain": [
       "[[248, 224, 241],\n",
       " [245, 409, 355],\n",
       " [96, 360, 370],\n",
       " [108, 503, 421],\n",
       " [702, 665, 873]]"
      ]
     },
     "execution_count": 14,
     "metadata": {},
     "output_type": "execute_result"
    }
   ],
   "source": [
    "triples2[-5:]"
   ]
  },
  {
   "cell_type": "code",
   "execution_count": 15,
   "id": "65529161",
   "metadata": {},
   "outputs": [
    {
     "data": {
      "text/plain": [
       "1544"
      ]
     },
     "execution_count": 15,
     "metadata": {},
     "output_type": "execute_result"
    }
   ],
   "source": [
    "sum([sorted(row)[2] < sum(sorted(row)[:2]) for row in triples2])"
   ]
  },
  {
   "cell_type": "markdown",
   "id": "78ebcf61",
   "metadata": {},
   "source": [
    "<a class=\"anchor\" id=\"day4\"></a>\n",
    "\n",
    "## Day 4\n",
    "\n",
    "Need to test if a given room name matches its checksum.  For **Part 1**, find the sum of all room numbers that have a room name that matches its checksum.\n",
    "\n",
    "The checksum for the room name is given in brackets and consists of the 5 most common letters, listed in order of frequency, with ties broken by alphabetization.\n",
    "\n",
    "For **Part 2**, decrypt the room names by cycling them alphabetically their room number of letters.  Find the room number o fthe room with storage for items for the north pole."
   ]
  },
  {
   "cell_type": "code",
   "execution_count": 16,
   "id": "e154d425",
   "metadata": {},
   "outputs": [],
   "source": [
    "samples = ['aaaaa-bbb-z-y-x-123[abxyz]',   # is a real room \n",
    "           'a-b-c-d-e-f-g-h-987[abcde]',   # is a real room\n",
    "           'not-a-real-room-404[oarel]',   # is a real room\n",
    "           'totally-real-room-200[decoy]'] # is not"
   ]
  },
  {
   "cell_type": "code",
   "execution_count": 17,
   "id": "2a2605c9",
   "metadata": {},
   "outputs": [
    {
     "data": {
      "text/plain": [
       "['nchhg-kpwkwtibm-mvoqvmmzqvo-252[mvhko]',\n",
       " 'uqtqbizg-ozilm-jiasmb-uizsmbqvo-122[ktxvs]',\n",
       " 'nwlddtqtpo-mldvpe-fdpc-epdetyr-509[dpetl]',\n",
       " 'wfintfhynaj-idj-qfgtwfytwd-229[efudw]',\n",
       " 'yhwooebeaz-nwilwcejc-ydkykhwpa-owhao-160[skuyi]']"
      ]
     },
     "execution_count": 17,
     "metadata": {},
     "output_type": "execute_result"
    }
   ],
   "source": [
    "with open('data2016/day4.txt') as f4:\n",
    "    data = [row.strip() for row in f4.readlines()]\n",
    "    \n",
    "data[-5:]"
   ]
  },
  {
   "cell_type": "markdown",
   "id": "75cbaadf-e193-4441-a346-193e2cb50565",
   "metadata": {},
   "source": [
    "**Part 1**"
   ]
  },
  {
   "cell_type": "code",
   "execution_count": 18,
   "id": "748aa8c1",
   "metadata": {},
   "outputs": [],
   "source": [
    "def check_checksum(room_string):\n",
    "    \n",
    "    first_int_idx = min([i for i in range(len(room_string)) if room_string[i] in '1234567890'])\n",
    "    first_brack_idx = room_string.index('[')\n",
    "    \n",
    "    name = room_string[:first_int_idx]\n",
    "    number = int(room_string[first_int_idx:first_brack_idx])\n",
    "    checksum = room_string[first_brack_idx+1:-1]\n",
    "    \n",
    "    letters = list(name.replace('-', ''))\n",
    "    counts = sorted([(letters.count(char), char) for char in set(letters)])[::-1]\n",
    "    #print(counts)\n",
    "    check = ''\n",
    "    while True:\n",
    "        next_letters = sorted([pair[1] for pair in counts if pair[0] == counts[0][0]])\n",
    "        for char in next_letters:\n",
    "            if len(check) < 5:\n",
    "                check += char\n",
    "        counts = [c for c in counts if c[1] not in check]\n",
    "        if len(check) == 5:\n",
    "            break\n",
    "    \n",
    "    #print(check)\n",
    "    #print(checksum)\n",
    "    \n",
    "    return number if check == checksum else 0"
   ]
  },
  {
   "cell_type": "code",
   "execution_count": 19,
   "id": "39b434fb",
   "metadata": {},
   "outputs": [
    {
     "data": {
      "text/plain": [
       "123"
      ]
     },
     "execution_count": 19,
     "metadata": {},
     "output_type": "execute_result"
    }
   ],
   "source": [
    "check_checksum(samples[0])"
   ]
  },
  {
   "cell_type": "code",
   "execution_count": 20,
   "id": "8bdbb620",
   "metadata": {},
   "outputs": [
    {
     "data": {
      "text/plain": [
       "278221"
      ]
     },
     "execution_count": 20,
     "metadata": {},
     "output_type": "execute_result"
    }
   ],
   "source": [
    "part1 = sum([check_checksum(room) for room in data])\n",
    "part1"
   ]
  },
  {
   "cell_type": "markdown",
   "id": "e6799252-cb7e-4f55-8522-bee015e7704d",
   "metadata": {},
   "source": [
    "**Part 2**"
   ]
  },
  {
   "cell_type": "code",
   "execution_count": 21,
   "id": "0a3bf9bd",
   "metadata": {},
   "outputs": [],
   "source": [
    "alphabet = 'abcdefghijklmnopqrstuvwxyz'\n",
    "def decrypt(room_name, room_number):\n",
    "    return ''.join([alphabet[(alphabet.index(char) + room_number) % 26] if char != '-' else ' ' for char in room_name])"
   ]
  },
  {
   "cell_type": "code",
   "execution_count": 22,
   "id": "96f17a34",
   "metadata": {},
   "outputs": [
    {
     "data": {
      "text/plain": [
       "'very encrypted name'"
      ]
     },
     "execution_count": 22,
     "metadata": {},
     "output_type": "execute_result"
    }
   ],
   "source": [
    "decrypt('qzmt-zixmtkozy-ivhz', 343)"
   ]
  },
  {
   "cell_type": "code",
   "execution_count": 23,
   "id": "9086ad8f",
   "metadata": {},
   "outputs": [
    {
     "data": {
      "text/plain": [
       "['projectile scavenger hunt shipping  (561)',\n",
       " 'weaponized jellybean technology  (436)',\n",
       " 'biohazardous basket customer service  (253)']"
      ]
     },
     "execution_count": 23,
     "metadata": {},
     "output_type": "execute_result"
    }
   ],
   "source": [
    "good_rooms = [room for room in data if check_checksum(room) > 0]\n",
    "decr_rooms = []\n",
    "for gr in good_rooms:\n",
    "    name = gr[:min([i for i in range(len(gr)) if gr[i] in '1234567890'])-1]\n",
    "    number = int(''.join([char for char in gr if char in '1234567890']))\n",
    "    decr_rooms.append(decrypt(name, number) + f'  ({number})')\n",
    "decr_rooms[:3]"
   ]
  },
  {
   "cell_type": "code",
   "execution_count": 24,
   "id": "2a767146",
   "metadata": {},
   "outputs": [
    {
     "data": {
      "text/plain": [
       "['northpole object storage  (267)']"
      ]
     },
     "execution_count": 24,
     "metadata": {},
     "output_type": "execute_result"
    }
   ],
   "source": [
    "[room for room in decr_rooms if 'north' in room]"
   ]
  },
  {
   "cell_type": "markdown",
   "id": "f5ddd1fd",
   "metadata": {},
   "source": [
    "<a class=\"anchor\" id=\"day5\"></a>\n",
    "\n",
    "## Day 5\n",
    "\n",
    "MD5 hashes\n",
    "\n",
    "**Part 1**  \n",
    "Our puzzle input is the door id; we want to find strings of the door id plus increasing integers tacked onto the end.  Every time we find one with an MD5 hash that starts with 5 zeros, then take the 6th character as the next character in the password we're looking for.  Find the 8-character password."
   ]
  },
  {
   "cell_type": "code",
   "execution_count": 25,
   "id": "872b7cb8",
   "metadata": {},
   "outputs": [],
   "source": [
    "import hashlib"
   ]
  },
  {
   "cell_type": "code",
   "execution_count": 26,
   "id": "648edc2f",
   "metadata": {},
   "outputs": [
    {
     "data": {
      "text/plain": [
       "'00000155f8105dff7f56ee10fa9b9abd'"
      ]
     },
     "execution_count": 26,
     "metadata": {},
     "output_type": "execute_result"
    }
   ],
   "source": [
    "hashlib.md5('abc3231929'.encode('utf-8')).hexdigest()"
   ]
  },
  {
   "cell_type": "code",
   "execution_count": 27,
   "id": "ae328f29",
   "metadata": {},
   "outputs": [
    {
     "name": "stdout",
     "output_type": "stream",
     "text": [
      "0000027b9705c7e6fa3d4816c490bbfd\n",
      "2\n",
      "00000468c8625d85571d250737c47b5a\n",
      "24\n",
      "0000013e3293b49e4c78a5b43b21023b\n",
      "241\n",
      "0000040bbe4509b48041007dec6123bd\n",
      "2414\n",
      "00000b11810477f9e49840991fb2151e\n",
      "2414b\n",
      "00000cc461c8945671046cf632be4473\n",
      "2414bc\n",
      "000007c1da6865df78b2c0addf28913d\n",
      "2414bc7\n",
      "00000700ce8beb0a8ffc83fa9986d577\n",
      "2414bc77\n"
     ]
    }
   ],
   "source": [
    "door_id = 'wtnhxymk'\n",
    "password = ''\n",
    "i = 1\n",
    "while len(password) < 8:\n",
    "    to_check = door_id + str(i)\n",
    "    hashed = hashlib.md5(to_check.encode('utf-8')).hexdigest()\n",
    "    if hashed[:5] == '00000':\n",
    "        password += hashed[5]\n",
    "        print(hashed)\n",
    "        print(password)\n",
    "    i += 1"
   ]
  },
  {
   "cell_type": "markdown",
   "id": "48c9564b",
   "metadata": {},
   "source": [
    "**Part 2**\n",
    "\n",
    "Now, instead, still searching for hashes that start with 5 zeros, but the 6th position indicates the index (if available and within range of 0-7), and the 7th position indicates the character to go at the index of the password as indicated by the 6th char.\n",
    "\n",
    "    '00000062831' says to put a 2 at the 6th index (7th position) IF that index isn't already filled in the password."
   ]
  },
  {
   "cell_type": "code",
   "execution_count": 28,
   "id": "26521124",
   "metadata": {},
   "outputs": [
    {
     "name": "stdout",
     "output_type": "stream",
     "text": [
      "__7_____\n",
      "__7_6___\n",
      "_37_6___\n",
      "_37_6__c\n",
      "_37_60_c\n",
      "_37_60fc\n",
      "_37e60fc\n",
      "437e60fc\n"
     ]
    }
   ],
   "source": [
    "door_id = 'wtnhxymk'\n",
    "password = '________'\n",
    "i = 1\n",
    "found = 0\n",
    "while found < 8:\n",
    "    to_check = door_id + str(i)\n",
    "    hashed = hashlib.md5(to_check.encode('utf-8')).hexdigest()\n",
    "    if hashed[:5] == '00000':\n",
    "        idx, char = hashed[5:7]\n",
    "        if (idx in '01234567') and password[int(idx)] == '_':\n",
    "            password = list(password)\n",
    "            password[int(idx)] = char\n",
    "            password = ''.join(password)\n",
    "            print(password)\n",
    "            found += 1\n",
    "    i += 1"
   ]
  },
  {
   "cell_type": "markdown",
   "id": "80daea75",
   "metadata": {},
   "source": [
    "<a class=\"anchor\" id=\"day6\"></a>\n",
    "\n",
    "## Day 6\n",
    "\n",
    "Message is coming in but has noise.  The message is repeated, so we just need to find the most common character in each position of the message to decode it.\n",
    "\n",
    "**Part 1**  \n",
    "Determine the code being sent by finding the most common letter in each column.\n",
    "\n",
    "**Part 2**  \n",
    "Determine the code being sent by finding the least common letter in each column.\n",
    "\n",
    "(The only code difference is whether we want the first or last (val, char) pair in the sorted counts list)"
   ]
  },
  {
   "cell_type": "code",
   "execution_count": 29,
   "id": "85f7a51c",
   "metadata": {},
   "outputs": [
    {
     "data": {
      "text/plain": [
       "['uufwzhll', 'jnlztauj', 'ktujpjae']"
      ]
     },
     "execution_count": 29,
     "metadata": {},
     "output_type": "execute_result"
    }
   ],
   "source": [
    "with open('data2016/day6.txt') as f6:\n",
    "    messages = [row.strip() for row in f6.readlines()]\n",
    "    \n",
    "messages[-3:]"
   ]
  },
  {
   "cell_type": "code",
   "execution_count": 30,
   "id": "e2180118",
   "metadata": {},
   "outputs": [
    {
     "data": {
      "text/plain": [
       "['l', 'd', 'w', 'k', 'n']"
      ]
     },
     "execution_count": 30,
     "metadata": {},
     "output_type": "execute_result"
    }
   ],
   "source": [
    "columns = [[row[i] for row in messages] for i in range(len(messages[0]))]\n",
    "columns[2][:5]"
   ]
  },
  {
   "cell_type": "code",
   "execution_count": 31,
   "id": "6fbc8855",
   "metadata": {},
   "outputs": [
    {
     "data": {
      "text/plain": [
       "'wkbvmikb'"
      ]
     },
     "execution_count": 31,
     "metadata": {},
     "output_type": "execute_result"
    }
   ],
   "source": [
    "part1 = ''.join([sorted([(col.count(char), char) for char in set(col)])[-1][1] for col in columns])\n",
    "part1"
   ]
  },
  {
   "cell_type": "code",
   "execution_count": 32,
   "id": "d2e61f6d",
   "metadata": {},
   "outputs": [
    {
     "data": {
      "text/plain": [
       "'evakwaga'"
      ]
     },
     "execution_count": 32,
     "metadata": {},
     "output_type": "execute_result"
    }
   ],
   "source": [
    "part2 = ''.join([sorted([(col.count(char), char) for char in set(col)])[0][1] for col in columns])\n",
    "part2"
   ]
  },
  {
   "cell_type": "markdown",
   "id": "d2068d91",
   "metadata": {},
   "source": [
    "<a class=\"anchor\" id=\"day7\"></a>\n",
    "\n",
    "## Day 7\n",
    "\n",
    "Need to determine if an IP supports TLS (transport layer snooping).\n",
    "\n",
    "Given an IP like:\n",
    "\n",
    "    abba[mnop]qrst\n",
    "    \n",
    "we determine that it does support TLS if (it DOES include a sequence like abba, two distinct chars then their reverse) and (id does NOT include such a sequence like abba inside any brackets).\n",
    "\n",
    "**Part 1**\n",
    "\n",
    "How many input IPs in the input support TLS?"
   ]
  },
  {
   "cell_type": "code",
   "execution_count": 33,
   "id": "bc01b565",
   "metadata": {},
   "outputs": [
    {
     "data": {
      "text/plain": [
       "True"
      ]
     },
     "execution_count": 33,
     "metadata": {},
     "output_type": "execute_result"
    }
   ],
   "source": [
    "def is_abba(s):\n",
    "    return (s[0] != s[1]) and (s[:2] == s[-1:1:-1])\n",
    "\n",
    "is_abba('xyyx')"
   ]
  },
  {
   "cell_type": "code",
   "execution_count": 34,
   "id": "6fc84327",
   "metadata": {},
   "outputs": [],
   "source": [
    "sample = 'welumvdtzozzqkc[xunvcqdbwitokoerg]euvhbecekwaszsmxu[xrffdzabspotehwg]uqzwhrvygasatdaphac[xexwfcsgfyvciqdu]kioaakhmp'"
   ]
  },
  {
   "cell_type": "code",
   "execution_count": 35,
   "id": "bcc6a0ef",
   "metadata": {},
   "outputs": [],
   "source": [
    "def check_tls(addr):\n",
    "    tls = False\n",
    "    outside = True\n",
    "    for i, char in enumerate(addr):\n",
    "        if char in '[]':\n",
    "            outside = not outside\n",
    "            continue\n",
    "        if tls and outside:\n",
    "            continue\n",
    "        if not tls and outside:\n",
    "            if i + 3 < len(addr) and '[' not in addr[i:i+4]: \n",
    "                if is_abba(addr[i:i+4]):\n",
    "                    tls = True\n",
    "                    #print(addr[i:i+4], 'good one')\n",
    "        if not outside:\n",
    "            if i + 3 < len(addr) and ']' not in addr[i:i+4]:\n",
    "                if is_abba(addr[i:i+4]):\n",
    "                    #print(addr[i:i+4], 'bad one')\n",
    "                    return False\n",
    "    return tls\n",
    "            "
   ]
  },
  {
   "cell_type": "code",
   "execution_count": 36,
   "id": "f9c581ad",
   "metadata": {},
   "outputs": [
    {
     "data": {
      "text/plain": [
       "True"
      ]
     },
     "execution_count": 36,
     "metadata": {},
     "output_type": "execute_result"
    }
   ],
   "source": [
    "check_tls('abba[mnop]qrst')"
   ]
  },
  {
   "cell_type": "code",
   "execution_count": 37,
   "id": "514a3157",
   "metadata": {},
   "outputs": [
    {
     "data": {
      "text/plain": [
       "False"
      ]
     },
     "execution_count": 37,
     "metadata": {},
     "output_type": "execute_result"
    }
   ],
   "source": [
    "check_tls('abcd[bddb]xyyx')"
   ]
  },
  {
   "cell_type": "code",
   "execution_count": 38,
   "id": "23764d9a",
   "metadata": {},
   "outputs": [],
   "source": [
    "with open('data2016/day7.txt') as f6:\n",
    "    addresses = [row.strip() for row in f6.readlines()]"
   ]
  },
  {
   "cell_type": "code",
   "execution_count": 39,
   "id": "151454c1",
   "metadata": {},
   "outputs": [
    {
     "data": {
      "text/plain": [
       "110"
      ]
     },
     "execution_count": 39,
     "metadata": {},
     "output_type": "execute_result"
    }
   ],
   "source": [
    "part1 = sum([check_tls(addr) for addr in addresses])\n",
    "part1"
   ]
  },
  {
   "cell_type": "markdown",
   "id": "4248e4fe",
   "metadata": {},
   "source": [
    "**Part 2**\n",
    "\n",
    "Now we want to check to see if the IP addresses support SSL (super secret listening).\n",
    "\n",
    "We want to identify any IP address that has an \"aba\" sequence outside of the brackets and a complimentary \"bab\" sequence inside a set of brackets.\n",
    "\n",
    "Find the number of IP addresses that support SSL."
   ]
  },
  {
   "cell_type": "code",
   "execution_count": 40,
   "id": "c0bdeb60",
   "metadata": {},
   "outputs": [],
   "source": [
    "def ssl_compliment(s1, s2):\n",
    "    return (s1[0] == s1[2] == s2[1]) and (s1[1] == s2[0] == s2[2]) and (s1[0] != s1[1])"
   ]
  },
  {
   "cell_type": "code",
   "execution_count": 41,
   "id": "c63307d2",
   "metadata": {},
   "outputs": [
    {
     "name": "stdout",
     "output_type": "stream",
     "text": [
      "welumvdtzozzqkc[xunvcqdbwitokoerg]euvhbecekwaszsmxu[xrffdzabspotehwg]uqzwhrvygasatdaphac[xexwfcsgfyvciqdu]kioaakhmp\n",
      "\n",
      "['wel', 'elu', 'lum', 'umv', 'mvd', 'vdt', 'dtz', 'tzo', 'zoz', 'ozz', 'zzq', 'zqk', 'qkc', 'euv', 'uvh', 'vhb', 'hbe', 'bec', 'ece', 'cek', 'ekw', 'kwa', 'was', 'asz', 'szs', 'zsm', 'smx', 'mxu', 'uqz', 'qzw', 'zwh', 'whr', 'hrv', 'rvy', 'vyg', 'yga', 'gas', 'asa', 'sat', 'atd', 'tda', 'dap', 'aph', 'pha', 'hac', 'kio', 'ioa', 'oaa', 'aak', 'akh', 'khm', 'hmp']\n",
      "\n",
      "['xun', 'unv', 'nvc', 'vcq', 'cqd', 'qdb', 'dbw', 'bwi', 'wit', 'ito', 'tok', 'oko', 'koe', 'oer', 'erg', 'xrf', 'rff', 'ffd', 'fdz', 'dza', 'zab', 'abs', 'bsp', 'spo', 'pot', 'ote', 'teh', 'ehw', 'hwg', 'xex', 'exw', 'xwf', 'wfc', 'fcs', 'csg', 'sgf', 'gfy', 'fyv', 'yvc', 'vci', 'ciq', 'iqd', 'qdu']\n"
     ]
    }
   ],
   "source": [
    "part2 = 0\n",
    "sample2 = 'abcd[bddb]xyyx'\n",
    "\n",
    "def get_in_out_trips(addr):\n",
    "    out_trips = []\n",
    "    in_trips = []\n",
    "    outside = True\n",
    "    for i, char in enumerate(addr[:-2]):\n",
    "        trip = addr[i:i+3]\n",
    "        if outside:\n",
    "            if '[' in trip:\n",
    "                if trip[0] == '[':\n",
    "                    outside = False\n",
    "                continue\n",
    "            else:\n",
    "                out_trips.append(trip)\n",
    "        elif not outside:\n",
    "            if ']' in trip:\n",
    "                if trip[0] == ']':\n",
    "                    outside = True\n",
    "                continue\n",
    "            else:\n",
    "                in_trips.append(trip)\n",
    "    return out_trips, in_trips\n",
    "\n",
    "outs, ins = get_in_out_trips(sample)\n",
    "\n",
    "print(sample)\n",
    "print()\n",
    "print(outs)\n",
    "print()\n",
    "print(ins)"
   ]
  },
  {
   "cell_type": "code",
   "execution_count": 42,
   "id": "ebe2f698",
   "metadata": {},
   "outputs": [
    {
     "data": {
      "text/plain": [
       "242"
      ]
     },
     "execution_count": 42,
     "metadata": {},
     "output_type": "execute_result"
    }
   ],
   "source": [
    "part2 = 0\n",
    "for addr in addresses:\n",
    "    outs, ins = get_in_out_trips(addr)\n",
    "    part2 += any([ssl_compliment(a1, a2) for a1 in outs for a2 in ins])\n",
    "part2"
   ]
  },
  {
   "cell_type": "markdown",
   "id": "b3821ae0",
   "metadata": {},
   "source": [
    "<a class=\"anchor\" id=\"day8\"></a>\n",
    "\n",
    "## Day 8\n",
    "\n",
    "Grid of pixels on a screen. Think of the screen as a torus.\n",
    "\n",
    "We've been given a set of instructions which use 3 different commands:\n",
    "\n",
    "    rect axb   -   turns on an axb rectangle of lights from the upper left (0, 0)\n",
    "    \n",
    "    rotate column x=a by c   -   vertically rotate the pixels in column x=a down by c units (bottom wrap to top)\n",
    "    \n",
    "    rotate row y=b by d    -   horizontally rotate the pixels in row y=b to the right by d units (right wraps to left)\n",
    "    \n",
    "**Part 1**  \n",
    "How many lights are on after following the instructions in our puzzle input?\n",
    "\n",
    "**Part 2**  \n",
    "Read the message in the display - what is it?"
   ]
  },
  {
   "cell_type": "code",
   "execution_count": 43,
   "id": "0402f0ed",
   "metadata": {},
   "outputs": [
    {
     "data": {
      "text/plain": [
       "['rect 1x1', 'rotate row y=0 by 2', 'rect 1x1', 'rotate row y=0 by 5']"
      ]
     },
     "execution_count": 43,
     "metadata": {},
     "output_type": "execute_result"
    }
   ],
   "source": [
    "with open('data2016/day8.txt') as f8:\n",
    "    instructions = [row.strip() for row in f8.readlines()]\n",
    "    \n",
    "instructions[:4]"
   ]
  },
  {
   "cell_type": "code",
   "execution_count": 44,
   "id": "d2edd744",
   "metadata": {},
   "outputs": [],
   "source": [
    "import numpy as np\n",
    "\n",
    "nrows, ncols = 6, 50\n",
    "grid = np.zeros(shape=(nrows, ncols))"
   ]
  },
  {
   "cell_type": "code",
   "execution_count": 45,
   "id": "2bc5064e",
   "metadata": {},
   "outputs": [],
   "source": [
    "def get_light_count(nrows, ncols, instructions):\n",
    "    grid = np.zeros(shape=(nrows, ncols))\n",
    "    for inst in instructions:\n",
    "        words = inst.split()\n",
    "        if words[0] == 'rect':\n",
    "            a, b = list(map(int, words[1].split('x')))\n",
    "            grid[:b, :a] = 1\n",
    "        elif words[2][0] == 'y':\n",
    "            row = int(words[2].split('=')[-1])\n",
    "            shift = int(words[-1])\n",
    "            grid[row, :] = np.concatenate([grid[row, -shift:], grid[row, :ncols-shift]]) \n",
    "        elif words[2][0] == 'x':\n",
    "            col = int(words[2].split('=')[-1])\n",
    "            shift = int(words[-1])\n",
    "            grid[:, col] = np.concatenate([grid[-shift:, col], grid[:nrows-shift, col]])\n",
    "    return sum(sum(grid)), grid"
   ]
  },
  {
   "cell_type": "code",
   "execution_count": 46,
   "id": "c5a92989",
   "metadata": {},
   "outputs": [
    {
     "data": {
      "text/plain": [
       "110.0"
      ]
     },
     "execution_count": 46,
     "metadata": {},
     "output_type": "execute_result"
    }
   ],
   "source": [
    "count, grid = get_light_count(6, 50, instructions)\n",
    "count"
   ]
  },
  {
   "cell_type": "code",
   "execution_count": 47,
   "id": "57ec0ae4",
   "metadata": {},
   "outputs": [
    {
     "data": {
      "image/png": "[encoded data removed]",
      "text/plain": [
       "<Figure size 432x288 with 1 Axes>"
      ]
     },
     "metadata": {
      "needs_background": "light"
     },
     "output_type": "display_data"
    }
   ],
   "source": [
    "import matplotlib.pyplot as plt\n",
    "plt.imshow(grid)\n",
    "plt.show()"
   ]
  },
  {
   "cell_type": "markdown",
   "id": "90f78bb5",
   "metadata": {},
   "source": [
    "<a class=\"anchor\" id=\"day9\"></a>\n",
    "\n",
    "## Day 9\n",
    "\n",
    "File Decompression\n",
    "\n",
    "Files have markers like (3x2)ABC that decompress the string to ABCABC because the tag (3x2) says to repeat the following 3 characters 2 times.\n",
    "\n",
    "Even if the repeated part is itself a compression tag, treat it like normal characters.\n",
    "\n",
    "Example:  **X(8x2)(3x3)ABCY** decompresses to **X(3x3)ABC(3x3)ABCY** with a length of 18.\n",
    "\n",
    "**Part 1**  \n",
    "What is the decompressed length of the input?"
   ]
  },
  {
   "cell_type": "code",
   "execution_count": 48,
   "id": "a5dfc39b",
   "metadata": {},
   "outputs": [],
   "source": [
    "def decompress(s):\n",
    "    ds = ''\n",
    "    i = 0\n",
    "    while i < len(s):\n",
    "        if s[i] != '(':\n",
    "            ds += s[i]\n",
    "            i += 1\n",
    "        else:\n",
    "            close_idx = s[i:].index(')') + i\n",
    "            a, b = map(int, s[i+1:close_idx].split('x'))\n",
    "            ds += s[close_idx+1:close_idx+1+a]*b\n",
    "            i = close_idx + a + 1\n",
    "    return ds"
   ]
  },
  {
   "cell_type": "code",
   "execution_count": 49,
   "id": "51b1d054",
   "metadata": {},
   "outputs": [
    {
     "data": {
      "text/plain": [
       "'X(3x3)ABC(3x3)ABCY'"
      ]
     },
     "execution_count": 49,
     "metadata": {},
     "output_type": "execute_result"
    }
   ],
   "source": [
    "sample = 'X(8x2)(3x3)ABCY'\n",
    "decompress(sample)"
   ]
  },
  {
   "cell_type": "code",
   "execution_count": 50,
   "id": "5e044218",
   "metadata": {},
   "outputs": [
    {
     "data": {
      "text/plain": [
       "'MPFRW'"
      ]
     },
     "execution_count": 50,
     "metadata": {},
     "output_type": "execute_result"
    }
   ],
   "source": [
    "with open('data2016/day9.txt') as f9:\n",
    "    string = f9.read().strip()\n",
    "\n",
    "string[-5:]"
   ]
  },
  {
   "cell_type": "code",
   "execution_count": 51,
   "id": "7bc170e5",
   "metadata": {},
   "outputs": [
    {
     "data": {
      "text/plain": [
       "70186"
      ]
     },
     "execution_count": 51,
     "metadata": {},
     "output_type": "execute_result"
    }
   ],
   "source": [
    "part1 = len(decompress(string))\n",
    "part1"
   ]
  },
  {
   "cell_type": "markdown",
   "id": "b1152426",
   "metadata": {},
   "source": [
    "**Part 2**  \n",
    "Now, we need to find the fully decompressed length, but its too big to fit in memory, so we need to just calculate it.  Consider the following examples:\n",
    "\n",
    "    (3x3)XYZ still becomes XYZXYZXYZ, as the decompressed section contains no markers.\n",
    "    \n",
    "    X(8x2)(3x3)ABCY becomes XABCABCABCABCABCABCY, because the decompressed data from the (8x2) marker is then further decompressed, thus triggering the (3x3) marker twice for a total of six ABC sequences.\n",
    "    \n",
    "    (27x12)(20x12)(13x14)(7x10)(1x12)A decompresses into a string of A repeated 241920 times.\n",
    "    \n",
    "        12*12*14*10*12 = 241920\n",
    "    \n",
    "    (25x3)(3x3)ABC(2x3)XY(5x2)PQRSTX(18x9)(3x2)TWO(5x7)SEVEN becomes 445 characters long.\n",
    "    \n",
    "        3*3*3 + 3*2*3 + 3*5*2 + 1 + 9*3*2 + 9*5*7 = 445"
   ]
  },
  {
   "cell_type": "code",
   "execution_count": 52,
   "id": "27a92610",
   "metadata": {},
   "outputs": [],
   "source": [
    "def score_chunk(substr, multiplier):\n",
    "    \n",
    "    # the way the substrings are getting passed into this function, \n",
    "    #  it will always be either an upcopied regular letter or the beggining\n",
    "    #  of a compression tag.\n",
    "    # the compression tag will then either be followed by another tag (recurse)\n",
    "    #  or not (score)\n",
    "    \n",
    "    # If we're just looking at letter that isn't getting copied:\n",
    "    if substr[0] != '(':\n",
    "        score = 1\n",
    "        index_change = 1\n",
    "    # if we're looking at a compression tag\n",
    "    elif substr[0] == '(':\n",
    "        close_idx = substr.index(')')\n",
    "        a, b = list(map(int, substr[1:close_idx].split('x')))\n",
    "        # if this is the final tag before the letters to be decompressed\n",
    "        if substr[close_idx+1] !=  '(':\n",
    "            score = multiplier * a * b\n",
    "        # or if there is another decomp tag immediately after\n",
    "        elif substr[close_idx+1] ==  '(':\n",
    "            score = score_chunk(substr[close_idx+1: close_idx+a+1], multiplier*b)\n",
    "        index_change = close_idx + b + 1\n",
    "        \n",
    "    # when we see that our substr starts with a decomp tag, we want to find\n",
    "    #  all regular char chunks and their preceding tags\n",
    "    \n",
    "    return score, index_change\n"
   ]
  },
  {
   "cell_type": "markdown",
   "id": "d7101d76",
   "metadata": {},
   "source": [
    "\n",
    "    [(25x3)[[(3x3)ABC][(2x3)XY][(5x2)PQRST]][X][(18x9)[(3x2)TWO][(5x7)SEVEN]]"
   ]
  },
  {
   "cell_type": "markdown",
   "id": "68019aae",
   "metadata": {},
   "source": [
    "<a class=\"anchor\" id=\"day10\"></a>\n",
    "\n",
    "## Day 10\n",
    "\n",
    "Instructions for robots moving microchips."
   ]
  },
  {
   "cell_type": "code",
   "execution_count": 53,
   "id": "8676d59f",
   "metadata": {},
   "outputs": [],
   "source": [
    "sample = '''value 5 goes to bot 2\n",
    "bot 2 gives low to bot 1 and high to bot 0\n",
    "value 3 goes to bot 1\n",
    "bot 1 gives low to output 1 and high to bot 0\n",
    "bot 0 gives low to output 2 and high to output 0\n",
    "value 2 goes to bot 2'''"
   ]
  },
  {
   "cell_type": "code",
   "execution_count": 54,
   "id": "1470e88a",
   "metadata": {},
   "outputs": [
    {
     "data": {
      "text/plain": [
       "['value 5 goes to bot 2',\n",
       " 'bot 2 gives low to bot 1 and high to bot 0',\n",
       " 'value 3 goes to bot 1',\n",
       " 'bot 1 gives low to output 1 and high to bot 0',\n",
       " 'bot 0 gives low to output 2 and high to output 0',\n",
       " 'value 2 goes to bot 2']"
      ]
     },
     "execution_count": 54,
     "metadata": {},
     "output_type": "execute_result"
    }
   ],
   "source": [
    "sinsts = sample.split('\\n')\n",
    "sinsts"
   ]
  },
  {
   "cell_type": "code",
   "execution_count": 55,
   "id": "2e8a02c6",
   "metadata": {},
   "outputs": [
    {
     "data": {
      "text/plain": [
       "['bot 103 gives low to bot 166 and high to bot 127',\n",
       " 'bot 108 gives low to bot 25 and high to bot 100',\n",
       " 'bot 207 gives low to bot 171 and high to bot 80',\n",
       " 'bot 4 gives low to bot 209 and high to bot 28',\n",
       " 'bot 23 gives low to bot 183 and high to bot 140']"
      ]
     },
     "execution_count": 55,
     "metadata": {},
     "output_type": "execute_result"
    }
   ],
   "source": [
    "with open('data2016/day10.txt') as f10:\n",
    "    insts = [line.strip() for line in f10.readlines()]\n",
    "insts[-5:]"
   ]
  },
  {
   "cell_type": "code",
   "execution_count": 56,
   "id": "6280d6dd",
   "metadata": {},
   "outputs": [
    {
     "name": "stdout",
     "output_type": "stream",
     "text": [
      "bot 116 compared (17, 61)\n"
     ]
    }
   ],
   "source": [
    "#reminsts = sinsts[:]\n",
    "reminsts = insts[:]\n",
    "bots = dict()\n",
    "outputs = dict()\n",
    "idx_remove = []\n",
    "comparison_target = (17, 61)\n",
    "\n",
    "while len(reminsts) > 0:\n",
    "    for i, inst in enumerate(reminsts):\n",
    "        \n",
    "        words = inst.split()\n",
    "        \n",
    "        # assigning a value, pretty simple\n",
    "        if words[0] == 'value':\n",
    "            value = int(words[1])\n",
    "            bot_num = int(words[-1])\n",
    "            if bot_num not in bots:\n",
    "                bots[bot_num] = [value]\n",
    "            else:\n",
    "                if len(bots[bot_num]) < 2:\n",
    "                    bots[bot_num].append(value)\n",
    "            idx_remove.append(i)\n",
    "        \n",
    "        # giving two chips to two places (bot or output)\n",
    "        elif words[2] == 'gives':\n",
    "\n",
    "            # get variables to use, make sure its valid (has two chips)\n",
    "            bot_num = int(words[1])\n",
    "            if (bot_num not in bots) or (len(bots[bot_num]) < 2):\n",
    "                continue\n",
    "            low = words[5:7]\n",
    "            high = words[-2:]\n",
    "            botlow, bothigh = sorted(bots[bot_num])\n",
    "            \n",
    "            # part 1 - want to know what bot makes a certain comparison\n",
    "            if (botlow, bothigh) == comparison_target:\n",
    "                print (f'bot {bot_num} compared {comparison_target}')\n",
    "\n",
    "            # if we give the low value to a bot\n",
    "            if low[0] == 'bot':\n",
    "                bot_receiver = int(low[1])\n",
    "                if bot_receiver not in bots:\n",
    "                    bots[bot_receiver] = [botlow]\n",
    "                else:\n",
    "                    if len(bots[bot_receiver]) < 2:\n",
    "                        bots[bot_receiver].append(botlow)\n",
    "                        \n",
    "            # if we give the low value to an output\n",
    "            else:\n",
    "                output_receiver = int(low[1])\n",
    "                if output_receiver not in outputs:\n",
    "                    outputs[output_receiver] = [botlow]\n",
    "                else:\n",
    "                    outputs[bot_receiver].append(botlow)\n",
    "\n",
    "            # if we give the high value to a bot\n",
    "            if high[0] == 'bot':\n",
    "                bot_receiver = int(high[1])\n",
    "                if bot_receiver not in bots:\n",
    "                    bots[bot_receiver] = [bothigh]\n",
    "                else:\n",
    "                    if len(bots[bot_receiver]) < 2:\n",
    "                        bots[bot_receiver].append(bothigh)\n",
    "            \n",
    "            # if we give the high value to an output\n",
    "            else:\n",
    "                output_receiver = int(high[1])\n",
    "                if output_receiver not in outputs:\n",
    "                    outputs[output_receiver] = [bothigh]\n",
    "                else:\n",
    "                    outputs[bot_receiver].append(bothigh)\n",
    "            idx_remove.append(i)\n",
    "    \n",
    "    # after each pass through the instructions remaining, only keep the ones we didnt already do\n",
    "    reminsts = [reminsts[i] for i in range(len(reminsts)) if i not in idx_remove]\n",
    "    idx_remove = []\n",
    "\n",
    "\n",
    "# print('bots')\n",
    "# print(bots)\n",
    "# print()\n",
    "# print('outputs')\n",
    "# print(outputs)         "
   ]
  },
  {
   "cell_type": "markdown",
   "id": "cebbcf18",
   "metadata": {},
   "source": [
    "**Part 2**  \n",
    "What is the product of the values at outputs 0, 1, and 2?"
   ]
  },
  {
   "cell_type": "code",
   "execution_count": 57,
   "id": "a52de969",
   "metadata": {},
   "outputs": [
    {
     "data": {
      "text/plain": [
       "23903"
      ]
     },
     "execution_count": 57,
     "metadata": {},
     "output_type": "execute_result"
    }
   ],
   "source": [
    "outputs[0][0] * outputs[1][0] * outputs[2][0]"
   ]
  },
  {
   "cell_type": "markdown",
   "id": "2d0155b1",
   "metadata": {},
   "source": [
    "<a class=\"anchor\" id=\"day11\"></a>\n",
    "\n",
    "## Day 11\n",
    "\n",
    "Moving things on an elevator."
   ]
  },
  {
   "cell_type": "code",
   "execution_count": null,
   "id": "61fc2fdf",
   "metadata": {},
   "outputs": [],
   "source": []
  },
  {
   "cell_type": "code",
   "execution_count": null,
   "id": "914bf1dd",
   "metadata": {},
   "outputs": [],
   "source": []
  },
  {
   "cell_type": "code",
   "execution_count": null,
   "id": "ef0fc0aa",
   "metadata": {},
   "outputs": [],
   "source": []
  },
  {
   "cell_type": "markdown",
   "id": "26fdc80f",
   "metadata": {},
   "source": [
    "\n",
    "<a class=\"anchor\" id=\"day12\"></a>\n",
    "\n",
    "## Day 12\n",
    "\n",
    "Assembunny code.  The available instructions are:\n",
    "\n",
    "    cpy x y   - copies x into register y; x may be an integer or a reference to another register\n",
    "    inc x     - increases the value at register x by 1\n",
    "    dec x     - decreases the value at register x by 1\n",
    "    jnz x y   - jumps to an instruction y steps away as long as x is not zero\n",
    "    \n",
    "**Part 1**  \n",
    "After executing the code in the puzzle input, what is the value in register \"a\"?"
   ]
  },
  {
   "cell_type": "code",
   "execution_count": 58,
   "id": "e9669de8",
   "metadata": {},
   "outputs": [
    {
     "data": {
      "text/plain": [
       "['cpy 1 a',\n",
       " 'cpy 1 b',\n",
       " 'cpy 26 d',\n",
       " 'jnz c 2',\n",
       " 'jnz 1 5',\n",
       " 'cpy 7 c',\n",
       " 'inc d',\n",
       " 'dec c',\n",
       " 'jnz c -2',\n",
       " 'cpy a c',\n",
       " 'inc a',\n",
       " 'dec b',\n",
       " 'jnz b -2',\n",
       " 'cpy c b',\n",
       " 'dec d',\n",
       " 'jnz d -6',\n",
       " 'cpy 14 c',\n",
       " 'cpy 14 d',\n",
       " 'inc a',\n",
       " 'dec d',\n",
       " 'jnz d -2',\n",
       " 'dec c',\n",
       " 'jnz c -5']"
      ]
     },
     "execution_count": 58,
     "metadata": {},
     "output_type": "execute_result"
    }
   ],
   "source": [
    "with open('data2016/day12.txt') as f12:\n",
    "    insts = [line.strip() for line in f12.readlines()]\n",
    "    \n",
    "insts"
   ]
  },
  {
   "cell_type": "code",
   "execution_count": 59,
   "id": "b3a02037",
   "metadata": {},
   "outputs": [
    {
     "data": {
      "text/plain": [
       "{'a': 9227661, 'b': 5702887, 'c': 0, 'd': 0}"
      ]
     },
     "execution_count": 59,
     "metadata": {},
     "output_type": "execute_result"
    }
   ],
   "source": [
    "# Part 1 - get register a with all starting at 0\n",
    "# Part 2 - get register a with c instead starting at 1\n",
    "\n",
    "regs = {'a': 0, 'b': 0, 'c': 1, 'd': 0}\n",
    "numbers = '1234567890'\n",
    "\n",
    "i = 0\n",
    "while i < len(insts):\n",
    "    \n",
    "    inst = insts[i]\n",
    "    parts = inst.split()\n",
    "\n",
    "    if parts[0] == 'cpy':\n",
    "        x, y = parts[1:]\n",
    "        regs[y] = int(x) if x[0] in numbers else regs[x]\n",
    "        i += 1\n",
    "    \n",
    "    elif parts[0] == 'inc':\n",
    "        regs[parts[1]] += 1\n",
    "        i += 1\n",
    "        \n",
    "    elif parts[0] == 'dec':\n",
    "        regs[parts[1]] -= 1\n",
    "        i += 1\n",
    "        \n",
    "    elif parts[0] == 'jnz':\n",
    "        x, y = parts[1:]\n",
    "        if x[0] in numbers:\n",
    "            i += int(y) if int(x) != 0 else 1\n",
    "        else:\n",
    "            i += int(y) if regs[x] != 0 else 1\n",
    "    \n",
    "regs"
   ]
  },
  {
   "cell_type": "markdown",
   "id": "89365121",
   "metadata": {},
   "source": [
    "<a class=\"anchor\" id=\"day13\"></a>\n",
    "\n",
    "## Day 13\n",
    "\n",
    "Building and solving a maze.\n",
    "\n",
    "A maze starts at (0, 0) and extends infinitely in the positive x and y directions.\n",
    "\n",
    "Every tile in the maze is either a wall or an open space; no diagonal movement.\n",
    "\n",
    "To determine if an (x, y) location is a wall or open space:\n",
    "\n",
    "    1) Find x*x + 3*x + 2*x*y + y + y*y.\n",
    "    2) Add the office designer's favorite number (your puzzle input).\n",
    "    3) Find the binary representation of that sum; count the number of bits that are 1.\n",
    "    4) If the number of bits that are 1 is even, it's an open space.\n",
    "       If the number of bits that are 1 is odd, it's a wall."
   ]
  },
  {
   "cell_type": "code",
   "execution_count": 60,
   "id": "c6ce1f29",
   "metadata": {},
   "outputs": [],
   "source": [
    "import numpy as np\n",
    "\n",
    "def get_grid(fav_num, nrows, ncols):\n",
    "    \n",
    "    grid = np.zeros((nrows, ncols))\n",
    "    \n",
    "    for x in range(ncols):\n",
    "        for y in range(nrows):\n",
    "            funcval = x*x + 3*x + 2*x*y + y + y*y\n",
    "            funcval += fav_num\n",
    "            bin_rep = bin(funcval)[2:]\n",
    "            count1s = bin_rep.count('1')\n",
    "            grid[y, x] = -1 if count1s%2 else 0\n",
    "    \n",
    "    grid[1, 1] = -2\n",
    "            \n",
    "    return grid\n",
    "    "
   ]
  },
  {
   "cell_type": "code",
   "execution_count": 61,
   "id": "4b9942d9",
   "metadata": {},
   "outputs": [
    {
     "data": {
      "text/plain": [
       "array([[ 0., -1.,  0., -1., -1., -1., -1.,  0., -1., -1.],\n",
       "       [ 0., -2., -1.,  0.,  0., -1.,  0.,  0.,  0., -1.],\n",
       "       [-1.,  0.,  0.,  0.,  0., -1., -1.,  0.,  0.,  0.],\n",
       "       [-1., -1., -1.,  0., -1.,  0., -1., -1., -1.,  0.],\n",
       "       [ 0., -1., -1.,  0.,  0., -1.,  0.,  0., -1.,  0.],\n",
       "       [ 0.,  0., -1., -1.,  0.,  0.,  0.,  0., -1.,  0.],\n",
       "       [-1.,  0.,  0.,  0., -1., -1.,  0., -1., -1., -1.]])"
      ]
     },
     "execution_count": 61,
     "metadata": {},
     "output_type": "execute_result"
    }
   ],
   "source": [
    "get_grid(10, 7, 10)"
   ]
  },
  {
   "cell_type": "code",
   "execution_count": 62,
   "id": "7c2e2c0e",
   "metadata": {},
   "outputs": [],
   "source": [
    "def get_dist_to_goal(grid, goalx, goaly):\n",
    "    \n",
    "    def get_surrounding(x1, y1):\n",
    "        neighbors = []\n",
    "        if x1 > 0: neighbors.append((x1-1, y1))\n",
    "        if x1 < len(grid[0]): neighbors.append((x1+1, y1))\n",
    "        if y1 > 0: neighbors.append((x1, y1-1))\n",
    "        if y1 < len(grid): neighbors.append((x1, y1+1))\n",
    "        return neighbors\n",
    "        \n",
    "    dist = 1\n",
    "    fringe = [(1, 1)]\n",
    "    \n",
    "    while grid[goaly, goalx] == 0:\n",
    "        \n",
    "        # get every node that is adjacent to old fringe\n",
    "        new_fringe = []\n",
    "        for fx, fy in fringe:\n",
    "            new_fringe = new_fringe + get_surrounding(fx, fy)\n",
    "        # keep uniques\n",
    "        new_fringe = list(set(new_fringe))\n",
    "        # keep only open spaces\n",
    "        new_fringe = [(fx, fy) for (fx, fy) in new_fringe if grid[fy, fx] == 0]\n",
    "        \n",
    "        # redefine current fringe to be new_fringe, put dists in grid, update dist\n",
    "        fringe = new_fringe\n",
    "        for newx, newy in fringe:\n",
    "            grid[newy, newx] = dist\n",
    "        dist += 1\n",
    "        \n",
    "        #print(grid)\n",
    "    \n",
    "    return grid[goaly, goalx], grid"
   ]
  },
  {
   "cell_type": "code",
   "execution_count": 63,
   "id": "615aa112",
   "metadata": {},
   "outputs": [
    {
     "data": {
      "text/plain": [
       "11.0"
      ]
     },
     "execution_count": 63,
     "metadata": {},
     "output_type": "execute_result"
    }
   ],
   "source": [
    "grid = get_grid(10, 10, 15)\n",
    "sample, grid = get_dist_to_goal(grid, 7, 4)\n",
    "sample"
   ]
  },
  {
   "cell_type": "code",
   "execution_count": 64,
   "id": "dea31c19",
   "metadata": {},
   "outputs": [
    {
     "data": {
      "text/plain": [
       "96.0"
      ]
     },
     "execution_count": 64,
     "metadata": {},
     "output_type": "execute_result"
    }
   ],
   "source": [
    "grid = get_grid(1358, 100, 100)\n",
    "part1, grid = get_dist_to_goal(grid, 31, 39)\n",
    "part1"
   ]
  },
  {
   "cell_type": "markdown",
   "id": "a0fc4dd7",
   "metadata": {},
   "source": [
    "**Part 2**  \n",
    "How many unique locations are within 50 steps of the start (including the start?)\n",
    "\n",
    "Note that we made our grid so that unseen locations are marked as 0, walls as -1, starting location as -2 (because it should be 0, but we didn't want it to get re-identified as a fringe location after step 1).  So, we need to find all (x, y) locations in our final grid with a value between 1 and 50, plus an extra one for the starting location that we need to manually identify."
   ]
  },
  {
   "cell_type": "code",
   "execution_count": 65,
   "id": "8d3fe93a",
   "metadata": {},
   "outputs": [
    {
     "data": {
      "text/plain": [
       "141"
      ]
     },
     "execution_count": 65,
     "metadata": {},
     "output_type": "execute_result"
    }
   ],
   "source": [
    "len(np.where((1 <= grid) & (grid <= 50))[0]) + 1"
   ]
  },
  {
   "cell_type": "markdown",
   "id": "4bafae13",
   "metadata": {},
   "source": [
    "<a class=\"anchor\" id=\"day14\"></a>\n",
    "\n",
    "## Day 14\n",
    "\n",
    "More MD5 hashes.\n",
    "\n",
    "We want to generate new passwords by taking the salt (our puzzle input) and an increasing integer value appended to the end and finding its MD5 hash. The password counts as a key if the hash contains any triple (like '777' or 'eee'), AND of the next 1000 hashed passwords, one of them contains the same character from the triple, but 5 times (like '77777' or 'eeeee').\n",
    "\n",
    "**Part 1**  \n",
    "What number password is the 64th key?"
   ]
  },
  {
   "cell_type": "code",
   "execution_count": 66,
   "id": "7f81c20c",
   "metadata": {},
   "outputs": [],
   "source": [
    "import hashlib\n",
    "\n",
    "def get_hash(salt, n, stretch=0):\n",
    "    to_hash = salt + str(n)\n",
    "    hashed = hashlib.md5(to_hash.encode('utf-8')).hexdigest()\n",
    "    for i in range(stretch):\n",
    "        hashed = hashlib.md5(hashed.encode('utf-8')).hexdigest()\n",
    "    return hashed\n",
    "    \n",
    "def has_triple(hash_dict, n):\n",
    "    h = hash_dict[n]\n",
    "    for i, char in enumerate(h[:-2]):\n",
    "        if h[i] == h[i+1] == h[i+2]:\n",
    "            return char\n",
    "    return False\n",
    "\n",
    "def has_penta(hash_dict, n, triple_char):\n",
    "    h = hash_dict[n]\n",
    "    for i, char in enumerate(h[:-4]):\n",
    "        if triple_char == h[i] == h[i+1] == h[i+2] == h[i+3] == h[i+4]:\n",
    "            return True\n",
    "    return False\n",
    "    "
   ]
  },
  {
   "cell_type": "code",
   "execution_count": 67,
   "id": "d37d2119",
   "metadata": {},
   "outputs": [
    {
     "name": "stdout",
     "output_type": "stream",
     "text": [
      "Key #64:    \tn = 20092\n",
      "Hash n:   \t0192059360a06c82e5444db43320d17a\n",
      "Hash n+812:\t64c6044444d7a72d8c37d8bb2d4a90fc\n"
     ]
    }
   ],
   "source": [
    "# Part 1 - set \"stretch\" =0, get index of 64th key\n",
    "# Part 2 - set \"stretch\" =2016, get index of 64th key\n",
    "\n",
    "hash_dict = dict()\n",
    "n = 1\n",
    "salt = 'ngcjuoqr'\n",
    "stretch = 2016\n",
    "\n",
    "for i in range(1, 1002):\n",
    "    hash_dict[i] = get_hash(salt, i, stretch=stretch)\n",
    "    \n",
    "keys_seen = 0\n",
    "while keys_seen < 64:\n",
    "    trip = has_triple(hash_dict, n)\n",
    "    if trip:\n",
    "        for i in range(1, 1001):\n",
    "            if has_penta(hash_dict, n+i, trip):\n",
    "                if keys_seen+1 == 64:\n",
    "                    print(f'Key #{keys_seen+1}:    \\tn = {n}')\n",
    "                    print(f'Hash n:   \\t{hash_dict[n]}')\n",
    "                    print(f'Hash n+{i}:\\t{hash_dict[n+i]}')\n",
    "                keys_seen += 1\n",
    "                break\n",
    "    n += 1\n",
    "    hash_dict[n+1000] = get_hash(salt, n+1000, stretch=stretch)\n"
   ]
  },
  {
   "cell_type": "markdown",
   "id": "86a39470",
   "metadata": {},
   "source": [
    "<a class=\"anchor\" id=\"day15\"></a>\n",
    "\n",
    "## Day 15\n",
    "\n",
    "Kinetic Sculpture.\n",
    "\n",
    "There is a tower of discs of various sized that all have one hole.  Each disc has a fixed number of positions it can be stopped at, and rotates through one position every unit of time.  We want to drop a ball so that it falls all the way through.  After pressing the button to drop the ball, it takes 1 unit of time to reach the first disc, then another unit of time to reach each subsequent disc.\n",
    "\n",
    "**Part 1**  \n",
    "Find the first time that we can press the button to get a ball to fall all the way through.\n",
    "\n",
    "**Part 2**  \n",
    "With a 7th disc added on bottom with 11 positions and starting at 0 at time 0, find new first time to get a ball to fall through.\n",
    "\n",
    "*Code note* - I manually changed the positions to be the positions that the ball will experience - the first disc gets 1 added to starting pos, second gets 2, etc. (then we take modulus for the ones that wrapped around). So, compare the values in \"pos\" to those in the puzzle input."
   ]
  },
  {
   "cell_type": "code",
   "execution_count": 68,
   "id": "5aab140f",
   "metadata": {},
   "outputs": [
    {
     "data": {
      "text/plain": [
       "['Disc #1 has 7 positions; at time=0, it is at position 0.',\n",
       " 'Disc #2 has 13 positions; at time=0, it is at position 0.',\n",
       " 'Disc #3 has 3 positions; at time=0, it is at position 2.',\n",
       " 'Disc #4 has 5 positions; at time=0, it is at position 2.',\n",
       " 'Disc #5 has 17 positions; at time=0, it is at position 0.',\n",
       " 'Disc #6 has 19 positions; at time=0, it is at position 7.']"
      ]
     },
     "execution_count": 68,
     "metadata": {},
     "output_type": "execute_result"
    }
   ],
   "source": [
    "with open('data2016/day15.txt') as f15:\n",
    "    discs = [row.strip() for row in f15.readlines()]\n",
    "discs"
   ]
  },
  {
   "cell_type": "code",
   "execution_count": 69,
   "id": "7e701574",
   "metadata": {},
   "outputs": [],
   "source": [
    "# Sample values - use these values instead of the one given with Part 1\n",
    "\n",
    "# size = np.array([5, 2])\n",
    "# pos = np.array([5, 3]) % size"
   ]
  },
  {
   "cell_type": "code",
   "execution_count": 70,
   "id": "dc2f0101",
   "metadata": {},
   "outputs": [
    {
     "data": {
      "text/plain": [
       "121834"
      ]
     },
     "execution_count": 70,
     "metadata": {},
     "output_type": "execute_result"
    }
   ],
   "source": [
    "# Part 1\n",
    "\n",
    "size = np.array([7, 13, 3, 5, 17, 19])\n",
    "pos = np.array([1, 2, 5, 6, 5, 13]) % size\n",
    "\n",
    "t = 1\n",
    "while True:\n",
    "    t += 1\n",
    "    pos = (pos+1) % size\n",
    "    if pos.sum() == 0:\n",
    "        break\n",
    "t-1"
   ]
  },
  {
   "cell_type": "code",
   "execution_count": 71,
   "id": "57c18f02",
   "metadata": {},
   "outputs": [
    {
     "data": {
      "text/plain": [
       "3208099"
      ]
     },
     "execution_count": 71,
     "metadata": {},
     "output_type": "execute_result"
    }
   ],
   "source": [
    "# Part 2 - add one more disc\n",
    "\n",
    "size = np.array([7, 13, 3, 5, 17, 19, 11])\n",
    "pos = np.array([1, 2, 5, 6, 5, 13, 7]) % size\n",
    "\n",
    "t = 1\n",
    "while True:\n",
    "    t += 1\n",
    "    pos = (pos+1) % size\n",
    "    if pos.sum() == 0:\n",
    "        break\n",
    "t-1"
   ]
  },
  {
   "cell_type": "markdown",
   "id": "ef8916ea",
   "metadata": {},
   "source": [
    "<a class=\"anchor\" id=\"day16\"></a>\n",
    "\n",
    "## Day 16\n",
    "\n",
    "Generating random data to fill a specific amount of memory on disc with a specific checksum.\n",
    "\n",
    "To fill the disk, we'll begin with an initial input (out puzzle input), and repeatedly apply iterations (related to the dragon curve) by following this process:\n",
    "\n",
    "    Call the data you have at this point \"a\".\n",
    "    Make a copy of \"a\"; call this copy \"b\".\n",
    "    Reverse the order of the characters in \"b\".\n",
    "    In \"b\", replace all instances of 0 with 1 and all 1s with 0.\n",
    "    The resulting data is \"a\", then a single 0, then \"b\".\n",
    "    \n",
    "Repeat this process until the length of the data is at least as long as desired, then truncate off the end the extra terms to arrive at exactly the desired length.\n",
    "\n",
    "Then, we'll compute a checksum for the data we've created.  To find the checksum, consider non-overlapping pairs (ab)(cd)(ef)... of the data; if the pair matches (00 or 11), the next digit of the checksum is 1, if they differ (01 or 10), next digit is zero.  Repeat this checksum process on the checksum until the checksum has an odd number of digits.\n",
    "\n",
    "**Part 1**\n",
    "\n",
    "Determine the checksum of the data with length 272 using the puzzle input as the initial data.\n",
    "\n",
    "**Part 2**\n",
    "Same, but with length of 35651584."
   ]
  },
  {
   "cell_type": "code",
   "execution_count": 72,
   "id": "112151e3",
   "metadata": {},
   "outputs": [],
   "source": [
    "def get_data(data_input, length):\n",
    "    a = str(data_input)\n",
    "    while len(a) < length:\n",
    "        b = a[::-1]\n",
    "        b = ''.join(['0' if b[i] == '1' else '1' for i in range(len(b))])\n",
    "        a = a + '0' + b\n",
    "    return a[:length]\n",
    "        "
   ]
  },
  {
   "cell_type": "code",
   "execution_count": 73,
   "id": "72b00b7d",
   "metadata": {},
   "outputs": [
    {
     "data": {
      "text/plain": [
       "'10000011110010000111'"
      ]
     },
     "execution_count": 73,
     "metadata": {},
     "output_type": "execute_result"
    }
   ],
   "source": [
    "get_data(10000, 20)"
   ]
  },
  {
   "cell_type": "code",
   "execution_count": 74,
   "id": "49b5f02b",
   "metadata": {},
   "outputs": [],
   "source": [
    "def get_checksum(data):\n",
    "    checksum = ''\n",
    "    while len(data) % 2 == 0:\n",
    "        checksum = ''\n",
    "        for i in range(0, len(data), 2):\n",
    "            checksum += '1' if data[i] == data[i+1] else '0'\n",
    "        data = checksum\n",
    "    return checksum\n",
    "                "
   ]
  },
  {
   "cell_type": "code",
   "execution_count": 75,
   "id": "d4d4a22e",
   "metadata": {},
   "outputs": [
    {
     "data": {
      "text/plain": [
       "'01100'"
      ]
     },
     "execution_count": 75,
     "metadata": {},
     "output_type": "execute_result"
    }
   ],
   "source": [
    "get_checksum(get_data(10000, 20))"
   ]
  },
  {
   "cell_type": "code",
   "execution_count": 76,
   "id": "d34425b9",
   "metadata": {},
   "outputs": [
    {
     "data": {
      "text/plain": [
       "'01110011101111011'"
      ]
     },
     "execution_count": 76,
     "metadata": {},
     "output_type": "execute_result"
    }
   ],
   "source": [
    "# Part 1\n",
    "input_data = '11110010111001001'\n",
    "length = 272\n",
    "data = get_data(input_data, length)\n",
    "checksum = get_checksum(data)\n",
    "checksum"
   ]
  },
  {
   "cell_type": "code",
   "execution_count": 77,
   "id": "7fc7082b",
   "metadata": {},
   "outputs": [
    {
     "data": {
      "text/plain": [
       "'11001111011000111'"
      ]
     },
     "execution_count": 77,
     "metadata": {},
     "output_type": "execute_result"
    }
   ],
   "source": [
    "# Part 2\n",
    "input_data = '11110010111001001'\n",
    "length = 35651584\n",
    "data = get_data(input_data, length)\n",
    "checksum = get_checksum(data)\n",
    "checksum"
   ]
  },
  {
   "cell_type": "markdown",
   "id": "883cdf55",
   "metadata": {},
   "source": [
    "<a class=\"anchor\" id=\"day17\"></a>\n",
    "\n",
    "## Day 17\n",
    "\n",
    "Even more MD5 hashes.\n",
    "\n",
    "We're trying to travel from one corner of a 4x4 grid of rooms to another (from (0, 0) to (3, 3)).  The grid of rooms is surrounded by solid walls with doors between every adjacent rooms (all four directions aside from edge walls).\n",
    "\n",
    "To determine if a given door is locked/unlocked, take the MD5 hash of the puzzle input + the route taken so far using the characters UDLR. Then, look only at the first 4 characters as doors up down left right: any chars in 'bcdef' indicate the door is open, otherwise it is locked.\n",
    "\n",
    "**Part 1**  \n",
    "Determine the shortest path from (0, 0) to (3, 3)."
   ]
  },
  {
   "cell_type": "code",
   "execution_count": 78,
   "id": "42a620ed",
   "metadata": {},
   "outputs": [],
   "source": [
    "import hashlib\n",
    "\n",
    "sample = 'ihgpwlah'\n",
    "passcode = 'edjrjqaa'  # actual input"
   ]
  },
  {
   "cell_type": "code",
   "execution_count": 79,
   "id": "d92a7de2",
   "metadata": {},
   "outputs": [
    {
     "data": {
      "text/plain": [
       "[('DUDRDLRRRD', (3, 3))]"
      ]
     },
     "execution_count": 79,
     "metadata": {},
     "output_type": "execute_result"
    }
   ],
   "source": [
    "door_order = {0: 'U', 1: 'D', 2: 'L', 3: 'R'}\n",
    "paths = [('', (0, 0))]\n",
    "\n",
    "while all([p[1] != (3, 3) for p in paths]):\n",
    "    new_paths = []\n",
    "    for path in paths:\n",
    "        \n",
    "        itin, loc = path\n",
    "        to_hash = passcode + itin\n",
    "        h = hashlib.md5(to_hash.encode('utf-8')).hexdigest()\n",
    "        \n",
    "        doors_open = [door_order[i] for i in range(4) if h[i] in 'bcdef']\n",
    "\n",
    "        if 'U' in doors_open and loc[1] > 0:\n",
    "            new_paths.append((itin + 'U', (loc[0], loc[1]-1)))\n",
    "        if 'D' in doors_open and loc[1] < 3:\n",
    "            new_paths.append((itin + 'D', (loc[0], loc[1]+1)))\n",
    "        if 'L' in doors_open and loc[0] > 0:\n",
    "            new_paths.append((itin + 'L', (loc[0]-1, loc[1])))\n",
    "        if 'R' in doors_open and loc[0] < 3:\n",
    "            new_paths.append((itin + 'R', (loc[0]+1, loc[1])))\n",
    "            \n",
    "    paths = new_paths\n",
    "    \n",
    "[p for p in paths if p[1] == (3, 3)]\n",
    "        \n",
    "        "
   ]
  },
  {
   "cell_type": "markdown",
   "id": "7b87f230",
   "metadata": {},
   "source": [
    "**Part 2**\n",
    "\n",
    "Now we want to know the length of the longest path that still gets to (3, 3). Each path that gets there terminates there and doesn't keep going."
   ]
  },
  {
   "cell_type": "code",
   "execution_count": 80,
   "id": "62d708cc",
   "metadata": {},
   "outputs": [],
   "source": [
    "door_order = {0: 'U', 1: 'D', 2: 'L', 3: 'R'}\n",
    "paths = [('', (0, 0))]\n",
    "success_paths = []\n",
    "\n",
    "while len(paths) > 0:\n",
    "    \n",
    "    # find all new path tuples\n",
    "    new_paths = []\n",
    "    for path in paths:\n",
    "        \n",
    "        itin, loc = path\n",
    "        to_hash = passcode + itin\n",
    "        h = hashlib.md5(to_hash.encode('utf-8')).hexdigest()\n",
    "        \n",
    "        doors_open = [door_order[i] for i in range(4) if h[i] in 'bcdef']\n",
    "\n",
    "        if 'U' in doors_open and loc[1] > 0:\n",
    "            new_paths.append((itin + 'U', (loc[0], loc[1]-1)))\n",
    "        if 'D' in doors_open and loc[1] < 3:\n",
    "            new_paths.append((itin + 'D', (loc[0], loc[1]+1)))\n",
    "        if 'L' in doors_open and loc[0] > 0:\n",
    "            new_paths.append((itin + 'L', (loc[0]-1, loc[1])))\n",
    "        if 'R' in doors_open and loc[0] < 3:\n",
    "            new_paths.append((itin + 'R', (loc[0]+1, loc[1])))\n",
    "    \n",
    "    # if a path made it to (3, 3), remove from active, add to success\n",
    "    for path in new_paths:\n",
    "        if path[1] == (3, 3):\n",
    "            success_paths.append(path)\n",
    "            new_paths.remove(path)\n",
    "    \n",
    "    paths = new_paths\n"
   ]
  },
  {
   "cell_type": "code",
   "execution_count": 81,
   "id": "622c75ec",
   "metadata": {},
   "outputs": [
    {
     "data": {
      "text/plain": [
       "1413"
      ]
     },
     "execution_count": 81,
     "metadata": {},
     "output_type": "execute_result"
    }
   ],
   "source": [
    "len(success_paths)"
   ]
  },
  {
   "cell_type": "code",
   "execution_count": 82,
   "id": "01ad060b",
   "metadata": {},
   "outputs": [
    {
     "data": {
      "text/plain": [
       "502"
      ]
     },
     "execution_count": 82,
     "metadata": {},
     "output_type": "execute_result"
    }
   ],
   "source": [
    "# Part 2 - longest path will be last, want length of first piece of info, the itinerary\n",
    "len(success_paths[-1][0])"
   ]
  },
  {
   "cell_type": "markdown",
   "id": "fadd0145",
   "metadata": {},
   "source": [
    "<a class=\"anchor\" id=\"day18\"></a>\n",
    "\n",
    "## Day 18\n",
    "\n",
    "Traversing a minefield.\n",
    "\n",
    "Sort of a Conway's game of life thing - Given the first row of the the minefield (safe or mine), we can determine the next row.\n",
    "\n",
    "Suppose the top row (letters) is known and we want to know the second row (numbers):\n",
    "\n",
    "    ABCDE\n",
    "    12345\n",
    "    \n",
    "Here, 2 will be determined to be safe or not based on A, B, C.  Edge tiles, like 5, will be determined by D, E, and an imaginary 5th tile that is safe.\n",
    "\n",
    "Using this setup, we determine safe/mine for the uknown row using the three pieces of above information by declaring every tile to be a mine if it meets one of the following conditions:\n",
    "\n",
    "    Its left and center tiles are traps, but its right tile is not.\n",
    "    Its center and right tiles are traps, but its left tile is not.\n",
    "    Only its left tile is a trap.\n",
    "    Only its right tile is a trap.\n",
    "    \n",
    "**Part 1**\n",
    "\n",
    "Determine 40 known rows (including starting row, given puzzle input) - how many total tiles are safe?\n",
    "\n",
    "**Part 2**\n",
    "\n",
    "Same, but 400,000 rows."
   ]
  },
  {
   "cell_type": "code",
   "execution_count": 83,
   "id": "94ab0310",
   "metadata": {},
   "outputs": [],
   "source": [
    "#   (safe = .)   (mine = ^)\n",
    "\n",
    "row1 = '.^^^^^.^^^..^^^^^...^.^..^^^.^^....^.^...^^^...^^^^..^...^...^^.^.^.......^..^^...^.^.^^..^^^^^...^.'"
   ]
  },
  {
   "cell_type": "code",
   "execution_count": 84,
   "id": "1c279439",
   "metadata": {},
   "outputs": [],
   "source": [
    "rows = [row1]\n",
    "for i in range(400000-1):\n",
    "    \n",
    "    r1 = rows[i]\n",
    "    r2 = ''\n",
    "    for j in range(len(r1)):\n",
    "        \n",
    "        # get the three above, considering edge cases\n",
    "        if j == 0:\n",
    "            trip = '.' + r1[j: j+2]\n",
    "        elif j == len(r1)-1:\n",
    "            trip = r1[j-1: j+1] + '.'\n",
    "        else:\n",
    "            trip = r1[j-1: j+2]\n",
    "        \n",
    "        # see if the three above meet any of the 4 rules\n",
    "        if (trip[:2] == '^^' and trip[2] == '.') or (trip[0] == '.' and trip[1:3] == '^^') or \\\n",
    "        (trip[0] == '^' and trip[1:3] == '..') or (trip[:2] == '..' and trip[2] == '^'):\n",
    "            r2 += '^'\n",
    "        else:\n",
    "            r2 += '.'\n",
    "    rows.append(r2)\n",
    "#rows"
   ]
  },
  {
   "cell_type": "code",
   "execution_count": 85,
   "id": "e4d23bd4",
   "metadata": {},
   "outputs": [
    {
     "data": {
      "text/plain": [
       "19995121"
      ]
     },
     "execution_count": 85,
     "metadata": {},
     "output_type": "execute_result"
    }
   ],
   "source": [
    "sum([row.count('.') for row in rows])"
   ]
  },
  {
   "cell_type": "markdown",
   "id": "fba81a54",
   "metadata": {},
   "source": [
    "<a class=\"anchor\" id=\"day19\"></a>\n",
    "\n",
    "## Day 19\n",
    "\n",
    "Shitty White Elephant Party.\n",
    "\n",
    "A group of $n$ elves sit in a circle.  Starting with elf 1, they take turns stealing the presents from the elf to their left.  If the elf has no presents, it does not participate anymore and is removed from the circle.\n",
    "\n",
    "**Part 1**\n",
    "Given that there are 3001330 elves in the circle, what number elf ends up with all the presents?\n",
    "\n",
    "**Part 2**"
   ]
  },
  {
   "cell_type": "code",
   "execution_count": 86,
   "id": "3ca2cb4b",
   "metadata": {},
   "outputs": [
    {
     "data": {
      "text/plain": [
       "[5]"
      ]
     },
     "execution_count": 86,
     "metadata": {},
     "output_type": "execute_result"
    }
   ],
   "source": [
    "#n = 3001330\n",
    "n = 10\n",
    "elves = list(range(1, n+1))\n",
    "i = 0\n",
    "while n > 1:\n",
    "    if n % 10000 == 0:\n",
    "        print(n)\n",
    "    #print((i, n), elves)\n",
    "    if i+1 < n:\n",
    "        elves.remove(elves[i+1])\n",
    "        i = (i+1)%(n-1)\n",
    "    else:\n",
    "        elves.remove(elves[0])\n",
    "        i = 0\n",
    "    n -= 1\n",
    "\n",
    "elves"
   ]
  },
  {
   "cell_type": "markdown",
   "id": "37b9822e",
   "metadata": {},
   "source": [
    "Do the whole row by slicing, then do the wrap around manually, repeat...want to leave ourselves with elves[0] having the next turn every time we \"do a row\"."
   ]
  },
  {
   "cell_type": "markdown",
   "id": "1182738d-04d8-4e06-ad21-d52e124f7fcd",
   "metadata": {},
   "source": [
    "<a class=\"anchor\" id=\"day20\"></a>\n",
    "\n",
    "## Day 20\n",
    "\n",
    "Determining IPs that are not blocked.\n",
    "\n",
    "IPs are given as any 32bit integer. Some are blocked, some are not. Our puzzle inputis a list of intervals of IPs that are blocks, like '4-7', which blocks IPs 4, 5, 6, 7.\n",
    "\n",
    "**Part 1**\n",
    "Determine the lowest-valued IP that is not blocked."
   ]
  },
  {
   "cell_type": "code",
   "execution_count": 87,
   "id": "23143f1c",
   "metadata": {},
   "outputs": [
    {
     "data": {
      "text/plain": [
       "[(0, 1847080),\n",
       " (1847081, 4852291),\n",
       " (2565359, 6381735),\n",
       " (2642830, 10503093),\n",
       " (5553473, 5721362),\n",
       " (6381736, 6572278),\n",
       " (6572279, 7930589),\n",
       " (7930590, 8742990),\n",
       " (8742991, 8883499),\n",
       " (8797846, 8898160),\n",
       " (8898161, 12610188),\n",
       " (10071776, 14276375),\n",
       " (10593493, 11742652),\n",
       " (14276376, 14715040),\n",
       " (14660092, 14975794)]"
      ]
     },
     "execution_count": 87,
     "metadata": {},
     "output_type": "execute_result"
    }
   ],
   "source": [
    "with open('data2016/day20.txt') as f20:\n",
    "    intervals = [line.strip() for line in f20.readlines()]\n",
    "    \n",
    "intervals = sorted([tuple(map(int, line.split('-'))) for line in intervals])\n",
    "intervals[:15]"
   ]
  },
  {
   "cell_type": "code",
   "execution_count": 88,
   "id": "5c6c04c3",
   "metadata": {},
   "outputs": [
    {
     "name": "stdout",
     "output_type": "stream",
     "text": [
      "here:  14975795\n"
     ]
    }
   ],
   "source": [
    "x = 0\n",
    "i = 0\n",
    "\n",
    "while True:\n",
    "    low, high = intervals[i]\n",
    "    if low <= x <= high:\n",
    "        x = high + 1\n",
    "        i += 1\n",
    "    elif high < x:\n",
    "        i += 1\n",
    "    elif x < low:\n",
    "        print('here: ', x)\n",
    "        break"
   ]
  },
  {
   "cell_type": "markdown",
   "id": "090ace27-c9bc-4452-b4fd-4a261b05db18",
   "metadata": {},
   "source": [
    "**Part 2**\n",
    "\n",
    "How many total IPs are allowed?"
   ]
  },
  {
   "cell_type": "code",
   "execution_count": 89,
   "id": "851fca6c",
   "metadata": {},
   "outputs": [
    {
     "data": {
      "text/plain": [
       "101"
      ]
     },
     "execution_count": 89,
     "metadata": {},
     "output_type": "execute_result"
    }
   ],
   "source": [
    "x = 0\n",
    "valid = 0\n",
    "for i in range(len(intervals)):\n",
    "    low, high = intervals[i]\n",
    "    if low <= x <= high:\n",
    "        x = high + 1\n",
    "        continue\n",
    "    elif high < x:\n",
    "        continue\n",
    "    elif x < low:\n",
    "        valid += (low - x)\n",
    "        x = high + 1\n",
    "valid"
   ]
  },
  {
   "cell_type": "markdown",
   "id": "64e3de38-3df5-462e-aec2-16981fd9746a",
   "metadata": {},
   "source": [
    "<a class=\"anchor\" id=\"day21\"></a>\n",
    "\n",
    "## Day 21\n",
    "\n",
    "Password scrambler\n",
    "\n",
    "    [swap position X with position Y] means that the letters at indexes X and Y (counting from 0) should be swapped.\n",
    "    \n",
    "    [swap letter X with letter Y] means that the letters X and Y should be swapped (regardless of where they appear \n",
    "    in the string).\n",
    "    \n",
    "    [rotate left/right X steps] means that the whole string should be rotated; for example, one right rotation would \n",
    "    turn abcd into dabc.\n",
    "    \n",
    "    [rotate based on position of letter X] means that the whole string should be rotated to the right based on the \n",
    "    index of letter X (counting from 0) as determined before this instruction does any rotations. Once the index \n",
    "    is determined, rotate the string to the right one time, plus a number of times equal to that index, plus one \n",
    "    additional time if the index was at least 4.\n",
    "    \n",
    "    [reverse positions X through Y] means that the span of letters at indexes X through Y (including the letters \n",
    "    at X and Y) should be reversed in order.\n",
    "    \n",
    "    [move position X to position Y] means that the letter which is at index X should be removed from the string, \n",
    "    then inserted such that it ends up at index Y.\n",
    "\n",
    "\n",
    "**Part 1**\n",
    "Starting with the string 'abcdefgh', follow the instructions to determine the final scrambled password."
   ]
  },
  {
   "cell_type": "code",
   "execution_count": 90,
   "id": "ee36298f-cf39-4edc-9962-32c955c0e94b",
   "metadata": {},
   "outputs": [
    {
     "data": {
      "text/plain": [
       "['swap letter g with letter c',\n",
       " 'rotate based on position of letter f',\n",
       " 'rotate left 7 steps',\n",
       " 'rotate based on position of letter e',\n",
       " 'swap position 6 with position 1']"
      ]
     },
     "execution_count": 90,
     "metadata": {},
     "output_type": "execute_result"
    }
   ],
   "source": [
    "with open('data2016/day21.txt') as f21:\n",
    "    insts = [row.strip() for row in f21.readlines()]\n",
    "\n",
    "insts[-5:]"
   ]
  },
  {
   "cell_type": "code",
   "execution_count": 95,
   "id": "a4236d7c-b839-47c8-a82e-7818227d02fb",
   "metadata": {},
   "outputs": [],
   "source": [
    "def do_inst(pw, inst):\n",
    "    \n",
    "    words = inst.split()\n",
    "    #print(words)\n",
    "    if words[0] == 'swap':\n",
    "        if words[1] == 'position':\n",
    "            x_idx, y_idx = sorted([int(words[2]), int(words[5])])\n",
    "            new_pw = pw[:x_idx] + pw[y_idx] + pw[x_idx+1:y_idx] + pw[x_idx] + pw[y_idx+1:]\n",
    "        elif words[1] == 'letter':\n",
    "            x_let, y_let = words[2], words[5]\n",
    "            new_pw = ''\n",
    "            for char in pw:\n",
    "                if char == x_let:\n",
    "                    new_pw += y_let\n",
    "                elif char == y_let:\n",
    "                    new_pw += x_let\n",
    "                else:\n",
    "                    new_pw += char\n",
    "        \n",
    "    elif words[0] == 'rotate':\n",
    "        if words[1] == 'left':\n",
    "            shift = int(words[2])\n",
    "            new_pw = pw[shift:] + pw[:shift]\n",
    "        elif words[1] == 'right':\n",
    "            shift = int(words[2])\n",
    "            new_pw = pw[-shift:] + pw[:-shift]\n",
    "        elif words[1] == 'based':\n",
    "            shift = pw.index(words[-1])\n",
    "            shift += 1 if shift <= 4 else 2\n",
    "            shift = shift % (len(pw) - 1)\n",
    "            new_pw = pw[-shift:] + pw[:-shift]\n",
    "    \n",
    "    elif words[0] == 'reverse':\n",
    "        low, high = sorted([int(words[2]), int(words[4])])\n",
    "        new_pw = pw[:low] + pw[low:high+1][::-1] + pw[high+1:]\n",
    "    \n",
    "    elif words[0] == 'move':\n",
    "        x_idx, y_idx = int(words[2]), int(words[5])\n",
    "        new_pw = ''.join([pw[i] for i in range(len(pw)) if i != x_idx])\n",
    "        if x_idx < y_idx:\n",
    "            new_pw = pw[:x_idx] + pw[x_idx+1:y_idx+1] + pw[x_idx] + pw[y_idx+1:] \n",
    "        else:\n",
    "            new_pw = pw[:y_idx] + pw[x_idx]+ new_pw[y_idx:]\n",
    "            \n",
    "    return new_pw"
   ]
  },
  {
   "cell_type": "code",
   "execution_count": 96,
   "id": "87d06e24-1265-4350-9e3c-b3d7931e253d",
   "metadata": {},
   "outputs": [],
   "source": [
    "sample = ['swap position 4 with position 0',\n",
    "          'swap letter d with letter b',\n",
    "          'reverse positions 0 through 4',\n",
    "          'rotate left 1 step',\n",
    "          'move position 1 to position 4',\n",
    "          'move position 3 to position 0',\n",
    "          'rotate based on position of letter b',\n",
    "          'rotate based on position of letter d']"
   ]
  },
  {
   "cell_type": "code",
   "execution_count": 99,
   "id": "098f1a13-f32b-46d9-a5f2-c3307db0ba92",
   "metadata": {},
   "outputs": [
    {
     "data": {
      "text/plain": [
       "'decab'"
      ]
     },
     "execution_count": 99,
     "metadata": {},
     "output_type": "execute_result"
    }
   ],
   "source": [
    "pw = 'abcde'\n",
    "for inst in sample:\n",
    "    pw = do_inst(pw, inst)\n",
    "    #print(pw)\n",
    "\n",
    "pw"
   ]
  },
  {
   "cell_type": "code",
   "execution_count": 100,
   "id": "2ab669e7",
   "metadata": {},
   "outputs": [
    {
     "data": {
      "text/plain": [
       "'gdbefahc'"
      ]
     },
     "execution_count": 100,
     "metadata": {},
     "output_type": "execute_result"
    }
   ],
   "source": [
    "pw = 'abcdefgh'\n",
    "for inst in insts:\n",
    "    pw = do_inst(pw, inst)\n",
    "    #print(pw)\n",
    "\n",
    "pw"
   ]
  },
  {
   "cell_type": "code",
   "execution_count": null,
   "id": "3072d8f2",
   "metadata": {},
   "outputs": [],
   "source": []
  }
 ],
 "metadata": {
  "kernelspec": {
   "display_name": "Python 3",
   "language": "python",
   "name": "python3"
  },
  "language_info": {
   "codemirror_mode": {
    "name": "ipython",
    "version": 3
   },
   "file_extension": ".py",
   "mimetype": "text/x-python",
   "name": "python",
   "nbconvert_exporter": "python",
   "pygments_lexer": "ipython3",
   "version": "3.8.8"
  }
 },
 "nbformat": 4,
 "nbformat_minor": 5
}
