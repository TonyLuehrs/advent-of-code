{
 "cells": [
  {
   "cell_type": "markdown",
   "id": "f23d1bad-0c64-4d9d-a287-984df668dc04",
   "metadata": {},
   "source": [
    "# Advent of Code 2017\n",
    "\n",
    "___\n",
    "\n",
    "[**Day 1**](#day1) &nbsp; &nbsp; &nbsp; [**Day 2**](#day2) &nbsp; &nbsp; &nbsp; [**Day 3**](#day3) &nbsp; &nbsp; &nbsp; [**Day 4**](#day4) &nbsp; &nbsp; &nbsp; [Day 5](#day5)\n",
    "\n",
    "[Day 6](#day6) &nbsp; &nbsp; &nbsp; [Day 7](#day7) &nbsp; &nbsp; &nbsp; [Day 8](#day8) &nbsp; &nbsp; &nbsp; [Day 9](#day9) &nbsp; &nbsp; &nbsp; [Day 10](#day10)\n",
    "\n",
    "[Day 11](#day11) &nbsp; &nbsp; [Day 12](#day12) &nbsp; &nbsp; [Day 13](#day13) &nbsp; &nbsp; [Day 14](#day14) &nbsp; &nbsp; [Day 15](#day15)\n",
    "\n",
    "[Day 16](#day16) &nbsp; &nbsp; [Day 17](#day17) &nbsp; &nbsp; [Day 18](#day18) &nbsp; &nbsp; [Day 19](#day19) &nbsp; &nbsp; [Day 20](#day20)\n",
    "\n",
    "[Day 21](#day21) &nbsp; &nbsp; [Day 22](#day22) &nbsp; &nbsp; [Day 23](#day23) &nbsp; &nbsp; [Day 24](#day24) &nbsp; &nbsp; [Day 25](#day25)\n",
    "\n",
    "___"
   ]
  },
  {
   "cell_type": "markdown",
   "id": "fcd63f25",
   "metadata": {},
   "source": [
    "<a class=\"anchor\" id=\"day1\"></a>\n",
    "# Day 1\n",
    "\n",
    "*Part 1*  \n",
    "Find the sum of all digits in the captcha that are followed by the same digit, including wrap-around to the beginning.\n",
    "\n",
    "*Part 2*  \n",
    "Same as part 1, but compare to the digit halfway around the digits (when considered cyclically)."
   ]
  },
  {
   "cell_type": "code",
   "execution_count": 1,
   "id": "f3459764",
   "metadata": {},
   "outputs": [
    {
     "data": {
      "text/plain": [
       "'67675'"
      ]
     },
     "execution_count": 1,
     "metadata": {},
     "output_type": "execute_result"
    }
   ],
   "source": [
    "with open('data2017/day1.txt') as f1:\n",
    "    digits = f1.readlines()[0].strip()\n",
    "    \n",
    "digits[-5:]"
   ]
  },
  {
   "cell_type": "markdown",
   "id": "d8fa3c6f-7b27-4685-9f58-c2b4616ec82a",
   "metadata": {},
   "source": [
    "**Part 1**"
   ]
  },
  {
   "cell_type": "code",
   "execution_count": 2,
   "id": "a05000d8",
   "metadata": {},
   "outputs": [
    {
     "data": {
      "text/plain": [
       "1393"
      ]
     },
     "execution_count": 2,
     "metadata": {},
     "output_type": "execute_result"
    }
   ],
   "source": [
    "total = 0\n",
    "for i, dig in enumerate(digits[:-1]):\n",
    "    if dig == digits[i+1]:\n",
    "        total += int(dig)\n",
    "        \n",
    "if digits[0] == digits[-1]:\n",
    "    total += int(digits[0])\n",
    "    \n",
    "total"
   ]
  },
  {
   "cell_type": "markdown",
   "id": "27a8a294-c2b5-4ebb-86a6-e0b9e4724de2",
   "metadata": {},
   "source": [
    "**Part 2**"
   ]
  },
  {
   "cell_type": "code",
   "execution_count": 3,
   "id": "8c6a16b2",
   "metadata": {},
   "outputs": [
    {
     "data": {
      "text/plain": [
       "1292"
      ]
     },
     "execution_count": 3,
     "metadata": {},
     "output_type": "execute_result"
    }
   ],
   "source": [
    "total2 = 0\n",
    "n = len(digits)\n",
    "half = n // 2\n",
    "\n",
    "for i in range(len(digits)):\n",
    "    if digits[i] == digits[(i + half) % n]:\n",
    "        total2 += int(digits[i])\n",
    "\n",
    "total2"
   ]
  },
  {
   "cell_type": "markdown",
   "id": "1de9c361",
   "metadata": {},
   "source": [
    "<a class=\"anchor\" id=\"day2\"></a>\n",
    "\n",
    "# Day 2\n",
    "\n",
    "*Part 1*  \n",
    "Find the checksum of the 2D array of values by finding the difference between the max and min of each row and summing the differences.\n",
    "\n",
    "*Part 2*  \n",
    "Find the checksum of the spreadsheet by finding the result of division when dividing the only two numbers that evenly divide and summing the results of division (if 10 and 2 are in the row, contribute 5 to the checksum)."
   ]
  },
  {
   "cell_type": "code",
   "execution_count": 4,
   "id": "a81bff4f",
   "metadata": {},
   "outputs": [
    {
     "name": "stdout",
     "output_type": "stream",
     "text": [
      "[1136, 1129, 184, 452, 788, 1215, 355, 1109, 224, 1358, 1278, 176, 1302, 186, 128, 1148]\n",
      "[242, 53, 252, 62, 40, 55, 265, 283, 38, 157, 259, 226, 322, 48, 324, 299]\n",
      "[2330, 448, 268, 2703, 1695, 2010, 3930, 3923, 179, 3607, 217, 3632, 1252, 231, 286, 3689]\n"
     ]
    }
   ],
   "source": [
    "with open('data2017/day2.txt') as f2:\n",
    "    spreadsheet = [[int(x) for x in row.strip().split()] for row in f2.readlines()]\n",
    "    \n",
    "for row in spreadsheet[:3]:\n",
    "    print(row)"
   ]
  },
  {
   "cell_type": "markdown",
   "id": "880c5f1c-c64e-4739-9c72-f91235e061e3",
   "metadata": {},
   "source": [
    "**Part 1**"
   ]
  },
  {
   "cell_type": "code",
   "execution_count": 5,
   "id": "7cddf03d-4a07-42a0-9369-871bf76a4560",
   "metadata": {},
   "outputs": [
    {
     "data": {
      "text/plain": [
       "37923"
      ]
     },
     "execution_count": 5,
     "metadata": {},
     "output_type": "execute_result"
    }
   ],
   "source": [
    "sum([max(row) - min(row) for row in spreadsheet])"
   ]
  },
  {
   "cell_type": "markdown",
   "id": "a4921af9-ff92-4e9e-81bb-a9017e68ca61",
   "metadata": {},
   "source": [
    "**Part 2**"
   ]
  },
  {
   "cell_type": "code",
   "execution_count": 6,
   "id": "87232ce2-2a4c-4fad-925c-a4ea79d8d0eb",
   "metadata": {},
   "outputs": [
    {
     "data": {
      "text/plain": [
       "263"
      ]
     },
     "execution_count": 6,
     "metadata": {},
     "output_type": "execute_result"
    }
   ],
   "source": [
    "checksum = 0\n",
    "for row in spreadsheet:\n",
    "    for x in row:\n",
    "        for y in row:\n",
    "            if x != y:\n",
    "                if (x / y) % 1 == 0:\n",
    "                    checksum += x//y\n",
    "checksum"
   ]
  },
  {
   "cell_type": "markdown",
   "id": "10858db0-2f1e-46de-946b-a1a76bc332ec",
   "metadata": {},
   "source": [
    "<a class=\"anchor\" id=\"day3\"></a>\n",
    "# Day 3\n",
    "\n",
    "*Part 1*  \n",
    "Find the Manhattan Distance from \"1\" to the puzzle input location on the infinite spiral grid:\n",
    "\n",
    "    17  16  15  14  13\n",
    "    18   5   4   3  12\n",
    "    19   6   1   2  11\n",
    "    20   7   8   9  10\n",
    "    21  22  23---> ...\n",
    "\n",
    "*Part 2*  \n",
    "Now, build a spiral in the same order as above, but each value should be the sum of all adjacent values placed so far. What is the first number added to the spiral that is larger than the puzzle input?"
   ]
  },
  {
   "cell_type": "code",
   "execution_count": 7,
   "id": "bb897ff2-607b-4123-b297-22ae3a158855",
   "metadata": {},
   "outputs": [
    {
     "data": {
      "text/plain": [
       "3"
      ]
     },
     "execution_count": 7,
     "metadata": {},
     "output_type": "execute_result"
    }
   ],
   "source": [
    "# odd squares are on the down/right diagonal, find the nearest one and track back from there\n",
    "\n",
    "def get_spiral_dist(n):\n",
    "    \n",
    "    # get upper bound square\n",
    "    i = 1\n",
    "    while i**2 < n:\n",
    "        i += 2\n",
    "    \n",
    "    # coordinates of the odd square\n",
    "    x, y = (i-1)//2, -(i-1)//2\n",
    "    val = i**2\n",
    "    \n",
    "    # Search for n clockwise from i**2; left, up, right, down\n",
    "    for j in range(i-1):\n",
    "        val -= 1\n",
    "        x -= 1\n",
    "        if val == n: return abs(x) + abs(y)\n",
    "        \n",
    "    for j in range(i-1):\n",
    "        val -= 1\n",
    "        y += 1\n",
    "        if val == n: return abs(x) + abs(y)\n",
    "        \n",
    "    for j in range(i-1):\n",
    "        val -= 1\n",
    "        x += 1\n",
    "        if val == n: return abs(x) + abs(y)\n",
    "        \n",
    "    for j in range(i-1):\n",
    "        val -= 1\n",
    "        y -= 1\n",
    "        if val == n: return abs(x) + abs(y)\n",
    "        \n",
    "    # this only happens if there is an error in the above code, one return should hit above\n",
    "    return \"didn't find it\"\n",
    "        \n",
    "get_spiral_dist(18)"
   ]
  },
  {
   "cell_type": "markdown",
   "id": "174e9b76-cfee-40d6-af29-4a6c6a67859e",
   "metadata": {},
   "source": [
    "**Part 1**"
   ]
  },
  {
   "cell_type": "code",
   "execution_count": 8,
   "id": "a11b5320-2748-4be9-8ee6-998946282031",
   "metadata": {},
   "outputs": [
    {
     "data": {
      "text/plain": [
       "326"
      ]
     },
     "execution_count": 8,
     "metadata": {},
     "output_type": "execute_result"
    }
   ],
   "source": [
    "get_spiral_dist(361527)"
   ]
  },
  {
   "cell_type": "markdown",
   "id": "016ff2f7-652d-4bbd-b9c3-c074e17d227c",
   "metadata": {},
   "source": [
    "**Part 2**"
   ]
  },
  {
   "cell_type": "code",
   "execution_count": 9,
   "id": "757e714b-c0d4-4a37-95a7-46345118570f",
   "metadata": {},
   "outputs": [
    {
     "name": "stdout",
     "output_type": "stream",
     "text": [
      "363010\n"
     ]
    }
   ],
   "source": [
    "# to traverse the spiral, go right1, up1, left2, down2, right3, up3, ...\n",
    "\n",
    "import numpy as np\n",
    "grid = np.zeros((200, 200))\n",
    "r, c = 100, 100\n",
    "grid[r, c] = 1\n",
    "\n",
    "goal = 361527\n",
    "step = 1\n",
    "found = False\n",
    "while not found:\n",
    "    \n",
    "    # right step, up step, left step+1, down step+1\n",
    "    for i in range(step):\n",
    "        c += 1\n",
    "        grid[r, c] = sum(sum(grid[r-1:r+2, c-1:c+2]))\n",
    "        if grid[r, c] > goal:\n",
    "            print(int(grid[r, c]))\n",
    "            found = True\n",
    "            break\n",
    "    if not found:\n",
    "        for i in range(step):\n",
    "            r -= 1\n",
    "            grid[r, c] = sum(sum(grid[r-1:r+2, c-1:c+2]))\n",
    "            if grid[r, c] > goal:\n",
    "                print(int(grid[r, c]))\n",
    "                found = True\n",
    "                break\n",
    "    if not found:\n",
    "        for i in range(step+1):\n",
    "            c -= 1\n",
    "            grid[r, c] = sum(sum(grid[r-1:r+2, c-1:c+2]))\n",
    "            if grid[r, c] > goal:\n",
    "                print(int(grid[r, c]))\n",
    "                found = True\n",
    "                break\n",
    "    if not found:\n",
    "        for i in range(step+1):\n",
    "            r += 1\n",
    "            grid[r, c] = sum(sum(grid[r-1:r+2, c-1:c+2]))\n",
    "            if grid[r, c] > goal:\n",
    "                print(int(grid[r, c]))\n",
    "                found = True\n",
    "                break\n",
    "    \n",
    "    step += 2\n",
    "            \n",
    "    "
   ]
  },
  {
   "cell_type": "markdown",
   "id": "74f536c7-db83-4279-82d5-c578022b90c4",
   "metadata": {},
   "source": [
    "<a class=\"anchor\" id=\"day4\"></a>\n",
    "\n",
    "# Day 4\n",
    "\n",
    "*Part 1*  \n",
    "Instead of passwords, have passphrases (multiple words each).  One rule for acceptable passphrases is that they have no repeated words.  Determine how many passphrases are valid.\n",
    "\n",
    "*Part 2*  \n",
    "Now, stricter rule - no two words are allowed to be anagrams of each other. Find the number of valid passwords."
   ]
  },
  {
   "cell_type": "code",
   "execution_count": 10,
   "id": "8f09f970-fd70-4c13-b3bf-c5d17b1fb5e9",
   "metadata": {},
   "outputs": [
    {
     "data": {
      "text/plain": [
       "[['mhvisju', 'lhmdbs', 'tcxied', 'xeidtc', 'ujry', 'cditex', 'gvqpqm'],\n",
       " ['cgc', 'jazrp', 'crgnna', 'uvuokl', 'uvuokl', 'uoiwl', 'sknmc', 'sknmc'],\n",
       " ['rvbu', 'czwpdit', 'vmlihg', 'spz', 'lfaxxev', 'zslfuto', 'oog', 'dvoksub']]"
      ]
     },
     "execution_count": 10,
     "metadata": {},
     "output_type": "execute_result"
    }
   ],
   "source": [
    "with open('data2017/day4.txt') as f4:\n",
    "    phrases = [row.strip().split() for row in f4.readlines()]\n",
    "    \n",
    "phrases[-3:]"
   ]
  },
  {
   "cell_type": "markdown",
   "id": "8c8f5849-f3f6-4b36-bfe5-4569b55c99f5",
   "metadata": {},
   "source": [
    "**Part 1**"
   ]
  },
  {
   "cell_type": "code",
   "execution_count": 11,
   "id": "69afe247-4912-427a-8a18-c6e368d4badf",
   "metadata": {},
   "outputs": [
    {
     "data": {
      "text/plain": [
       "337"
      ]
     },
     "execution_count": 11,
     "metadata": {},
     "output_type": "execute_result"
    }
   ],
   "source": [
    "valid_count = 0\n",
    "for phrase in phrases:\n",
    "    valid = True\n",
    "    for i, word1 in enumerate(phrase[:-1]):\n",
    "        for j, word2 in enumerate(phrase[i+1:]):\n",
    "            if word1 == word2:\n",
    "                valid = False\n",
    "    valid_count += valid\n",
    "    \n",
    "valid_count"
   ]
  },
  {
   "cell_type": "markdown",
   "id": "5fa4d76e-ea7c-4e4f-8a36-18de1718b61b",
   "metadata": {},
   "source": [
    "**Part 2**"
   ]
  },
  {
   "cell_type": "code",
   "execution_count": 12,
   "id": "bb76b023-ef30-4efe-888d-474b75e6a4b6",
   "metadata": {},
   "outputs": [
    {
     "data": {
      "text/plain": [
       "'abdefg'"
      ]
     },
     "execution_count": 12,
     "metadata": {},
     "output_type": "execute_result"
    }
   ],
   "source": [
    "''.join(sorted('dfgeba'))"
   ]
  },
  {
   "cell_type": "code",
   "execution_count": 13,
   "id": "66d09b3d-c006-4255-aa78-c5344cf9548c",
   "metadata": {},
   "outputs": [
    {
     "data": {
      "text/plain": [
       "231"
      ]
     },
     "execution_count": 13,
     "metadata": {},
     "output_type": "execute_result"
    }
   ],
   "source": [
    "# same as part 1, just sort every word in the phrase before checking for matches to identify anagrams\n",
    "\n",
    "valid_count = 0\n",
    "for phrase in phrases:\n",
    "    sorted_words = [''.join(sorted(word)) for word in phrase]\n",
    "    valid = True\n",
    "    for i, word1 in enumerate(sorted_words[:-1]):\n",
    "        for j, word2 in enumerate(sorted_words[i+1:]):\n",
    "            if word1 == word2:\n",
    "                valid = False\n",
    "    valid_count += valid\n",
    "    \n",
    "valid_count"
   ]
  },
  {
   "cell_type": "markdown",
   "id": "083aa3fd-6aaf-49ce-8d58-1b36e2d32343",
   "metadata": {},
   "source": [
    "<a class=\"anchor\" id=\"day5\"></a>\n",
    "\n",
    "# Day 5"
   ]
  },
  {
   "cell_type": "code",
   "execution_count": null,
   "id": "d5365f76-5dae-4f03-8a4d-669211eef19a",
   "metadata": {},
   "outputs": [],
   "source": []
  },
  {
   "cell_type": "markdown",
   "id": "7d94449d-5a31-40b1-bc4c-4d5ba823ec70",
   "metadata": {},
   "source": [
    "<a class=\"anchor\" id=\"day6\"></a>\n",
    "\n",
    "# Day 6"
   ]
  },
  {
   "cell_type": "code",
   "execution_count": null,
   "id": "f51f969a-37cf-4a5f-a9bb-203888cfdc96",
   "metadata": {},
   "outputs": [],
   "source": []
  },
  {
   "cell_type": "markdown",
   "id": "ba0590b8-dfc4-4936-998f-02e675f6e4c1",
   "metadata": {},
   "source": [
    "<a class=\"anchor\" id=\"day7\"></a>\n",
    "\n",
    "# Day 7"
   ]
  },
  {
   "cell_type": "code",
   "execution_count": null,
   "id": "afb59c21-b874-447a-9567-ac5934531855",
   "metadata": {},
   "outputs": [],
   "source": []
  },
  {
   "cell_type": "markdown",
   "id": "9b374c86-8e84-4352-b6f0-9bb7838c159d",
   "metadata": {},
   "source": [
    "<a class=\"anchor\" id=\"day8\"></a>\n",
    "\n",
    "# Day 8"
   ]
  },
  {
   "cell_type": "code",
   "execution_count": null,
   "id": "db73334d-f8de-4e82-af6e-eecac1ca7340",
   "metadata": {},
   "outputs": [],
   "source": []
  },
  {
   "cell_type": "markdown",
   "id": "0ad18322-3ebb-4f67-9b9c-0c4350a98377",
   "metadata": {},
   "source": [
    "<a class=\"anchor\" id=\"day9\"></a>\n",
    "\n",
    "# Day 9"
   ]
  },
  {
   "cell_type": "code",
   "execution_count": null,
   "id": "80f1ff45-2348-42ba-ad6b-108f095ddf8a",
   "metadata": {},
   "outputs": [],
   "source": []
  },
  {
   "cell_type": "markdown",
   "id": "a6de6afe-57e0-42b8-a518-fef239ca082e",
   "metadata": {},
   "source": [
    "<a class=\"anchor\" id=\"day10\"></a>\n",
    "\n",
    "# Day 10"
   ]
  },
  {
   "cell_type": "code",
   "execution_count": null,
   "id": "9d5d61c5-f5d4-4b05-99be-5ea7f0730784",
   "metadata": {},
   "outputs": [],
   "source": []
  },
  {
   "cell_type": "markdown",
   "id": "315ae79d-6cd0-4256-b8f8-a74ca2977cbc",
   "metadata": {},
   "source": [
    "<a class=\"anchor\" id=\"day11\"></a>\n",
    "\n",
    "# Day 11"
   ]
  },
  {
   "cell_type": "code",
   "execution_count": null,
   "id": "a7c93076-e89b-44ce-9487-a78aaaadb9ac",
   "metadata": {},
   "outputs": [],
   "source": []
  },
  {
   "cell_type": "markdown",
   "id": "0d4b06f0-1762-4b0a-a5ae-08f2780c75cc",
   "metadata": {},
   "source": [
    "<a class=\"anchor\" id=\"day12\"></a>\n",
    "\n",
    "# Day 12"
   ]
  },
  {
   "cell_type": "code",
   "execution_count": null,
   "id": "aa56927f-1def-49df-a948-bd52bff8cee2",
   "metadata": {},
   "outputs": [],
   "source": []
  },
  {
   "cell_type": "markdown",
   "id": "745a4ad6-a5eb-496b-9348-be9596a7acdd",
   "metadata": {},
   "source": [
    "<a class=\"anchor\" id=\"day13\"></a>\n",
    "\n",
    "# Day 13"
   ]
  },
  {
   "cell_type": "code",
   "execution_count": null,
   "id": "ceaf9749-b1ff-437c-950e-5f60fa483831",
   "metadata": {},
   "outputs": [],
   "source": []
  },
  {
   "cell_type": "markdown",
   "id": "dfa46c11-6858-452f-acde-efa97872695f",
   "metadata": {},
   "source": [
    "<a class=\"anchor\" id=\"day14\"></a>\n",
    "\n",
    "# Day 14"
   ]
  },
  {
   "cell_type": "code",
   "execution_count": null,
   "id": "64f7ff42-b726-466c-8f63-77fca2398dac",
   "metadata": {},
   "outputs": [],
   "source": []
  },
  {
   "cell_type": "markdown",
   "id": "91f2be48-cb77-4104-b07f-cae81b2fbf71",
   "metadata": {},
   "source": [
    "<a class=\"anchor\" id=\"day15\"></a>\n",
    "\n",
    "# Day 15"
   ]
  },
  {
   "cell_type": "code",
   "execution_count": null,
   "id": "d27adcd3-c401-49df-bf3f-af54527d329b",
   "metadata": {},
   "outputs": [],
   "source": []
  },
  {
   "cell_type": "markdown",
   "id": "74deb6fe-2fad-4930-9b93-fe480fc1e503",
   "metadata": {},
   "source": [
    "<a class=\"anchor\" id=\"day16\"></a>\n",
    "\n",
    "# Day 16"
   ]
  },
  {
   "cell_type": "code",
   "execution_count": null,
   "id": "c4a00d81-f2ec-4daa-9a50-a533d2da2def",
   "metadata": {},
   "outputs": [],
   "source": []
  },
  {
   "cell_type": "code",
   "execution_count": null,
   "id": "b7b1f70b",
   "metadata": {},
   "outputs": [],
   "source": []
  },
  {
   "cell_type": "code",
   "execution_count": null,
   "id": "2332471d-1639-4434-98f0-c93199839708",
   "metadata": {},
   "outputs": [],
   "source": []
  }
 ],
 "metadata": {
  "kernelspec": {
   "display_name": "Python 3",
   "language": "python",
   "name": "python3"
  },
  "language_info": {
   "codemirror_mode": {
    "name": "ipython",
    "version": 3
   },
   "file_extension": ".py",
   "mimetype": "text/x-python",
   "name": "python",
   "nbconvert_exporter": "python",
   "pygments_lexer": "ipython3",
   "version": "3.8.8"
  }
 },
 "nbformat": 4,
 "nbformat_minor": 5
}
